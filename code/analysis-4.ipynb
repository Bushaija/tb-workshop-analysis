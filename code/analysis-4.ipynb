{
 "cells": [
  {
   "cell_type": "code",
   "execution_count": 185,
   "metadata": {},
   "outputs": [],
   "source": [
    "import pandas as pd\n",
    "import seaborn as sns\n",
    "import matplotlib.pyplot as plt"
   ]
  },
  {
   "cell_type": "markdown",
   "metadata": {},
   "source": [
    "1. Load data"
   ]
  },
  {
   "cell_type": "code",
   "execution_count": 186,
   "metadata": {},
   "outputs": [],
   "source": [
    "df = pd.read_csv(\"../_data/tb-rsqa.csv\", encoding=\"ISO-8859-1\")\n",
    "df = df.copy()"
   ]
  },
  {
   "cell_type": "markdown",
   "metadata": {},
   "source": [
    "2. Extra relevant columns"
   ]
  },
  {
   "cell_type": "code",
   "execution_count": 187,
   "metadata": {},
   "outputs": [],
   "source": [
    "relevant_columns = [\"Province\", \"District\", \"HF TB Type\", \"HF Name\", \"HF Type\", \"FY\", \"Summary group\", \"NO\", \"Normes \", \"Element à verifier\", \"Num\", \"Den\"]\n",
    "new_df = df[relevant_columns]\n"
   ]
  },
  {
   "cell_type": "markdown",
   "metadata": {},
   "source": [
    "3. Data cleaning"
   ]
  },
  {
   "cell_type": "markdown",
   "metadata": {},
   "source": [
    "checking & handling duplicates"
   ]
  },
  {
   "cell_type": "code",
   "execution_count": 188,
   "metadata": {},
   "outputs": [
    {
     "name": "stdout",
     "output_type": "stream",
     "text": [
      "No duplicates:  176\n"
     ]
    }
   ],
   "source": [
    "duplicates = new_df[new_df.duplicated()]\n",
    "print(\"No duplicates: \", duplicates.shape[0])\n",
    "new_df = new_df.drop_duplicates()"
   ]
  },
  {
   "cell_type": "markdown",
   "metadata": {},
   "source": [
    "checking & handling missing by replacement"
   ]
  },
  {
   "cell_type": "code",
   "execution_count": 189,
   "metadata": {},
   "outputs": [
    {
     "name": "stdout",
     "output_type": "stream",
     "text": [
      "No. missing values:  Province                 0\n",
      "District                 0\n",
      "HF TB Type               0\n",
      "HF Name                  0\n",
      "HF Type                  0\n",
      "FY                       0\n",
      "Summary group            0\n",
      "NO                       0\n",
      "Normes                9711\n",
      "Element à verifier    1089\n",
      "Num                   4613\n",
      "Den                   2201\n",
      "dtype: int64\n"
     ]
    }
   ],
   "source": [
    "print(\"No. missing values: \", new_df.isnull().sum())\n",
    "new_df[\"Element à verifier\"] = new_df[\"Element à verifier\"].fillna(new_df[\"Normes \"])"
   ]
  },
  {
   "cell_type": "markdown",
   "metadata": {},
   "source": [
    "renaming columns"
   ]
  },
  {
   "cell_type": "code",
   "execution_count": 190,
   "metadata": {},
   "outputs": [],
   "source": [
    "new_df.rename(columns={\n",
    "    'Province': 'province',\n",
    "    'District': 'district',\n",
    "    'HF Name': 'hf_name',\n",
    "    'HF Type': 'hf_type',\n",
    "    'HF TB Type': 'hf_tb_type',\n",
    "    'Summary group': 'summary_group',\n",
    "    'Normes ': 'normes',\n",
    "    'Element à verifier': 'item_name',\n",
    "    'FY': 'fy',\n",
    "    'NO': 'no',\n",
    "    'Num': 'num',\n",
    "    'Den': 'den',\n",
    "}, inplace=True)"
   ]
  },
  {
   "cell_type": "markdown",
   "metadata": {},
   "source": [
    "clean `province` type"
   ]
  },
  {
   "cell_type": "code",
   "execution_count": 191,
   "metadata": {},
   "outputs": [
    {
     "data": {
      "text/plain": [
       "array(['North ', 'East ', 'South ', 'West ', 'SOURTHERN', 'East', 'EAST',\n",
       "       'SUD', 'NORD', 'WEST', 'Kigali city'], dtype=object)"
      ]
     },
     "execution_count": 191,
     "metadata": {},
     "output_type": "execute_result"
    }
   ],
   "source": [
    "new_df['province'].unique()"
   ]
  },
  {
   "cell_type": "code",
   "execution_count": 192,
   "metadata": {},
   "outputs": [
    {
     "data": {
      "text/plain": [
       "array(['north', 'east', 'south', 'west', 'kigali'], dtype=object)"
      ]
     },
     "execution_count": 192,
     "metadata": {},
     "output_type": "execute_result"
    }
   ],
   "source": [
    "new_df.loc[(new_df['province'] == 'north '), 'province'] = 'north'\n",
    "new_df.loc[(new_df['province'] == 'nord'), 'province'] = 'north'\n",
    "new_df.loc[(new_df['province'] == 'North '), 'province'] = 'north'\n",
    "new_df.loc[(new_df['province'] == 'NORD'), 'province'] = 'north'\n",
    "\n",
    "new_df.loc[(new_df['province'] == 'sourthern'), 'province'] = 'south'\n",
    "new_df.loc[(new_df['province'] == 'south '), 'province'] = 'south'\n",
    "new_df.loc[(new_df['province'] == 'sud'), 'province'] = 'south'\n",
    "new_df.loc[(new_df['province'] == 'SUD'), 'province'] = 'south'\n",
    "new_df.loc[(new_df['province'] == 'South '), 'province'] = 'south'\n",
    "new_df.loc[(new_df['province'] == 'SOURTHERN'), 'province'] = 'south'\n",
    "\n",
    "new_df.loc[(new_df['province'] == 'east '), 'province'] = 'east'\n",
    "new_df.loc[(new_df['province'] == 'East'), 'province'] = 'east'\n",
    "new_df.loc[(new_df['province'] == 'EAST'), 'province'] = 'east'\n",
    "new_df.loc[(new_df['province'] == 'East '), 'province'] = 'east'\n",
    "\n",
    "new_df.loc[(new_df['province'] == 'kigali city'), 'province'] = 'kigali'\n",
    "new_df.loc[(new_df['province'] == 'Kigali city'), 'province'] = 'kigali'\n",
    "\n",
    "new_df.loc[(new_df['province'] == 'west '), 'province'] = 'west'\n",
    "new_df.loc[(new_df['province'] == 'West '), 'province'] = 'west'\n",
    "new_df.loc[(new_df['province'] == 'WEST'), 'province'] = 'west'\n",
    "new_df.province.unique()"
   ]
  },
  {
   "cell_type": "markdown",
   "metadata": {},
   "source": [
    "turn `num` & `den` to floats"
   ]
  },
  {
   "cell_type": "code",
   "execution_count": 193,
   "metadata": {},
   "outputs": [],
   "source": [
    "new_df[\"num\"] = pd.to_numeric(new_df[\"num\"], errors=\"coerce\")\n",
    "new_df[\"den\"] = pd.to_numeric(new_df[\"den\"], errors=\"coerce\")"
   ]
  },
  {
   "cell_type": "markdown",
   "metadata": {},
   "source": [
    "clean fiscal year"
   ]
  },
  {
   "cell_type": "code",
   "execution_count": 194,
   "metadata": {},
   "outputs": [],
   "source": [
    "new_df[\"fy\"] = new_df[\"fy\"].str.replace(\"FY \", \"\", regex=False)"
   ]
  },
  {
   "cell_type": "markdown",
   "metadata": {},
   "source": [
    "remove `prison` & `teaching hospitals` samples"
   ]
  },
  {
   "cell_type": "code",
   "execution_count": 195,
   "metadata": {},
   "outputs": [],
   "source": [
    "filtered_df = new_df[~new_df['hf_type'].isin(['Prison', 'Teaching Hospital'])]\n",
    "new_df = filtered_df\n",
    "new_df = new_df.loc[new_df['hf_name'] != \"Butare Chu Hnr (huye)\"]\n",
    "new_df = new_df.loc[new_df['hf_name'] != \"kanombe RH\"]\n",
    "new_df.loc[new_df['hf_name'] == 'gwinkwavu DH', 'hf_type'] = 'Hospital (DH,PH,RH)'\n",
    "new_df.loc[(new_df['hf_tb_type'] == 'CT') & (new_df['hf_type'] == 'Hospital (DH,PH,RH)'), 'hf_type'] = 'Health Center'"
   ]
  },
  {
   "cell_type": "code",
   "execution_count": 196,
   "metadata": {},
   "outputs": [],
   "source": [
    "gen_df = pd.read_csv(\"../_data/tb-rsqa_GXP.csv\")\n",
    "gen_df.rename({ \"ddd\": \"hf_type\" }, axis=1, inplace=True)\n",
    "gen_df.loc[:, 'hf_type'] = gen_df['hf_type'].str.lower()\n",
    "gen_df.loc[:, 'Genexpert.site'] = gen_df['Genexpert.site'].str.lower()\n",
    "new_df.loc[:, 'hf_type'] = new_df['hf_type'].str.lower()"
   ]
  },
  {
   "cell_type": "markdown",
   "metadata": {},
   "source": [
    "create new `section` variable: classification of item_name"
   ]
  },
  {
   "cell_type": "code",
   "execution_count": 197,
   "metadata": {},
   "outputs": [],
   "source": [
    "section_mapping = {\n",
    "    \"Is active case finding conducted in TB high risk groups?[Questions 2, 8 and 9]\": \"screening\",\n",
    "    \"Are TB diagnostics continuously functional (microscopy and Expert) and their results available timely (microscopy, expert and culture)?[Questions 3, 4, 5, 6 and 7]\": \"diagnosis\",\n",
    "    \"Are TB patients early initiated on TB treatment and on ART (if indicated), and their bacteriological control performed according to guidelines?[Questions 16, 17, 18 and 19]\": \"treatment\",\n",
    "    \"Does the BMI monitored for TB Patients and nutritional support provided to the eligible patients?[Questions New_70 and New_71]\": \"treatment\"\n",
    "}\n",
    "new_df['section'] = new_df['summary_group'].map(section_mapping)"
   ]
  },
  {
   "cell_type": "code",
   "execution_count": 198,
   "metadata": {},
   "outputs": [],
   "source": [
    "# create new avg variable\n",
    "new_df['avg_score'] = (new_df['num'] / new_df['den']) * 100"
   ]
  },
  {
   "cell_type": "code",
   "execution_count": 199,
   "metadata": {},
   "outputs": [],
   "source": [
    "# consider screening, diagnosis, and treatment sections only\n",
    "new_df = new_df[new_df[\"section\"].isin([\"screening\", \"treatment\", \"diagnosis\"])]\n"
   ]
  },
  {
   "cell_type": "markdown",
   "metadata": {},
   "source": [
    "create a new `genexpert_or_microscopy` variable"
   ]
  },
  {
   "cell_type": "code",
   "execution_count": 200,
   "metadata": {},
   "outputs": [
    {
     "data": {
      "text/plain": [
       "genexpert_or_microscopy\n",
       "no     4759\n",
       "yes    2192\n",
       "Name: count, dtype: int64"
      ]
     },
     "execution_count": 200,
     "metadata": {},
     "output_type": "execute_result"
    }
   ],
   "source": [
    "genexpert_sites = set(zip(gen_df['Genexpert.site'], gen_df['hf_type']))\n",
    "\n",
    "def check_facility(row):\n",
    "    if (row['hf_name'], row['hf_type']) in genexpert_sites:\n",
    "        return 'yes'\n",
    "    else:\n",
    "        return 'no'\n",
    "\n",
    "new_df['genexpert_or_microscopy'] = new_df.apply(check_facility, axis=1)\n",
    "new_df.loc[new_df['hf_type'] == 'hospital (dh,ph,rh)', 'genexpert_or_microscopy'] = 'yes'\n",
    "new_df['genexpert_or_microscopy'].value_counts()"
   ]
  },
  {
   "cell_type": "markdown",
   "metadata": {},
   "source": [
    "Ensure all `hf_name` that are `health centers` are 'CT' TB type"
   ]
  },
  {
   "cell_type": "code",
   "execution_count": 201,
   "metadata": {},
   "outputs": [],
   "source": [
    "hf_names_to_check = gen_df.iloc[:, 0].unique()\n",
    "filtered_facilities = new_df[\n",
    "    (new_df['hf_name'].isin(hf_names_to_check)) &\n",
    "    (new_df['hf_type'] == \"health center\") &\n",
    "    (new_df['hf_tb_type'] == \"CT\")\n",
    "]['hf_name'].unique()"
   ]
  },
  {
   "cell_type": "code",
   "execution_count": 202,
   "metadata": {},
   "outputs": [],
   "source": [
    "new_df.loc[new_df['hf_name'] == 'nyamirama cs', 'hf_tb_type'] = 'CDT'\n",
    "new_df.loc[new_df['hf_name'] == 'byahi (rubavu) cs', 'hf_tb_type'] = 'CDT'"
   ]
  },
  {
   "cell_type": "markdown",
   "metadata": {},
   "source": [
    "Data validation"
   ]
  },
  {
   "cell_type": "code",
   "execution_count": 203,
   "metadata": {},
   "outputs": [
    {
     "name": "stdout",
     "output_type": "stream",
     "text": [
      "No. duplicates:  0\n",
      "No. missing values:  province                      0\n",
      "district                      0\n",
      "hf_tb_type                    0\n",
      "hf_name                       0\n",
      "hf_type                       0\n",
      "fy                            0\n",
      "summary_group                 0\n",
      "no                            0\n",
      "normes                     4169\n",
      "item_name                     0\n",
      "num                        1987\n",
      "den                         547\n",
      "section                       0\n",
      "avg_score                  2121\n",
      "genexpert_or_microscopy       0\n",
      "dtype: int64\n"
     ]
    }
   ],
   "source": [
    "duplicates = new_df[new_df.duplicated()]\n",
    "print(\"No. duplicates: \", duplicates.shape[0])\n",
    "print(\"No. missing values: \", new_df.isnull().sum())"
   ]
  },
  {
   "cell_type": "markdown",
   "metadata": {},
   "source": [
    "excluding `prison related` screening questions"
   ]
  },
  {
   "cell_type": "code",
   "execution_count": 204,
   "metadata": {},
   "outputs": [],
   "source": [
    "# Define the items to exclude\n",
    "items_to_exclude = [\n",
    "    \"Sur 10 nouveaux prisonniers entrÃ©s au cours de la pÃ©riode evaluÃ©e, combien ont beneficiÃ© du screening TB Ã¡ l'entrÃ©e\",\n",
    "    \"Sur 10 nouveaux prisonniers sortants au cours de la pÃ©riode evaluÃ©e, combien ont beneficiÃ© du screening TB Ã¡ la sortie\",\n",
    "    \"Sur les 10 derniers patients hospitalises ( 5 pediatrie,5Medecine interne), combien ont beneficie  du screening de la TB et prise en charge selon le protocole? \",\n",
    "]\n",
    "new_df = new_df[~new_df[\"item_name\"].isin(items_to_exclude)]"
   ]
  },
  {
   "cell_type": "markdown",
   "metadata": {},
   "source": [
    "Split dataset into `valid` & `invalid` datasets"
   ]
  },
  {
   "cell_type": "code",
   "execution_count": 205,
   "metadata": {},
   "outputs": [],
   "source": [
    "# Define valid cases\n",
    "valid_df = new_df[\n",
    "    (new_df[\"num\"] <= new_df[\"den\"]) &  # num must not be greater than den\n",
    "    ~(new_df[\"num\"].isna() & new_df[\"den\"] > 0) &  # Exclude cases where num is NaN but den > 0\n",
    "    ~((new_df[\"num\"] == 0) & (new_df[\"den\"] == 0)) &  # Exclude cases where both num and den are 0\n",
    "    ~(new_df[\"den\"].isna())  # Exclude cases where den is NaN (new fix)\n",
    "]\n",
    "\n",
    "invalid_df = new_df[\n",
    "    (new_df[\"num\"] > new_df[\"den\"]) |  # Invalid if num > den\n",
    "    ((new_df[\"num\"].isna()) & (new_df[\"den\"] > 0)) |  # Invalid if num is NaN but den > 0\n",
    "    ((new_df[\"num\"] == 0) & (new_df[\"den\"] == 0)) |  # Invalid if both num and den are 0\n",
    "    (new_df[\"den\"].isna()) |  # Invalid if den is NaN\n",
    "    ((new_df[\"num\"].isna()) & (new_df[\"den\"] == 0))  # NEW FIX: Invalid if num is NaN and den = 0\n",
    "]\n",
    "\n",
    "new_df = valid_df"
   ]
  },
  {
   "cell_type": "markdown",
   "metadata": {},
   "source": [
    "#### **Descriptive Analytics**"
   ]
  },
  {
   "cell_type": "markdown",
   "metadata": {},
   "source": [
    "microscopy only health centers"
   ]
  },
  {
   "cell_type": "code",
   "execution_count": 206,
   "metadata": {},
   "outputs": [
    {
     "data": {
      "text/plain": [
       "(1372, 15)"
      ]
     },
     "execution_count": 206,
     "metadata": {},
     "output_type": "execute_result"
    }
   ],
   "source": [
    "microscopy_only_df = new_df[(new_df['hf_tb_type'] == 'CDT') & (new_df['hf_type'] == \"health center\")]\n",
    "microscopy_only_df.shape"
   ]
  },
  {
   "cell_type": "markdown",
   "metadata": {},
   "source": [
    "\n",
    "`Overall score and count by provice`"
   ]
  },
  {
   "cell_type": "code",
   "execution_count": 207,
   "metadata": {},
   "outputs": [
    {
     "data": {
      "text/html": [
       "<div>\n",
       "<style scoped>\n",
       "    .dataframe tbody tr th:only-of-type {\n",
       "        vertical-align: middle;\n",
       "    }\n",
       "\n",
       "    .dataframe tbody tr th {\n",
       "        vertical-align: top;\n",
       "    }\n",
       "\n",
       "    .dataframe thead th {\n",
       "        text-align: right;\n",
       "    }\n",
       "</style>\n",
       "<table border=\"1\" class=\"dataframe\">\n",
       "  <thead>\n",
       "    <tr style=\"text-align: right;\">\n",
       "      <th></th>\n",
       "      <th>province</th>\n",
       "      <th>fy</th>\n",
       "      <th>overall_score</th>\n",
       "      <th>hf_count</th>\n",
       "    </tr>\n",
       "  </thead>\n",
       "  <tbody>\n",
       "    <tr>\n",
       "      <th>0</th>\n",
       "      <td>east</td>\n",
       "      <td>2020-2021</td>\n",
       "      <td>75.606705</td>\n",
       "      <td>34</td>\n",
       "    </tr>\n",
       "    <tr>\n",
       "      <th>1</th>\n",
       "      <td>east</td>\n",
       "      <td>2021-2022</td>\n",
       "      <td>77.986851</td>\n",
       "      <td>41</td>\n",
       "    </tr>\n",
       "    <tr>\n",
       "      <th>2</th>\n",
       "      <td>east</td>\n",
       "      <td>2023-2024</td>\n",
       "      <td>71.373275</td>\n",
       "      <td>49</td>\n",
       "    </tr>\n",
       "    <tr>\n",
       "      <th>3</th>\n",
       "      <td>kigali</td>\n",
       "      <td>2023-2024</td>\n",
       "      <td>74.148114</td>\n",
       "      <td>17</td>\n",
       "    </tr>\n",
       "    <tr>\n",
       "      <th>4</th>\n",
       "      <td>north</td>\n",
       "      <td>2020-2021</td>\n",
       "      <td>82.863341</td>\n",
       "      <td>25</td>\n",
       "    </tr>\n",
       "    <tr>\n",
       "      <th>5</th>\n",
       "      <td>north</td>\n",
       "      <td>2023-2024</td>\n",
       "      <td>85.105871</td>\n",
       "      <td>39</td>\n",
       "    </tr>\n",
       "    <tr>\n",
       "      <th>6</th>\n",
       "      <td>south</td>\n",
       "      <td>2020-2021</td>\n",
       "      <td>81.451843</td>\n",
       "      <td>35</td>\n",
       "    </tr>\n",
       "    <tr>\n",
       "      <th>7</th>\n",
       "      <td>south</td>\n",
       "      <td>2021-2022</td>\n",
       "      <td>83.548983</td>\n",
       "      <td>49</td>\n",
       "    </tr>\n",
       "    <tr>\n",
       "      <th>8</th>\n",
       "      <td>south</td>\n",
       "      <td>2023-2024</td>\n",
       "      <td>87.867647</td>\n",
       "      <td>9</td>\n",
       "    </tr>\n",
       "    <tr>\n",
       "      <th>9</th>\n",
       "      <td>west</td>\n",
       "      <td>2022-2023</td>\n",
       "      <td>76.273803</td>\n",
       "      <td>39</td>\n",
       "    </tr>\n",
       "    <tr>\n",
       "      <th>10</th>\n",
       "      <td>west</td>\n",
       "      <td>2023-2024</td>\n",
       "      <td>84.422111</td>\n",
       "      <td>8</td>\n",
       "    </tr>\n",
       "  </tbody>\n",
       "</table>\n",
       "</div>"
      ],
      "text/plain": [
       "   province         fy  overall_score  hf_count\n",
       "0      east  2020-2021      75.606705        34\n",
       "1      east  2021-2022      77.986851        41\n",
       "2      east  2023-2024      71.373275        49\n",
       "3    kigali  2023-2024      74.148114        17\n",
       "4     north  2020-2021      82.863341        25\n",
       "5     north  2023-2024      85.105871        39\n",
       "6     south  2020-2021      81.451843        35\n",
       "7     south  2021-2022      83.548983        49\n",
       "8     south  2023-2024      87.867647         9\n",
       "9      west  2022-2023      76.273803        39\n",
       "10     west  2023-2024      84.422111         8"
      ]
     },
     "execution_count": 207,
     "metadata": {},
     "output_type": "execute_result"
    }
   ],
   "source": [
    "# First calculate the overall_score as you were doing\n",
    "fy_summary = new_df.groupby([\"province\", 'fy']).apply(\n",
    "    lambda x: (x[\"num\"].sum() / x[\"den\"].sum()) * 100\n",
    ").reset_index(name=\"overall_score\")\n",
    "\n",
    "# Now calculate the hf_count by counting unique health facilities in each group\n",
    "hf_counts = new_df.groupby([\"province\", 'fy'])[\"hf_name\"].nunique().reset_index(name=\"hf_count\")\n",
    "\n",
    "# Merge the two dataframes to get all the columns you need\n",
    "result_df = pd.merge(fy_summary, hf_counts, on=[\"province\", 'fy'], how=\"left\")\n",
    "result_df "
   ]
  },
  {
   "cell_type": "markdown",
   "metadata": {},
   "source": [
    "`Overall score and count by 'Health facility type'`"
   ]
  },
  {
   "cell_type": "code",
   "execution_count": 209,
   "metadata": {},
   "outputs": [
    {
     "data": {
      "text/html": [
       "<div>\n",
       "<style scoped>\n",
       "    .dataframe tbody tr th:only-of-type {\n",
       "        vertical-align: middle;\n",
       "    }\n",
       "\n",
       "    .dataframe tbody tr th {\n",
       "        vertical-align: top;\n",
       "    }\n",
       "\n",
       "    .dataframe thead th {\n",
       "        text-align: right;\n",
       "    }\n",
       "</style>\n",
       "<table border=\"1\" class=\"dataframe\">\n",
       "  <thead>\n",
       "    <tr style=\"text-align: right;\">\n",
       "      <th></th>\n",
       "      <th>hf_type</th>\n",
       "      <th>fy</th>\n",
       "      <th>overall_score</th>\n",
       "      <th>hf_count</th>\n",
       "    </tr>\n",
       "  </thead>\n",
       "  <tbody>\n",
       "    <tr>\n",
       "      <th>0</th>\n",
       "      <td>health center</td>\n",
       "      <td>2020-2021</td>\n",
       "      <td>77.611523</td>\n",
       "      <td>73</td>\n",
       "    </tr>\n",
       "    <tr>\n",
       "      <th>1</th>\n",
       "      <td>health center</td>\n",
       "      <td>2021-2022</td>\n",
       "      <td>80.297115</td>\n",
       "      <td>70</td>\n",
       "    </tr>\n",
       "    <tr>\n",
       "      <th>2</th>\n",
       "      <td>health center</td>\n",
       "      <td>2022-2023</td>\n",
       "      <td>74.227865</td>\n",
       "      <td>31</td>\n",
       "    </tr>\n",
       "    <tr>\n",
       "      <th>3</th>\n",
       "      <td>health center</td>\n",
       "      <td>2023-2024</td>\n",
       "      <td>71.538048</td>\n",
       "      <td>69</td>\n",
       "    </tr>\n",
       "    <tr>\n",
       "      <th>4</th>\n",
       "      <td>hospital (dh,ph,rh)</td>\n",
       "      <td>2020-2021</td>\n",
       "      <td>84.226415</td>\n",
       "      <td>21</td>\n",
       "    </tr>\n",
       "    <tr>\n",
       "      <th>5</th>\n",
       "      <td>hospital (dh,ph,rh)</td>\n",
       "      <td>2021-2022</td>\n",
       "      <td>87.295401</td>\n",
       "      <td>20</td>\n",
       "    </tr>\n",
       "    <tr>\n",
       "      <th>6</th>\n",
       "      <td>hospital (dh,ph,rh)</td>\n",
       "      <td>2022-2023</td>\n",
       "      <td>82.407407</td>\n",
       "      <td>8</td>\n",
       "    </tr>\n",
       "    <tr>\n",
       "      <th>7</th>\n",
       "      <td>hospital (dh,ph,rh)</td>\n",
       "      <td>2023-2024</td>\n",
       "      <td>84.740305</td>\n",
       "      <td>53</td>\n",
       "    </tr>\n",
       "  </tbody>\n",
       "</table>\n",
       "</div>"
      ],
      "text/plain": [
       "               hf_type         fy  overall_score  hf_count\n",
       "0        health center  2020-2021      77.611523        73\n",
       "1        health center  2021-2022      80.297115        70\n",
       "2        health center  2022-2023      74.227865        31\n",
       "3        health center  2023-2024      71.538048        69\n",
       "4  hospital (dh,ph,rh)  2020-2021      84.226415        21\n",
       "5  hospital (dh,ph,rh)  2021-2022      87.295401        20\n",
       "6  hospital (dh,ph,rh)  2022-2023      82.407407         8\n",
       "7  hospital (dh,ph,rh)  2023-2024      84.740305        53"
      ]
     },
     "execution_count": 209,
     "metadata": {},
     "output_type": "execute_result"
    }
   ],
   "source": [
    "# First calculate the overall_score as you were doing\n",
    "fy_summary = new_df.groupby([\"hf_type\", 'fy']).apply(\n",
    "    lambda x: (x[\"num\"].sum() / x[\"den\"].sum()) * 100\n",
    ").reset_index(name=\"overall_score\")\n",
    "\n",
    "# Now calculate the hf_count by counting unique health facilities in each group\n",
    "hf_counts = new_df.groupby([\"hf_type\", 'fy'])[\"hf_name\"].nunique().reset_index(name=\"hf_count\")\n",
    "\n",
    "# Merge the two dataframes to get all the columns you need\n",
    "result_df = pd.merge(fy_summary, hf_counts, on=[\"hf_type\", 'fy'], how=\"left\")\n",
    "result_df "
   ]
  },
  {
   "cell_type": "markdown",
   "metadata": {},
   "source": [
    "`Overall score and count by 'Tb facility type'`"
   ]
  },
  {
   "cell_type": "code",
   "execution_count": 210,
   "metadata": {},
   "outputs": [
    {
     "data": {
      "text/html": [
       "<div>\n",
       "<style scoped>\n",
       "    .dataframe tbody tr th:only-of-type {\n",
       "        vertical-align: middle;\n",
       "    }\n",
       "\n",
       "    .dataframe tbody tr th {\n",
       "        vertical-align: top;\n",
       "    }\n",
       "\n",
       "    .dataframe thead th {\n",
       "        text-align: right;\n",
       "    }\n",
       "</style>\n",
       "<table border=\"1\" class=\"dataframe\">\n",
       "  <thead>\n",
       "    <tr style=\"text-align: right;\">\n",
       "      <th></th>\n",
       "      <th>hf_tb_type</th>\n",
       "      <th>fy</th>\n",
       "      <th>overall_score</th>\n",
       "      <th>hf_count</th>\n",
       "    </tr>\n",
       "  </thead>\n",
       "  <tbody>\n",
       "    <tr>\n",
       "      <th>0</th>\n",
       "      <td>CDT</td>\n",
       "      <td>2020-2021</td>\n",
       "      <td>85.686722</td>\n",
       "      <td>49</td>\n",
       "    </tr>\n",
       "    <tr>\n",
       "      <th>1</th>\n",
       "      <td>CDT</td>\n",
       "      <td>2021-2022</td>\n",
       "      <td>82.747115</td>\n",
       "      <td>49</td>\n",
       "    </tr>\n",
       "    <tr>\n",
       "      <th>2</th>\n",
       "      <td>CDT</td>\n",
       "      <td>2022-2023</td>\n",
       "      <td>83.803795</td>\n",
       "      <td>20</td>\n",
       "    </tr>\n",
       "    <tr>\n",
       "      <th>3</th>\n",
       "      <td>CDT</td>\n",
       "      <td>2023-2024</td>\n",
       "      <td>83.897080</td>\n",
       "      <td>82</td>\n",
       "    </tr>\n",
       "    <tr>\n",
       "      <th>4</th>\n",
       "      <td>CT</td>\n",
       "      <td>2020-2021</td>\n",
       "      <td>70.658537</td>\n",
       "      <td>45</td>\n",
       "    </tr>\n",
       "    <tr>\n",
       "      <th>5</th>\n",
       "      <td>CT</td>\n",
       "      <td>2021-2022</td>\n",
       "      <td>80.354103</td>\n",
       "      <td>41</td>\n",
       "    </tr>\n",
       "    <tr>\n",
       "      <th>6</th>\n",
       "      <td>CT</td>\n",
       "      <td>2022-2023</td>\n",
       "      <td>66.840580</td>\n",
       "      <td>19</td>\n",
       "    </tr>\n",
       "    <tr>\n",
       "      <th>7</th>\n",
       "      <td>CT</td>\n",
       "      <td>2023-2024</td>\n",
       "      <td>63.463368</td>\n",
       "      <td>41</td>\n",
       "    </tr>\n",
       "  </tbody>\n",
       "</table>\n",
       "</div>"
      ],
      "text/plain": [
       "  hf_tb_type         fy  overall_score  hf_count\n",
       "0        CDT  2020-2021      85.686722        49\n",
       "1        CDT  2021-2022      82.747115        49\n",
       "2        CDT  2022-2023      83.803795        20\n",
       "3        CDT  2023-2024      83.897080        82\n",
       "4         CT  2020-2021      70.658537        45\n",
       "5         CT  2021-2022      80.354103        41\n",
       "6         CT  2022-2023      66.840580        19\n",
       "7         CT  2023-2024      63.463368        41"
      ]
     },
     "execution_count": 210,
     "metadata": {},
     "output_type": "execute_result"
    }
   ],
   "source": [
    "# First calculate the overall_score as you were doing\n",
    "fy_summary = new_df.groupby([\"hf_tb_type\", 'fy']).apply(\n",
    "    lambda x: (x[\"num\"].sum() / x[\"den\"].sum()) * 100\n",
    ").reset_index(name=\"overall_score\")\n",
    "\n",
    "# Now calculate the hf_count by counting unique health facilities in each group\n",
    "hf_counts = new_df.groupby([\"hf_tb_type\", 'fy'])[\"hf_name\"].nunique().reset_index(name=\"hf_count\")\n",
    "\n",
    "# Merge the two dataframes to get all the columns you need\n",
    "result_df = pd.merge(fy_summary, hf_counts, on=[\"hf_tb_type\", 'fy'], how=\"left\")\n",
    "result_df "
   ]
  },
  {
   "cell_type": "markdown",
   "metadata": {},
   "source": [
    "`Overall score and count by 'geneXpert_or_microscopy'`"
   ]
  },
  {
   "cell_type": "code",
   "execution_count": 212,
   "metadata": {},
   "outputs": [
    {
     "data": {
      "text/html": [
       "<div>\n",
       "<style scoped>\n",
       "    .dataframe tbody tr th:only-of-type {\n",
       "        vertical-align: middle;\n",
       "    }\n",
       "\n",
       "    .dataframe tbody tr th {\n",
       "        vertical-align: top;\n",
       "    }\n",
       "\n",
       "    .dataframe thead th {\n",
       "        text-align: right;\n",
       "    }\n",
       "</style>\n",
       "<table border=\"1\" class=\"dataframe\">\n",
       "  <thead>\n",
       "    <tr style=\"text-align: right;\">\n",
       "      <th></th>\n",
       "      <th>genexpert_or_microscopy</th>\n",
       "      <th>fy</th>\n",
       "      <th>overall_score</th>\n",
       "      <th>hf_count</th>\n",
       "    </tr>\n",
       "  </thead>\n",
       "  <tbody>\n",
       "    <tr>\n",
       "      <th>0</th>\n",
       "      <td>no</td>\n",
       "      <td>2020-2021</td>\n",
       "      <td>77.611523</td>\n",
       "      <td>73</td>\n",
       "    </tr>\n",
       "    <tr>\n",
       "      <th>1</th>\n",
       "      <td>no</td>\n",
       "      <td>2021-2022</td>\n",
       "      <td>80.297115</td>\n",
       "      <td>70</td>\n",
       "    </tr>\n",
       "    <tr>\n",
       "      <th>2</th>\n",
       "      <td>no</td>\n",
       "      <td>2022-2023</td>\n",
       "      <td>74.227865</td>\n",
       "      <td>31</td>\n",
       "    </tr>\n",
       "    <tr>\n",
       "      <th>3</th>\n",
       "      <td>no</td>\n",
       "      <td>2023-2024</td>\n",
       "      <td>69.642857</td>\n",
       "      <td>61</td>\n",
       "    </tr>\n",
       "    <tr>\n",
       "      <th>4</th>\n",
       "      <td>yes</td>\n",
       "      <td>2020-2021</td>\n",
       "      <td>84.226415</td>\n",
       "      <td>21</td>\n",
       "    </tr>\n",
       "    <tr>\n",
       "      <th>5</th>\n",
       "      <td>yes</td>\n",
       "      <td>2021-2022</td>\n",
       "      <td>87.295401</td>\n",
       "      <td>20</td>\n",
       "    </tr>\n",
       "    <tr>\n",
       "      <th>6</th>\n",
       "      <td>yes</td>\n",
       "      <td>2022-2023</td>\n",
       "      <td>82.407407</td>\n",
       "      <td>8</td>\n",
       "    </tr>\n",
       "    <tr>\n",
       "      <th>7</th>\n",
       "      <td>yes</td>\n",
       "      <td>2023-2024</td>\n",
       "      <td>84.518726</td>\n",
       "      <td>61</td>\n",
       "    </tr>\n",
       "  </tbody>\n",
       "</table>\n",
       "</div>"
      ],
      "text/plain": [
       "  genexpert_or_microscopy         fy  overall_score  hf_count\n",
       "0                      no  2020-2021      77.611523        73\n",
       "1                      no  2021-2022      80.297115        70\n",
       "2                      no  2022-2023      74.227865        31\n",
       "3                      no  2023-2024      69.642857        61\n",
       "4                     yes  2020-2021      84.226415        21\n",
       "5                     yes  2021-2022      87.295401        20\n",
       "6                     yes  2022-2023      82.407407         8\n",
       "7                     yes  2023-2024      84.518726        61"
      ]
     },
     "execution_count": 212,
     "metadata": {},
     "output_type": "execute_result"
    }
   ],
   "source": [
    "# First calculate the overall_score as you were doing\n",
    "fy_summary = new_df.groupby([\"genexpert_or_microscopy\", 'fy']).apply(\n",
    "    lambda x: (x[\"num\"].sum() / x[\"den\"].sum()) * 100\n",
    ").reset_index(name=\"overall_score\")\n",
    "\n",
    "# Now calculate the hf_count by counting unique health facilities in each group\n",
    "hf_counts = new_df.groupby([\"genexpert_or_microscopy\", 'fy'])[\"hf_name\"].nunique().reset_index(name=\"hf_count\")\n",
    "\n",
    "# Merge the two dataframes to get all the columns you need\n",
    "result_df = pd.merge(fy_summary, hf_counts, on=[\"genexpert_or_microscopy\", 'fy'], how=\"left\")\n",
    "result_df "
   ]
  },
  {
   "cell_type": "code",
   "execution_count": null,
   "metadata": {},
   "outputs": [],
   "source": []
  }
 ],
 "metadata": {
  "kernelspec": {
   "display_name": "robert",
   "language": "python",
   "name": "python3"
  },
  "language_info": {
   "codemirror_mode": {
    "name": "ipython",
    "version": 3
   },
   "file_extension": ".py",
   "mimetype": "text/x-python",
   "name": "python",
   "nbconvert_exporter": "python",
   "pygments_lexer": "ipython3",
   "version": "3.9.16"
  }
 },
 "nbformat": 4,
 "nbformat_minor": 2
}
