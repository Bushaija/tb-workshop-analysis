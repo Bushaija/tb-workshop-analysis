{
 "cells": [
  {
   "cell_type": "markdown",
   "metadata": {},
   "source": [
    "****#### **Import all necessary libraries**"
   ]
  },
  {
   "cell_type": "code",
   "execution_count": 1,
   "metadata": {},
   "outputs": [],
   "source": [
    "import pandas as pd\n",
    "import seaborn as sns\n",
    "import matplotlib.pyplot as plt"
   ]
  },
  {
   "cell_type": "markdown",
   "metadata": {},
   "source": [
    "### **Data loading**"
   ]
  },
  {
   "cell_type": "markdown",
   "metadata": {},
   "source": [
    "##### List first five samples"
   ]
  },
  {
   "cell_type": "code",
   "execution_count": 105,
   "metadata": {},
   "outputs": [],
   "source": [
    "df = pd.read_csv(\"../_data/tb-rsqa.csv\", encoding=\"ISO-8859-1\")"
   ]
  },
  {
   "cell_type": "markdown",
   "metadata": {},
   "source": [
    "#### List of Columns"
   ]
  },
  {
   "cell_type": "code",
   "execution_count": 106,
   "metadata": {},
   "outputs": [
    {
     "name": "stdout",
     "output_type": "stream",
     "text": [
      "Name of Supervisor 1\n",
      "Name of Supervisor 2\n",
      "HF Name\n",
      "GeneXpert-site\n",
      "HF Type\n",
      "HF TB Type\n",
      "Province\n",
      "District\n",
      "Sub_District\n",
      "Period of implementation\n",
      "FY\n",
      "Domaine d'activités du NSP 2013-2018\n",
      "Summary group\n",
      "Category of activity\n",
      "No_Old\n",
      "NO\n",
      "Normes \n",
      "Element à verifier\n",
      "Procedures \n",
      "Num\n",
      "Den\n",
      "% (don't use)\n",
      "Commentaires\n",
      "How many Times\n"
     ]
    }
   ],
   "source": [
    "for col in df.columns:\n",
    "    print(col)"
   ]
  },
  {
   "cell_type": "markdown",
   "metadata": {},
   "source": [
    "### **Data Cleaning**"
   ]
  },
  {
   "cell_type": "code",
   "execution_count": 107,
   "metadata": {},
   "outputs": [],
   "source": [
    "df = df.copy()"
   ]
  },
  {
   "cell_type": "markdown",
   "metadata": {},
   "source": [
    "#### 1. Extra relevant columns"
   ]
  },
  {
   "cell_type": "code",
   "execution_count": 108,
   "metadata": {},
   "outputs": [
    {
     "data": {
      "text/plain": [
       "25647"
      ]
     },
     "execution_count": 108,
     "metadata": {},
     "output_type": "execute_result"
    }
   ],
   "source": [
    "relevant_columns = [\"Province\", \"District\", \"HF TB Type\", \"HF Name\", \"HF Type\", \"GeneXpert-site\", \"FY\", \"Summary group\", \"NO\", \"Normes \", \"Element à verifier\", \"Num\", \"Den\"]\n",
    "new_df = df[relevant_columns]\n",
    "new_df.shape[0]"
   ]
  },
  {
   "cell_type": "code",
   "execution_count": 109,
   "metadata": {},
   "outputs": [
    {
     "data": {
      "text/html": [
       "<div>\n",
       "<style scoped>\n",
       "    .dataframe tbody tr th:only-of-type {\n",
       "        vertical-align: middle;\n",
       "    }\n",
       "\n",
       "    .dataframe tbody tr th {\n",
       "        vertical-align: top;\n",
       "    }\n",
       "\n",
       "    .dataframe thead th {\n",
       "        text-align: right;\n",
       "    }\n",
       "</style>\n",
       "<table border=\"1\" class=\"dataframe\">\n",
       "  <thead>\n",
       "    <tr style=\"text-align: right;\">\n",
       "      <th></th>\n",
       "      <th>Province</th>\n",
       "      <th>District</th>\n",
       "      <th>HF TB Type</th>\n",
       "      <th>HF Name</th>\n",
       "      <th>HF Type</th>\n",
       "      <th>GeneXpert-site</th>\n",
       "      <th>FY</th>\n",
       "      <th>Summary group</th>\n",
       "      <th>NO</th>\n",
       "      <th>Normes</th>\n",
       "      <th>Element à verifier</th>\n",
       "      <th>Num</th>\n",
       "      <th>Den</th>\n",
       "    </tr>\n",
       "  </thead>\n",
       "  <tbody>\n",
       "    <tr>\n",
       "      <th>0</th>\n",
       "      <td>North</td>\n",
       "      <td>Gakenke</td>\n",
       "      <td>CT</td>\n",
       "      <td>Ruli CS</td>\n",
       "      <td>Health Center</td>\n",
       "      <td>NO</td>\n",
       "      <td>FY 2020-2021</td>\n",
       "      <td>Are algorithms for TB screening, TB diagnosis ...</td>\n",
       "      <td>1</td>\n",
       "      <td>Toute FOSA doit rendre disponible des algorith...</td>\n",
       "      <td>Les services VIH/ARV, Consultations externes, ...</td>\n",
       "      <td>3</td>\n",
       "      <td>4</td>\n",
       "    </tr>\n",
       "    <tr>\n",
       "      <th>1</th>\n",
       "      <td>North</td>\n",
       "      <td>Gakenke</td>\n",
       "      <td>CT</td>\n",
       "      <td>Ruli CS</td>\n",
       "      <td>Health Center</td>\n",
       "      <td>NO</td>\n",
       "      <td>FY 2020-2021</td>\n",
       "      <td>Are TB monitoring tools existing, update and w...</td>\n",
       "      <td>2</td>\n",
       "      <td>Les prestataires doivent avoir les connaissanc...</td>\n",
       "      <td>Les prestataires des services ARV, Consultatio...</td>\n",
       "      <td>4</td>\n",
       "      <td>4</td>\n",
       "    </tr>\n",
       "    <tr>\n",
       "      <th>2</th>\n",
       "      <td>North</td>\n",
       "      <td>Gakenke</td>\n",
       "      <td>CT</td>\n",
       "      <td>Ruli CS</td>\n",
       "      <td>Health Center</td>\n",
       "      <td>NO</td>\n",
       "      <td>FY 2020-2021</td>\n",
       "      <td>Is active case finding conducted in TB high ri...</td>\n",
       "      <td>3</td>\n",
       "      <td>NaN</td>\n",
       "      <td>Sur 10 nouveaux prisonniers entrés au cours de...</td>\n",
       "      <td>NaN</td>\n",
       "      <td>10</td>\n",
       "    </tr>\n",
       "    <tr>\n",
       "      <th>3</th>\n",
       "      <td>North</td>\n",
       "      <td>Gakenke</td>\n",
       "      <td>CT</td>\n",
       "      <td>Ruli CS</td>\n",
       "      <td>Health Center</td>\n",
       "      <td>NO</td>\n",
       "      <td>FY 2020-2021</td>\n",
       "      <td>Is active case finding conducted in TB high ri...</td>\n",
       "      <td>4</td>\n",
       "      <td>NaN</td>\n",
       "      <td>Sur 10 nouveaux prisonniers sortants au cours ...</td>\n",
       "      <td>NaN</td>\n",
       "      <td>10</td>\n",
       "    </tr>\n",
       "    <tr>\n",
       "      <th>4</th>\n",
       "      <td>North</td>\n",
       "      <td>Gakenke</td>\n",
       "      <td>CT</td>\n",
       "      <td>Ruli CS</td>\n",
       "      <td>Health Center</td>\n",
       "      <td>NO</td>\n",
       "      <td>FY 2020-2021</td>\n",
       "      <td>Are TB diagnostics continuously functional (mi...</td>\n",
       "      <td>5</td>\n",
       "      <td>NaN</td>\n",
       "      <td>Sur les 10 derniers patients hospitalises( 5 p...</td>\n",
       "      <td>NaN</td>\n",
       "      <td>10</td>\n",
       "    </tr>\n",
       "  </tbody>\n",
       "</table>\n",
       "</div>"
      ],
      "text/plain": [
       "  Province District HF TB Type  HF Name        HF Type GeneXpert-site  \\\n",
       "0   North   Gakenke         CT  Ruli CS  Health Center             NO   \n",
       "1   North   Gakenke         CT  Ruli CS  Health Center             NO   \n",
       "2   North   Gakenke         CT  Ruli CS  Health Center             NO   \n",
       "3   North   Gakenke         CT  Ruli CS  Health Center             NO   \n",
       "4   North   Gakenke         CT  Ruli CS  Health Center             NO   \n",
       "\n",
       "             FY                                      Summary group NO  \\\n",
       "0  FY 2020-2021  Are algorithms for TB screening, TB diagnosis ...  1   \n",
       "1  FY 2020-2021  Are TB monitoring tools existing, update and w...  2   \n",
       "2  FY 2020-2021  Is active case finding conducted in TB high ri...  3   \n",
       "3  FY 2020-2021  Is active case finding conducted in TB high ri...  4   \n",
       "4  FY 2020-2021  Are TB diagnostics continuously functional (mi...  5   \n",
       "\n",
       "                                             Normes   \\\n",
       "0  Toute FOSA doit rendre disponible des algorith...   \n",
       "1  Les prestataires doivent avoir les connaissanc...   \n",
       "2                                                NaN   \n",
       "3                                                NaN   \n",
       "4                                                NaN   \n",
       "\n",
       "                                  Element à verifier  Num Den  \n",
       "0  Les services VIH/ARV, Consultations externes, ...    3   4  \n",
       "1  Les prestataires des services ARV, Consultatio...    4   4  \n",
       "2  Sur 10 nouveaux prisonniers entrés au cours de...  NaN  10  \n",
       "3  Sur 10 nouveaux prisonniers sortants au cours ...  NaN  10  \n",
       "4  Sur les 10 derniers patients hospitalises( 5 p...  NaN  10  "
      ]
     },
     "execution_count": 109,
     "metadata": {},
     "output_type": "execute_result"
    }
   ],
   "source": [
    "new_df.head()"
   ]
  },
  {
   "cell_type": "markdown",
   "metadata": {},
   "source": [
    "#### 2. Handling Duplicates"
   ]
  },
  {
   "cell_type": "code",
   "execution_count": 110,
   "metadata": {},
   "outputs": [
    {
     "name": "stdout",
     "output_type": "stream",
     "text": [
      "No duplicates:  176\n"
     ]
    }
   ],
   "source": [
    "duplicates = new_df[new_df.duplicated()]\n",
    "print(\"No duplicates: \", duplicates.shape[0])\n",
    "new_df = new_df.drop_duplicates()"
   ]
  },
  {
   "cell_type": "markdown",
   "metadata": {},
   "source": [
    "#### 3. Handling missing values"
   ]
  },
  {
   "cell_type": "markdown",
   "metadata": {},
   "source": [
    "total number of missing values"
   ]
  },
  {
   "cell_type": "code",
   "execution_count": 111,
   "metadata": {},
   "outputs": [
    {
     "name": "stdout",
     "output_type": "stream",
     "text": [
      "No. missing values:  Province                 0\n",
      "District                 0\n",
      "HF TB Type               0\n",
      "HF Name                  0\n",
      "HF Type                  0\n",
      "GeneXpert-site           0\n",
      "FY                       0\n",
      "Summary group            0\n",
      "NO                       0\n",
      "Normes                9711\n",
      "Element à verifier    1089\n",
      "Num                   4613\n",
      "Den                   2201\n",
      "dtype: int64\n"
     ]
    }
   ],
   "source": [
    "print(\"No. missing values: \", new_df.isnull().sum())"
   ]
  },
  {
   "cell_type": "markdown",
   "metadata": {},
   "source": [
    "Replacing missing normes by element"
   ]
  },
  {
   "cell_type": "code",
   "execution_count": 112,
   "metadata": {},
   "outputs": [],
   "source": [
    "new_df[\"Element à verifier\"] = new_df[\"Element à verifier\"].fillna(new_df[\"Normes \"])"
   ]
  },
  {
   "cell_type": "markdown",
   "metadata": {},
   "source": [
    "#### 4. Rename columns"
   ]
  },
  {
   "cell_type": "code",
   "execution_count": 113,
   "metadata": {},
   "outputs": [
    {
     "data": {
      "text/html": [
       "<div>\n",
       "<style scoped>\n",
       "    .dataframe tbody tr th:only-of-type {\n",
       "        vertical-align: middle;\n",
       "    }\n",
       "\n",
       "    .dataframe tbody tr th {\n",
       "        vertical-align: top;\n",
       "    }\n",
       "\n",
       "    .dataframe thead th {\n",
       "        text-align: right;\n",
       "    }\n",
       "</style>\n",
       "<table border=\"1\" class=\"dataframe\">\n",
       "  <thead>\n",
       "    <tr style=\"text-align: right;\">\n",
       "      <th></th>\n",
       "      <th>province</th>\n",
       "      <th>district</th>\n",
       "      <th>hf_tb_type</th>\n",
       "      <th>hf_name</th>\n",
       "      <th>hf_type</th>\n",
       "      <th>genexpert_site</th>\n",
       "      <th>fy</th>\n",
       "      <th>summary_group</th>\n",
       "      <th>no</th>\n",
       "      <th>normes</th>\n",
       "      <th>item_name</th>\n",
       "      <th>num</th>\n",
       "      <th>den</th>\n",
       "    </tr>\n",
       "  </thead>\n",
       "  <tbody>\n",
       "    <tr>\n",
       "      <th>0</th>\n",
       "      <td>North</td>\n",
       "      <td>Gakenke</td>\n",
       "      <td>CT</td>\n",
       "      <td>Ruli CS</td>\n",
       "      <td>Health Center</td>\n",
       "      <td>NO</td>\n",
       "      <td>FY 2020-2021</td>\n",
       "      <td>Are algorithms for TB screening, TB diagnosis ...</td>\n",
       "      <td>1</td>\n",
       "      <td>Toute FOSA doit rendre disponible des algorith...</td>\n",
       "      <td>Les services VIH/ARV, Consultations externes, ...</td>\n",
       "      <td>3</td>\n",
       "      <td>4</td>\n",
       "    </tr>\n",
       "    <tr>\n",
       "      <th>1</th>\n",
       "      <td>North</td>\n",
       "      <td>Gakenke</td>\n",
       "      <td>CT</td>\n",
       "      <td>Ruli CS</td>\n",
       "      <td>Health Center</td>\n",
       "      <td>NO</td>\n",
       "      <td>FY 2020-2021</td>\n",
       "      <td>Are TB monitoring tools existing, update and w...</td>\n",
       "      <td>2</td>\n",
       "      <td>Les prestataires doivent avoir les connaissanc...</td>\n",
       "      <td>Les prestataires des services ARV, Consultatio...</td>\n",
       "      <td>4</td>\n",
       "      <td>4</td>\n",
       "    </tr>\n",
       "    <tr>\n",
       "      <th>2</th>\n",
       "      <td>North</td>\n",
       "      <td>Gakenke</td>\n",
       "      <td>CT</td>\n",
       "      <td>Ruli CS</td>\n",
       "      <td>Health Center</td>\n",
       "      <td>NO</td>\n",
       "      <td>FY 2020-2021</td>\n",
       "      <td>Is active case finding conducted in TB high ri...</td>\n",
       "      <td>3</td>\n",
       "      <td>NaN</td>\n",
       "      <td>Sur 10 nouveaux prisonniers entrés au cours de...</td>\n",
       "      <td>NaN</td>\n",
       "      <td>10</td>\n",
       "    </tr>\n",
       "    <tr>\n",
       "      <th>3</th>\n",
       "      <td>North</td>\n",
       "      <td>Gakenke</td>\n",
       "      <td>CT</td>\n",
       "      <td>Ruli CS</td>\n",
       "      <td>Health Center</td>\n",
       "      <td>NO</td>\n",
       "      <td>FY 2020-2021</td>\n",
       "      <td>Is active case finding conducted in TB high ri...</td>\n",
       "      <td>4</td>\n",
       "      <td>NaN</td>\n",
       "      <td>Sur 10 nouveaux prisonniers sortants au cours ...</td>\n",
       "      <td>NaN</td>\n",
       "      <td>10</td>\n",
       "    </tr>\n",
       "    <tr>\n",
       "      <th>4</th>\n",
       "      <td>North</td>\n",
       "      <td>Gakenke</td>\n",
       "      <td>CT</td>\n",
       "      <td>Ruli CS</td>\n",
       "      <td>Health Center</td>\n",
       "      <td>NO</td>\n",
       "      <td>FY 2020-2021</td>\n",
       "      <td>Are TB diagnostics continuously functional (mi...</td>\n",
       "      <td>5</td>\n",
       "      <td>NaN</td>\n",
       "      <td>Sur les 10 derniers patients hospitalises( 5 p...</td>\n",
       "      <td>NaN</td>\n",
       "      <td>10</td>\n",
       "    </tr>\n",
       "  </tbody>\n",
       "</table>\n",
       "</div>"
      ],
      "text/plain": [
       "  province district hf_tb_type  hf_name        hf_type genexpert_site  \\\n",
       "0   North   Gakenke         CT  Ruli CS  Health Center             NO   \n",
       "1   North   Gakenke         CT  Ruli CS  Health Center             NO   \n",
       "2   North   Gakenke         CT  Ruli CS  Health Center             NO   \n",
       "3   North   Gakenke         CT  Ruli CS  Health Center             NO   \n",
       "4   North   Gakenke         CT  Ruli CS  Health Center             NO   \n",
       "\n",
       "             fy                                      summary_group no  \\\n",
       "0  FY 2020-2021  Are algorithms for TB screening, TB diagnosis ...  1   \n",
       "1  FY 2020-2021  Are TB monitoring tools existing, update and w...  2   \n",
       "2  FY 2020-2021  Is active case finding conducted in TB high ri...  3   \n",
       "3  FY 2020-2021  Is active case finding conducted in TB high ri...  4   \n",
       "4  FY 2020-2021  Are TB diagnostics continuously functional (mi...  5   \n",
       "\n",
       "                                              normes  \\\n",
       "0  Toute FOSA doit rendre disponible des algorith...   \n",
       "1  Les prestataires doivent avoir les connaissanc...   \n",
       "2                                                NaN   \n",
       "3                                                NaN   \n",
       "4                                                NaN   \n",
       "\n",
       "                                           item_name  num den  \n",
       "0  Les services VIH/ARV, Consultations externes, ...    3   4  \n",
       "1  Les prestataires des services ARV, Consultatio...    4   4  \n",
       "2  Sur 10 nouveaux prisonniers entrés au cours de...  NaN  10  \n",
       "3  Sur 10 nouveaux prisonniers sortants au cours ...  NaN  10  \n",
       "4  Sur les 10 derniers patients hospitalises( 5 p...  NaN  10  "
      ]
     },
     "execution_count": 113,
     "metadata": {},
     "output_type": "execute_result"
    }
   ],
   "source": [
    "new_df.rename(columns={\n",
    "    'Province': 'province',\n",
    "    'District': 'district',\n",
    "    'HF TB Type': 'hf_tb_type',\n",
    "    'HF Name': 'hf_name',\n",
    "    'HF Type': 'hf_type',\n",
    "    'FY': 'fy',\n",
    "    'Summary group': 'summary_group',\n",
    "    'NO': 'no',\n",
    "    'Normes ': 'normes',\n",
    "    'Element à verifier': 'item_name',\n",
    "    'Num': 'num',\n",
    "    'Den': 'den',\n",
    "    'GeneXpert-site': 'genexpert_site'\n",
    "}, inplace=True)\n",
    "new_df.head()\n"
   ]
  },
  {
   "cell_type": "markdown",
   "metadata": {},
   "source": [
    "##### 5. Data Types Validation"
   ]
  },
  {
   "cell_type": "code",
   "execution_count": 114,
   "metadata": {},
   "outputs": [],
   "source": [
    "new_df[\"num\"] = pd.to_numeric(new_df[\"num\"], errors=\"coerce\")\n",
    "new_df[\"den\"] = pd.to_numeric(new_df[\"den\"], errors=\"coerce\")"
   ]
  },
  {
   "cell_type": "markdown",
   "metadata": {},
   "source": [
    "##### 6. Clean `fiscal year` variable"
   ]
  },
  {
   "cell_type": "markdown",
   "metadata": {},
   "source": [
    "remove `FY - prefix`"
   ]
  },
  {
   "cell_type": "code",
   "execution_count": 115,
   "metadata": {},
   "outputs": [
    {
     "data": {
      "text/plain": [
       "fy\n",
       "FY 2023-2024    7016\n",
       "FY 2020-2021    6969\n",
       "FY 2021-2022    6486\n",
       "FY 2022-2023    2723\n",
       "2023-2024       2277\n",
       "Name: count, dtype: int64"
      ]
     },
     "execution_count": 115,
     "metadata": {},
     "output_type": "execute_result"
    }
   ],
   "source": [
    "new_df['fy'].value_counts()"
   ]
  },
  {
   "cell_type": "code",
   "execution_count": 116,
   "metadata": {},
   "outputs": [
    {
     "name": "stdout",
     "output_type": "stream",
     "text": [
      "['2020-2021' '2021-2022' '2022-2023' '2023-2024']\n",
      "fy\n",
      "2023-2024    9293\n",
      "2020-2021    6969\n",
      "2021-2022    6486\n",
      "2022-2023    2723\n",
      "Name: count, dtype: int64\n"
     ]
    }
   ],
   "source": [
    "new_df[\"fy\"] = new_df[\"fy\"].str.replace(\"FY \", \"\", regex=False)\n",
    "print(new_df['fy'].unique())\n",
    "print(new_df['fy'].value_counts())\n"
   ]
  },
  {
   "cell_type": "markdown",
   "metadata": {},
   "source": [
    "#### 7. Remove `Prison` and `Teaching Hospital` data"
   ]
  },
  {
   "cell_type": "code",
   "execution_count": 117,
   "metadata": {},
   "outputs": [
    {
     "data": {
      "text/plain": [
       "24490"
      ]
     },
     "execution_count": 117,
     "metadata": {},
     "output_type": "execute_result"
    }
   ],
   "source": [
    "filtered_df = new_df[~new_df['hf_type'].isin(['Prison', 'Teaching Hospital'])]\n",
    "new_df = filtered_df\n",
    "new_df.shape[0]"
   ]
  },
  {
   "cell_type": "markdown",
   "metadata": {},
   "source": [
    "`7.1 Drop Butare CHC`"
   ]
  },
  {
   "cell_type": "code",
   "execution_count": 118,
   "metadata": {},
   "outputs": [],
   "source": [
    "new_df = new_df.loc[new_df['hf_name'] != \"Butare Chu Hnr (huye)\"]\n",
    "new_df = new_df.loc[new_df['hf_name'] != \"kanombe RH\"]\n"
   ]
  },
  {
   "cell_type": "markdown",
   "metadata": {},
   "source": [
    "`7.2 Set Gwinkavu DH` as a Hospital"
   ]
  },
  {
   "cell_type": "code",
   "execution_count": 119,
   "metadata": {},
   "outputs": [],
   "source": [
    "new_df.loc[new_df['hf_name'] == 'gwinkwavu DH', 'hf_type'] = 'Hospital (DH,PH,RH)'\n"
   ]
  },
  {
   "cell_type": "markdown",
   "metadata": {},
   "source": [
    "7.3 Set `Kiziguro DH` to `Hospital`"
   ]
  },
  {
   "cell_type": "code",
   "execution_count": 120,
   "metadata": {},
   "outputs": [],
   "source": [
    "new_df.loc[:, 'hf_name'] = new_df['hf_name'].str.lower()"
   ]
  },
  {
   "cell_type": "code",
   "execution_count": 121,
   "metadata": {},
   "outputs": [],
   "source": [
    "new_df.loc[new_df['hf_name'] == 'kiziguro dh', 'hf_type'] = 'Hospital (DH,PH,RH)'"
   ]
  },
  {
   "cell_type": "markdown",
   "metadata": {},
   "source": [
    "`8. Interchange mistakened Hospitals by actual health centers`"
   ]
  },
  {
   "cell_type": "code",
   "execution_count": 122,
   "metadata": {},
   "outputs": [
    {
     "data": {
      "text/plain": [
       "(24349, 13)"
      ]
     },
     "execution_count": 122,
     "metadata": {},
     "output_type": "execute_result"
    }
   ],
   "source": [
    "new_df.loc[(new_df['hf_tb_type'] == 'CT') & (new_df['hf_type'] == 'Hospital (DH,PH,RH)'), 'hf_type'] = 'Health Center'\n",
    "new_df.shape"
   ]
  },
  {
   "cell_type": "markdown",
   "metadata": {},
   "source": [
    "#### **Feature Engineering**"
   ]
  },
  {
   "cell_type": "code",
   "execution_count": 123,
   "metadata": {},
   "outputs": [],
   "source": [
    "# gen_df = pd.read_csv(\"../_data/tb-rsqa_GXP.csv\")\n",
    "# gen_df.rename({ \"ddd\": \"hf_type\" }, axis=1, inplace=True)\n",
    "# gen_df.loc[:, 'hf_type'] = gen_df['hf_type'].str.lower()\n",
    "# gen_df.loc[:, 'Genexpert.site'] = gen_df['Genexpert.site'].str.lower()\n",
    "new_df.loc[:, 'hf_type'] = new_df['hf_type'].str.lower()"
   ]
  },
  {
   "cell_type": "code",
   "execution_count": 124,
   "metadata": {},
   "outputs": [
    {
     "data": {
      "text/plain": [
       "array(['health center', 'hospital (dh,ph,rh)'], dtype=object)"
      ]
     },
     "execution_count": 124,
     "metadata": {},
     "output_type": "execute_result"
    }
   ],
   "source": [
    "new_df.hf_type.unique()"
   ]
  },
  {
   "cell_type": "code",
   "execution_count": 125,
   "metadata": {},
   "outputs": [],
   "source": [
    "# # Create a set of tuples with the site name and hf_type from gen_df for faster lookup\n",
    "# genexpert_sites = set(zip(gen_df['Genexpert.site'], gen_df['hf_type']))\n",
    "\n",
    "# # Create a function to check if a facility exists in gen_df with the same hf_type\n",
    "# def check_facility(row):\n",
    "#     if (row['hf_name'], row['hf_type']) in genexpert_sites:\n",
    "#         return 'yes'\n",
    "#     else:\n",
    "#         return 'no'\n",
    "\n",
    "# # Apply the function to create the new column\n",
    "# new_df['genexpert_or_microscopy'] = new_df.apply(check_facility, axis=1)\n",
    "# new_df.loc[new_df['hf_type'] == 'hospital (dh,ph,rh)', 'genexpert_or_microscopy'] = 'yes'"
   ]
  },
  {
   "cell_type": "code",
   "execution_count": 126,
   "metadata": {},
   "outputs": [
    {
     "data": {
      "text/plain": [
       "genexpert_site\n",
       "NO     17257\n",
       "YES     7092\n",
       "Name: count, dtype: int64"
      ]
     },
     "execution_count": 126,
     "metadata": {},
     "output_type": "execute_result"
    }
   ],
   "source": [
    "new_df['genexpert_site'].value_counts()"
   ]
  },
  {
   "cell_type": "code",
   "execution_count": 127,
   "metadata": {},
   "outputs": [],
   "source": [
    "# gen_df.columns"
   ]
  },
  {
   "cell_type": "code",
   "execution_count": 128,
   "metadata": {},
   "outputs": [],
   "source": [
    "# gen_df.iloc[1][0]"
   ]
  },
  {
   "cell_type": "code",
   "execution_count": 129,
   "metadata": {},
   "outputs": [],
   "source": [
    "# # Get all unique health facility names from gen_df that you want to check\n",
    "# hf_names_to_check = gen_df.iloc[:, 0].unique()\n",
    "\n",
    "# # Filter the new_df dataframe in one operation\n",
    "# filtered_facilities = new_df[\n",
    "#     (new_df['hf_name'].isin(hf_names_to_check)) &\n",
    "#     (new_df['hf_type'] == \"health center\") &\n",
    "#     (new_df['hf_tb_type'] == \"CT\")\n",
    "# ]['hf_name'].unique()\n",
    "\n",
    "# print(filtered_facilities)"
   ]
  },
  {
   "cell_type": "code",
   "execution_count": 130,
   "metadata": {},
   "outputs": [],
   "source": [
    "new_df.loc[new_df['hf_name'] == 'nyamirama cs', 'hf_tb_type'] = 'CDT'\n",
    "new_df.loc[new_df['hf_name'] == 'byahi (rubavu) cs', 'hf_tb_type'] = 'CDT'"
   ]
  },
  {
   "cell_type": "markdown",
   "metadata": {},
   "source": [
    "### **Validation**"
   ]
  },
  {
   "cell_type": "code",
   "execution_count": 131,
   "metadata": {},
   "outputs": [
    {
     "name": "stdout",
     "output_type": "stream",
     "text": [
      "No. duplicates:  0\n",
      "No. missing values:  province             0\n",
      "district             0\n",
      "hf_tb_type           0\n",
      "hf_name              0\n",
      "hf_type              0\n",
      "genexpert_site       0\n",
      "fy                   0\n",
      "summary_group        0\n",
      "no                   0\n",
      "normes            9283\n",
      "item_name            0\n",
      "num               4459\n",
      "den               2127\n",
      "dtype: int64\n"
     ]
    }
   ],
   "source": [
    "duplicates = new_df[new_df.duplicated()]\n",
    "print(\"No. duplicates: \", duplicates.shape[0])\n",
    "print(\"No. missing values: \", new_df.isnull().sum())"
   ]
  },
  {
   "cell_type": "code",
   "execution_count": 132,
   "metadata": {},
   "outputs": [
    {
     "data": {
      "text/plain": [
       "(24349, 13)"
      ]
     },
     "execution_count": 132,
     "metadata": {},
     "output_type": "execute_result"
    }
   ],
   "source": [
    "new_df.shape"
   ]
  },
  {
   "cell_type": "code",
   "execution_count": 133,
   "metadata": {},
   "outputs": [
    {
     "ename": "SyntaxError",
     "evalue": "invalid syntax (2745754519.py, line 1)",
     "output_type": "error",
     "traceback": [
      "\u001b[1;36m  Cell \u001b[1;32mIn[133], line 1\u001b[1;36m\u001b[0m\n\u001b[1;33m    stop here!\u001b[0m\n\u001b[1;37m         ^\u001b[0m\n\u001b[1;31mSyntaxError\u001b[0m\u001b[1;31m:\u001b[0m invalid syntax\n"
     ]
    }
   ],
   "source": [
    "stop here!"
   ]
  },
  {
   "cell_type": "code",
   "execution_count": null,
   "metadata": {},
   "outputs": [],
   "source": [
    "new_df.to_csv(\"../_data/tb-rsqa-cleaned.csv\", index=False)"
   ]
  },
  {
   "cell_type": "code",
   "execution_count": null,
   "metadata": {},
   "outputs": [],
   "source": []
  },
  {
   "cell_type": "markdown",
   "metadata": {},
   "source": [
    "#### **Descriptive Analysis**"
   ]
  },
  {
   "cell_type": "markdown",
   "metadata": {},
   "source": [
    "Total number of health facitilities"
   ]
  },
  {
   "cell_type": "code",
   "execution_count": null,
   "metadata": {},
   "outputs": [
    {
     "data": {
      "text/plain": [
       "(231,)"
      ]
     },
     "execution_count": 1785,
     "metadata": {},
     "output_type": "execute_result"
    }
   ],
   "source": [
    "new_df['hf_name'].unique().shape"
   ]
  },
  {
   "cell_type": "markdown",
   "metadata": {},
   "source": [
    "`Overall Score`"
   ]
  },
  {
   "cell_type": "code",
   "execution_count": null,
   "metadata": {},
   "outputs": [
    {
     "data": {
      "text/plain": [
       "64.87338352364829"
      ]
     },
     "execution_count": 1786,
     "metadata": {},
     "output_type": "execute_result"
    }
   ],
   "source": [
    "overall_score = (new_df[\"num\"].sum() / new_df[\"den\"].sum()) * 100\n",
    "overall_score\n"
   ]
  },
  {
   "cell_type": "markdown",
   "metadata": {},
   "source": [
    "`Overall Score by health facility`"
   ]
  },
  {
   "cell_type": "code",
   "execution_count": null,
   "metadata": {},
   "outputs": [
    {
     "data": {
      "text/plain": [
       "hf_name\n",
       " byimana cs        91.428571\n",
       " gitwe dh          77.224199\n",
       " nyagatare dh      53.667172\n",
       "agahabwa cs        88.786544\n",
       "avega kigali cs    36.454849\n",
       "                     ...    \n",
       "shyira dh          82.781457\n",
       "simbi cs           69.461078\n",
       "tare cs            67.136150\n",
       "tumba cs           66.820276\n",
       "zaza cs            69.902913\n",
       "Length: 231, dtype: float64"
      ]
     },
     "execution_count": 1787,
     "metadata": {},
     "output_type": "execute_result"
    }
   ],
   "source": [
    "hf_scores = new_df.groupby(\"hf_name\").apply(lambda x: (x[\"num\"].sum() / x[\"den\"].sum()) * 100)\n",
    "hf_scores"
   ]
  },
  {
   "cell_type": "markdown",
   "metadata": {},
   "source": [
    "convert to hf_scores to a dataframe"
   ]
  },
  {
   "cell_type": "code",
   "execution_count": null,
   "metadata": {},
   "outputs": [
    {
     "data": {
      "text/plain": [
       "hf_name\n",
       " byimana cs        91.428571\n",
       " gitwe dh          77.224199\n",
       " nyagatare dh      53.667172\n",
       "agahabwa cs        88.786544\n",
       "avega kigali cs    36.454849\n",
       "dtype: float64"
      ]
     },
     "execution_count": 1788,
     "metadata": {},
     "output_type": "execute_result"
    }
   ],
   "source": [
    "hf_scores_df = hf_scores.reset_index(name=\"overall_score\")\n",
    "hf_scores.head()"
   ]
  },
  {
   "cell_type": "markdown",
   "metadata": {},
   "source": [
    "### **Data visualization**"
   ]
  },
  {
   "cell_type": "markdown",
   "metadata": {},
   "source": [
    "`The Top 10 Highest Scoring Health Facilities`"
   ]
  },
  {
   "cell_type": "code",
   "execution_count": null,
   "metadata": {},
   "outputs": [],
   "source": [
    "top_10_highest = hf_scores_df.sort_values(by=\"overall_score\", ascending=False).head(10)"
   ]
  },
  {
   "cell_type": "code",
   "execution_count": null,
   "metadata": {},
   "outputs": [
    {
     "data": {
      "image/png": "[encoded data removed]",
      "text/plain": [
       "<Figure size 1200x600 with 1 Axes>"
      ]
     },
     "metadata": {},
     "output_type": "display_data"
    }
   ],
   "source": [
    "plt.figure(figsize=(12, 6))\n",
    "sns.barplot(y=\"hf_name\", x=\"overall_score\", data=top_10_highest, palette=\"Blues\")\n",
    "plt.title(\"Top 10 Health Facilities with the Highest Scores\")\n",
    "plt.xlabel(\"Overall Score (%)\")\n",
    "plt.ylabel(\"Health Facility Name\")\n",
    "plt.tight_layout()\n",
    "plt.show()"
   ]
  },
  {
   "cell_type": "code",
   "execution_count": null,
   "metadata": {},
   "outputs": [],
   "source": []
  },
  {
   "cell_type": "markdown",
   "metadata": {},
   "source": [
    "`The Top 10 Lowest Scoring Health Facilities`"
   ]
  },
  {
   "cell_type": "code",
   "execution_count": null,
   "metadata": {},
   "outputs": [],
   "source": [
    "top_10_lowest = hf_scores_df.sort_values(by=\"overall_score\", ascending=True).head(10)"
   ]
  },
  {
   "cell_type": "code",
   "execution_count": null,
   "metadata": {},
   "outputs": [
    {
     "data": {
      "image/png": "[encoded data removed]",
      "text/plain": [
       "<Figure size 1200x600 with 1 Axes>"
      ]
     },
     "metadata": {},
     "output_type": "display_data"
    }
   ],
   "source": [
    "plt.figure(figsize=(12, 6))\n",
    "sns.barplot(x=\"overall_score\", y=\"hf_name\", data=top_10_lowest, palette=\"OrRd\")\n",
    "plt.title(\"Top 10 Health Facilities with the Lowest Scores\")\n",
    "plt.xlabel(\"Overall Score (%)\")\n",
    "plt.ylabel(\"Health Facility Name\")\n",
    "plt.tight_layout()\n",
    "plt.show()"
   ]
  },
  {
   "cell_type": "code",
   "execution_count": null,
   "metadata": {},
   "outputs": [],
   "source": []
  },
  {
   "cell_type": "markdown",
   "metadata": {},
   "source": [
    "`Distribution of Health Facility Type`"
   ]
  },
  {
   "cell_type": "code",
   "execution_count": null,
   "metadata": {},
   "outputs": [
    {
     "data": {
      "text/html": [
       "<div>\n",
       "<style scoped>\n",
       "    .dataframe tbody tr th:only-of-type {\n",
       "        vertical-align: middle;\n",
       "    }\n",
       "\n",
       "    .dataframe tbody tr th {\n",
       "        vertical-align: top;\n",
       "    }\n",
       "\n",
       "    .dataframe thead th {\n",
       "        text-align: right;\n",
       "    }\n",
       "</style>\n",
       "<table border=\"1\" class=\"dataframe\">\n",
       "  <thead>\n",
       "    <tr style=\"text-align: right;\">\n",
       "      <th></th>\n",
       "      <th>hf_type</th>\n",
       "      <th>overall_score</th>\n",
       "    </tr>\n",
       "  </thead>\n",
       "  <tbody>\n",
       "    <tr>\n",
       "      <th>0</th>\n",
       "      <td>health center</td>\n",
       "      <td>60.843900</td>\n",
       "    </tr>\n",
       "    <tr>\n",
       "      <th>1</th>\n",
       "      <td>hospital (dh,ph,rh)</td>\n",
       "      <td>74.782717</td>\n",
       "    </tr>\n",
       "  </tbody>\n",
       "</table>\n",
       "</div>"
      ],
      "text/plain": [
       "               hf_type  overall_score\n",
       "0        health center      60.843900\n",
       "1  hospital (dh,ph,rh)      74.782717"
      ]
     },
     "execution_count": 1793,
     "metadata": {},
     "output_type": "execute_result"
    }
   ],
   "source": [
    "ht_scores = new_df.groupby('hf_type').apply(lambda x: (x[\"num\"].sum() / x[\"den\"].sum()) * 100)\n",
    "ht_scores_df = ht_scores.reset_index(name=\"overall_score\")\n",
    "ht_scores_df.head()"
   ]
  },
  {
   "cell_type": "code",
   "execution_count": null,
   "metadata": {},
   "outputs": [
    {
     "data": {
      "image/png": "[encoded data removed]",
      "text/plain": [
       "<Figure size 1200x600 with 1 Axes>"
      ]
     },
     "metadata": {},
     "output_type": "display_data"
    }
   ],
   "source": [
    "plt.figure(figsize=(12, 6))\n",
    "sns.barplot(x=\"overall_score\", y=\"hf_type\", data=ht_scores_df, palette=\"viridis\")\n",
    "plt.title(\"Health Facility Type distribution\")\n",
    "plt.xlabel(\"Overall Score (%)\")\n",
    "plt.ylabel(\"Health Facility Name\")\n",
    "plt.tight_layout()\n",
    "plt.show()"
   ]
  },
  {
   "cell_type": "code",
   "execution_count": null,
   "metadata": {},
   "outputs": [],
   "source": []
  },
  {
   "cell_type": "markdown",
   "metadata": {},
   "source": [
    "`Overall Trend`"
   ]
  },
  {
   "cell_type": "code",
   "execution_count": null,
   "metadata": {},
   "outputs": [
    {
     "data": {
      "text/plain": [
       "array([2020, 2021, 2022, 2023])"
      ]
     },
     "execution_count": 1795,
     "metadata": {},
     "output_type": "execute_result"
    }
   ],
   "source": [
    "new_df['fy_year'] = new_df['fy'].str.extract(r'(\\d{4})').astype(int)\n",
    "new_df['fy_year'].unique()"
   ]
  },
  {
   "cell_type": "code",
   "execution_count": null,
   "metadata": {},
   "outputs": [
    {
     "data": {
      "image/png": "[encoded data removed]",
      "text/plain": [
       "<Figure size 1200x600 with 1 Axes>"
      ]
     },
     "metadata": {},
     "output_type": "display_data"
    }
   ],
   "source": [
    "fy_scores = new_df.groupby('fy_year').apply(lambda x: (x[\"num\"].sum() / x[\"den\"].sum()) * 100).reset_index(name=\"overall_score\")\n",
    "\n",
    "# Plot the trend of overall scores by fiscal year\n",
    "plt.figure(figsize=(12, 6))\n",
    "sns.lineplot(x='fy_year', y='overall_score', data=fy_scores, marker='o', color='g')\n",
    "plt.ylim(0.0, 100.0)\n",
    "plt.title(\"Trend of Overall Score by Fiscal Year\")\n",
    "plt.xlabel(\"Fiscal Year\")\n",
    "plt.ylabel(\"Overall Score (%)\")\n",
    "plt.xticks(fy_scores['fy_year'], rotation=45)\n",
    "plt.tight_layout()\n",
    "plt.show()\n"
   ]
  },
  {
   "cell_type": "markdown",
   "metadata": {},
   "source": [
    "### **Day II**"
   ]
  },
  {
   "cell_type": "markdown",
   "metadata": {},
   "source": [
    "#### Grouping by unique `summary_group`"
   ]
  },
  {
   "cell_type": "markdown",
   "metadata": {},
   "source": [
    "grouping"
   ]
  },
  {
   "cell_type": "code",
   "execution_count": null,
   "metadata": {},
   "outputs": [],
   "source": [
    "summary_item_scores = (\n",
    "    new_df.groupby(\n",
    "        ['summary_group', 'item_name', 'hf_name', 'hf_type', 'fy']\n",
    "    )\n",
    "    .agg({'num': 'sum', 'den': 'sum'})\n",
    "    .reset_index()\n",
    ")"
   ]
  },
  {
   "cell_type": "code",
   "execution_count": null,
   "metadata": {},
   "outputs": [
    {
     "data": {
      "text/html": [
       "<div>\n",
       "<style scoped>\n",
       "    .dataframe tbody tr th:only-of-type {\n",
       "        vertical-align: middle;\n",
       "    }\n",
       "\n",
       "    .dataframe tbody tr th {\n",
       "        vertical-align: top;\n",
       "    }\n",
       "\n",
       "    .dataframe thead th {\n",
       "        text-align: right;\n",
       "    }\n",
       "</style>\n",
       "<table border=\"1\" class=\"dataframe\">\n",
       "  <thead>\n",
       "    <tr style=\"text-align: right;\">\n",
       "      <th></th>\n",
       "      <th>summary_group</th>\n",
       "      <th>item_name</th>\n",
       "      <th>hf_name</th>\n",
       "      <th>hf_type</th>\n",
       "      <th>fy</th>\n",
       "      <th>num</th>\n",
       "      <th>den</th>\n",
       "    </tr>\n",
       "  </thead>\n",
       "  <tbody>\n",
       "    <tr>\n",
       "      <th>0</th>\n",
       "      <td>Active drug safety monitoring and management (...</td>\n",
       "      <td>Pour les cas TB qui ont eu des effets secondai...</td>\n",
       "      <td>byimana cs</td>\n",
       "      <td>health center</td>\n",
       "      <td>2020-2021</td>\n",
       "      <td>0.0</td>\n",
       "      <td>0.0</td>\n",
       "    </tr>\n",
       "    <tr>\n",
       "      <th>1</th>\n",
       "      <td>Active drug safety monitoring and management (...</td>\n",
       "      <td>Pour les cas TB qui ont eu des effets secondai...</td>\n",
       "      <td>gitwe dh</td>\n",
       "      <td>hospital (dh,ph,rh)</td>\n",
       "      <td>2020-2021</td>\n",
       "      <td>0.0</td>\n",
       "      <td>0.0</td>\n",
       "    </tr>\n",
       "    <tr>\n",
       "      <th>2</th>\n",
       "      <td>Active drug safety monitoring and management (...</td>\n",
       "      <td>Pour les cas TB qui ont eu des effets secondai...</td>\n",
       "      <td>nyagatare dh</td>\n",
       "      <td>health center</td>\n",
       "      <td>2020-2021</td>\n",
       "      <td>0.0</td>\n",
       "      <td>0.0</td>\n",
       "    </tr>\n",
       "    <tr>\n",
       "      <th>3</th>\n",
       "      <td>Active drug safety monitoring and management (...</td>\n",
       "      <td>Pour les cas TB qui ont eu des effets secondai...</td>\n",
       "      <td>agahabwa cs</td>\n",
       "      <td>health center</td>\n",
       "      <td>2020-2021</td>\n",
       "      <td>0.0</td>\n",
       "      <td>0.0</td>\n",
       "    </tr>\n",
       "    <tr>\n",
       "      <th>4</th>\n",
       "      <td>Active drug safety monitoring and management (...</td>\n",
       "      <td>Pour les cas TB qui ont eu des effets secondai...</td>\n",
       "      <td>agahabwa cs</td>\n",
       "      <td>health center</td>\n",
       "      <td>2021-2022</td>\n",
       "      <td>0.0</td>\n",
       "      <td>0.0</td>\n",
       "    </tr>\n",
       "  </tbody>\n",
       "</table>\n",
       "</div>"
      ],
      "text/plain": [
       "                                       summary_group  \\\n",
       "0  Active drug safety monitoring and management (...   \n",
       "1  Active drug safety monitoring and management (...   \n",
       "2  Active drug safety monitoring and management (...   \n",
       "3  Active drug safety monitoring and management (...   \n",
       "4  Active drug safety monitoring and management (...   \n",
       "\n",
       "                                           item_name        hf_name  \\\n",
       "0  Pour les cas TB qui ont eu des effets secondai...     byimana cs   \n",
       "1  Pour les cas TB qui ont eu des effets secondai...       gitwe dh   \n",
       "2  Pour les cas TB qui ont eu des effets secondai...   nyagatare dh   \n",
       "3  Pour les cas TB qui ont eu des effets secondai...    agahabwa cs   \n",
       "4  Pour les cas TB qui ont eu des effets secondai...    agahabwa cs   \n",
       "\n",
       "               hf_type         fy  num  den  \n",
       "0        health center  2020-2021  0.0  0.0  \n",
       "1  hospital (dh,ph,rh)  2020-2021  0.0  0.0  \n",
       "2        health center  2020-2021  0.0  0.0  \n",
       "3        health center  2020-2021  0.0  0.0  \n",
       "4        health center  2021-2022  0.0  0.0  "
      ]
     },
     "execution_count": 1798,
     "metadata": {},
     "output_type": "execute_result"
    }
   ],
   "source": [
    "summary_item_scores.head()"
   ]
  },
  {
   "cell_type": "markdown",
   "metadata": {},
   "source": [
    "`average score`"
   ]
  },
  {
   "cell_type": "code",
   "execution_count": null,
   "metadata": {},
   "outputs": [],
   "source": [
    "# Compute the average score as (sum of num / sum of den) * 100\n",
    "summary_item_scores['avg_score'] = (summary_item_scores['num'] / summary_item_scores['den']) * 100"
   ]
  },
  {
   "cell_type": "markdown",
   "metadata": {},
   "source": [
    "`Screening, Diagnosis, and Treatment`"
   ]
  },
  {
   "cell_type": "code",
   "execution_count": null,
   "metadata": {},
   "outputs": [],
   "source": [
    "# Define mapping of summary_group to section\n",
    "section_mapping = {\n",
    "    \"Is active case finding conducted in TB high risk groups?[Questions 2, 8 and 9]\": \"screening\",\n",
    "    \"Are TB diagnostics continuously functional (microscopy and Expert) and their results available timely (microscopy, expert and culture)?[Questions 3, 4, 5, 6 and 7]\": \"diagnosis\",\n",
    "    \"Are TB patients early initiated on TB treatment and on ART (if indicated), and their bacteriological control performed according to guidelines?[Questions 16, 17, 18 and 19]\": \"treatment\",\n",
    "    \"Does the BMI monitored for TB Patients and nutritional support provided to the eligible patients?[Questions New_70 and New_71]\": \"treatment\"\n",
    "}\n",
    "\n",
    "summary_item_scores[\"section\"] = summary_item_scores[\"summary_group\"].map(section_mapping)"
   ]
  },
  {
   "cell_type": "code",
   "execution_count": null,
   "metadata": {},
   "outputs": [
    {
     "data": {
      "text/html": [
       "<div>\n",
       "<style scoped>\n",
       "    .dataframe tbody tr th:only-of-type {\n",
       "        vertical-align: middle;\n",
       "    }\n",
       "\n",
       "    .dataframe tbody tr th {\n",
       "        vertical-align: top;\n",
       "    }\n",
       "\n",
       "    .dataframe thead th {\n",
       "        text-align: right;\n",
       "    }\n",
       "</style>\n",
       "<table border=\"1\" class=\"dataframe\">\n",
       "  <thead>\n",
       "    <tr style=\"text-align: right;\">\n",
       "      <th></th>\n",
       "      <th>summary_group</th>\n",
       "      <th>item_name</th>\n",
       "      <th>hf_name</th>\n",
       "      <th>hf_type</th>\n",
       "      <th>fy</th>\n",
       "      <th>num</th>\n",
       "      <th>den</th>\n",
       "      <th>avg_score</th>\n",
       "      <th>section</th>\n",
       "    </tr>\n",
       "  </thead>\n",
       "  <tbody>\n",
       "    <tr>\n",
       "      <th>0</th>\n",
       "      <td>Active drug safety monitoring and management (...</td>\n",
       "      <td>Pour les cas TB qui ont eu des effets secondai...</td>\n",
       "      <td>byimana cs</td>\n",
       "      <td>health center</td>\n",
       "      <td>2020-2021</td>\n",
       "      <td>0.0</td>\n",
       "      <td>0.0</td>\n",
       "      <td>NaN</td>\n",
       "      <td>NaN</td>\n",
       "    </tr>\n",
       "    <tr>\n",
       "      <th>1</th>\n",
       "      <td>Active drug safety monitoring and management (...</td>\n",
       "      <td>Pour les cas TB qui ont eu des effets secondai...</td>\n",
       "      <td>gitwe dh</td>\n",
       "      <td>hospital (dh,ph,rh)</td>\n",
       "      <td>2020-2021</td>\n",
       "      <td>0.0</td>\n",
       "      <td>0.0</td>\n",
       "      <td>NaN</td>\n",
       "      <td>NaN</td>\n",
       "    </tr>\n",
       "    <tr>\n",
       "      <th>2</th>\n",
       "      <td>Active drug safety monitoring and management (...</td>\n",
       "      <td>Pour les cas TB qui ont eu des effets secondai...</td>\n",
       "      <td>nyagatare dh</td>\n",
       "      <td>health center</td>\n",
       "      <td>2020-2021</td>\n",
       "      <td>0.0</td>\n",
       "      <td>0.0</td>\n",
       "      <td>NaN</td>\n",
       "      <td>NaN</td>\n",
       "    </tr>\n",
       "    <tr>\n",
       "      <th>3</th>\n",
       "      <td>Active drug safety monitoring and management (...</td>\n",
       "      <td>Pour les cas TB qui ont eu des effets secondai...</td>\n",
       "      <td>agahabwa cs</td>\n",
       "      <td>health center</td>\n",
       "      <td>2020-2021</td>\n",
       "      <td>0.0</td>\n",
       "      <td>0.0</td>\n",
       "      <td>NaN</td>\n",
       "      <td>NaN</td>\n",
       "    </tr>\n",
       "    <tr>\n",
       "      <th>4</th>\n",
       "      <td>Active drug safety monitoring and management (...</td>\n",
       "      <td>Pour les cas TB qui ont eu des effets secondai...</td>\n",
       "      <td>agahabwa cs</td>\n",
       "      <td>health center</td>\n",
       "      <td>2021-2022</td>\n",
       "      <td>0.0</td>\n",
       "      <td>0.0</td>\n",
       "      <td>NaN</td>\n",
       "      <td>NaN</td>\n",
       "    </tr>\n",
       "  </tbody>\n",
       "</table>\n",
       "</div>"
      ],
      "text/plain": [
       "                                       summary_group  \\\n",
       "0  Active drug safety monitoring and management (...   \n",
       "1  Active drug safety monitoring and management (...   \n",
       "2  Active drug safety monitoring and management (...   \n",
       "3  Active drug safety monitoring and management (...   \n",
       "4  Active drug safety monitoring and management (...   \n",
       "\n",
       "                                           item_name        hf_name  \\\n",
       "0  Pour les cas TB qui ont eu des effets secondai...     byimana cs   \n",
       "1  Pour les cas TB qui ont eu des effets secondai...       gitwe dh   \n",
       "2  Pour les cas TB qui ont eu des effets secondai...   nyagatare dh   \n",
       "3  Pour les cas TB qui ont eu des effets secondai...    agahabwa cs   \n",
       "4  Pour les cas TB qui ont eu des effets secondai...    agahabwa cs   \n",
       "\n",
       "               hf_type         fy  num  den  avg_score section  \n",
       "0        health center  2020-2021  0.0  0.0        NaN     NaN  \n",
       "1  hospital (dh,ph,rh)  2020-2021  0.0  0.0        NaN     NaN  \n",
       "2        health center  2020-2021  0.0  0.0        NaN     NaN  \n",
       "3        health center  2020-2021  0.0  0.0        NaN     NaN  \n",
       "4        health center  2021-2022  0.0  0.0        NaN     NaN  "
      ]
     },
     "execution_count": 1801,
     "metadata": {},
     "output_type": "execute_result"
    }
   ],
   "source": [
    "summary_item_scores.head()"
   ]
  },
  {
   "cell_type": "markdown",
   "metadata": {},
   "source": [
    "` Filter rows where section is either 'screening', 'treatment', or 'diagnostic'`"
   ]
  },
  {
   "cell_type": "code",
   "execution_count": null,
   "metadata": {},
   "outputs": [
    {
     "data": {
      "text/html": [
       "<div>\n",
       "<style scoped>\n",
       "    .dataframe tbody tr th:only-of-type {\n",
       "        vertical-align: middle;\n",
       "    }\n",
       "\n",
       "    .dataframe tbody tr th {\n",
       "        vertical-align: top;\n",
       "    }\n",
       "\n",
       "    .dataframe thead th {\n",
       "        text-align: right;\n",
       "    }\n",
       "</style>\n",
       "<table border=\"1\" class=\"dataframe\">\n",
       "  <thead>\n",
       "    <tr style=\"text-align: right;\">\n",
       "      <th></th>\n",
       "      <th>summary_group</th>\n",
       "      <th>item_name</th>\n",
       "      <th>hf_name</th>\n",
       "      <th>hf_type</th>\n",
       "      <th>fy</th>\n",
       "      <th>num</th>\n",
       "      <th>den</th>\n",
       "      <th>avg_score</th>\n",
       "      <th>section</th>\n",
       "    </tr>\n",
       "  </thead>\n",
       "  <tbody>\n",
       "    <tr>\n",
       "      <th>1003</th>\n",
       "      <td>Are TB diagnostics continuously functional (mi...</td>\n",
       "      <td>Durant le mois passé, combien de jours le micr...</td>\n",
       "      <td>byimana cs</td>\n",
       "      <td>health center</td>\n",
       "      <td>2020-2021</td>\n",
       "      <td>30.0</td>\n",
       "      <td>30.0</td>\n",
       "      <td>100.0</td>\n",
       "      <td>diagnosis</td>\n",
       "    </tr>\n",
       "    <tr>\n",
       "      <th>1004</th>\n",
       "      <td>Are TB diagnostics continuously functional (mi...</td>\n",
       "      <td>Durant le mois passé, combien de jours le micr...</td>\n",
       "      <td>gitwe dh</td>\n",
       "      <td>hospital (dh,ph,rh)</td>\n",
       "      <td>2020-2021</td>\n",
       "      <td>30.0</td>\n",
       "      <td>30.0</td>\n",
       "      <td>100.0</td>\n",
       "      <td>diagnosis</td>\n",
       "    </tr>\n",
       "    <tr>\n",
       "      <th>1005</th>\n",
       "      <td>Are TB diagnostics continuously functional (mi...</td>\n",
       "      <td>Durant le mois passé, combien de jours le micr...</td>\n",
       "      <td>nyagatare dh</td>\n",
       "      <td>health center</td>\n",
       "      <td>2020-2021</td>\n",
       "      <td>30.0</td>\n",
       "      <td>30.0</td>\n",
       "      <td>100.0</td>\n",
       "      <td>diagnosis</td>\n",
       "    </tr>\n",
       "    <tr>\n",
       "      <th>1006</th>\n",
       "      <td>Are TB diagnostics continuously functional (mi...</td>\n",
       "      <td>Durant le mois passé, combien de jours le micr...</td>\n",
       "      <td>agahabwa cs</td>\n",
       "      <td>health center</td>\n",
       "      <td>2020-2021</td>\n",
       "      <td>0.0</td>\n",
       "      <td>30.0</td>\n",
       "      <td>0.0</td>\n",
       "      <td>diagnosis</td>\n",
       "    </tr>\n",
       "    <tr>\n",
       "      <th>1007</th>\n",
       "      <td>Are TB diagnostics continuously functional (mi...</td>\n",
       "      <td>Durant le mois passé, combien de jours le micr...</td>\n",
       "      <td>agahabwa cs</td>\n",
       "      <td>health center</td>\n",
       "      <td>2021-2022</td>\n",
       "      <td>30.0</td>\n",
       "      <td>30.0</td>\n",
       "      <td>100.0</td>\n",
       "      <td>diagnosis</td>\n",
       "    </tr>\n",
       "    <tr>\n",
       "      <th>...</th>\n",
       "      <td>...</td>\n",
       "      <td>...</td>\n",
       "      <td>...</td>\n",
       "      <td>...</td>\n",
       "      <td>...</td>\n",
       "      <td>...</td>\n",
       "      <td>...</td>\n",
       "      <td>...</td>\n",
       "      <td>...</td>\n",
       "    </tr>\n",
       "    <tr>\n",
       "      <th>19159</th>\n",
       "      <td>Is active case finding conducted in TB high ri...</td>\n",
       "      <td>Verifier les enfants de moins de 5 ans TB cont...</td>\n",
       "      <td>simbi cs</td>\n",
       "      <td>health center</td>\n",
       "      <td>2020-2021</td>\n",
       "      <td>5.0</td>\n",
       "      <td>5.0</td>\n",
       "      <td>100.0</td>\n",
       "      <td>screening</td>\n",
       "    </tr>\n",
       "    <tr>\n",
       "      <th>19160</th>\n",
       "      <td>Is active case finding conducted in TB high ri...</td>\n",
       "      <td>Verifier les enfants de moins de 5 ans TB cont...</td>\n",
       "      <td>simbi cs</td>\n",
       "      <td>health center</td>\n",
       "      <td>2021-2022</td>\n",
       "      <td>5.0</td>\n",
       "      <td>5.0</td>\n",
       "      <td>100.0</td>\n",
       "      <td>screening</td>\n",
       "    </tr>\n",
       "    <tr>\n",
       "      <th>19161</th>\n",
       "      <td>Is active case finding conducted in TB high ri...</td>\n",
       "      <td>Verifier les enfants de moins de 5 ans TB cont...</td>\n",
       "      <td>tare cs</td>\n",
       "      <td>health center</td>\n",
       "      <td>2020-2021</td>\n",
       "      <td>5.0</td>\n",
       "      <td>5.0</td>\n",
       "      <td>100.0</td>\n",
       "      <td>screening</td>\n",
       "    </tr>\n",
       "    <tr>\n",
       "      <th>19162</th>\n",
       "      <td>Is active case finding conducted in TB high ri...</td>\n",
       "      <td>Verifier les enfants de moins de 5 ans TB cont...</td>\n",
       "      <td>tumba cs</td>\n",
       "      <td>health center</td>\n",
       "      <td>2020-2021</td>\n",
       "      <td>2.0</td>\n",
       "      <td>5.0</td>\n",
       "      <td>40.0</td>\n",
       "      <td>screening</td>\n",
       "    </tr>\n",
       "    <tr>\n",
       "      <th>19163</th>\n",
       "      <td>Is active case finding conducted in TB high ri...</td>\n",
       "      <td>Verifier les enfants de moins de 5 ans TB cont...</td>\n",
       "      <td>zaza cs</td>\n",
       "      <td>health center</td>\n",
       "      <td>2023-2024</td>\n",
       "      <td>5.0</td>\n",
       "      <td>5.0</td>\n",
       "      <td>100.0</td>\n",
       "      <td>screening</td>\n",
       "    </tr>\n",
       "  </tbody>\n",
       "</table>\n",
       "<p>6680 rows × 9 columns</p>\n",
       "</div>"
      ],
      "text/plain": [
       "                                           summary_group  \\\n",
       "1003   Are TB diagnostics continuously functional (mi...   \n",
       "1004   Are TB diagnostics continuously functional (mi...   \n",
       "1005   Are TB diagnostics continuously functional (mi...   \n",
       "1006   Are TB diagnostics continuously functional (mi...   \n",
       "1007   Are TB diagnostics continuously functional (mi...   \n",
       "...                                                  ...   \n",
       "19159  Is active case finding conducted in TB high ri...   \n",
       "19160  Is active case finding conducted in TB high ri...   \n",
       "19161  Is active case finding conducted in TB high ri...   \n",
       "19162  Is active case finding conducted in TB high ri...   \n",
       "19163  Is active case finding conducted in TB high ri...   \n",
       "\n",
       "                                               item_name        hf_name  \\\n",
       "1003   Durant le mois passé, combien de jours le micr...     byimana cs   \n",
       "1004   Durant le mois passé, combien de jours le micr...       gitwe dh   \n",
       "1005   Durant le mois passé, combien de jours le micr...   nyagatare dh   \n",
       "1006   Durant le mois passé, combien de jours le micr...    agahabwa cs   \n",
       "1007   Durant le mois passé, combien de jours le micr...    agahabwa cs   \n",
       "...                                                  ...            ...   \n",
       "19159  Verifier les enfants de moins de 5 ans TB cont...       simbi cs   \n",
       "19160  Verifier les enfants de moins de 5 ans TB cont...       simbi cs   \n",
       "19161  Verifier les enfants de moins de 5 ans TB cont...        tare cs   \n",
       "19162  Verifier les enfants de moins de 5 ans TB cont...       tumba cs   \n",
       "19163  Verifier les enfants de moins de 5 ans TB cont...        zaza cs   \n",
       "\n",
       "                   hf_type         fy   num   den  avg_score    section  \n",
       "1003         health center  2020-2021  30.0  30.0      100.0  diagnosis  \n",
       "1004   hospital (dh,ph,rh)  2020-2021  30.0  30.0      100.0  diagnosis  \n",
       "1005         health center  2020-2021  30.0  30.0      100.0  diagnosis  \n",
       "1006         health center  2020-2021   0.0  30.0        0.0  diagnosis  \n",
       "1007         health center  2021-2022  30.0  30.0      100.0  diagnosis  \n",
       "...                    ...        ...   ...   ...        ...        ...  \n",
       "19159        health center  2020-2021   5.0   5.0      100.0  screening  \n",
       "19160        health center  2021-2022   5.0   5.0      100.0  screening  \n",
       "19161        health center  2020-2021   5.0   5.0      100.0  screening  \n",
       "19162        health center  2020-2021   2.0   5.0       40.0  screening  \n",
       "19163        health center  2023-2024   5.0   5.0      100.0  screening  \n",
       "\n",
       "[6680 rows x 9 columns]"
      ]
     },
     "execution_count": 1802,
     "metadata": {},
     "output_type": "execute_result"
    }
   ],
   "source": [
    "# Filter rows where section is either 'screening', 'treatment', or 'diagnostic'\n",
    "filtered_summary = summary_item_scores[summary_item_scores[\"section\"].isin([\"screening\", \"treatment\", \"diagnosis\"])]\n",
    "filtered_summary\n",
    "\n",
    "# Display the filtered DataFrame\n",
    "# filtered_summary.to_csv(\"../output/filtered_summary.csv\", index=False)\n"
   ]
  },
  {
   "cell_type": "markdown",
   "metadata": {},
   "source": [
    "`remove prisoners samples`"
   ]
  },
  {
   "cell_type": "code",
   "execution_count": null,
   "metadata": {},
   "outputs": [],
   "source": [
    "# Define the items to exclude\n",
    "items_to_exclude = [\n",
    "    \"Sur 10 nouveaux prisonniers entrÃ©s au cours de la pÃ©riode evaluÃ©e, combien ont beneficiÃ© du screening TB Ã¡ l'entrÃ©e\",\n",
    "    \"Sur 10 nouveaux prisonniers sortants au cours de la pÃ©riode evaluÃ©e, combien ont beneficiÃ© du screening TB Ã¡ la sortie\"\n",
    "]\n",
    "\n",
    "# Filter out rows where item_name is in items_to_exclude\n",
    "filtered_summary = filtered_summary[~filtered_summary[\"item_name\"].isin(items_to_exclude)]"
   ]
  },
  {
   "cell_type": "code",
   "execution_count": null,
   "metadata": {},
   "outputs": [
    {
     "data": {
      "text/html": [
       "<div>\n",
       "<style scoped>\n",
       "    .dataframe tbody tr th:only-of-type {\n",
       "        vertical-align: middle;\n",
       "    }\n",
       "\n",
       "    .dataframe tbody tr th {\n",
       "        vertical-align: top;\n",
       "    }\n",
       "\n",
       "    .dataframe thead th {\n",
       "        text-align: right;\n",
       "    }\n",
       "</style>\n",
       "<table border=\"1\" class=\"dataframe\">\n",
       "  <thead>\n",
       "    <tr style=\"text-align: right;\">\n",
       "      <th></th>\n",
       "      <th>summary_group</th>\n",
       "      <th>item_name</th>\n",
       "      <th>hf_name</th>\n",
       "      <th>hf_type</th>\n",
       "      <th>fy</th>\n",
       "      <th>num</th>\n",
       "      <th>den</th>\n",
       "      <th>avg_score</th>\n",
       "      <th>section</th>\n",
       "    </tr>\n",
       "  </thead>\n",
       "  <tbody>\n",
       "    <tr>\n",
       "      <th>1003</th>\n",
       "      <td>Are TB diagnostics continuously functional (mi...</td>\n",
       "      <td>Durant le mois passé, combien de jours le micr...</td>\n",
       "      <td>byimana cs</td>\n",
       "      <td>health center</td>\n",
       "      <td>2020-2021</td>\n",
       "      <td>30.0</td>\n",
       "      <td>30.0</td>\n",
       "      <td>100.0</td>\n",
       "      <td>diagnosis</td>\n",
       "    </tr>\n",
       "    <tr>\n",
       "      <th>1004</th>\n",
       "      <td>Are TB diagnostics continuously functional (mi...</td>\n",
       "      <td>Durant le mois passé, combien de jours le micr...</td>\n",
       "      <td>gitwe dh</td>\n",
       "      <td>hospital (dh,ph,rh)</td>\n",
       "      <td>2020-2021</td>\n",
       "      <td>30.0</td>\n",
       "      <td>30.0</td>\n",
       "      <td>100.0</td>\n",
       "      <td>diagnosis</td>\n",
       "    </tr>\n",
       "    <tr>\n",
       "      <th>1005</th>\n",
       "      <td>Are TB diagnostics continuously functional (mi...</td>\n",
       "      <td>Durant le mois passé, combien de jours le micr...</td>\n",
       "      <td>nyagatare dh</td>\n",
       "      <td>health center</td>\n",
       "      <td>2020-2021</td>\n",
       "      <td>30.0</td>\n",
       "      <td>30.0</td>\n",
       "      <td>100.0</td>\n",
       "      <td>diagnosis</td>\n",
       "    </tr>\n",
       "    <tr>\n",
       "      <th>1006</th>\n",
       "      <td>Are TB diagnostics continuously functional (mi...</td>\n",
       "      <td>Durant le mois passé, combien de jours le micr...</td>\n",
       "      <td>agahabwa cs</td>\n",
       "      <td>health center</td>\n",
       "      <td>2020-2021</td>\n",
       "      <td>0.0</td>\n",
       "      <td>30.0</td>\n",
       "      <td>0.0</td>\n",
       "      <td>diagnosis</td>\n",
       "    </tr>\n",
       "    <tr>\n",
       "      <th>1007</th>\n",
       "      <td>Are TB diagnostics continuously functional (mi...</td>\n",
       "      <td>Durant le mois passé, combien de jours le micr...</td>\n",
       "      <td>agahabwa cs</td>\n",
       "      <td>health center</td>\n",
       "      <td>2021-2022</td>\n",
       "      <td>30.0</td>\n",
       "      <td>30.0</td>\n",
       "      <td>100.0</td>\n",
       "      <td>diagnosis</td>\n",
       "    </tr>\n",
       "  </tbody>\n",
       "</table>\n",
       "</div>"
      ],
      "text/plain": [
       "                                          summary_group  \\\n",
       "1003  Are TB diagnostics continuously functional (mi...   \n",
       "1004  Are TB diagnostics continuously functional (mi...   \n",
       "1005  Are TB diagnostics continuously functional (mi...   \n",
       "1006  Are TB diagnostics continuously functional (mi...   \n",
       "1007  Are TB diagnostics continuously functional (mi...   \n",
       "\n",
       "                                              item_name        hf_name  \\\n",
       "1003  Durant le mois passé, combien de jours le micr...     byimana cs   \n",
       "1004  Durant le mois passé, combien de jours le micr...       gitwe dh   \n",
       "1005  Durant le mois passé, combien de jours le micr...   nyagatare dh   \n",
       "1006  Durant le mois passé, combien de jours le micr...    agahabwa cs   \n",
       "1007  Durant le mois passé, combien de jours le micr...    agahabwa cs   \n",
       "\n",
       "                  hf_type         fy   num   den  avg_score    section  \n",
       "1003        health center  2020-2021  30.0  30.0      100.0  diagnosis  \n",
       "1004  hospital (dh,ph,rh)  2020-2021  30.0  30.0      100.0  diagnosis  \n",
       "1005        health center  2020-2021  30.0  30.0      100.0  diagnosis  \n",
       "1006        health center  2020-2021   0.0  30.0        0.0  diagnosis  \n",
       "1007        health center  2021-2022  30.0  30.0      100.0  diagnosis  "
      ]
     },
     "execution_count": 1804,
     "metadata": {},
     "output_type": "execute_result"
    }
   ],
   "source": [
    "filtered_summary.head()"
   ]
  },
  {
   "cell_type": "markdown",
   "metadata": {},
   "source": [
    "`group by HF_type and fy`"
   ]
  },
  {
   "cell_type": "markdown",
   "metadata": {},
   "source": [
    "`group by fiscal year`"
   ]
  },
  {
   "cell_type": "code",
   "execution_count": null,
   "metadata": {},
   "outputs": [
    {
     "data": {
      "text/html": [
       "<div>\n",
       "<style scoped>\n",
       "    .dataframe tbody tr th:only-of-type {\n",
       "        vertical-align: middle;\n",
       "    }\n",
       "\n",
       "    .dataframe tbody tr th {\n",
       "        vertical-align: top;\n",
       "    }\n",
       "\n",
       "    .dataframe thead th {\n",
       "        text-align: right;\n",
       "    }\n",
       "</style>\n",
       "<table border=\"1\" class=\"dataframe\">\n",
       "  <thead>\n",
       "    <tr style=\"text-align: right;\">\n",
       "      <th></th>\n",
       "      <th>fy</th>\n",
       "      <th>hf_type</th>\n",
       "      <th>section</th>\n",
       "      <th>overall_score</th>\n",
       "    </tr>\n",
       "  </thead>\n",
       "  <tbody>\n",
       "    <tr>\n",
       "      <th>0</th>\n",
       "      <td>2020-2021</td>\n",
       "      <td>health center</td>\n",
       "      <td>diagnosis</td>\n",
       "      <td>55.287137</td>\n",
       "    </tr>\n",
       "    <tr>\n",
       "      <th>1</th>\n",
       "      <td>2020-2021</td>\n",
       "      <td>health center</td>\n",
       "      <td>screening</td>\n",
       "      <td>75.106838</td>\n",
       "    </tr>\n",
       "    <tr>\n",
       "      <th>2</th>\n",
       "      <td>2020-2021</td>\n",
       "      <td>health center</td>\n",
       "      <td>treatment</td>\n",
       "      <td>78.466227</td>\n",
       "    </tr>\n",
       "    <tr>\n",
       "      <th>3</th>\n",
       "      <td>2020-2021</td>\n",
       "      <td>hospital (dh,ph,rh)</td>\n",
       "      <td>diagnosis</td>\n",
       "      <td>83.333333</td>\n",
       "    </tr>\n",
       "    <tr>\n",
       "      <th>4</th>\n",
       "      <td>2020-2021</td>\n",
       "      <td>hospital (dh,ph,rh)</td>\n",
       "      <td>screening</td>\n",
       "      <td>60.661765</td>\n",
       "    </tr>\n",
       "    <tr>\n",
       "      <th>5</th>\n",
       "      <td>2020-2021</td>\n",
       "      <td>hospital (dh,ph,rh)</td>\n",
       "      <td>treatment</td>\n",
       "      <td>82.956522</td>\n",
       "    </tr>\n",
       "    <tr>\n",
       "      <th>6</th>\n",
       "      <td>2021-2022</td>\n",
       "      <td>health center</td>\n",
       "      <td>diagnosis</td>\n",
       "      <td>36.941733</td>\n",
       "    </tr>\n",
       "    <tr>\n",
       "      <th>7</th>\n",
       "      <td>2021-2022</td>\n",
       "      <td>health center</td>\n",
       "      <td>screening</td>\n",
       "      <td>68.648398</td>\n",
       "    </tr>\n",
       "    <tr>\n",
       "      <th>8</th>\n",
       "      <td>2021-2022</td>\n",
       "      <td>health center</td>\n",
       "      <td>treatment</td>\n",
       "      <td>71.111111</td>\n",
       "    </tr>\n",
       "    <tr>\n",
       "      <th>9</th>\n",
       "      <td>2021-2022</td>\n",
       "      <td>hospital (dh,ph,rh)</td>\n",
       "      <td>diagnosis</td>\n",
       "      <td>80.077745</td>\n",
       "    </tr>\n",
       "    <tr>\n",
       "      <th>10</th>\n",
       "      <td>2021-2022</td>\n",
       "      <td>hospital (dh,ph,rh)</td>\n",
       "      <td>screening</td>\n",
       "      <td>20.165094</td>\n",
       "    </tr>\n",
       "    <tr>\n",
       "      <th>11</th>\n",
       "      <td>2021-2022</td>\n",
       "      <td>hospital (dh,ph,rh)</td>\n",
       "      <td>treatment</td>\n",
       "      <td>84.761905</td>\n",
       "    </tr>\n",
       "    <tr>\n",
       "      <th>12</th>\n",
       "      <td>2022-2023</td>\n",
       "      <td>health center</td>\n",
       "      <td>diagnosis</td>\n",
       "      <td>36.042746</td>\n",
       "    </tr>\n",
       "    <tr>\n",
       "      <th>13</th>\n",
       "      <td>2022-2023</td>\n",
       "      <td>health center</td>\n",
       "      <td>screening</td>\n",
       "      <td>39.453125</td>\n",
       "    </tr>\n",
       "    <tr>\n",
       "      <th>14</th>\n",
       "      <td>2022-2023</td>\n",
       "      <td>health center</td>\n",
       "      <td>treatment</td>\n",
       "      <td>58.668076</td>\n",
       "    </tr>\n",
       "    <tr>\n",
       "      <th>15</th>\n",
       "      <td>2022-2023</td>\n",
       "      <td>hospital (dh,ph,rh)</td>\n",
       "      <td>diagnosis</td>\n",
       "      <td>79.719388</td>\n",
       "    </tr>\n",
       "    <tr>\n",
       "      <th>16</th>\n",
       "      <td>2022-2023</td>\n",
       "      <td>hospital (dh,ph,rh)</td>\n",
       "      <td>screening</td>\n",
       "      <td>8.459215</td>\n",
       "    </tr>\n",
       "    <tr>\n",
       "      <th>17</th>\n",
       "      <td>2022-2023</td>\n",
       "      <td>hospital (dh,ph,rh)</td>\n",
       "      <td>treatment</td>\n",
       "      <td>63.750000</td>\n",
       "    </tr>\n",
       "    <tr>\n",
       "      <th>18</th>\n",
       "      <td>2023-2024</td>\n",
       "      <td>health center</td>\n",
       "      <td>diagnosis</td>\n",
       "      <td>38.473837</td>\n",
       "    </tr>\n",
       "    <tr>\n",
       "      <th>19</th>\n",
       "      <td>2023-2024</td>\n",
       "      <td>health center</td>\n",
       "      <td>screening</td>\n",
       "      <td>41.187926</td>\n",
       "    </tr>\n",
       "    <tr>\n",
       "      <th>20</th>\n",
       "      <td>2023-2024</td>\n",
       "      <td>health center</td>\n",
       "      <td>treatment</td>\n",
       "      <td>67.107750</td>\n",
       "    </tr>\n",
       "    <tr>\n",
       "      <th>21</th>\n",
       "      <td>2023-2024</td>\n",
       "      <td>hospital (dh,ph,rh)</td>\n",
       "      <td>diagnosis</td>\n",
       "      <td>82.928724</td>\n",
       "    </tr>\n",
       "    <tr>\n",
       "      <th>22</th>\n",
       "      <td>2023-2024</td>\n",
       "      <td>hospital (dh,ph,rh)</td>\n",
       "      <td>screening</td>\n",
       "      <td>22.757402</td>\n",
       "    </tr>\n",
       "    <tr>\n",
       "      <th>23</th>\n",
       "      <td>2023-2024</td>\n",
       "      <td>hospital (dh,ph,rh)</td>\n",
       "      <td>treatment</td>\n",
       "      <td>81.408629</td>\n",
       "    </tr>\n",
       "  </tbody>\n",
       "</table>\n",
       "</div>"
      ],
      "text/plain": [
       "           fy              hf_type    section  overall_score\n",
       "0   2020-2021        health center  diagnosis      55.287137\n",
       "1   2020-2021        health center  screening      75.106838\n",
       "2   2020-2021        health center  treatment      78.466227\n",
       "3   2020-2021  hospital (dh,ph,rh)  diagnosis      83.333333\n",
       "4   2020-2021  hospital (dh,ph,rh)  screening      60.661765\n",
       "5   2020-2021  hospital (dh,ph,rh)  treatment      82.956522\n",
       "6   2021-2022        health center  diagnosis      36.941733\n",
       "7   2021-2022        health center  screening      68.648398\n",
       "8   2021-2022        health center  treatment      71.111111\n",
       "9   2021-2022  hospital (dh,ph,rh)  diagnosis      80.077745\n",
       "10  2021-2022  hospital (dh,ph,rh)  screening      20.165094\n",
       "11  2021-2022  hospital (dh,ph,rh)  treatment      84.761905\n",
       "12  2022-2023        health center  diagnosis      36.042746\n",
       "13  2022-2023        health center  screening      39.453125\n",
       "14  2022-2023        health center  treatment      58.668076\n",
       "15  2022-2023  hospital (dh,ph,rh)  diagnosis      79.719388\n",
       "16  2022-2023  hospital (dh,ph,rh)  screening       8.459215\n",
       "17  2022-2023  hospital (dh,ph,rh)  treatment      63.750000\n",
       "18  2023-2024        health center  diagnosis      38.473837\n",
       "19  2023-2024        health center  screening      41.187926\n",
       "20  2023-2024        health center  treatment      67.107750\n",
       "21  2023-2024  hospital (dh,ph,rh)  diagnosis      82.928724\n",
       "22  2023-2024  hospital (dh,ph,rh)  screening      22.757402\n",
       "23  2023-2024  hospital (dh,ph,rh)  treatment      81.408629"
      ]
     },
     "execution_count": 1805,
     "metadata": {},
     "output_type": "execute_result"
    }
   ],
   "source": [
    "# Group by fiscal year (fy) and calculate the overall score\n",
    "fy_summary = filtered_summary.groupby(\n",
    "    ['fy', 'hf_type', 'section']\n",
    ").apply(lambda x: (x[\"num\"].sum() / x[\"den\"].sum()) * 100).reset_index(name=\"overall_score\")\n",
    "fy_summary\n",
    "# Display the grouped DataFrame\n",
    "# fy_summary.to_csv(\"../output/fy_summary.csv\", index=False)\n"
   ]
  },
  {
   "cell_type": "markdown",
   "metadata": {},
   "source": [
    "`Health Facility Type Count`"
   ]
  },
  {
   "cell_type": "code",
   "execution_count": null,
   "metadata": {},
   "outputs": [
    {
     "data": {
      "text/html": [
       "<div>\n",
       "<style scoped>\n",
       "    .dataframe tbody tr th:only-of-type {\n",
       "        vertical-align: middle;\n",
       "    }\n",
       "\n",
       "    .dataframe tbody tr th {\n",
       "        vertical-align: top;\n",
       "    }\n",
       "\n",
       "    .dataframe thead th {\n",
       "        text-align: right;\n",
       "    }\n",
       "</style>\n",
       "<table border=\"1\" class=\"dataframe\">\n",
       "  <thead>\n",
       "    <tr style=\"text-align: right;\">\n",
       "      <th></th>\n",
       "      <th>fy</th>\n",
       "      <th>hf_type</th>\n",
       "      <th>hf_count</th>\n",
       "      <th>overall_score</th>\n",
       "    </tr>\n",
       "  </thead>\n",
       "  <tbody>\n",
       "    <tr>\n",
       "      <th>0</th>\n",
       "      <td>2020-2021</td>\n",
       "      <td>health center</td>\n",
       "      <td>74</td>\n",
       "      <td>64.020244</td>\n",
       "    </tr>\n",
       "    <tr>\n",
       "      <th>1</th>\n",
       "      <td>2020-2021</td>\n",
       "      <td>hospital (dh,ph,rh)</td>\n",
       "      <td>21</td>\n",
       "      <td>83.143724</td>\n",
       "    </tr>\n",
       "    <tr>\n",
       "      <th>2</th>\n",
       "      <td>2021-2022</td>\n",
       "      <td>health center</td>\n",
       "      <td>69</td>\n",
       "      <td>67.834286</td>\n",
       "    </tr>\n",
       "    <tr>\n",
       "      <th>3</th>\n",
       "      <td>2021-2022</td>\n",
       "      <td>hospital (dh,ph,rh)</td>\n",
       "      <td>21</td>\n",
       "      <td>78.137332</td>\n",
       "    </tr>\n",
       "    <tr>\n",
       "      <th>4</th>\n",
       "      <td>2022-2023</td>\n",
       "      <td>health center</td>\n",
       "      <td>31</td>\n",
       "      <td>49.500505</td>\n",
       "    </tr>\n",
       "    <tr>\n",
       "      <th>5</th>\n",
       "      <td>2022-2023</td>\n",
       "      <td>hospital (dh,ph,rh)</td>\n",
       "      <td>8</td>\n",
       "      <td>66.401674</td>\n",
       "    </tr>\n",
       "    <tr>\n",
       "      <th>6</th>\n",
       "      <td>2023-2024</td>\n",
       "      <td>health center</td>\n",
       "      <td>69</td>\n",
       "      <td>53.257412</td>\n",
       "    </tr>\n",
       "    <tr>\n",
       "      <th>7</th>\n",
       "      <td>2023-2024</td>\n",
       "      <td>hospital (dh,ph,rh)</td>\n",
       "      <td>42</td>\n",
       "      <td>71.838432</td>\n",
       "    </tr>\n",
       "  </tbody>\n",
       "</table>\n",
       "</div>"
      ],
      "text/plain": [
       "          fy              hf_type  hf_count  overall_score\n",
       "0  2020-2021        health center        74      64.020244\n",
       "1  2020-2021  hospital (dh,ph,rh)        21      83.143724\n",
       "2  2021-2022        health center        69      67.834286\n",
       "3  2021-2022  hospital (dh,ph,rh)        21      78.137332\n",
       "4  2022-2023        health center        31      49.500505\n",
       "5  2022-2023  hospital (dh,ph,rh)         8      66.401674\n",
       "6  2023-2024        health center        69      53.257412\n",
       "7  2023-2024  hospital (dh,ph,rh)        42      71.838432"
      ]
     },
     "execution_count": 1806,
     "metadata": {},
     "output_type": "execute_result"
    }
   ],
   "source": [
    "hf_counts = new_df.groupby([\"fy\", \"hf_type\"])[\"hf_name\"].nunique().reset_index(name=\"hf_count\")\n",
    "overall_scores = new_df.groupby([\"fy\", \"hf_type\"]).apply(lambda x: (x[\"num\"].sum() / x[\"den\"].sum()) * 100).reset_index(name=\"overall_score\")\n",
    "result_df = pd.merge(hf_counts, overall_scores, on=[\"fy\", \"hf_type\"], how=\"left\")\n",
    "result_df\n"
   ]
  },
  {
   "cell_type": "markdown",
   "metadata": {},
   "source": [
    "`Valid and Invalid dataframe`"
   ]
  },
  {
   "cell_type": "code",
   "execution_count": null,
   "metadata": {},
   "outputs": [],
   "source": [
    "# data = new_df \n",
    "data = filtered_summary\n",
    "data[\"num_per_den\"] = data[\"num\"].astype(str) + \"/\" + data[\"den\"].astype(str)\n",
    "data[\"avg\"] = data[\"num\"] / data[\"den\"]\n",
    "data[\"percentage\"] = data[\"avg\"] * 100"
   ]
  },
  {
   "cell_type": "markdown",
   "metadata": {},
   "source": [
    "Filter valid and invalid data"
   ]
  },
  {
   "cell_type": "code",
   "execution_count": null,
   "metadata": {},
   "outputs": [],
   "source": [
    "# Define valid cases\n",
    "valid_df = data[\n",
    "    (data[\"num\"] <= data[\"den\"]) &  # num must not be greater than den\n",
    "    ~(data[\"num\"].isna() & data[\"den\"] > 0) &  # Exclude cases where num is NaN but den > 0\n",
    "    ~((data[\"num\"] == 0) & (data[\"den\"] == 0)) &  # Exclude cases where both num and den are 0\n",
    "    ~(data[\"den\"].isna())  # Exclude cases where den is NaN (new fix)\n",
    "]\n",
    "\n",
    "invalid_df = data[\n",
    "    (data[\"num\"] > data[\"den\"]) |  # Invalid if num > den\n",
    "    ((data[\"num\"].isna()) & (data[\"den\"] > 0)) |  # Invalid if num is NaN but den > 0\n",
    "    ((data[\"num\"] == 0) & (data[\"den\"] == 0)) |  # Invalid if both num and den are 0\n",
    "    (data[\"den\"].isna()) |  # Invalid if den is NaN\n",
    "    ((data[\"num\"].isna()) & (data[\"den\"] == 0))  # NEW FIX: Invalid if num is NaN and den = 0\n",
    "]\n",
    "\n"
   ]
  },
  {
   "cell_type": "code",
   "execution_count": null,
   "metadata": {},
   "outputs": [
    {
     "data": {
      "text/plain": [
       "6680"
      ]
     },
     "execution_count": 1809,
     "metadata": {},
     "output_type": "execute_result"
    }
   ],
   "source": [
    "data.shape[0] "
   ]
  },
  {
   "cell_type": "markdown",
   "metadata": {},
   "source": [
    "#### **Valid datasets**"
   ]
  },
  {
   "cell_type": "code",
   "execution_count": null,
   "metadata": {},
   "outputs": [
    {
     "data": {
      "text/html": [
       "<div>\n",
       "<style scoped>\n",
       "    .dataframe tbody tr th:only-of-type {\n",
       "        vertical-align: middle;\n",
       "    }\n",
       "\n",
       "    .dataframe tbody tr th {\n",
       "        vertical-align: top;\n",
       "    }\n",
       "\n",
       "    .dataframe thead th {\n",
       "        text-align: right;\n",
       "    }\n",
       "</style>\n",
       "<table border=\"1\" class=\"dataframe\">\n",
       "  <thead>\n",
       "    <tr style=\"text-align: right;\">\n",
       "      <th></th>\n",
       "      <th>percentage</th>\n",
       "      <th>num_per_den</th>\n",
       "      <th>avg</th>\n",
       "      <th>num</th>\n",
       "      <th>den</th>\n",
       "    </tr>\n",
       "  </thead>\n",
       "  <tbody>\n",
       "    <tr>\n",
       "      <th>1003</th>\n",
       "      <td>100.0</td>\n",
       "      <td>30.0/30.0</td>\n",
       "      <td>1.0</td>\n",
       "      <td>30.0</td>\n",
       "      <td>30.0</td>\n",
       "    </tr>\n",
       "    <tr>\n",
       "      <th>1004</th>\n",
       "      <td>100.0</td>\n",
       "      <td>30.0/30.0</td>\n",
       "      <td>1.0</td>\n",
       "      <td>30.0</td>\n",
       "      <td>30.0</td>\n",
       "    </tr>\n",
       "    <tr>\n",
       "      <th>1005</th>\n",
       "      <td>100.0</td>\n",
       "      <td>30.0/30.0</td>\n",
       "      <td>1.0</td>\n",
       "      <td>30.0</td>\n",
       "      <td>30.0</td>\n",
       "    </tr>\n",
       "    <tr>\n",
       "      <th>1006</th>\n",
       "      <td>0.0</td>\n",
       "      <td>0.0/30.0</td>\n",
       "      <td>0.0</td>\n",
       "      <td>0.0</td>\n",
       "      <td>30.0</td>\n",
       "    </tr>\n",
       "    <tr>\n",
       "      <th>1007</th>\n",
       "      <td>100.0</td>\n",
       "      <td>30.0/30.0</td>\n",
       "      <td>1.0</td>\n",
       "      <td>30.0</td>\n",
       "      <td>30.0</td>\n",
       "    </tr>\n",
       "    <tr>\n",
       "      <th>...</th>\n",
       "      <td>...</td>\n",
       "      <td>...</td>\n",
       "      <td>...</td>\n",
       "      <td>...</td>\n",
       "      <td>...</td>\n",
       "    </tr>\n",
       "    <tr>\n",
       "      <th>19159</th>\n",
       "      <td>100.0</td>\n",
       "      <td>5.0/5.0</td>\n",
       "      <td>1.0</td>\n",
       "      <td>5.0</td>\n",
       "      <td>5.0</td>\n",
       "    </tr>\n",
       "    <tr>\n",
       "      <th>19160</th>\n",
       "      <td>100.0</td>\n",
       "      <td>5.0/5.0</td>\n",
       "      <td>1.0</td>\n",
       "      <td>5.0</td>\n",
       "      <td>5.0</td>\n",
       "    </tr>\n",
       "    <tr>\n",
       "      <th>19161</th>\n",
       "      <td>100.0</td>\n",
       "      <td>5.0/5.0</td>\n",
       "      <td>1.0</td>\n",
       "      <td>5.0</td>\n",
       "      <td>5.0</td>\n",
       "    </tr>\n",
       "    <tr>\n",
       "      <th>19162</th>\n",
       "      <td>40.0</td>\n",
       "      <td>2.0/5.0</td>\n",
       "      <td>0.4</td>\n",
       "      <td>2.0</td>\n",
       "      <td>5.0</td>\n",
       "    </tr>\n",
       "    <tr>\n",
       "      <th>19163</th>\n",
       "      <td>100.0</td>\n",
       "      <td>5.0/5.0</td>\n",
       "      <td>1.0</td>\n",
       "      <td>5.0</td>\n",
       "      <td>5.0</td>\n",
       "    </tr>\n",
       "  </tbody>\n",
       "</table>\n",
       "<p>5982 rows × 5 columns</p>\n",
       "</div>"
      ],
      "text/plain": [
       "       percentage num_per_den  avg   num   den\n",
       "1003        100.0   30.0/30.0  1.0  30.0  30.0\n",
       "1004        100.0   30.0/30.0  1.0  30.0  30.0\n",
       "1005        100.0   30.0/30.0  1.0  30.0  30.0\n",
       "1006          0.0    0.0/30.0  0.0   0.0  30.0\n",
       "1007        100.0   30.0/30.0  1.0  30.0  30.0\n",
       "...           ...         ...  ...   ...   ...\n",
       "19159       100.0     5.0/5.0  1.0   5.0   5.0\n",
       "19160       100.0     5.0/5.0  1.0   5.0   5.0\n",
       "19161       100.0     5.0/5.0  1.0   5.0   5.0\n",
       "19162        40.0     2.0/5.0  0.4   2.0   5.0\n",
       "19163       100.0     5.0/5.0  1.0   5.0   5.0\n",
       "\n",
       "[5982 rows x 5 columns]"
      ]
     },
     "execution_count": 1810,
     "metadata": {},
     "output_type": "execute_result"
    }
   ],
   "source": [
    "valid_df[['percentage', 'num_per_den', 'avg', 'num', 'den']]"
   ]
  },
  {
   "cell_type": "code",
   "execution_count": null,
   "metadata": {},
   "outputs": [
    {
     "data": {
      "text/html": [
       "<div>\n",
       "<style scoped>\n",
       "    .dataframe tbody tr th:only-of-type {\n",
       "        vertical-align: middle;\n",
       "    }\n",
       "\n",
       "    .dataframe tbody tr th {\n",
       "        vertical-align: top;\n",
       "    }\n",
       "\n",
       "    .dataframe thead th {\n",
       "        text-align: right;\n",
       "    }\n",
       "</style>\n",
       "<table border=\"1\" class=\"dataframe\">\n",
       "  <thead>\n",
       "    <tr style=\"text-align: right;\">\n",
       "      <th></th>\n",
       "      <th>section</th>\n",
       "      <th>fy</th>\n",
       "      <th>hf_type</th>\n",
       "      <th>hf_count</th>\n",
       "      <th>overall_score</th>\n",
       "    </tr>\n",
       "  </thead>\n",
       "  <tbody>\n",
       "    <tr>\n",
       "      <th>0</th>\n",
       "      <td>diagnosis</td>\n",
       "      <td>2020-2021</td>\n",
       "      <td>health center</td>\n",
       "      <td>74</td>\n",
       "      <td>59.580952</td>\n",
       "    </tr>\n",
       "    <tr>\n",
       "      <th>1</th>\n",
       "      <td>diagnosis</td>\n",
       "      <td>2020-2021</td>\n",
       "      <td>hospital (dh,ph,rh)</td>\n",
       "      <td>21</td>\n",
       "      <td>74.823232</td>\n",
       "    </tr>\n",
       "    <tr>\n",
       "      <th>2</th>\n",
       "      <td>diagnosis</td>\n",
       "      <td>2021-2022</td>\n",
       "      <td>health center</td>\n",
       "      <td>69</td>\n",
       "      <td>41.511387</td>\n",
       "    </tr>\n",
       "    <tr>\n",
       "      <th>3</th>\n",
       "      <td>diagnosis</td>\n",
       "      <td>2021-2022</td>\n",
       "      <td>hospital (dh,ph,rh)</td>\n",
       "      <td>21</td>\n",
       "      <td>77.188209</td>\n",
       "    </tr>\n",
       "    <tr>\n",
       "      <th>4</th>\n",
       "      <td>diagnosis</td>\n",
       "      <td>2022-2023</td>\n",
       "      <td>health center</td>\n",
       "      <td>31</td>\n",
       "      <td>38.218126</td>\n",
       "    </tr>\n",
       "    <tr>\n",
       "      <th>5</th>\n",
       "      <td>diagnosis</td>\n",
       "      <td>2022-2023</td>\n",
       "      <td>hospital (dh,ph,rh)</td>\n",
       "      <td>8</td>\n",
       "      <td>72.619048</td>\n",
       "    </tr>\n",
       "    <tr>\n",
       "      <th>6</th>\n",
       "      <td>diagnosis</td>\n",
       "      <td>2023-2024</td>\n",
       "      <td>health center</td>\n",
       "      <td>69</td>\n",
       "      <td>41.127349</td>\n",
       "    </tr>\n",
       "    <tr>\n",
       "      <th>7</th>\n",
       "      <td>diagnosis</td>\n",
       "      <td>2023-2024</td>\n",
       "      <td>hospital (dh,ph,rh)</td>\n",
       "      <td>42</td>\n",
       "      <td>73.695402</td>\n",
       "    </tr>\n",
       "    <tr>\n",
       "      <th>8</th>\n",
       "      <td>screening</td>\n",
       "      <td>2020-2021</td>\n",
       "      <td>health center</td>\n",
       "      <td>73</td>\n",
       "      <td>79.565217</td>\n",
       "    </tr>\n",
       "    <tr>\n",
       "      <th>9</th>\n",
       "      <td>screening</td>\n",
       "      <td>2020-2021</td>\n",
       "      <td>hospital (dh,ph,rh)</td>\n",
       "      <td>17</td>\n",
       "      <td>66.086957</td>\n",
       "    </tr>\n",
       "    <tr>\n",
       "      <th>10</th>\n",
       "      <td>screening</td>\n",
       "      <td>2021-2022</td>\n",
       "      <td>health center</td>\n",
       "      <td>69</td>\n",
       "      <td>49.457230</td>\n",
       "    </tr>\n",
       "    <tr>\n",
       "      <th>11</th>\n",
       "      <td>screening</td>\n",
       "      <td>2021-2022</td>\n",
       "      <td>hospital (dh,ph,rh)</td>\n",
       "      <td>21</td>\n",
       "      <td>26.909091</td>\n",
       "    </tr>\n",
       "    <tr>\n",
       "      <th>12</th>\n",
       "      <td>screening</td>\n",
       "      <td>2022-2023</td>\n",
       "      <td>health center</td>\n",
       "      <td>31</td>\n",
       "      <td>46.543210</td>\n",
       "    </tr>\n",
       "    <tr>\n",
       "      <th>13</th>\n",
       "      <td>screening</td>\n",
       "      <td>2022-2023</td>\n",
       "      <td>hospital (dh,ph,rh)</td>\n",
       "      <td>8</td>\n",
       "      <td>13.333333</td>\n",
       "    </tr>\n",
       "    <tr>\n",
       "      <th>14</th>\n",
       "      <td>screening</td>\n",
       "      <td>2023-2024</td>\n",
       "      <td>health center</td>\n",
       "      <td>69</td>\n",
       "      <td>47.342493</td>\n",
       "    </tr>\n",
       "    <tr>\n",
       "      <th>15</th>\n",
       "      <td>screening</td>\n",
       "      <td>2023-2024</td>\n",
       "      <td>hospital (dh,ph,rh)</td>\n",
       "      <td>42</td>\n",
       "      <td>33.254282</td>\n",
       "    </tr>\n",
       "    <tr>\n",
       "      <th>16</th>\n",
       "      <td>treatment</td>\n",
       "      <td>2020-2021</td>\n",
       "      <td>health center</td>\n",
       "      <td>74</td>\n",
       "      <td>79.043011</td>\n",
       "    </tr>\n",
       "    <tr>\n",
       "      <th>17</th>\n",
       "      <td>treatment</td>\n",
       "      <td>2020-2021</td>\n",
       "      <td>hospital (dh,ph,rh)</td>\n",
       "      <td>21</td>\n",
       "      <td>84.080882</td>\n",
       "    </tr>\n",
       "    <tr>\n",
       "      <th>18</th>\n",
       "      <td>treatment</td>\n",
       "      <td>2021-2022</td>\n",
       "      <td>health center</td>\n",
       "      <td>69</td>\n",
       "      <td>71.908316</td>\n",
       "    </tr>\n",
       "    <tr>\n",
       "      <th>19</th>\n",
       "      <td>treatment</td>\n",
       "      <td>2021-2022</td>\n",
       "      <td>hospital (dh,ph,rh)</td>\n",
       "      <td>21</td>\n",
       "      <td>84.409722</td>\n",
       "    </tr>\n",
       "    <tr>\n",
       "      <th>20</th>\n",
       "      <td>treatment</td>\n",
       "      <td>2022-2023</td>\n",
       "      <td>health center</td>\n",
       "      <td>31</td>\n",
       "      <td>60.941860</td>\n",
       "    </tr>\n",
       "    <tr>\n",
       "      <th>21</th>\n",
       "      <td>treatment</td>\n",
       "      <td>2022-2023</td>\n",
       "      <td>hospital (dh,ph,rh)</td>\n",
       "      <td>8</td>\n",
       "      <td>65.545455</td>\n",
       "    </tr>\n",
       "    <tr>\n",
       "      <th>22</th>\n",
       "      <td>treatment</td>\n",
       "      <td>2023-2024</td>\n",
       "      <td>health center</td>\n",
       "      <td>69</td>\n",
       "      <td>69.884696</td>\n",
       "    </tr>\n",
       "    <tr>\n",
       "      <th>23</th>\n",
       "      <td>treatment</td>\n",
       "      <td>2023-2024</td>\n",
       "      <td>hospital (dh,ph,rh)</td>\n",
       "      <td>42</td>\n",
       "      <td>82.426835</td>\n",
       "    </tr>\n",
       "  </tbody>\n",
       "</table>\n",
       "</div>"
      ],
      "text/plain": [
       "      section         fy              hf_type  hf_count  overall_score\n",
       "0   diagnosis  2020-2021        health center        74      59.580952\n",
       "1   diagnosis  2020-2021  hospital (dh,ph,rh)        21      74.823232\n",
       "2   diagnosis  2021-2022        health center        69      41.511387\n",
       "3   diagnosis  2021-2022  hospital (dh,ph,rh)        21      77.188209\n",
       "4   diagnosis  2022-2023        health center        31      38.218126\n",
       "5   diagnosis  2022-2023  hospital (dh,ph,rh)         8      72.619048\n",
       "6   diagnosis  2023-2024        health center        69      41.127349\n",
       "7   diagnosis  2023-2024  hospital (dh,ph,rh)        42      73.695402\n",
       "8   screening  2020-2021        health center        73      79.565217\n",
       "9   screening  2020-2021  hospital (dh,ph,rh)        17      66.086957\n",
       "10  screening  2021-2022        health center        69      49.457230\n",
       "11  screening  2021-2022  hospital (dh,ph,rh)        21      26.909091\n",
       "12  screening  2022-2023        health center        31      46.543210\n",
       "13  screening  2022-2023  hospital (dh,ph,rh)         8      13.333333\n",
       "14  screening  2023-2024        health center        69      47.342493\n",
       "15  screening  2023-2024  hospital (dh,ph,rh)        42      33.254282\n",
       "16  treatment  2020-2021        health center        74      79.043011\n",
       "17  treatment  2020-2021  hospital (dh,ph,rh)        21      84.080882\n",
       "18  treatment  2021-2022        health center        69      71.908316\n",
       "19  treatment  2021-2022  hospital (dh,ph,rh)        21      84.409722\n",
       "20  treatment  2022-2023        health center        31      60.941860\n",
       "21  treatment  2022-2023  hospital (dh,ph,rh)         8      65.545455\n",
       "22  treatment  2023-2024        health center        69      69.884696\n",
       "23  treatment  2023-2024  hospital (dh,ph,rh)        42      82.426835"
      ]
     },
     "execution_count": 1811,
     "metadata": {},
     "output_type": "execute_result"
    }
   ],
   "source": [
    "hf_counts = valid_df.groupby([\"section\", \"fy\", \"hf_type\"])[\"hf_name\"].nunique().reset_index(name=\"hf_count\")\n",
    "overall_scores = valid_df.groupby([\"section\", \"fy\", \"hf_type\"]).apply(lambda x: (x[\"percentage\"].sum() / x[\"percentage\"].shape[0])).reset_index(name=\"overall_score\")\n",
    "valid_result_df = pd.merge(hf_counts, overall_scores, on=[\"section\", \"fy\", \"hf_type\"], how=\"left\")\n",
    "valid_result_df\n"
   ]
  },
  {
   "cell_type": "markdown",
   "metadata": {},
   "source": [
    "Invalid dataset"
   ]
  },
  {
   "cell_type": "code",
   "execution_count": null,
   "metadata": {},
   "outputs": [
    {
     "data": {
      "text/plain": [
       "(698, 12)"
      ]
     },
     "execution_count": 1812,
     "metadata": {},
     "output_type": "execute_result"
    }
   ],
   "source": [
    "invalid_df.shape"
   ]
  },
  {
   "cell_type": "code",
   "execution_count": null,
   "metadata": {},
   "outputs": [
    {
     "data": {
      "text/html": [
       "<div>\n",
       "<style scoped>\n",
       "    .dataframe tbody tr th:only-of-type {\n",
       "        vertical-align: middle;\n",
       "    }\n",
       "\n",
       "    .dataframe tbody tr th {\n",
       "        vertical-align: top;\n",
       "    }\n",
       "\n",
       "    .dataframe thead th {\n",
       "        text-align: right;\n",
       "    }\n",
       "</style>\n",
       "<table border=\"1\" class=\"dataframe\">\n",
       "  <thead>\n",
       "    <tr style=\"text-align: right;\">\n",
       "      <th></th>\n",
       "      <th>section</th>\n",
       "      <th>fy</th>\n",
       "      <th>hf_type</th>\n",
       "      <th>hf_count</th>\n",
       "      <th>overall_score</th>\n",
       "    </tr>\n",
       "  </thead>\n",
       "  <tbody>\n",
       "    <tr>\n",
       "      <th>0</th>\n",
       "      <td>diagnosis</td>\n",
       "      <td>2020-2021</td>\n",
       "      <td>health center</td>\n",
       "      <td>62</td>\n",
       "      <td>0.000000</td>\n",
       "    </tr>\n",
       "    <tr>\n",
       "      <th>1</th>\n",
       "      <td>diagnosis</td>\n",
       "      <td>2020-2021</td>\n",
       "      <td>hospital (dh,ph,rh)</td>\n",
       "      <td>11</td>\n",
       "      <td>0.000000</td>\n",
       "    </tr>\n",
       "    <tr>\n",
       "      <th>2</th>\n",
       "      <td>screening</td>\n",
       "      <td>2020-2021</td>\n",
       "      <td>health center</td>\n",
       "      <td>70</td>\n",
       "      <td>0.000000</td>\n",
       "    </tr>\n",
       "    <tr>\n",
       "      <th>3</th>\n",
       "      <td>screening</td>\n",
       "      <td>2020-2021</td>\n",
       "      <td>hospital (dh,ph,rh)</td>\n",
       "      <td>21</td>\n",
       "      <td>0.000000</td>\n",
       "    </tr>\n",
       "    <tr>\n",
       "      <th>4</th>\n",
       "      <td>screening</td>\n",
       "      <td>2021-2022</td>\n",
       "      <td>health center</td>\n",
       "      <td>51</td>\n",
       "      <td>0.000000</td>\n",
       "    </tr>\n",
       "    <tr>\n",
       "      <th>5</th>\n",
       "      <td>screening</td>\n",
       "      <td>2021-2022</td>\n",
       "      <td>hospital (dh,ph,rh)</td>\n",
       "      <td>16</td>\n",
       "      <td>0.000000</td>\n",
       "    </tr>\n",
       "    <tr>\n",
       "      <th>6</th>\n",
       "      <td>screening</td>\n",
       "      <td>2022-2023</td>\n",
       "      <td>health center</td>\n",
       "      <td>24</td>\n",
       "      <td>0.000000</td>\n",
       "    </tr>\n",
       "    <tr>\n",
       "      <th>7</th>\n",
       "      <td>screening</td>\n",
       "      <td>2022-2023</td>\n",
       "      <td>hospital (dh,ph,rh)</td>\n",
       "      <td>6</td>\n",
       "      <td>0.000000</td>\n",
       "    </tr>\n",
       "    <tr>\n",
       "      <th>8</th>\n",
       "      <td>screening</td>\n",
       "      <td>2023-2024</td>\n",
       "      <td>health center</td>\n",
       "      <td>38</td>\n",
       "      <td>0.000000</td>\n",
       "    </tr>\n",
       "    <tr>\n",
       "      <th>9</th>\n",
       "      <td>screening</td>\n",
       "      <td>2023-2024</td>\n",
       "      <td>hospital (dh,ph,rh)</td>\n",
       "      <td>19</td>\n",
       "      <td>0.000000</td>\n",
       "    </tr>\n",
       "    <tr>\n",
       "      <th>10</th>\n",
       "      <td>treatment</td>\n",
       "      <td>2020-2021</td>\n",
       "      <td>health center</td>\n",
       "      <td>32</td>\n",
       "      <td>4.716981</td>\n",
       "    </tr>\n",
       "    <tr>\n",
       "      <th>11</th>\n",
       "      <td>treatment</td>\n",
       "      <td>2020-2021</td>\n",
       "      <td>hospital (dh,ph,rh)</td>\n",
       "      <td>8</td>\n",
       "      <td>0.000000</td>\n",
       "    </tr>\n",
       "    <tr>\n",
       "      <th>12</th>\n",
       "      <td>treatment</td>\n",
       "      <td>2021-2022</td>\n",
       "      <td>health center</td>\n",
       "      <td>14</td>\n",
       "      <td>125.000000</td>\n",
       "    </tr>\n",
       "    <tr>\n",
       "      <th>13</th>\n",
       "      <td>treatment</td>\n",
       "      <td>2021-2022</td>\n",
       "      <td>hospital (dh,ph,rh)</td>\n",
       "      <td>3</td>\n",
       "      <td>125.000000</td>\n",
       "    </tr>\n",
       "    <tr>\n",
       "      <th>14</th>\n",
       "      <td>treatment</td>\n",
       "      <td>2022-2023</td>\n",
       "      <td>health center</td>\n",
       "      <td>2</td>\n",
       "      <td>125.000000</td>\n",
       "    </tr>\n",
       "    <tr>\n",
       "      <th>15</th>\n",
       "      <td>treatment</td>\n",
       "      <td>2022-2023</td>\n",
       "      <td>hospital (dh,ph,rh)</td>\n",
       "      <td>1</td>\n",
       "      <td>125.000000</td>\n",
       "    </tr>\n",
       "    <tr>\n",
       "      <th>16</th>\n",
       "      <td>treatment</td>\n",
       "      <td>2023-2024</td>\n",
       "      <td>health center</td>\n",
       "      <td>3</td>\n",
       "      <td>125.000000</td>\n",
       "    </tr>\n",
       "    <tr>\n",
       "      <th>17</th>\n",
       "      <td>treatment</td>\n",
       "      <td>2023-2024</td>\n",
       "      <td>hospital (dh,ph,rh)</td>\n",
       "      <td>3</td>\n",
       "      <td>116.666667</td>\n",
       "    </tr>\n",
       "  </tbody>\n",
       "</table>\n",
       "</div>"
      ],
      "text/plain": [
       "      section         fy              hf_type  hf_count  overall_score\n",
       "0   diagnosis  2020-2021        health center        62       0.000000\n",
       "1   diagnosis  2020-2021  hospital (dh,ph,rh)        11       0.000000\n",
       "2   screening  2020-2021        health center        70       0.000000\n",
       "3   screening  2020-2021  hospital (dh,ph,rh)        21       0.000000\n",
       "4   screening  2021-2022        health center        51       0.000000\n",
       "5   screening  2021-2022  hospital (dh,ph,rh)        16       0.000000\n",
       "6   screening  2022-2023        health center        24       0.000000\n",
       "7   screening  2022-2023  hospital (dh,ph,rh)         6       0.000000\n",
       "8   screening  2023-2024        health center        38       0.000000\n",
       "9   screening  2023-2024  hospital (dh,ph,rh)        19       0.000000\n",
       "10  treatment  2020-2021        health center        32       4.716981\n",
       "11  treatment  2020-2021  hospital (dh,ph,rh)         8       0.000000\n",
       "12  treatment  2021-2022        health center        14     125.000000\n",
       "13  treatment  2021-2022  hospital (dh,ph,rh)         3     125.000000\n",
       "14  treatment  2022-2023        health center         2     125.000000\n",
       "15  treatment  2022-2023  hospital (dh,ph,rh)         1     125.000000\n",
       "16  treatment  2023-2024        health center         3     125.000000\n",
       "17  treatment  2023-2024  hospital (dh,ph,rh)         3     116.666667"
      ]
     },
     "execution_count": 1813,
     "metadata": {},
     "output_type": "execute_result"
    }
   ],
   "source": [
    "hf_counts = invalid_df.groupby([\"section\", \"fy\", \"hf_type\"])[\"hf_name\"].nunique().reset_index(name=\"hf_count\")\n",
    "overall_scores = invalid_df.groupby([\"section\", \"fy\", \"hf_type\"]).apply(lambda x: (x[\"percentage\"].sum() / x[\"percentage\"].shape[0])).reset_index(name=\"overall_score\")\n",
    "invalid_result_df = pd.merge(hf_counts, overall_scores, on=[\"section\", \"fy\", \"hf_type\"], how=\"left\")\n",
    "invalid_result_df\n"
   ]
  },
  {
   "cell_type": "code",
   "execution_count": null,
   "metadata": {},
   "outputs": [],
   "source": [
    "valid_result_df.to_csv(\"../output/valid-result.csv\", index=False)\n",
    "invalid_result_df.to_csv(\"../output/invalid-result.csv\", index=False)"
   ]
  }
 ],
 "metadata": {
  "kernelspec": {
   "display_name": "robert",
   "language": "python",
   "name": "python3"
  },
  "language_info": {
   "codemirror_mode": {
    "name": "ipython",
    "version": 3
   },
   "file_extension": ".py",
   "mimetype": "text/x-python",
   "name": "python",
   "nbconvert_exporter": "python",
   "pygments_lexer": "ipython3",
   "version": "3.9.16"
  }
 },
 "nbformat": 4,
 "nbformat_minor": 2
}
