{
 "cells": [
  {
   "cell_type": "markdown",
   "id": "93c6c4a4",
   "metadata": {},
   "source": [
    "#### Import Libraries"
   ]
  },
  {
   "cell_type": "code",
   "execution_count": 816,
   "id": "b2c23bb1",
   "metadata": {},
   "outputs": [],
   "source": [
    "import pandas as pd\n",
    "import numpy as np\n",
    "import matplotlib.pyplot as plt\n",
    "import seaborn as sns\n",
    "\n",
    "import scipy.stats as stats"
   ]
  },
  {
   "cell_type": "markdown",
   "id": "d2b0086b",
   "metadata": {},
   "source": [
    "### **Data Dictionary**"
   ]
  },
  {
   "cell_type": "markdown",
   "id": "faa0e2d0",
   "metadata": {},
   "source": [
    "#### 📘 **RSQA_CLEAN Data Dictionary**\n",
    "\n",
    "| Column Name       | Description                                                                                           | Data Type     | Example Values                        |\n",
    "|------------------|-------------------------------------------------------------------------------------------------------|---------------|----------------------------------------|\n",
    "| `hf_name`         | Name of the health facility where RSQA was conducted                                                  | String        | `kigali health center`, `kibuye dh`    |\n",
    "| `genexpert_site`  | Indicates whether the site has a GeneXpert machine                                                    | Categorical   | `yes`, `no`                            |\n",
    "| `hf_type`         | Type of the health facility                                                                           | Categorical   | `hospital`, `health center`            |\n",
    "| `hf_tb_type`      | TB service category provided by the health facility                                                   | Categorical   | `ctd`, `ct`                            |\n",
    "| `fy`              | Fiscal year during which the RSQA activity occurred                                                   | String        | `fy 2022-2023`, `fy 2023-2024`         |\n",
    "| `province`        | Province where the facility is located                                                                | Categorical   | `kigali`, `northern`                   |\n",
    "| `district`        | District where the facility is located                                                                | Categorical   | `gasabo`, `huye`                       |\n",
    "| `summary_group`   | High-level question category or indicator group used in RSQA                                          | String        | `Are TB patients early initiated...`   |\n",
    "| `normes`          | Specific RSQA guideline or indicator being assessed                                                   | String        | `Patient file availability`            |\n",
    "| `item_name`       | Specific element being verified on-site (formerly `Element à verifier`)                              | String        | `Lab register filled`                  |\n",
    "| `num`             | Numerator for RSQA performance indicator                                                              | Integer       | `5`, `10`, `20`                        |\n",
    "| `den`             | Denominator for RSQA performance indicator                                                            | Integer       | `10`, `20`, `30`                       |\n",
    "| `section`         | Functional TB program area that the `summary_group` falls under                                       | Categorical   | `screening`, `diagnosis`, `treatment`  |\n"
   ]
  },
  {
   "cell_type": "markdown",
   "id": "8891b2a9",
   "metadata": {},
   "source": [
    "#### Load the data"
   ]
  },
  {
   "cell_type": "code",
   "execution_count": 817,
   "id": "1d7ad842",
   "metadata": {},
   "outputs": [],
   "source": [
    "rsqa_df = pd.read_csv(\"../_data/tb-rsqa.csv\", encoding=\"ISO-8859-1\")\n",
    "gen_df = pd.read_csv(\"../_data/tb-rsqa_GXP.csv\")\n",
    "rsqa_df = rsqa_df.copy()\n",
    "gen_df = gen_df.copy()\n"
   ]
  },
  {
   "cell_type": "markdown",
   "id": "37b1b002",
   "metadata": {},
   "source": [
    "#### Data Inspection"
   ]
  },
  {
   "cell_type": "code",
   "execution_count": 818,
   "id": "472a6c86",
   "metadata": {},
   "outputs": [
    {
     "name": "stdout",
     "output_type": "stream",
     "text": [
      "RSQA DataFrame:\n",
      "(25647, 24)\n",
      "Index(['Name of Supervisor 1', 'Name of Supervisor 2', 'HF Name',\n",
      "       'GeneXpert-site', 'HF Type', 'HF TB Type', 'Province', 'District',\n",
      "       'Sub_District', 'Period of implementation', 'FY',\n",
      "       'Domaine d'activités du NSP 2013-2018', 'Summary group',\n",
      "       'Category of activity', 'No_Old', 'NO', 'Normes ', 'Element à verifier',\n",
      "       'Procedures ', 'Num', 'Den', '% (don't use)', 'Commentaires',\n",
      "       'How many Times'],\n",
      "      dtype='object')\n"
     ]
    },
    {
     "data": {
      "text/html": [
       "<div>\n",
       "<style scoped>\n",
       "    .dataframe tbody tr th:only-of-type {\n",
       "        vertical-align: middle;\n",
       "    }\n",
       "\n",
       "    .dataframe tbody tr th {\n",
       "        vertical-align: top;\n",
       "    }\n",
       "\n",
       "    .dataframe thead th {\n",
       "        text-align: right;\n",
       "    }\n",
       "</style>\n",
       "<table border=\"1\" class=\"dataframe\">\n",
       "  <thead>\n",
       "    <tr style=\"text-align: right;\">\n",
       "      <th></th>\n",
       "      <th>Name of Supervisor 1</th>\n",
       "      <th>Name of Supervisor 2</th>\n",
       "      <th>HF Name</th>\n",
       "      <th>GeneXpert-site</th>\n",
       "      <th>HF Type</th>\n",
       "      <th>HF TB Type</th>\n",
       "      <th>Province</th>\n",
       "      <th>District</th>\n",
       "      <th>Sub_District</th>\n",
       "      <th>Period of implementation</th>\n",
       "      <th>...</th>\n",
       "      <th>No_Old</th>\n",
       "      <th>NO</th>\n",
       "      <th>Normes</th>\n",
       "      <th>Element à verifier</th>\n",
       "      <th>Procedures</th>\n",
       "      <th>Num</th>\n",
       "      <th>Den</th>\n",
       "      <th>% (don't use)</th>\n",
       "      <th>Commentaires</th>\n",
       "      <th>How many Times</th>\n",
       "    </tr>\n",
       "  </thead>\n",
       "  <tbody>\n",
       "    <tr>\n",
       "      <th>0</th>\n",
       "      <td>MUNYANSHONGORE Aline</td>\n",
       "      <td>0</td>\n",
       "      <td>Ruli CS</td>\n",
       "      <td>NO</td>\n",
       "      <td>Health Center</td>\n",
       "      <td>CT</td>\n",
       "      <td>North</td>\n",
       "      <td>Gakenke</td>\n",
       "      <td>Ruli</td>\n",
       "      <td>1_March 2021</td>\n",
       "      <td>...</td>\n",
       "      <td>1</td>\n",
       "      <td>1</td>\n",
       "      <td>Toute FOSA doit rendre disponible des algorith...</td>\n",
       "      <td>Les services VIH/ARV, Consultations externes, ...</td>\n",
       "      <td>Verifier la disponiblite de la boite des algor...</td>\n",
       "      <td>3</td>\n",
       "      <td>4</td>\n",
       "      <td>0.75</td>\n",
       "      <td>TB algorithms are available in  OPD and TB ser...</td>\n",
       "      <td>1.0</td>\n",
       "    </tr>\n",
       "    <tr>\n",
       "      <th>1</th>\n",
       "      <td>MUNYANSHONGORE Aline</td>\n",
       "      <td>0</td>\n",
       "      <td>Ruli CS</td>\n",
       "      <td>NO</td>\n",
       "      <td>Health Center</td>\n",
       "      <td>CT</td>\n",
       "      <td>North</td>\n",
       "      <td>Gakenke</td>\n",
       "      <td>Ruli</td>\n",
       "      <td>1_March 2021</td>\n",
       "      <td>...</td>\n",
       "      <td>New_62</td>\n",
       "      <td>2</td>\n",
       "      <td>Les prestataires doivent avoir les connaissanc...</td>\n",
       "      <td>Les prestataires des services ARV, Consultatio...</td>\n",
       "      <td>Verifier la  liste  du personnel forme sur la ...</td>\n",
       "      <td>4</td>\n",
       "      <td>4</td>\n",
       "      <td>1</td>\n",
       "      <td>They have been trained in 2020</td>\n",
       "      <td>1.0</td>\n",
       "    </tr>\n",
       "    <tr>\n",
       "      <th>2</th>\n",
       "      <td>MUNYANSHONGORE Aline</td>\n",
       "      <td>0</td>\n",
       "      <td>Ruli CS</td>\n",
       "      <td>NO</td>\n",
       "      <td>Health Center</td>\n",
       "      <td>CT</td>\n",
       "      <td>North</td>\n",
       "      <td>Gakenke</td>\n",
       "      <td>Ruli</td>\n",
       "      <td>1_March 2021</td>\n",
       "      <td>...</td>\n",
       "      <td>2</td>\n",
       "      <td>3</td>\n",
       "      <td>NaN</td>\n",
       "      <td>Sur 10 nouveaux prisonniers entrés au cours de...</td>\n",
       "      <td>Faire une selection au hasard, par échantillon...</td>\n",
       "      <td>NaN</td>\n",
       "      <td>10</td>\n",
       "      <td>0</td>\n",
       "      <td>NaN</td>\n",
       "      <td>1.0</td>\n",
       "    </tr>\n",
       "    <tr>\n",
       "      <th>3</th>\n",
       "      <td>MUNYANSHONGORE Aline</td>\n",
       "      <td>0</td>\n",
       "      <td>Ruli CS</td>\n",
       "      <td>NO</td>\n",
       "      <td>Health Center</td>\n",
       "      <td>CT</td>\n",
       "      <td>North</td>\n",
       "      <td>Gakenke</td>\n",
       "      <td>Ruli</td>\n",
       "      <td>1_March 2021</td>\n",
       "      <td>...</td>\n",
       "      <td>New_63</td>\n",
       "      <td>4</td>\n",
       "      <td>NaN</td>\n",
       "      <td>Sur 10 nouveaux prisonniers sortants au cours ...</td>\n",
       "      <td>Faire une selection au hasard, par échantillon...</td>\n",
       "      <td>NaN</td>\n",
       "      <td>10</td>\n",
       "      <td>0</td>\n",
       "      <td>NaN</td>\n",
       "      <td>1.0</td>\n",
       "    </tr>\n",
       "    <tr>\n",
       "      <th>4</th>\n",
       "      <td>MUNYANSHONGORE Aline</td>\n",
       "      <td>0</td>\n",
       "      <td>Ruli CS</td>\n",
       "      <td>NO</td>\n",
       "      <td>Health Center</td>\n",
       "      <td>CT</td>\n",
       "      <td>North</td>\n",
       "      <td>Gakenke</td>\n",
       "      <td>Ruli</td>\n",
       "      <td>1_March 2021</td>\n",
       "      <td>...</td>\n",
       "      <td>New_64</td>\n",
       "      <td>5</td>\n",
       "      <td>NaN</td>\n",
       "      <td>Sur les 10 derniers patients hospitalises( 5 p...</td>\n",
       "      <td>Verifier dans le dossier du patient  hospitali...</td>\n",
       "      <td>NaN</td>\n",
       "      <td>10</td>\n",
       "      <td>0</td>\n",
       "      <td>NaN</td>\n",
       "      <td>1.0</td>\n",
       "    </tr>\n",
       "  </tbody>\n",
       "</table>\n",
       "<p>5 rows × 24 columns</p>\n",
       "</div>"
      ],
      "text/plain": [
       "   Name of Supervisor 1 Name of Supervisor 2  HF Name GeneXpert-site  \\\n",
       "0  MUNYANSHONGORE Aline                    0  Ruli CS             NO   \n",
       "1  MUNYANSHONGORE Aline                    0  Ruli CS             NO   \n",
       "2  MUNYANSHONGORE Aline                    0  Ruli CS             NO   \n",
       "3  MUNYANSHONGORE Aline                    0  Ruli CS             NO   \n",
       "4  MUNYANSHONGORE Aline                    0  Ruli CS             NO   \n",
       "\n",
       "         HF Type HF TB Type Province District Sub_District  \\\n",
       "0  Health Center         CT   North   Gakenke         Ruli   \n",
       "1  Health Center         CT   North   Gakenke         Ruli   \n",
       "2  Health Center         CT   North   Gakenke         Ruli   \n",
       "3  Health Center         CT   North   Gakenke         Ruli   \n",
       "4  Health Center         CT   North   Gakenke         Ruli   \n",
       "\n",
       "  Period of implementation  ...  No_Old NO  \\\n",
       "0             1_March 2021  ...       1  1   \n",
       "1             1_March 2021  ...  New_62  2   \n",
       "2             1_March 2021  ...       2  3   \n",
       "3             1_March 2021  ...  New_63  4   \n",
       "4             1_March 2021  ...  New_64  5   \n",
       "\n",
       "                                             Normes   \\\n",
       "0  Toute FOSA doit rendre disponible des algorith...   \n",
       "1  Les prestataires doivent avoir les connaissanc...   \n",
       "2                                                NaN   \n",
       "3                                                NaN   \n",
       "4                                                NaN   \n",
       "\n",
       "                                  Element à verifier  \\\n",
       "0  Les services VIH/ARV, Consultations externes, ...   \n",
       "1  Les prestataires des services ARV, Consultatio...   \n",
       "2  Sur 10 nouveaux prisonniers entrés au cours de...   \n",
       "3  Sur 10 nouveaux prisonniers sortants au cours ...   \n",
       "4  Sur les 10 derniers patients hospitalises( 5 p...   \n",
       "\n",
       "                                         Procedures   Num Den % (don't use)  \\\n",
       "0  Verifier la disponiblite de la boite des algor...    3   4          0.75   \n",
       "1  Verifier la  liste  du personnel forme sur la ...    4   4             1   \n",
       "2  Faire une selection au hasard, par échantillon...  NaN  10             0   \n",
       "3  Faire une selection au hasard, par échantillon...  NaN  10             0   \n",
       "4  Verifier dans le dossier du patient  hospitali...  NaN  10             0   \n",
       "\n",
       "                                        Commentaires How many Times  \n",
       "0  TB algorithms are available in  OPD and TB ser...            1.0  \n",
       "1                    They have been trained in 2020             1.0  \n",
       "2                                                NaN            1.0  \n",
       "3                                                NaN            1.0  \n",
       "4                                                NaN            1.0  \n",
       "\n",
       "[5 rows x 24 columns]"
      ]
     },
     "execution_count": 818,
     "metadata": {},
     "output_type": "execute_result"
    }
   ],
   "source": [
    "# Check RSQA data\n",
    "print(\"RSQA DataFrame:\")\n",
    "print(rsqa_df.shape)\n",
    "print(rsqa_df.columns)\n",
    "rsqa_df.head()"
   ]
  },
  {
   "cell_type": "markdown",
   "id": "a86bcb09",
   "metadata": {},
   "source": [
    "Columns of Interest (based on names):\n",
    "\n",
    "**Facility Identification**\n",
    "\n",
    "- `HF Name`: Name of the health facility\n",
    "\n",
    "- `HF Type`: Hospital or Health Center\n",
    "\n",
    "- `GeneXpert-site`: Might indicate whether the facility has GeneXpert?\n",
    "\n",
    "- `Province`, 'District', 'Sub_District': Geographic location\n",
    "  \n",
    "\n",
    "**Indicators/Assessment Information**\n",
    "\n",
    "- `Num`, `Den`: These are likely the numerator and denominator for each TB quality indicator\n",
    "\n",
    "- `% (don't use)`: A calculated percentage – possibly not recommended due to rounding/incompleteness\n",
    "\n",
    "- `Element à verifier`: The exact question/indicator being assessed (could help categorize into Screening, Diagnosis, Treatment)\n",
    "\n",
    "- `Category of activity`: Could help tag indicators as Screening/Diagnosis/Treatment"
   ]
  },
  {
   "cell_type": "code",
   "execution_count": 819,
   "id": "04b094fd",
   "metadata": {},
   "outputs": [
    {
     "name": "stdout",
     "output_type": "stream",
     "text": [
      "\n",
      "GeneXpert Sites DataFrame:\n",
      "(61, 2)\n",
      "Index(['Genexpert.site', 'ddd'], dtype='object')\n"
     ]
    },
    {
     "data": {
      "text/html": [
       "<div>\n",
       "<style scoped>\n",
       "    .dataframe tbody tr th:only-of-type {\n",
       "        vertical-align: middle;\n",
       "    }\n",
       "\n",
       "    .dataframe tbody tr th {\n",
       "        vertical-align: top;\n",
       "    }\n",
       "\n",
       "    .dataframe thead th {\n",
       "        text-align: right;\n",
       "    }\n",
       "</style>\n",
       "<table border=\"1\" class=\"dataframe\">\n",
       "  <thead>\n",
       "    <tr style=\"text-align: right;\">\n",
       "      <th></th>\n",
       "      <th>Genexpert.site</th>\n",
       "      <th>ddd</th>\n",
       "    </tr>\n",
       "  </thead>\n",
       "  <tbody>\n",
       "    <tr>\n",
       "      <th>0</th>\n",
       "      <td>Kibilizi DH</td>\n",
       "      <td>Hospital (DH,PH,RH)</td>\n",
       "    </tr>\n",
       "    <tr>\n",
       "      <th>1</th>\n",
       "      <td>Kora CS</td>\n",
       "      <td>Health Center</td>\n",
       "    </tr>\n",
       "    <tr>\n",
       "      <th>2</th>\n",
       "      <td>Remera CS</td>\n",
       "      <td>Health Center</td>\n",
       "    </tr>\n",
       "    <tr>\n",
       "      <th>3</th>\n",
       "      <td>Rwamagana PH</td>\n",
       "      <td>Hospital (DH,PH,RH)</td>\n",
       "    </tr>\n",
       "    <tr>\n",
       "      <th>4</th>\n",
       "      <td>Kicukiro CS</td>\n",
       "      <td>Health Center</td>\n",
       "    </tr>\n",
       "  </tbody>\n",
       "</table>\n",
       "</div>"
      ],
      "text/plain": [
       "  Genexpert.site                  ddd\n",
       "0    Kibilizi DH  Hospital (DH,PH,RH)\n",
       "1        Kora CS        Health Center\n",
       "2      Remera CS        Health Center\n",
       "3   Rwamagana PH  Hospital (DH,PH,RH)\n",
       "4    Kicukiro CS        Health Center"
      ]
     },
     "execution_count": 819,
     "metadata": {},
     "output_type": "execute_result"
    }
   ],
   "source": [
    "# Check GeneXpert sites\n",
    "print(\"\\nGeneXpert Sites DataFrame:\")\n",
    "print(gen_df.shape)\n",
    "print(gen_df.columns)\n",
    "gen_df.head()"
   ]
  },
  {
   "cell_type": "markdown",
   "id": "a2f2cec4",
   "metadata": {},
   "source": [
    "We have:\n",
    "\n",
    "- 61 facilities listed\n",
    "\n",
    "- 2 columns:\n",
    "\n",
    "`Genexpert.site`: Name of the facility with GeneXpert\n",
    "\n",
    "`ddd`: Their type (e.g. Hospital or Health Center)"
   ]
  },
  {
   "cell_type": "markdown",
   "id": "63590824",
   "metadata": {},
   "source": [
    "#### **Preview Facility Names for Matching**"
   ]
  },
  {
   "cell_type": "code",
   "execution_count": 820,
   "id": "aeb3a2d1",
   "metadata": {},
   "outputs": [
    {
     "name": "stdout",
     "output_type": "stream",
     "text": [
      "RSQA HF Names Example:\n",
      "(292,)\n"
     ]
    }
   ],
   "source": [
    "# Preview facility names from both datasets\n",
    "print(\"RSQA HF Names Example:\")\n",
    "print(rsqa_df['HF Name'].dropna().unique().shape)\n"
   ]
  },
  {
   "cell_type": "code",
   "execution_count": 821,
   "id": "02e8e098",
   "metadata": {},
   "outputs": [
    {
     "name": "stdout",
     "output_type": "stream",
     "text": [
      "\n",
      "GeneXpert Site Names Example:\n",
      "(60,)\n"
     ]
    }
   ],
   "source": [
    "print(\"\\nGeneXpert Site Names Example:\")\n",
    "print(gen_df['Genexpert.site'].dropna().unique().shape)"
   ]
  },
  {
   "cell_type": "markdown",
   "id": "17f14699",
   "metadata": {},
   "source": [
    "#### **Let’s Investigate GeneXpert-site Column in rsqa_df**"
   ]
  },
  {
   "cell_type": "code",
   "execution_count": 822,
   "id": "083b0700",
   "metadata": {},
   "outputs": [
    {
     "name": "stdout",
     "output_type": "stream",
     "text": [
      "['NO' 'YES']\n",
      "GeneXpert-site\n",
      "NO     18388\n",
      "YES     7259\n",
      "Name: count, dtype: int64\n"
     ]
    }
   ],
   "source": [
    "print(rsqa_df['GeneXpert-site'].unique())\n",
    "print(rsqa_df['GeneXpert-site'].value_counts(dropna=False))"
   ]
  },
  {
   "cell_type": "markdown",
   "id": "997b450e",
   "metadata": {},
   "source": [
    "The GeneXpert-site column in rsqa_df:\n",
    "\n",
    "- Has only two values: 'YES' and 'NO'\n",
    "- Tells us whether the health facility has a GeneXpert machine\n",
    "- 'YES': 7,259 records\n",
    "- 'NO': 18,388 records"
   ]
  },
  {
   "cell_type": "markdown",
   "id": "8de62c04",
   "metadata": {},
   "source": [
    "**We do not need `gen_df` for your analysis.**"
   ]
  },
  {
   "cell_type": "markdown",
   "id": "8d8d3281",
   "metadata": {},
   "source": [
    "#### **Extra Relevant Columns**"
   ]
  },
  {
   "cell_type": "code",
   "execution_count": 823,
   "id": "d4bcb32d",
   "metadata": {},
   "outputs": [],
   "source": [
    "relevant_cols = [\n",
    "    'HF Name',               # Health facility name\n",
    "    'GeneXpert-site',        # Whether the site has GeneXpert\n",
    "    'HF Type',               # Hospital or Health Center\n",
    "    'HF TB Type',            # TB type (e.g., CTD(Center for Treatment & Diagnosis), CT(Center for Treatment))\n",
    "    'FY',                    # Fiscal year\n",
    "    'Province', 'District',  # Location info\n",
    "    'Summary group',         # indicators sections\n",
    "    'Normes ',                # question\n",
    "    'Element à verifier',    # What was verified\n",
    "    'Num',                   # Numerator of the indicator\n",
    "    'Den',                   # Denominator of the indicator\n",
    "];\n",
    "\n",
    "# Extract selected relevant columns\n",
    "rsqa_clean = rsqa_df[relevant_cols].copy()\n",
    "\n",
    "# Preview shape and the first few rows\n",
    "# print(\"Cleaned RSQA Data Shape:\", rsqa_clean.shape)"
   ]
  },
  {
   "cell_type": "markdown",
   "id": "2fefe18c",
   "metadata": {},
   "source": [
    "### **Data Cleaning**"
   ]
  },
  {
   "cell_type": "markdown",
   "id": "37fa802b",
   "metadata": {},
   "source": [
    "#### **Handling Duplicates**"
   ]
  },
  {
   "cell_type": "code",
   "execution_count": 824,
   "id": "2c3ba0bc",
   "metadata": {},
   "outputs": [
    {
     "name": "stdout",
     "output_type": "stream",
     "text": [
      "Number of duplicates: 176\n",
      "Data after removing duplicates: (25471, 12)\n"
     ]
    }
   ],
   "source": [
    "# Check for duplicates\n",
    "print(f\"Number of duplicates: {rsqa_clean.duplicated().sum()}\")\n",
    "\n",
    "# Remove duplicates\n",
    "rsqa_clean = rsqa_clean.drop_duplicates()\n",
    "\n",
    "# Verify\n",
    "print(f\"Data after removing duplicates: {rsqa_clean.shape}\")\n"
   ]
  },
  {
   "cell_type": "markdown",
   "id": "57c4fdc3",
   "metadata": {},
   "source": [
    "#### **Handle Missing Values**"
   ]
  },
  {
   "cell_type": "code",
   "execution_count": 825,
   "id": "fff3880b",
   "metadata": {},
   "outputs": [
    {
     "name": "stdout",
     "output_type": "stream",
     "text": [
      "\n",
      "Missing Values:\n",
      "Normes                9711\n",
      "Element à verifier    1089\n",
      "Num                   4613\n",
      "Den                   2201\n",
      "dtype: int64\n"
     ]
    }
   ],
   "source": [
    "# Check for missing values\n",
    "missing_values = rsqa_clean.isnull().sum()\n",
    "print(f\"\\nMissing Values:\\n{missing_values[missing_values > 0]}\")\n"
   ]
  },
  {
   "cell_type": "code",
   "execution_count": 826,
   "id": "8e7f90ae",
   "metadata": {},
   "outputs": [
    {
     "name": "stdout",
     "output_type": "stream",
     "text": [
      "Data after handling missing values: (25471, 12)\n"
     ]
    }
   ],
   "source": [
    "rsqa_clean[\"Element à verifier\"] = rsqa_clean[\"Element à verifier\"].fillna(rsqa_clean[\"Normes \"])\n",
    "\n",
    "# Verify\n",
    "print(f\"Data after handling missing values: {rsqa_clean.shape}\")"
   ]
  },
  {
   "cell_type": "markdown",
   "id": "1d3e4c6c",
   "metadata": {},
   "source": [
    "#### **Standardize Column Names**"
   ]
  },
  {
   "cell_type": "code",
   "execution_count": 827,
   "id": "8e577da4",
   "metadata": {},
   "outputs": [
    {
     "name": "stdout",
     "output_type": "stream",
     "text": [
      "Renamed columns: Index(['hf_name', 'genexpert_site', 'hf_type', 'hf_tb_type', 'fy', 'province',\n",
      "       'district', 'summary_group', 'normes', 'item_name', 'num', 'den'],\n",
      "      dtype='object')\n"
     ]
    }
   ],
   "source": [
    "# Rename columns to make them cleaner and consistent\n",
    "rsqa_clean.columns = rsqa_clean.columns.str.strip().str.lower().str.replace(' ', '_')\n",
    "\n",
    "rsqa_clean.rename(columns={\n",
    "    'element_à_verifier': 'item_name',\n",
    "    'genexpert-site': 'genexpert_site',\n",
    "}, inplace=True)\n",
    "\n",
    "# Verify the new column names\n",
    "print(f\"Renamed columns: {rsqa_clean.columns}\")\n"
   ]
  },
  {
   "cell_type": "markdown",
   "id": "acbcdddf",
   "metadata": {},
   "source": [
    "#### **Fix Miswritten Provinces**"
   ]
  },
  {
   "cell_type": "code",
   "execution_count": 828,
   "id": "a2173376",
   "metadata": {},
   "outputs": [
    {
     "name": "stdout",
     "output_type": "stream",
     "text": [
      "\n",
      "Unique provinces before cleaning:\n",
      "['North ' 'East ' 'South ' 'West ' 'SOURTHERN' 'East' 'EAST' 'SUD' 'NORD'\n",
      " 'WEST' 'Kigali city']\n",
      "\n",
      "Unique provinces after cleaning:\n",
      "['northern' 'eastern' 'southern' 'western' 'kigali']\n"
     ]
    }
   ],
   "source": [
    "# Check unique province names to identify possible miswritten ones\n",
    "print(\"\\nUnique provinces before cleaning:\")\n",
    "print(rsqa_clean['province'].unique())\n",
    "\n",
    "# Define a mapping to correct miswritten provinces (example)\n",
    "province_mapping = {\n",
    "    'SOURTHERN': 'southern',\n",
    "    'South ': 'southern',\n",
    "    'SUD': 'southern',\n",
    "    # 'south': 'southern',\n",
    "    # 'sud': 'southern',\n",
    "\n",
    "    'North ': 'northern',\n",
    "    'NORD': 'northern',\n",
    "    # 'north ': 'northern',\n",
    "    # 'nord': 'northern',\n",
    "\n",
    "    'East ': 'eastern',\n",
    "    'EAST': 'eastern',\n",
    "    'East': 'eastern',\n",
    "    # 'east': 'eastern',\n",
    "\n",
    "    'Kigali city': 'kigali',\n",
    "    # 'kigali city': 'kigali',\n",
    "\n",
    "    'West ': 'western',\n",
    "    'WEST': 'western',\n",
    "    'west': 'western',\n",
    "    # 'west ': 'western',\n",
    "}\n",
    "\n",
    "# Correct province names\n",
    "rsqa_clean['province'] = rsqa_clean['province'].replace(province_mapping)\n",
    "\n",
    "# Verify\n",
    "print(\"\\nUnique provinces after cleaning:\")\n",
    "print(rsqa_clean['province'].unique())\n"
   ]
  },
  {
   "cell_type": "markdown",
   "id": "fc7add1f",
   "metadata": {},
   "source": [
    "#### **Standardize Fiscal Year**"
   ]
  },
  {
   "cell_type": "code",
   "execution_count": 829,
   "id": "b10751eb",
   "metadata": {},
   "outputs": [
    {
     "name": "stdout",
     "output_type": "stream",
     "text": [
      "\n",
      "Unique Fiscal Years after cleaning:\n",
      "['2020-2021' '2021-2022' '2022-2023' '2023-2024']\n",
      "fy\n",
      "2023-2024    9293\n",
      "2020-2021    6969\n",
      "2021-2022    6486\n",
      "2022-2023    2723\n",
      "Name: count, dtype: int64\n"
     ]
    }
   ],
   "source": [
    "# Clean the 'FY' column by removing the 'FY' prefix and standardizing format\n",
    "rsqa_clean['fy'] = rsqa_clean['fy'].str.replace('FY ', '', regex=False)\n",
    "\n",
    "# Verify\n",
    "print(\"\\nUnique Fiscal Years after cleaning:\")\n",
    "print(rsqa_clean['fy'].unique())\n",
    "print(rsqa_clean['fy'].value_counts())\n"
   ]
  },
  {
   "cell_type": "markdown",
   "id": "611aeb68",
   "metadata": {},
   "source": [
    "#### **Standardize hf_type Values**"
   ]
  },
  {
   "cell_type": "code",
   "execution_count": 830,
   "id": "63a089e7",
   "metadata": {},
   "outputs": [
    {
     "name": "stdout",
     "output_type": "stream",
     "text": [
      "\n",
      "Unique 'hf_type' after cleaning:\n",
      "['health center' 'hospital' 'prison' 'teaching hospital']\n"
     ]
    }
   ],
   "source": [
    "# Create a mapping to standardize 'hf_type' values\n",
    "rsqa_clean.hf_type = rsqa_clean.hf_type.str.strip().str.lower()\n",
    "hf_type_mapping = {\n",
    "    'hospital (dh,ph,rh)': 'hospital',\n",
    "}\n",
    "\n",
    "# Apply the mapping to standardize values\n",
    "rsqa_clean['hf_type'] = rsqa_clean['hf_type'].replace(hf_type_mapping)\n",
    "\n",
    "# Verify\n",
    "print(\"\\nUnique 'hf_type' after cleaning:\")\n",
    "print(rsqa_clean['hf_type'].unique())\n"
   ]
  },
  {
   "cell_type": "markdown",
   "id": "e6dddb69",
   "metadata": {},
   "source": [
    "#### **Remove 'Prison' and 'Teaching Hospital' Samples**"
   ]
  },
  {
   "cell_type": "code",
   "execution_count": 831,
   "id": "35c4ce60",
   "metadata": {},
   "outputs": [
    {
     "name": "stdout",
     "output_type": "stream",
     "text": [
      "\n",
      "Unique 'hf_type' after removal:\n",
      "['health center' 'hospital']\n",
      "\n",
      "Data shape after filtering:\n",
      "(24490, 12)\n"
     ]
    }
   ],
   "source": [
    "# Filter out rows where 'hf_type' is either 'prison' or 'teaching hospital'\n",
    "rsqa_clean = rsqa_clean[~rsqa_clean['hf_type'].isin(['prison', 'teaching hospital'])]\n",
    "\n",
    "# Verify the removal\n",
    "print(\"\\nUnique 'hf_type' after removal:\")\n",
    "print(rsqa_clean['hf_type'].unique())\n",
    "\n",
    "# Check the shape of the data after filtering\n",
    "print(\"\\nData shape after filtering:\")\n",
    "print(rsqa_clean.shape)\n"
   ]
  },
  {
   "cell_type": "markdown",
   "id": "391072e2",
   "metadata": {},
   "source": [
    "#### **Remove Specific Samples Based on HF Name**"
   ]
  },
  {
   "cell_type": "code",
   "execution_count": 832,
   "id": "802d231f",
   "metadata": {},
   "outputs": [
    {
     "name": "stdout",
     "output_type": "stream",
     "text": [
      "\n",
      "HF Names after removal:\n",
      "['Ruli CS' 'Nyange (ruli) CS' 'Rwankuba CS' 'Minazi CS' 'Ruli DH'\n",
      " 'Kinigi CS' 'Nyakinama CS' 'Rwaza CS' 'Ruhengeri RH'\n",
      " 'Muhoza (Ruhengeri) CS' 'Kirehe CS' 'Kirehe DH' 'Mushikiri CS'\n",
      " 'Rusumo CS' 'Musaza CS' 'Kibungo RH' 'Rukira CS' 'Rukoma Sake CS'\n",
      " 'Mutenderi CS' ' Gitwe DH' 'Gitwe CS' 'Gishweru CS' 'Muremure CS'\n",
      " ' Byimana CS' 'Ruhunda CS' 'Musha (rwamagana) CS' 'Munyiginya CS'\n",
      " 'Rwamagana PH' 'Nyagatare CS' 'Ntoma CS' ' Nyagatare DH'\n",
      " 'Nyagatare Prison' 'Cyabayaga CS' 'Rukara CS' 'Gahini DH' 'Gahini CS'\n",
      " 'Rutare (kayonza) CS' 'Mukarange CS' 'Kamubuga CS' 'Karambo (gakenke) CS'\n",
      " 'Mataba CS' 'Gatonde CS' 'Nemba DH' 'Kinihira PH' 'Tumba CS' 'Tare CS'\n",
      " 'Kisaro CS' 'Kinihira (rulindo) CS' 'Rugarama (gatsibo) CS' 'Gitoki CS'\n",
      " 'Kabarore CS' 'Gatsibo CS' 'Rwimitereri CS' 'Kiziguro DH' 'Simbi CS'\n",
      " 'Mukura (Huye) CS' 'Kabutare DH' 'Agahabwa CS' 'Kibilizi (gisagara) CS'\n",
      " 'Kibayi CS' 'Mugombwa CS' 'Kibilizi DH' 'Gihara CS'\n",
      " 'Kamonyi (gacurabwenge) CS' 'Mugina CS' 'Kayenzi CS' 'Remera Rukoma DH'\n",
      " 'Gashora CS' 'Juru CS' 'Nyamata CS' 'Mareba CS' 'Nyamata DH' 'Gahombo CS'\n",
      " 'Busoro CS' 'Ntyazo CS' 'Nyanza DH' 'Bushara CS' 'Camp Gihembe CS'\n",
      " 'Miyove CS' 'Byumba CS' 'Byumba DH' 'Kivumu (muhanga) CS' 'Buramba CS'\n",
      " 'Nyarusange (muhanga) CS' 'Kabgayi DH' 'Gishubi CS' 'Gakoma CS'\n",
      " 'Gakoma DH' 'Save CS' 'Gikonko (Gisagara) CS' 'Kizibere CS'\n",
      " 'Mukoma (ruhango) CS' 'Kinazi CS' 'Ruhango PH' 'Ruhango CS'\n",
      " 'Mahama Refugee Camp CS' 'Mahama Refugee Camp II CS'\n",
      " 'Gikomero (Kabgayi) CS' 'Muhanga Prison' 'Kivu CS' 'Muganza CS'\n",
      " 'Runyombyi CS' 'Munini DH' 'Nyantanga CS' 'Byimana CS' 'Gitwe DH'\n",
      " 'Nyanza Prison' 'Huye Prison' 'Nyagatare DH' 'Cyondo CS' 'Nyarurema CS'\n",
      " 'Muhambo CS' 'Mimuri CS' 'Gatunda DH' 'Cyanika (nyamagabe) CS'\n",
      " 'Nyamagabe CS' 'Kigeme CS' 'Kigeme DH' 'Mbuga CS'\n",
      " 'Kabarondo (kayonza) CS' 'Nyamirama CS' 'Rwinkwavu DH' 'Rwinkwavu CS'\n",
      " 'Shyira DH' 'Rwankeri CS' 'Birembo CS' 'Bigogwe CS' 'Kora CS'\n",
      " 'Gisenyi DH' 'Byahi (rubavu) CS' 'Gisenyi CS' 'Mudende CS'\n",
      " 'Rubavu Prison' 'Kibuye RH' 'Rufungo CS' 'Rubengera CS' 'Kibuye CS'\n",
      " 'Kiziba Camp CS' 'Kibogora DH' 'Karengera CS' 'Kibingo (nyamasheke) CS'\n",
      " 'Nyamasheke CS' 'Ruheru (kanjongo Nyamasheke) CS' 'Mubuga CS' 'Gisovu CS'\n",
      " 'Mugonero DH' 'Mugonero CS' 'Mwezi CS' 'Mukoma (nyamasheke) CS'\n",
      " 'Bushenge CS' 'Bushenge PH' 'Kamonyi (ruharambuga) CS' 'Kirinda DH'\n",
      " 'Kirinda CS' 'Rugabano CS' 'Birambo CS' 'Mwendo (karongi) CS'\n",
      " 'Nyakarenzo CS' 'Islamic (Bugarama) CS' 'Nyakabuye CS'\n",
      " 'Bugarama (rusizi) CS' 'Mibilizi DH' 'KIZIGURO dh' 'RWINKWAVU DH'\n",
      " 'KADUHA DH' 'KIGEME DH' 'NYAGATARE DH' 'KABUTARE DH' 'RUHANGO PH'\n",
      " 'MUNINI DH' 'GAHINI DH' 'KIREHE DH' 'KIBILIZI DH' 'GATONDE DH'\n",
      " 'RWAMAGANA PH' 'GISENYI DH' 'RUTONGO DH' 'KINIHIRA PH' 'MIBILIZI DH'\n",
      " 'GIHUNDWE PH' 'KIBOGORA DH' 'BUSHENGE PH' 'KIBUYE RH' 'MUGONERO DH'\n",
      " 'KABGAYI DH' 'NYANZA DH' 'RULI DH' 'NEMBA DH' 'GATUNDA DH' 'MURUNDA DH'\n",
      " 'NYAMATA DH' 'RUHENGERI RH' 'BUTARO DH' 'rukura cs' 'bushoka cs'\n",
      " 'mataha cs' 'nganzo cs' 'nemba DH' 'juru cs' 'ntarama cs' 'nyamata cs'\n",
      " 'nyamata DH' 'butaro DH' 'cyanika cs' 'gitare cs' 'gahunga cs'\n",
      " 'nyamugari cs' 'rutonde cs' 'remera mbogo cs' 'rwahi cs' 'rutongo DH'\n",
      " 'gahini DH' 'gahini cs' 'kageyo cs' 'rukara cs' 'mukarange cs'\n",
      " 'avega kigali cs' 'gatsata cs' 'kabuye cs' 'remera cs' 'kibagabaga DH'\n",
      " 'rusoro cs' 'janja cs' 'gatonde DH' 'busengo cs' 'mahama refuge cs'\n",
      " 'kigarama cs' 'musaza cs' 'kirehe cs' 'kirehe DH' 'muhoza cs'\n",
      " 'kimonyi cs' 'kinigi cs' 'ruhengeri RF' 'ngarama DH' 'nyabiheke cs'\n",
      " 'gituza cs' 'ngarama cs' 'rubona cs' 'rwamagana PH' 'murambi cs'\n",
      " 'gatunda DH' 'rukomo cs' 'nyarurema cs' 'nyagahita cs' 'rurenge cs'\n",
      " 'humure cs' 'kabarore cs' 'rugarama cs' 'gakenke cs' 'kiziguro DH'\n",
      " 'muhima DH' 'chk RH' 'muhima cs' 'la medical kanimba cs' 'cor-unum cs'\n",
      " 'biryogo cs' 'kabusunzu cs' 'nyarugenge DH' 'miyove cs' 'byumba cs'\n",
      " 'rubaya cs' 'byumba DH' 'ruli DH' 'ruli cs' 'rushashi cs' 'rwankuba cs'\n",
      " 'muhondo cs' 'jarama cs' 'rukoma-sake cs' 'zaza cs' 'kibungo RH'\n",
      " 'gasetsa cs' 'bethasaid cs' 'kicukiro cs' 'gikondo cs' 'masaka DH'\n",
      " 'masoro cs' 'kabarondo cs' 'gwinkwavu cs' 'gwinkwavu DH' 'karama cs'\n",
      " 'cyarubare cs']\n",
      "\n",
      "Data shape after filtering:\n",
      "(24349, 12)\n"
     ]
    }
   ],
   "source": [
    "# Remove rows where 'HF Name' is 'Butare Chu Hnr (huye)' or 'kanombe RH'\n",
    "rsqa_clean = rsqa_clean[~rsqa_clean['hf_name'].isin(['Butare Chu Hnr (huye)', 'kanombe RH'])]\n",
    "\n",
    "# Verify the removal\n",
    "print(\"\\nHF Names after removal:\")\n",
    "print(rsqa_clean['hf_name'].unique())\n",
    "\n",
    "# Check the shape of the data after filtering\n",
    "print(\"\\nData shape after filtering:\")\n",
    "print(rsqa_clean.shape)\n"
   ]
  },
  {
   "cell_type": "markdown",
   "id": "0ae1cd6c",
   "metadata": {},
   "source": [
    "#### **Update hf_type for Specific Facility**"
   ]
  },
  {
   "cell_type": "code",
   "execution_count": 833,
   "id": "d690c464",
   "metadata": {},
   "outputs": [
    {
     "name": "stdout",
     "output_type": "stream",
     "text": [
      "\n",
      "Updated 'hf_type' for 'kiziguro dh':\n",
      "Empty DataFrame\n",
      "Columns: [hf_name, hf_type]\n",
      "Index: []\n",
      "Empty DataFrame\n",
      "Columns: [hf_name, hf_type]\n",
      "Index: []\n",
      "\n",
      "Unique 'hf_type' after update:\n",
      "['health center' 'hospital']\n"
     ]
    }
   ],
   "source": [
    "# Update hf_type for 'kiziguro dh' from 'health center' to 'hospital'\n",
    "rsqa_clean.loc[rsqa_clean['hf_name'] == 'kiziguro dh', 'hf_type'] = 'hospital'\n",
    "rsqa_clean.loc[rsqa_clean['hf_name'] == 'gwinkwavu dh', 'hf_type'] = 'hospital'\n",
    "\n",
    "# Verify the change\n",
    "print(\"\\nUpdated 'hf_type' for 'kiziguro dh':\")\n",
    "print(rsqa_clean[rsqa_clean['hf_name'] == 'kiziguro dh'][['hf_name', 'hf_type']])\n",
    "print(rsqa_clean[rsqa_clean['hf_name'] == 'gwinkwavu dh'][['hf_name', 'hf_type']])\n",
    "\n",
    "# Verify the unique hf_type values\n",
    "print(\"\\nUnique 'hf_type' after update:\")\n",
    "print(rsqa_clean['hf_type'].unique())\n"
   ]
  },
  {
   "cell_type": "markdown",
   "id": "3190424a",
   "metadata": {},
   "source": [
    "#### **Correct hf_type for 'CT' Facilities Labeled as 'Hospital'**"
   ]
  },
  {
   "cell_type": "code",
   "execution_count": 834,
   "id": "424577e7",
   "metadata": {},
   "outputs": [
    {
     "name": "stdout",
     "output_type": "stream",
     "text": [
      "\n",
      "Updated 'hf_type' for 'CT' facilities mistakenly labeled as 'hospital':\n",
      "Empty DataFrame\n",
      "Columns: [hf_name, hf_tb_type, hf_type]\n",
      "Index: []\n",
      "\n",
      "Unique 'hf_type' after update:\n",
      "['health center' 'hospital']\n"
     ]
    },
    {
     "data": {
      "text/plain": [
       "(24349, 12)"
      ]
     },
     "execution_count": 834,
     "metadata": {},
     "output_type": "execute_result"
    }
   ],
   "source": [
    "# Correct hf_type for facilities where hf_tb_type is 'CT' and hf_type is 'hospital'\n",
    "rsqa_clean.loc[(rsqa_clean['hf_tb_type'] == 'CT') & (rsqa_clean['hf_type'] == 'hospital'), 'hf_type'] = 'health center'\n",
    "\n",
    "# Verify the change\n",
    "print(\"\\nUpdated 'hf_type' for 'CT' facilities mistakenly labeled as 'hospital':\")\n",
    "print(rsqa_clean[(rsqa_clean['hf_tb_type'] == 'CT') & (rsqa_clean['hf_type'] == 'hospital')][['hf_name', 'hf_tb_type', 'hf_type']])\n",
    "\n",
    "# Verify the unique hf_type values\n",
    "print(\"\\nUnique 'hf_type' after update:\")\n",
    "print(rsqa_clean['hf_type'].unique())\n",
    "rsqa_clean.shape\n"
   ]
  },
  {
   "cell_type": "markdown",
   "id": "2abaf6e1",
   "metadata": {},
   "source": [
    "#### **Update hf_type for Hospitals Ending with 'cs' or 'CS'**"
   ]
  },
  {
   "cell_type": "code",
   "execution_count": 835,
   "id": "8c44cfa2",
   "metadata": {},
   "outputs": [
    {
     "name": "stdout",
     "output_type": "stream",
     "text": [
      "Before updating hf_type to 'health center': ['Save CS' 'Ruhango CS']\n",
      "After updating hf_type, still marked as hospital: []\n"
     ]
    }
   ],
   "source": [
    "# Initial mask for mistakened hospitals\n",
    "mask = rsqa_clean['hf_name'].str.endswith(('cs', 'CS')) & (rsqa_clean['hf_type'] == 'hospital')\n",
    "\n",
    "print(\"Before updating hf_type to 'health center':\", rsqa_clean[mask]['hf_name'].unique())\n",
    "\n",
    "# Apply the fix\n",
    "rsqa_clean.loc[mask, 'hf_type'] = 'health center'\n",
    "\n",
    "# Recreate mask (optional: check if any were still missed)\n",
    "new_mask = rsqa_clean['hf_name'].str.endswith(('cs', 'CS')) & (rsqa_clean['hf_type'] == 'hospital')\n",
    "\n",
    "print(\"After updating hf_type, still marked as hospital:\", rsqa_clean[new_mask]['hf_name'].unique())"
   ]
  },
  {
   "cell_type": "markdown",
   "id": "43365a11",
   "metadata": {},
   "source": [
    "#### **Update hf_type for Health Centers Ending with 'dh', 'ph', 'rh' or 'capitalized'**"
   ]
  },
  {
   "cell_type": "code",
   "execution_count": 836,
   "id": "22ef31f1",
   "metadata": {},
   "outputs": [
    {
     "name": "stdout",
     "output_type": "stream",
     "text": [
      "Before updating hf_type to 'hosptials': [' Nyagatare DH' 'Kiziguro DH' 'gwinkwavu DH']\n",
      "Before updating hf_type to 'hosptials': []\n"
     ]
    }
   ],
   "source": [
    "# Identify and correct hf_type for facilities whose hf_name ends with 'cs' or 'CS' but are marked as 'hospital'\n",
    "mask = rsqa_clean['hf_name'].str.endswith(('dh', 'ph', 'rh', 'DH', 'PH', 'RH')) & (rsqa_clean['hf_type'] == 'health center')\n",
    "\n",
    "print(\"Before updating hf_type to 'hosptials':\", rsqa_clean[mask]['hf_name'].unique())\n",
    "\n",
    "# Update the hf_type to 'health center' for those facilities\n",
    "rsqa_clean.loc[mask, 'hf_type'] = 'hospital'\n",
    "\n",
    "new_mask = rsqa_clean['hf_name'].str.endswith(('dh', 'ph', 'rh', 'DH', 'PH', 'RH')) & (rsqa_clean['hf_type'] == 'health center')\n",
    "\n",
    "# Verify the change\n",
    "print(\"Before updating hf_type to 'hosptials':\", rsqa_clean[new_mask]['hf_name'].unique())\n"
   ]
  },
  {
   "cell_type": "markdown",
   "id": "4bd2ae62",
   "metadata": {},
   "source": [
    "#### **Extract Categorical and Numerical Columns**"
   ]
  },
  {
   "cell_type": "code",
   "execution_count": 837,
   "id": "d5682586",
   "metadata": {},
   "outputs": [],
   "source": [
    "rsqa_clean[\"num\"] = pd.to_numeric(rsqa_clean[\"num\"], errors=\"coerce\")\n",
    "rsqa_clean[\"den\"] = pd.to_numeric(rsqa_clean[\"den\"], errors=\"coerce\")"
   ]
  },
  {
   "cell_type": "code",
   "execution_count": 838,
   "id": "2afeec75",
   "metadata": {},
   "outputs": [
    {
     "name": "stdout",
     "output_type": "stream",
     "text": [
      "\n",
      "Categorical Columns:\n",
      "['hf_name', 'genexpert_site', 'hf_type', 'hf_tb_type', 'fy', 'province', 'district', 'summary_group', 'normes', 'item_name']\n",
      "\n",
      "Numerical Columns:\n",
      "['num', 'den']\n"
     ]
    }
   ],
   "source": [
    "# Extract categorical columns (typically object type or category dtype)\n",
    "categorical_columns = rsqa_clean.select_dtypes(include=['object', 'category']).columns.tolist()\n",
    "\n",
    "# Extract numerical columns (typically int64 or float64 dtype)\n",
    "numerical_columns = rsqa_clean.select_dtypes(include=['number']).columns.tolist()\n",
    "\n",
    "# Display results\n",
    "print(\"\\nCategorical Columns:\")\n",
    "print(categorical_columns)\n",
    "\n",
    "print(\"\\nNumerical Columns:\")\n",
    "print(numerical_columns)"
   ]
  },
  {
   "cell_type": "markdown",
   "id": "3fce177c",
   "metadata": {},
   "source": [
    "#### **Transform Categorical Columns to Lowercase**"
   ]
  },
  {
   "cell_type": "code",
   "execution_count": 839,
   "id": "7bb401d8",
   "metadata": {},
   "outputs": [
    {
     "name": "stdout",
     "output_type": "stream",
     "text": [
      "\n",
      "Preview of Categorical Columns after Lowercasing:\n"
     ]
    },
    {
     "data": {
      "text/html": [
       "<div>\n",
       "<style scoped>\n",
       "    .dataframe tbody tr th:only-of-type {\n",
       "        vertical-align: middle;\n",
       "    }\n",
       "\n",
       "    .dataframe tbody tr th {\n",
       "        vertical-align: top;\n",
       "    }\n",
       "\n",
       "    .dataframe thead th {\n",
       "        text-align: right;\n",
       "    }\n",
       "</style>\n",
       "<table border=\"1\" class=\"dataframe\">\n",
       "  <thead>\n",
       "    <tr style=\"text-align: right;\">\n",
       "      <th></th>\n",
       "      <th>hf_name</th>\n",
       "      <th>genexpert_site</th>\n",
       "      <th>hf_type</th>\n",
       "      <th>hf_tb_type</th>\n",
       "      <th>fy</th>\n",
       "      <th>province</th>\n",
       "      <th>district</th>\n",
       "      <th>summary_group</th>\n",
       "      <th>normes</th>\n",
       "      <th>item_name</th>\n",
       "      <th>num</th>\n",
       "      <th>den</th>\n",
       "    </tr>\n",
       "  </thead>\n",
       "  <tbody>\n",
       "    <tr>\n",
       "      <th>0</th>\n",
       "      <td>ruli cs</td>\n",
       "      <td>no</td>\n",
       "      <td>health center</td>\n",
       "      <td>ct</td>\n",
       "      <td>2020-2021</td>\n",
       "      <td>northern</td>\n",
       "      <td>gakenke</td>\n",
       "      <td>are algorithms for tb screening, tb diagnosis ...</td>\n",
       "      <td>toute fosa doit rendre disponible des algorith...</td>\n",
       "      <td>les services vih/arv, consultations externes, ...</td>\n",
       "      <td>3.0</td>\n",
       "      <td>4.0</td>\n",
       "    </tr>\n",
       "    <tr>\n",
       "      <th>1</th>\n",
       "      <td>ruli cs</td>\n",
       "      <td>no</td>\n",
       "      <td>health center</td>\n",
       "      <td>ct</td>\n",
       "      <td>2020-2021</td>\n",
       "      <td>northern</td>\n",
       "      <td>gakenke</td>\n",
       "      <td>are tb monitoring tools existing, update and w...</td>\n",
       "      <td>les prestataires doivent avoir les connaissanc...</td>\n",
       "      <td>les prestataires des services arv, consultatio...</td>\n",
       "      <td>4.0</td>\n",
       "      <td>4.0</td>\n",
       "    </tr>\n",
       "    <tr>\n",
       "      <th>2</th>\n",
       "      <td>ruli cs</td>\n",
       "      <td>no</td>\n",
       "      <td>health center</td>\n",
       "      <td>ct</td>\n",
       "      <td>2020-2021</td>\n",
       "      <td>northern</td>\n",
       "      <td>gakenke</td>\n",
       "      <td>is active case finding conducted in tb high ri...</td>\n",
       "      <td>NaN</td>\n",
       "      <td>sur 10 nouveaux prisonniers entrés au cours de...</td>\n",
       "      <td>NaN</td>\n",
       "      <td>10.0</td>\n",
       "    </tr>\n",
       "    <tr>\n",
       "      <th>3</th>\n",
       "      <td>ruli cs</td>\n",
       "      <td>no</td>\n",
       "      <td>health center</td>\n",
       "      <td>ct</td>\n",
       "      <td>2020-2021</td>\n",
       "      <td>northern</td>\n",
       "      <td>gakenke</td>\n",
       "      <td>is active case finding conducted in tb high ri...</td>\n",
       "      <td>NaN</td>\n",
       "      <td>sur 10 nouveaux prisonniers sortants au cours ...</td>\n",
       "      <td>NaN</td>\n",
       "      <td>10.0</td>\n",
       "    </tr>\n",
       "    <tr>\n",
       "      <th>4</th>\n",
       "      <td>ruli cs</td>\n",
       "      <td>no</td>\n",
       "      <td>health center</td>\n",
       "      <td>ct</td>\n",
       "      <td>2020-2021</td>\n",
       "      <td>northern</td>\n",
       "      <td>gakenke</td>\n",
       "      <td>are tb diagnostics continuously functional (mi...</td>\n",
       "      <td>NaN</td>\n",
       "      <td>sur les 10 derniers patients hospitalises( 5 p...</td>\n",
       "      <td>NaN</td>\n",
       "      <td>10.0</td>\n",
       "    </tr>\n",
       "  </tbody>\n",
       "</table>\n",
       "</div>"
      ],
      "text/plain": [
       "   hf_name genexpert_site        hf_type hf_tb_type         fy  province  \\\n",
       "0  ruli cs             no  health center         ct  2020-2021  northern   \n",
       "1  ruli cs             no  health center         ct  2020-2021  northern   \n",
       "2  ruli cs             no  health center         ct  2020-2021  northern   \n",
       "3  ruli cs             no  health center         ct  2020-2021  northern   \n",
       "4  ruli cs             no  health center         ct  2020-2021  northern   \n",
       "\n",
       "  district                                      summary_group  \\\n",
       "0  gakenke  are algorithms for tb screening, tb diagnosis ...   \n",
       "1  gakenke  are tb monitoring tools existing, update and w...   \n",
       "2  gakenke  is active case finding conducted in tb high ri...   \n",
       "3  gakenke  is active case finding conducted in tb high ri...   \n",
       "4  gakenke  are tb diagnostics continuously functional (mi...   \n",
       "\n",
       "                                              normes  \\\n",
       "0  toute fosa doit rendre disponible des algorith...   \n",
       "1  les prestataires doivent avoir les connaissanc...   \n",
       "2                                                NaN   \n",
       "3                                                NaN   \n",
       "4                                                NaN   \n",
       "\n",
       "                                           item_name  num   den  \n",
       "0  les services vih/arv, consultations externes, ...  3.0   4.0  \n",
       "1  les prestataires des services arv, consultatio...  4.0   4.0  \n",
       "2  sur 10 nouveaux prisonniers entrés au cours de...  NaN  10.0  \n",
       "3  sur 10 nouveaux prisonniers sortants au cours ...  NaN  10.0  \n",
       "4  sur les 10 derniers patients hospitalises( 5 p...  NaN  10.0  "
      ]
     },
     "execution_count": 839,
     "metadata": {},
     "output_type": "execute_result"
    }
   ],
   "source": [
    "# Loop through each categorical column and transform its values to lowercase\n",
    "for col in categorical_columns:\n",
    "    rsqa_clean[col] = rsqa_clean[col].str.strip().str.lower()\n",
    "\n",
    "# Verify the changes by previewing the transformed categorical columns\n",
    "print(\"\\nPreview of Categorical Columns after Lowercasing:\")\n",
    "rsqa_clean.head()\n"
   ]
  },
  {
   "cell_type": "markdown",
   "id": "d49ce60b",
   "metadata": {},
   "source": [
    "#### **Check and Remove Duplicates**"
   ]
  },
  {
   "cell_type": "code",
   "execution_count": 840,
   "id": "b1033e48",
   "metadata": {},
   "outputs": [
    {
     "name": "stdout",
     "output_type": "stream",
     "text": [
      "shape before removing duplicates:\n",
      "(24349, 12)\n",
      "\n",
      "Duplicate Rows: (436, 12)\n",
      "\n",
      "Shape after removing duplicates:\n"
     ]
    },
    {
     "data": {
      "text/plain": [
       "(23913, 12)"
      ]
     },
     "execution_count": 840,
     "metadata": {},
     "output_type": "execute_result"
    }
   ],
   "source": [
    "print(\"shape before removing duplicates:\")\n",
    "print(rsqa_clean.shape)\n",
    "# Check for duplicates\n",
    "duplicate_rows = rsqa_clean[rsqa_clean.duplicated()]\n",
    "\n",
    "# Display the duplicate rows (if any)\n",
    "print(\"\\nDuplicate Rows:\", duplicate_rows.shape)\n",
    "duplicate_rows\n",
    "\n",
    "# Remove duplicates\n",
    "rsqa_clean = rsqa_clean.drop_duplicates()\n",
    "\n",
    "# # Verify the shape of the DataFrame after removing duplicates\n",
    "print(\"\\nShape after removing duplicates:\")\n",
    "rsqa_clean.shape"
   ]
  },
  {
   "cell_type": "markdown",
   "id": "784cc8ed",
   "metadata": {},
   "source": [
    "#### **version 2: Remove a few emerged teaching hospitals**"
   ]
  },
  {
   "cell_type": "code",
   "execution_count": 841,
   "id": "113bb49b",
   "metadata": {},
   "outputs": [
    {
     "name": "stdout",
     "output_type": "stream",
     "text": [
      "\n",
      "Data after removing rows:\n",
      "   hf_name genexpert_site        hf_type hf_tb_type         fy  province  \\\n",
      "0  ruli cs             no  health center         ct  2020-2021  northern   \n",
      "1  ruli cs             no  health center         ct  2020-2021  northern   \n",
      "2  ruli cs             no  health center         ct  2020-2021  northern   \n",
      "3  ruli cs             no  health center         ct  2020-2021  northern   \n",
      "4  ruli cs             no  health center         ct  2020-2021  northern   \n",
      "\n",
      "  district                                      summary_group  \\\n",
      "0  gakenke  are algorithms for tb screening, tb diagnosis ...   \n",
      "1  gakenke  are tb monitoring tools existing, update and w...   \n",
      "2  gakenke  is active case finding conducted in tb high ri...   \n",
      "3  gakenke  is active case finding conducted in tb high ri...   \n",
      "4  gakenke  are tb diagnostics continuously functional (mi...   \n",
      "\n",
      "                                              normes  \\\n",
      "0  toute fosa doit rendre disponible des algorith...   \n",
      "1  les prestataires doivent avoir les connaissanc...   \n",
      "2                                                NaN   \n",
      "3                                                NaN   \n",
      "4                                                NaN   \n",
      "\n",
      "                                           item_name  num   den  \n",
      "0  les services vih/arv, consultations externes, ...  3.0   4.0  \n",
      "1  les prestataires des services arv, consultatio...  4.0   4.0  \n",
      "2  sur 10 nouveaux prisonniers entrés au cours de...  NaN  10.0  \n",
      "3  sur 10 nouveaux prisonniers sortants au cours ...  NaN  10.0  \n",
      "4  sur les 10 derniers patients hospitalises( 5 p...  NaN  10.0  \n"
     ]
    }
   ],
   "source": [
    "# Create a boolean mask for 'hf_name' starting with specific prefixes and ending with specific suffixes\n",
    "mask = rsqa_clean['hf_name'].str.startswith((\"ch\", \"kabgayi\", 'kibuye', 'kigali', 'ngoma', 'huye', 'ruhengeri', 'rwanda')) & \\\n",
    "       rsqa_clean['hf_name'].str.endswith((\"dh\", \"ph\", 'rh'))\n",
    "\n",
    "# Apply the mask to remove the matching rows\n",
    "rsqa_clean = rsqa_clean[~mask]\n",
    "\n",
    "# Verify the changes\n",
    "print(\"\\nData after removing rows:\")\n",
    "print(rsqa_clean.head())\n"
   ]
  },
  {
   "cell_type": "markdown",
   "id": "c89a5373",
   "metadata": {},
   "source": [
    "#### **Remove `Prison` related question in `screening` section**"
   ]
  },
  {
   "cell_type": "code",
   "execution_count": 842,
   "id": "6e97f3a9",
   "metadata": {},
   "outputs": [],
   "source": [
    "# Define the items to exclude\n",
    "items_to_exclude = [\n",
    "    \"Sur 10 nouveaux prisonniers entrÃ©s au cours de la pÃ©riode evaluÃ©e, combien ont beneficiÃ© du screening TB Ã¡ l'entrÃ©e\",\n",
    "    \"Sur 10 nouveaux prisonniers sortants au cours de la pÃ©riode evaluÃ©e, combien ont beneficiÃ© du screening TB Ã¡ la sortie\"\n",
    "]\n",
    "\n",
    "# Filter out rows where item_name is in items_to_exclude\n",
    "rsqa_clean = rsqa_clean[~rsqa_clean[\"item_name\"].isin(items_to_exclude)]"
   ]
  },
  {
   "cell_type": "markdown",
   "id": "bec7b219",
   "metadata": {},
   "source": [
    "#### **Feature engineering**: \n",
    "Derive a new 'section' column by mapping 'summary_group' to broader categories\n"
   ]
  },
  {
   "cell_type": "code",
   "execution_count": 843,
   "id": "6a77ab2e",
   "metadata": {},
   "outputs": [
    {
     "data": {
      "text/plain": [
       "array(['are algorithms for tb screening, tb diagnosis and tb treatment available and displayed in health facilities?[questions 1 and 10]',\n",
       "       'are tb monitoring tools existing, update and well used; supervisions and internal trainings conducted? [questions11, 12, 38, 39, 40, 41 and 42]',\n",
       "       'is active case finding conducted in tb high risk groups?[questions 2, 8 and 9]',\n",
       "       'are tb diagnostics continuously functional (microscopy and expert) and their results available timely (microscopy, expert and culture)?[questions 3, 4, 5, 6 and 7]',\n",
       "       'are stocks of tb drugs and reagents well monitored? [questions 13, 14 and 15]',\n",
       "       'are tb patients early initiated on tb treatment and on art (if indicated), and their bacteriological control performed according to guidelines?[questions 16, 17, 18 and 19]',\n",
       "       'does the bmi monitored for tb patients and nutritional support provided to the eligible patients?[questions new_70 and new_71]',\n",
       "       'does tb infection control plan exist, implemented and its implementation monitored?[questions 20, 21, 22, 23, 24 and 25]',\n",
       "       'is the general population informed on cough hygiene, coughing patients separated from others, health facilities workers screened for tb?[questions 26, 27, 28, 29, 30, 31 and 32]',\n",
       "       'are rooms where tb services are provided well ventilated and health workers personal protection existing and used? [questions 33, 34, 35, 36 and 37]',\n",
       "       'are patients with multi drugs resistant tb (mdr-tb) in ambulatory phase controlled (microscopy and culture) for effectiveness of their treatment? [questions new 46, new 47 and new 48]',\n",
       "       'are there personnel trained on practical approach to lung health (pal) strategy and pal instruments available for use? [questionsnew 44 and new 45]',\n",
       "       'leprosy control[questions 43, 44, 45, 46, 47, 48, 49, 50 and 51]',\n",
       "       'active drug safety monitoring and management (adsm) [questions 59, 60 and 61]',\n",
       "       'tpt implementation [questions 70 and71]'], dtype=object)"
      ]
     },
     "execution_count": 843,
     "metadata": {},
     "output_type": "execute_result"
    }
   ],
   "source": [
    "rsqa_clean.summary_group.unique()"
   ]
  },
  {
   "cell_type": "code",
   "execution_count": 844,
   "id": "e370b828",
   "metadata": {},
   "outputs": [],
   "source": [
    "section_mapping = {\n",
    "    \"is active case finding conducted in tb high risk groups?[questions 2, 8 and 9]\": \"screening\",\n",
    "    \"are tb diagnostics continuously functional (microscopy and expert) and their results available timely (microscopy, expert and culture)?[questions 3, 4, 5, 6 and 7]\": \"diagnosis\",\n",
    "    \"are tb patients early initiated on tb treatment and on art (if indicated), and their bacteriological control performed according to guidelines?[questions 16, 17, 18 and 19]\": \"treatment\",\n",
    "    \"does the bmi monitored for tb patients and nutritional support provided to the eligible patients?[questions new_70 and new_71]\": \"treatment\",\n",
    "    \"are rooms where tb services are provided well ventilated and health workers personal protection existing and used? [questions 33, 34, 35, 36 and 37]\": \"infection_prevention\",\n",
    "    \"does the bmi monitored for tb patients and nutritional support provided to the eligible patients?[questions new_70 and new_71]\": \"infection_prevention\",\n",
    "}\n",
    "\n",
    "rsqa_clean[\"section\"] = rsqa_clean[\"summary_group\"].map(section_mapping)\n",
    "\n",
    "# Keep only rows where section is screening, diagnosis, or treatment\n",
    "rsqa_clean = rsqa_clean[rsqa_clean[\"section\"].isin([\"screening\", \"diagnosis\", \"treatment\", \"infection_prevention\"])]"
   ]
  },
  {
   "cell_type": "markdown",
   "id": "92134766",
   "metadata": {},
   "source": [
    "#### **Grouping**"
   ]
  },
  {
   "cell_type": "code",
   "execution_count": 845,
   "id": "4ea2c837",
   "metadata": {},
   "outputs": [],
   "source": [
    "# rsqa_clean = (\n",
    "#     rsqa_clean.groupby(\n",
    "#         ['province', 'section', 'summary_group', \"genexpert_site\", 'item_name', 'hf_name', 'hf_tb_type', 'hf_type', 'fy']\n",
    "#     )\n",
    "#     .agg({'num': 'sum', 'den': 'sum'})\n",
    "#     .reset_index()\n",
    "# )"
   ]
  },
  {
   "cell_type": "markdown",
   "id": "53db5534",
   "metadata": {},
   "source": [
    "#### **Remove on-applicable (N/A) questions**"
   ]
  },
  {
   "cell_type": "markdown",
   "id": "7b21ea5e",
   "metadata": {},
   "source": [
    "filter out rows that meet one or more of these conditions, meaning the question wasn't applicable:\n",
    "\n",
    "- den is missing → can't assess\n",
    "- num is missing but den > 0 → incomplete data\n",
    "- num == 0 and den == 0 → nothing to measure\n",
    "- num > den → logically incorrect in most performance indicators"
   ]
  },
  {
   "cell_type": "code",
   "execution_count": 846,
   "id": "5a765fbf",
   "metadata": {},
   "outputs": [
    {
     "name": "stdout",
     "output_type": "stream",
     "text": [
      "valid size:  (6214, 13)\n",
      "invalid size:  (2110, 13)\n"
     ]
    }
   ],
   "source": [
    "valid_df = rsqa_clean[\n",
    "    (rsqa_clean[\"num\"] <= rsqa_clean[\"den\"]) &  # num must not be greater than den\n",
    "    ~(rsqa_clean[\"num\"].isna() & rsqa_clean[\"den\"] > 0) &  # Exclude cases where num is NaN but den > 0\n",
    "    ~((rsqa_clean[\"num\"] == 0) & (rsqa_clean[\"den\"] == 0)) &  # Exclude cases where both num and den are 0\n",
    "    ~(rsqa_clean[\"den\"].isna())  # Exclude cases where den is NaN (new fix)\n",
    "]\n",
    "\n",
    "invalid_df = rsqa_clean[\n",
    "    (rsqa_clean[\"num\"] > rsqa_clean[\"den\"]) |  # Invalid if num > den\n",
    "    ((rsqa_clean[\"num\"].isna()) & (rsqa_clean[\"den\"] > 0)) |  # Invalid if num is NaN but den > 0\n",
    "    ((rsqa_clean[\"num\"] == 0) & (rsqa_clean[\"den\"] == 0)) |  # Invalid if both num and den are 0\n",
    "    (rsqa_clean[\"den\"].isna()) |  # Invalid if den is NaN\n",
    "    ((rsqa_clean[\"num\"].isna()) & (rsqa_clean[\"den\"] == 0))  # NEW FIX: Invalid if num is NaN and den = 0\n",
    "]\n",
    "\n",
    "print(\"valid size: \", valid_df.shape)\n",
    "print(\"invalid size: \", invalid_df.shape)\n",
    "rsqa_clean = valid_df"
   ]
  },
  {
   "cell_type": "markdown",
   "id": "88c20737",
   "metadata": {},
   "source": [
    "#### **Normalize or Scale each Question**"
   ]
  },
  {
   "cell_type": "code",
   "execution_count": 847,
   "id": "5766286d",
   "metadata": {},
   "outputs": [],
   "source": [
    "# Ensure numerical values\n",
    "rsqa_clean[\"num\"] = pd.to_numeric(rsqa_clean[\"num\"], errors=\"coerce\")\n",
    "rsqa_clean[\"den\"] = pd.to_numeric(rsqa_clean[\"den\"], errors=\"coerce\")\n",
    "\n",
    "# Compute score safely\n",
    "rsqa_clean[\"score_out_of_100\"] = np.where(\n",
    "    (rsqa_clean[\"den\"] > 0) & (rsqa_clean[\"num\"].notna()),\n",
    "    (rsqa_clean[\"num\"] / rsqa_clean[\"den\"]) * 100,\n",
    "    np.nan\n",
    ")"
   ]
  },
  {
   "cell_type": "code",
   "execution_count": 864,
   "id": "5d970166",
   "metadata": {},
   "outputs": [
    {
     "data": {
      "text/plain": [
       "section\n",
       "infection_prevention    2211\n",
       "diagnosis               1586\n",
       "treatment               1450\n",
       "screening                967\n",
       "Name: count, dtype: int64"
      ]
     },
     "execution_count": 864,
     "metadata": {},
     "output_type": "execute_result"
    }
   ],
   "source": [
    "rsqa_clean.section.value_counts()"
   ]
  },
  {
   "cell_type": "markdown",
   "id": "bd545f3b",
   "metadata": {},
   "source": [
    "#### **Trend by screening and health centers each fiscal year from 2020 - 2024**"
   ]
  },
  {
   "cell_type": "code",
   "execution_count": 849,
   "id": "f8b9c4a2",
   "metadata": {},
   "outputs": [
    {
     "data": {
      "text/html": [
       "<div>\n",
       "<style scoped>\n",
       "    .dataframe tbody tr th:only-of-type {\n",
       "        vertical-align: middle;\n",
       "    }\n",
       "\n",
       "    .dataframe tbody tr th {\n",
       "        vertical-align: top;\n",
       "    }\n",
       "\n",
       "    .dataframe thead th {\n",
       "        text-align: right;\n",
       "    }\n",
       "</style>\n",
       "<table border=\"1\" class=\"dataframe\">\n",
       "  <thead>\n",
       "    <tr style=\"text-align: right;\">\n",
       "      <th></th>\n",
       "      <th>fy</th>\n",
       "      <th>average_score</th>\n",
       "      <th>num_facilities</th>\n",
       "    </tr>\n",
       "  </thead>\n",
       "  <tbody>\n",
       "    <tr>\n",
       "      <th>0</th>\n",
       "      <td>2020-2021</td>\n",
       "      <td>86.050860</td>\n",
       "      <td>73</td>\n",
       "    </tr>\n",
       "    <tr>\n",
       "      <th>1</th>\n",
       "      <td>2021-2022</td>\n",
       "      <td>83.625903</td>\n",
       "      <td>69</td>\n",
       "    </tr>\n",
       "    <tr>\n",
       "      <th>2</th>\n",
       "      <td>2022-2023</td>\n",
       "      <td>83.694622</td>\n",
       "      <td>31</td>\n",
       "    </tr>\n",
       "    <tr>\n",
       "      <th>3</th>\n",
       "      <td>2023-2024</td>\n",
       "      <td>80.145903</td>\n",
       "      <td>69</td>\n",
       "    </tr>\n",
       "  </tbody>\n",
       "</table>\n",
       "</div>"
      ],
      "text/plain": [
       "          fy  average_score  num_facilities\n",
       "0  2020-2021      86.050860              73\n",
       "1  2021-2022      83.625903              69\n",
       "2  2022-2023      83.694622              31\n",
       "3  2023-2024      80.145903              69"
      ]
     },
     "execution_count": 849,
     "metadata": {},
     "output_type": "execute_result"
    }
   ],
   "source": [
    "screening_hc = rsqa_clean[\n",
    "    (rsqa_clean['section'] == 'screening') &\n",
    "    (rsqa_clean['hf_type'] == 'health center')\n",
    "]\n",
    "\n",
    "# Group by fy and facility, aggregate num and den\n",
    "facility_scores = screening_hc.groupby(['fy', 'hf_name']).agg(\n",
    "    total_num=('num', 'sum'),\n",
    "    total_den=('den', 'sum')\n",
    ").reset_index()\n",
    "\n",
    "# Recalculate score_out_of_100\n",
    "facility_scores['score_out_of_100'] = 100 * facility_scores['total_num'] / facility_scores['total_den']\n",
    "\n",
    "# Then average across all facilities per year\n",
    "hc_result = facility_scores.groupby('fy').agg(\n",
    "    average_score=('score_out_of_100', 'mean'),\n",
    "    num_facilities=('hf_name', 'nunique')\n",
    ").reset_index()\n",
    "hc_result"
   ]
  },
  {
   "cell_type": "markdown",
   "id": "364fc2da",
   "metadata": {},
   "source": [
    "`HC-CDT`"
   ]
  },
  {
   "cell_type": "code",
   "execution_count": 850,
   "id": "4a0b483f",
   "metadata": {},
   "outputs": [
    {
     "data": {
      "text/html": [
       "<div>\n",
       "<style scoped>\n",
       "    .dataframe tbody tr th:only-of-type {\n",
       "        vertical-align: middle;\n",
       "    }\n",
       "\n",
       "    .dataframe tbody tr th {\n",
       "        vertical-align: top;\n",
       "    }\n",
       "\n",
       "    .dataframe thead th {\n",
       "        text-align: right;\n",
       "    }\n",
       "</style>\n",
       "<table border=\"1\" class=\"dataframe\">\n",
       "  <thead>\n",
       "    <tr style=\"text-align: right;\">\n",
       "      <th></th>\n",
       "      <th>fy</th>\n",
       "      <th>average_score</th>\n",
       "      <th>num_facilities</th>\n",
       "    </tr>\n",
       "  </thead>\n",
       "  <tbody>\n",
       "    <tr>\n",
       "      <th>0</th>\n",
       "      <td>2020-2021</td>\n",
       "      <td>91.836735</td>\n",
       "      <td>29</td>\n",
       "    </tr>\n",
       "    <tr>\n",
       "      <th>1</th>\n",
       "      <td>2021-2022</td>\n",
       "      <td>85.980057</td>\n",
       "      <td>28</td>\n",
       "    </tr>\n",
       "    <tr>\n",
       "      <th>2</th>\n",
       "      <td>2022-2023</td>\n",
       "      <td>88.857143</td>\n",
       "      <td>12</td>\n",
       "    </tr>\n",
       "    <tr>\n",
       "      <th>3</th>\n",
       "      <td>2023-2024</td>\n",
       "      <td>77.967172</td>\n",
       "      <td>29</td>\n",
       "    </tr>\n",
       "  </tbody>\n",
       "</table>\n",
       "</div>"
      ],
      "text/plain": [
       "          fy  average_score  num_facilities\n",
       "0  2020-2021      91.836735              29\n",
       "1  2021-2022      85.980057              28\n",
       "2  2022-2023      88.857143              12\n",
       "3  2023-2024      77.967172              29"
      ]
     },
     "execution_count": 850,
     "metadata": {},
     "output_type": "execute_result"
    }
   ],
   "source": [
    "# Step 1: Filter the DataFrame\n",
    "screening_hc_cdt = rsqa_clean[\n",
    "    (rsqa_clean['section'] == 'screening') &\n",
    "    (rsqa_clean['hf_type'] == 'health center') &\n",
    "    (rsqa_clean['hf_tb_type'] == 'cdt') \n",
    "]\n",
    "\n",
    "# step 2: Group by fiscal year\n",
    "hc_cdt_result = screening_hc_cdt.groupby('fy').agg(\n",
    "    average_score=('score_out_of_100', 'mean'),\n",
    "    num_facilities=('hf_name', 'nunique'),\n",
    ").reset_index()\n",
    "hc_cdt_result"
   ]
  },
  {
   "cell_type": "markdown",
   "id": "792673f5",
   "metadata": {},
   "source": [
    "`HC-CT`"
   ]
  },
  {
   "cell_type": "code",
   "execution_count": 851,
   "id": "8fde93df",
   "metadata": {},
   "outputs": [
    {
     "data": {
      "text/html": [
       "<div>\n",
       "<style scoped>\n",
       "    .dataframe tbody tr th:only-of-type {\n",
       "        vertical-align: middle;\n",
       "    }\n",
       "\n",
       "    .dataframe tbody tr th {\n",
       "        vertical-align: top;\n",
       "    }\n",
       "\n",
       "    .dataframe thead th {\n",
       "        text-align: right;\n",
       "    }\n",
       "</style>\n",
       "<table border=\"1\" class=\"dataframe\">\n",
       "  <thead>\n",
       "    <tr style=\"text-align: right;\">\n",
       "      <th></th>\n",
       "      <th>fy</th>\n",
       "      <th>average_score</th>\n",
       "      <th>num_facilities</th>\n",
       "    </tr>\n",
       "  </thead>\n",
       "  <tbody>\n",
       "    <tr>\n",
       "      <th>0</th>\n",
       "      <td>2020-2021</td>\n",
       "      <td>81.071429</td>\n",
       "      <td>44</td>\n",
       "    </tr>\n",
       "    <tr>\n",
       "      <th>1</th>\n",
       "      <td>2021-2022</td>\n",
       "      <td>76.229621</td>\n",
       "      <td>41</td>\n",
       "    </tr>\n",
       "    <tr>\n",
       "      <th>2</th>\n",
       "      <td>2022-2023</td>\n",
       "      <td>83.518519</td>\n",
       "      <td>19</td>\n",
       "    </tr>\n",
       "    <tr>\n",
       "      <th>3</th>\n",
       "      <td>2023-2024</td>\n",
       "      <td>80.000000</td>\n",
       "      <td>41</td>\n",
       "    </tr>\n",
       "  </tbody>\n",
       "</table>\n",
       "</div>"
      ],
      "text/plain": [
       "          fy  average_score  num_facilities\n",
       "0  2020-2021      81.071429              44\n",
       "1  2021-2022      76.229621              41\n",
       "2  2022-2023      83.518519              19\n",
       "3  2023-2024      80.000000              41"
      ]
     },
     "execution_count": 851,
     "metadata": {},
     "output_type": "execute_result"
    }
   ],
   "source": [
    "# Step 1: Filter the DataFrame\n",
    "screening_hc_ct = rsqa_clean[\n",
    "    (rsqa_clean['section'] == 'screening') &\n",
    "    (rsqa_clean['hf_type'] == 'health center') &\n",
    "    (rsqa_clean['hf_tb_type'] == 'ct') \n",
    "]\n",
    "\n",
    "# step 2: Group by fiscal year\n",
    "hc_ct_result = screening_hc_ct.groupby('fy').agg(\n",
    "    average_score=('score_out_of_100', 'mean'),\n",
    "    num_facilities=('hf_name', 'nunique'),\n",
    ").reset_index()\n",
    "hc_ct_result"
   ]
  },
  {
   "cell_type": "markdown",
   "id": "dd2ea5c5",
   "metadata": {},
   "source": [
    "#### **Diagnosis**"
   ]
  },
  {
   "cell_type": "markdown",
   "id": "b39058c4",
   "metadata": {},
   "source": [
    "`Hospital`"
   ]
  },
  {
   "cell_type": "code",
   "execution_count": 852,
   "id": "c6a5374f",
   "metadata": {},
   "outputs": [
    {
     "data": {
      "text/html": [
       "<div>\n",
       "<style scoped>\n",
       "    .dataframe tbody tr th:only-of-type {\n",
       "        vertical-align: middle;\n",
       "    }\n",
       "\n",
       "    .dataframe tbody tr th {\n",
       "        vertical-align: top;\n",
       "    }\n",
       "\n",
       "    .dataframe thead th {\n",
       "        text-align: right;\n",
       "    }\n",
       "</style>\n",
       "<table border=\"1\" class=\"dataframe\">\n",
       "  <thead>\n",
       "    <tr style=\"text-align: right;\">\n",
       "      <th></th>\n",
       "      <th>fy</th>\n",
       "      <th>average_score</th>\n",
       "      <th>num_facilities</th>\n",
       "    </tr>\n",
       "  </thead>\n",
       "  <tbody>\n",
       "    <tr>\n",
       "      <th>0</th>\n",
       "      <td>2020-2021</td>\n",
       "      <td>78.318841</td>\n",
       "      <td>18</td>\n",
       "    </tr>\n",
       "    <tr>\n",
       "      <th>1</th>\n",
       "      <td>2021-2022</td>\n",
       "      <td>87.440000</td>\n",
       "      <td>20</td>\n",
       "    </tr>\n",
       "    <tr>\n",
       "      <th>2</th>\n",
       "      <td>2022-2023</td>\n",
       "      <td>75.579710</td>\n",
       "      <td>7</td>\n",
       "    </tr>\n",
       "    <tr>\n",
       "      <th>3</th>\n",
       "      <td>2023-2024</td>\n",
       "      <td>77.757576</td>\n",
       "      <td>38</td>\n",
       "    </tr>\n",
       "  </tbody>\n",
       "</table>\n",
       "</div>"
      ],
      "text/plain": [
       "          fy  average_score  num_facilities\n",
       "0  2020-2021      78.318841              18\n",
       "1  2021-2022      87.440000              20\n",
       "2  2022-2023      75.579710               7\n",
       "3  2023-2024      77.757576              38"
      ]
     },
     "execution_count": 852,
     "metadata": {},
     "output_type": "execute_result"
    }
   ],
   "source": [
    "# Step 1: Filter the DataFrame\n",
    "diagnosis_hosp = rsqa_clean[\n",
    "    (rsqa_clean['section'] == 'diagnosis') &\n",
    "    (rsqa_clean['hf_type'] == 'hospital') \n",
    "]\n",
    "\n",
    "# step 2: Group by fiscal year\n",
    "diag_hosp_result = diagnosis_hosp.groupby('fy').agg(\n",
    "    average_score=('score_out_of_100', 'mean'),\n",
    "    num_facilities=('hf_name', 'nunique'),\n",
    ").reset_index()\n",
    "diag_hosp_result"
   ]
  },
  {
   "cell_type": "markdown",
   "id": "daf69096",
   "metadata": {},
   "source": [
    "`Health centers`"
   ]
  },
  {
   "cell_type": "code",
   "execution_count": 853,
   "id": "74b6f580",
   "metadata": {},
   "outputs": [
    {
     "data": {
      "text/html": [
       "<div>\n",
       "<style scoped>\n",
       "    .dataframe tbody tr th:only-of-type {\n",
       "        vertical-align: middle;\n",
       "    }\n",
       "\n",
       "    .dataframe tbody tr th {\n",
       "        vertical-align: top;\n",
       "    }\n",
       "\n",
       "    .dataframe thead th {\n",
       "        text-align: right;\n",
       "    }\n",
       "</style>\n",
       "<table border=\"1\" class=\"dataframe\">\n",
       "  <thead>\n",
       "    <tr style=\"text-align: right;\">\n",
       "      <th></th>\n",
       "      <th>fy</th>\n",
       "      <th>average_score</th>\n",
       "      <th>num_facilities</th>\n",
       "    </tr>\n",
       "  </thead>\n",
       "  <tbody>\n",
       "    <tr>\n",
       "      <th>0</th>\n",
       "      <td>2020-2021</td>\n",
       "      <td>69.411111</td>\n",
       "      <td>74</td>\n",
       "    </tr>\n",
       "    <tr>\n",
       "      <th>1</th>\n",
       "      <td>2021-2022</td>\n",
       "      <td>70.350877</td>\n",
       "      <td>68</td>\n",
       "    </tr>\n",
       "    <tr>\n",
       "      <th>2</th>\n",
       "      <td>2022-2023</td>\n",
       "      <td>63.689567</td>\n",
       "      <td>31</td>\n",
       "    </tr>\n",
       "    <tr>\n",
       "      <th>3</th>\n",
       "      <td>2023-2024</td>\n",
       "      <td>64.994606</td>\n",
       "      <td>69</td>\n",
       "    </tr>\n",
       "  </tbody>\n",
       "</table>\n",
       "</div>"
      ],
      "text/plain": [
       "          fy  average_score  num_facilities\n",
       "0  2020-2021      69.411111              74\n",
       "1  2021-2022      70.350877              68\n",
       "2  2022-2023      63.689567              31\n",
       "3  2023-2024      64.994606              69"
      ]
     },
     "execution_count": 853,
     "metadata": {},
     "output_type": "execute_result"
    }
   ],
   "source": [
    "# Step 1: Filter the DataFrame\n",
    "diagnosis_hc = rsqa_clean[\n",
    "    (rsqa_clean['section'] == 'diagnosis') &\n",
    "    (rsqa_clean['hf_type'] == 'health center') \n",
    "]\n",
    "\n",
    "# step 2: Group by fiscal year\n",
    "diag_hosp_result = diagnosis_hc.groupby('fy').agg(\n",
    "    average_score=('score_out_of_100', 'mean'),\n",
    "    num_facilities=('hf_name', 'nunique'),\n",
    ").reset_index()\n",
    "diag_hosp_result"
   ]
  },
  {
   "cell_type": "markdown",
   "id": "1d06c4de",
   "metadata": {},
   "source": [
    "`Health center genexpert sites`"
   ]
  },
  {
   "cell_type": "code",
   "execution_count": 854,
   "id": "4bef6ea5",
   "metadata": {},
   "outputs": [
    {
     "data": {
      "text/html": [
       "<div>\n",
       "<style scoped>\n",
       "    .dataframe tbody tr th:only-of-type {\n",
       "        vertical-align: middle;\n",
       "    }\n",
       "\n",
       "    .dataframe tbody tr th {\n",
       "        vertical-align: top;\n",
       "    }\n",
       "\n",
       "    .dataframe thead th {\n",
       "        text-align: right;\n",
       "    }\n",
       "</style>\n",
       "<table border=\"1\" class=\"dataframe\">\n",
       "  <thead>\n",
       "    <tr style=\"text-align: right;\">\n",
       "      <th></th>\n",
       "      <th>fy</th>\n",
       "      <th>average_score</th>\n",
       "      <th>num_facilities</th>\n",
       "    </tr>\n",
       "  </thead>\n",
       "  <tbody>\n",
       "    <tr>\n",
       "      <th>0</th>\n",
       "      <td>2020-2021</td>\n",
       "      <td>79.333333</td>\n",
       "      <td>3</td>\n",
       "    </tr>\n",
       "    <tr>\n",
       "      <th>1</th>\n",
       "      <td>2021-2022</td>\n",
       "      <td>87.142857</td>\n",
       "      <td>2</td>\n",
       "    </tr>\n",
       "    <tr>\n",
       "      <th>2</th>\n",
       "      <td>2022-2023</td>\n",
       "      <td>85.555556</td>\n",
       "      <td>3</td>\n",
       "    </tr>\n",
       "    <tr>\n",
       "      <th>3</th>\n",
       "      <td>2023-2024</td>\n",
       "      <td>75.333333</td>\n",
       "      <td>3</td>\n",
       "    </tr>\n",
       "  </tbody>\n",
       "</table>\n",
       "</div>"
      ],
      "text/plain": [
       "          fy  average_score  num_facilities\n",
       "0  2020-2021      79.333333               3\n",
       "1  2021-2022      87.142857               2\n",
       "2  2022-2023      85.555556               3\n",
       "3  2023-2024      75.333333               3"
      ]
     },
     "execution_count": 854,
     "metadata": {},
     "output_type": "execute_result"
    }
   ],
   "source": [
    "# Step 1: Filter the DataFrame\n",
    "diagnosis_genxpert = rsqa_clean[\n",
    "    (rsqa_clean['section'] == 'diagnosis') &\n",
    "    (rsqa_clean['hf_type'] == 'health center') &\n",
    "    (rsqa_clean['genexpert_site'] == 'yes') \n",
    "]\n",
    "\n",
    "# step 2: Group by fiscal year\n",
    "diag_hc_xpert_result = diagnosis_genxpert.groupby('fy').agg(\n",
    "    average_score=('score_out_of_100', 'mean'),\n",
    "    num_facilities=('hf_name', 'nunique'),\n",
    ").reset_index()\n",
    "diag_hc_xpert_result"
   ]
  },
  {
   "cell_type": "markdown",
   "id": "c6915636",
   "metadata": {},
   "source": [
    "`HC-MICROSCOPY-ONLY`"
   ]
  },
  {
   "cell_type": "code",
   "execution_count": 855,
   "id": "47bce896",
   "metadata": {},
   "outputs": [
    {
     "data": {
      "text/html": [
       "<div>\n",
       "<style scoped>\n",
       "    .dataframe tbody tr th:only-of-type {\n",
       "        vertical-align: middle;\n",
       "    }\n",
       "\n",
       "    .dataframe tbody tr th {\n",
       "        vertical-align: top;\n",
       "    }\n",
       "\n",
       "    .dataframe thead th {\n",
       "        text-align: right;\n",
       "    }\n",
       "</style>\n",
       "<table border=\"1\" class=\"dataframe\">\n",
       "  <thead>\n",
       "    <tr style=\"text-align: right;\">\n",
       "      <th></th>\n",
       "      <th>fy</th>\n",
       "      <th>average_score</th>\n",
       "      <th>num_facilities</th>\n",
       "    </tr>\n",
       "  </thead>\n",
       "  <tbody>\n",
       "    <tr>\n",
       "      <th>0</th>\n",
       "      <td>2020-2021</td>\n",
       "      <td>68.888889</td>\n",
       "      <td>71</td>\n",
       "    </tr>\n",
       "    <tr>\n",
       "      <th>1</th>\n",
       "      <td>2021-2022</td>\n",
       "      <td>69.483395</td>\n",
       "      <td>66</td>\n",
       "    </tr>\n",
       "    <tr>\n",
       "      <th>2</th>\n",
       "      <td>2022-2023</td>\n",
       "      <td>61.484594</td>\n",
       "      <td>28</td>\n",
       "    </tr>\n",
       "    <tr>\n",
       "      <th>3</th>\n",
       "      <td>2023-2024</td>\n",
       "      <td>64.467120</td>\n",
       "      <td>66</td>\n",
       "    </tr>\n",
       "  </tbody>\n",
       "</table>\n",
       "</div>"
      ],
      "text/plain": [
       "          fy  average_score  num_facilities\n",
       "0  2020-2021      68.888889              71\n",
       "1  2021-2022      69.483395              66\n",
       "2  2022-2023      61.484594              28\n",
       "3  2023-2024      64.467120              66"
      ]
     },
     "execution_count": 855,
     "metadata": {},
     "output_type": "execute_result"
    }
   ],
   "source": [
    "# Step 1: Filter the DataFrame\n",
    "diagnosis_genxpert = rsqa_clean[\n",
    "    (rsqa_clean['section'] == 'diagnosis') &\n",
    "    (rsqa_clean['hf_type'] == 'health center') &\n",
    "    (rsqa_clean['genexpert_site'] == 'no') \n",
    "]\n",
    "\n",
    "# step 2: Group by fiscal year\n",
    "diag_hc_xpert_result = diagnosis_genxpert.groupby('fy').agg(\n",
    "    average_score=('score_out_of_100', 'mean'),\n",
    "    num_facilities=('hf_name', 'nunique'),\n",
    ").reset_index()\n",
    "diag_hc_xpert_result"
   ]
  },
  {
   "cell_type": "markdown",
   "id": "3a86047e",
   "metadata": {},
   "source": [
    "### **Treatment**"
   ]
  },
  {
   "cell_type": "markdown",
   "id": "e3b68577",
   "metadata": {},
   "source": [
    "`Hospital`"
   ]
  },
  {
   "cell_type": "code",
   "execution_count": 856,
   "id": "95d6e0ae",
   "metadata": {},
   "outputs": [
    {
     "data": {
      "text/html": [
       "<div>\n",
       "<style scoped>\n",
       "    .dataframe tbody tr th:only-of-type {\n",
       "        vertical-align: middle;\n",
       "    }\n",
       "\n",
       "    .dataframe tbody tr th {\n",
       "        vertical-align: top;\n",
       "    }\n",
       "\n",
       "    .dataframe thead th {\n",
       "        text-align: right;\n",
       "    }\n",
       "</style>\n",
       "<table border=\"1\" class=\"dataframe\">\n",
       "  <thead>\n",
       "    <tr style=\"text-align: right;\">\n",
       "      <th></th>\n",
       "      <th>fy</th>\n",
       "      <th>average_score</th>\n",
       "      <th>num_facilities</th>\n",
       "    </tr>\n",
       "  </thead>\n",
       "  <tbody>\n",
       "    <tr>\n",
       "      <th>0</th>\n",
       "      <td>2020-2021</td>\n",
       "      <td>96.369048</td>\n",
       "      <td>18</td>\n",
       "    </tr>\n",
       "    <tr>\n",
       "      <th>1</th>\n",
       "      <td>2021-2022</td>\n",
       "      <td>94.285714</td>\n",
       "      <td>20</td>\n",
       "    </tr>\n",
       "    <tr>\n",
       "      <th>2</th>\n",
       "      <td>2022-2023</td>\n",
       "      <td>87.758621</td>\n",
       "      <td>7</td>\n",
       "    </tr>\n",
       "    <tr>\n",
       "      <th>3</th>\n",
       "      <td>2023-2024</td>\n",
       "      <td>92.032967</td>\n",
       "      <td>38</td>\n",
       "    </tr>\n",
       "  </tbody>\n",
       "</table>\n",
       "</div>"
      ],
      "text/plain": [
       "          fy  average_score  num_facilities\n",
       "0  2020-2021      96.369048              18\n",
       "1  2021-2022      94.285714              20\n",
       "2  2022-2023      87.758621               7\n",
       "3  2023-2024      92.032967              38"
      ]
     },
     "execution_count": 856,
     "metadata": {},
     "output_type": "execute_result"
    }
   ],
   "source": [
    "# Step 1: Filter the DataFrame\n",
    "treatment_hospital = rsqa_clean[\n",
    "    (rsqa_clean['section'] == 'treatment') &\n",
    "    (rsqa_clean['hf_type'] == 'hospital')\n",
    "]\n",
    "\n",
    "# step 2: Group by fiscal year\n",
    "treatment_hospital_results = treatment_hospital.groupby('fy').agg(\n",
    "    average_score=('score_out_of_100', 'mean'),\n",
    "    num_facilities=('hf_name', 'nunique'),\n",
    ").reset_index()\n",
    "treatment_hospital_results"
   ]
  },
  {
   "cell_type": "markdown",
   "id": "eb49a809",
   "metadata": {},
   "source": [
    "`Health centers`"
   ]
  },
  {
   "cell_type": "code",
   "execution_count": 857,
   "id": "19c819e2",
   "metadata": {},
   "outputs": [
    {
     "data": {
      "text/html": [
       "<div>\n",
       "<style scoped>\n",
       "    .dataframe tbody tr th:only-of-type {\n",
       "        vertical-align: middle;\n",
       "    }\n",
       "\n",
       "    .dataframe tbody tr th {\n",
       "        vertical-align: top;\n",
       "    }\n",
       "\n",
       "    .dataframe thead th {\n",
       "        text-align: right;\n",
       "    }\n",
       "</style>\n",
       "<table border=\"1\" class=\"dataframe\">\n",
       "  <thead>\n",
       "    <tr style=\"text-align: right;\">\n",
       "      <th></th>\n",
       "      <th>fy</th>\n",
       "      <th>average_score</th>\n",
       "      <th>num_facilities</th>\n",
       "    </tr>\n",
       "  </thead>\n",
       "  <tbody>\n",
       "    <tr>\n",
       "      <th>0</th>\n",
       "      <td>2020-2021</td>\n",
       "      <td>89.954407</td>\n",
       "      <td>74</td>\n",
       "    </tr>\n",
       "    <tr>\n",
       "      <th>1</th>\n",
       "      <td>2021-2022</td>\n",
       "      <td>87.438163</td>\n",
       "      <td>69</td>\n",
       "    </tr>\n",
       "    <tr>\n",
       "      <th>2</th>\n",
       "      <td>2022-2023</td>\n",
       "      <td>83.200000</td>\n",
       "      <td>30</td>\n",
       "    </tr>\n",
       "    <tr>\n",
       "      <th>3</th>\n",
       "      <td>2023-2024</td>\n",
       "      <td>84.856688</td>\n",
       "      <td>69</td>\n",
       "    </tr>\n",
       "  </tbody>\n",
       "</table>\n",
       "</div>"
      ],
      "text/plain": [
       "          fy  average_score  num_facilities\n",
       "0  2020-2021      89.954407              74\n",
       "1  2021-2022      87.438163              69\n",
       "2  2022-2023      83.200000              30\n",
       "3  2023-2024      84.856688              69"
      ]
     },
     "execution_count": 857,
     "metadata": {},
     "output_type": "execute_result"
    }
   ],
   "source": [
    "# Step 1: Filter the DataFrame\n",
    "treatment_hc = rsqa_clean[\n",
    "    (rsqa_clean['section'] == 'treatment') &\n",
    "    (rsqa_clean['hf_type'] == 'health center')\n",
    "]\n",
    "\n",
    "# step 2: Group by fiscal year\n",
    "treatment_hc_total_result = treatment_hc.groupby('fy').agg(\n",
    "    average_score=('score_out_of_100', 'mean'),\n",
    "    num_facilities=('hf_name', 'nunique'),\n",
    ").reset_index()\n",
    "treatment_hc_total_result"
   ]
  },
  {
   "cell_type": "markdown",
   "id": "a68dba9e",
   "metadata": {},
   "source": [
    "`CDT`"
   ]
  },
  {
   "cell_type": "code",
   "execution_count": 858,
   "id": "d5835f47",
   "metadata": {},
   "outputs": [
    {
     "data": {
      "text/html": [
       "<div>\n",
       "<style scoped>\n",
       "    .dataframe tbody tr th:only-of-type {\n",
       "        vertical-align: middle;\n",
       "    }\n",
       "\n",
       "    .dataframe tbody tr th {\n",
       "        vertical-align: top;\n",
       "    }\n",
       "\n",
       "    .dataframe thead th {\n",
       "        text-align: right;\n",
       "    }\n",
       "</style>\n",
       "<table border=\"1\" class=\"dataframe\">\n",
       "  <thead>\n",
       "    <tr style=\"text-align: right;\">\n",
       "      <th></th>\n",
       "      <th>fy</th>\n",
       "      <th>average_score</th>\n",
       "      <th>num_facilities</th>\n",
       "    </tr>\n",
       "  </thead>\n",
       "  <tbody>\n",
       "    <tr>\n",
       "      <th>0</th>\n",
       "      <td>2020-2021</td>\n",
       "      <td>94.436090</td>\n",
       "      <td>29</td>\n",
       "    </tr>\n",
       "    <tr>\n",
       "      <th>1</th>\n",
       "      <td>2021-2022</td>\n",
       "      <td>87.923729</td>\n",
       "      <td>28</td>\n",
       "    </tr>\n",
       "    <tr>\n",
       "      <th>2</th>\n",
       "      <td>2022-2023</td>\n",
       "      <td>91.923077</td>\n",
       "      <td>12</td>\n",
       "    </tr>\n",
       "    <tr>\n",
       "      <th>3</th>\n",
       "      <td>2023-2024</td>\n",
       "      <td>90.232558</td>\n",
       "      <td>29</td>\n",
       "    </tr>\n",
       "  </tbody>\n",
       "</table>\n",
       "</div>"
      ],
      "text/plain": [
       "          fy  average_score  num_facilities\n",
       "0  2020-2021      94.436090              29\n",
       "1  2021-2022      87.923729              28\n",
       "2  2022-2023      91.923077              12\n",
       "3  2023-2024      90.232558              29"
      ]
     },
     "execution_count": 858,
     "metadata": {},
     "output_type": "execute_result"
    }
   ],
   "source": [
    "# Step 1: Filter the DataFrame\n",
    "treatment_hc_cdt = rsqa_clean[\n",
    "    (rsqa_clean['section'] == 'treatment') &\n",
    "    (rsqa_clean['hf_type'] == 'health center') &\n",
    "    (rsqa_clean['hf_tb_type'] == 'cdt') \n",
    "]\n",
    "\n",
    "# step 2: Group by fiscal year\n",
    "treatment_hc_cdt_results = treatment_hc_cdt.groupby('fy').agg(\n",
    "    average_score=('score_out_of_100', 'mean'),\n",
    "    num_facilities=('hf_name', 'nunique'),\n",
    ").reset_index()\n",
    "treatment_hc_cdt_results"
   ]
  },
  {
   "cell_type": "markdown",
   "id": "49a8efbb",
   "metadata": {},
   "source": [
    "`CT`"
   ]
  },
  {
   "cell_type": "code",
   "execution_count": 859,
   "id": "ddaf7db1",
   "metadata": {},
   "outputs": [
    {
     "data": {
      "text/html": [
       "<div>\n",
       "<style scoped>\n",
       "    .dataframe tbody tr th:only-of-type {\n",
       "        vertical-align: middle;\n",
       "    }\n",
       "\n",
       "    .dataframe tbody tr th {\n",
       "        vertical-align: top;\n",
       "    }\n",
       "\n",
       "    .dataframe thead th {\n",
       "        text-align: right;\n",
       "    }\n",
       "</style>\n",
       "<table border=\"1\" class=\"dataframe\">\n",
       "  <thead>\n",
       "    <tr style=\"text-align: right;\">\n",
       "      <th></th>\n",
       "      <th>fy</th>\n",
       "      <th>average_score</th>\n",
       "      <th>num_facilities</th>\n",
       "    </tr>\n",
       "  </thead>\n",
       "  <tbody>\n",
       "    <tr>\n",
       "      <th>0</th>\n",
       "      <td>2020-2021</td>\n",
       "      <td>86.913265</td>\n",
       "      <td>45</td>\n",
       "    </tr>\n",
       "    <tr>\n",
       "      <th>1</th>\n",
       "      <td>2021-2022</td>\n",
       "      <td>87.090909</td>\n",
       "      <td>41</td>\n",
       "    </tr>\n",
       "    <tr>\n",
       "      <th>2</th>\n",
       "      <td>2022-2023</td>\n",
       "      <td>76.986301</td>\n",
       "      <td>18</td>\n",
       "    </tr>\n",
       "    <tr>\n",
       "      <th>3</th>\n",
       "      <td>2023-2024</td>\n",
       "      <td>81.108108</td>\n",
       "      <td>41</td>\n",
       "    </tr>\n",
       "  </tbody>\n",
       "</table>\n",
       "</div>"
      ],
      "text/plain": [
       "          fy  average_score  num_facilities\n",
       "0  2020-2021      86.913265              45\n",
       "1  2021-2022      87.090909              41\n",
       "2  2022-2023      76.986301              18\n",
       "3  2023-2024      81.108108              41"
      ]
     },
     "execution_count": 859,
     "metadata": {},
     "output_type": "execute_result"
    }
   ],
   "source": [
    "# Step 1: Filter the DataFrame\n",
    "treatment_hc_ct = rsqa_clean[\n",
    "    (rsqa_clean['section'] == 'treatment') &\n",
    "    (rsqa_clean['hf_type'] == 'health center') &\n",
    "    (rsqa_clean['hf_tb_type'] == 'ct') \n",
    "]\n",
    "\n",
    "# step 2: Group by fiscal year\n",
    "treatment_hc_ct_results = treatment_hc_ct.groupby('fy').agg(\n",
    "    average_score=('score_out_of_100', 'mean'),\n",
    "    num_facilities=('hf_name', 'nunique'),\n",
    ").reset_index()\n",
    "treatment_hc_ct_results"
   ]
  },
  {
   "cell_type": "code",
   "execution_count": 860,
   "id": "7606cba0",
   "metadata": {},
   "outputs": [
    {
     "data": {
      "image/png": "[encoded data removed]",
      "text/plain": [
       "<Figure size 1200x600 with 1 Axes>"
      ]
     },
     "metadata": {},
     "output_type": "display_data"
    }
   ],
   "source": [
    "# Create a professional line chart comparing treatment results\n",
    "plt.figure(figsize=(12, 6))\n",
    "\n",
    "# Plot all three lines with distinct colors and markers\n",
    "plt.plot(treatment_hospital_results['fy'], treatment_hospital_results['average_score'], \n",
    "         marker='o', linewidth=2, label='Hospitals', color='#2E86C1')\n",
    "plt.plot(treatment_hc_total_result['fy'], treatment_hc_total_result['average_score'], \n",
    "         marker='s', linewidth=2, label='Health Centers (All)', color='#E74C3C')\n",
    "plt.plot(treatment_hc_cdt_results['fy'], treatment_hc_cdt_results['average_score'], \n",
    "         marker='^', linewidth=2, label='Health Centers (CDT)', color='#27AE60')\n",
    "plt.plot(treatment_hc_cdt_results['fy'], treatment_hc_ct_results['average_score'], \n",
    "         marker='^', linewidth=2, label='Health Centers (CT)', color='#ccc')\n",
    "\n",
    "# Customize the plot\n",
    "plt.title('Treatment Scores by Facility Type (2020-2024)', \n",
    "          fontsize=14, pad=20, fontweight='bold')\n",
    "plt.xlabel('Fiscal Year', fontsize=12)\n",
    "plt.ylabel('Average Score (%)', fontsize=12)\n",
    "plt.grid(True, linestyle='--', alpha=0.7)\n",
    "plt.legend(fontsize=10)\n",
    "\n",
    "# Add data labels with number of facilities\n",
    "for i, (x, y, n) in enumerate(zip(treatment_hospital_results['fy'], \n",
    "                                 treatment_hospital_results['average_score'],\n",
    "                                 treatment_hospital_results['num_facilities'])):\n",
    "    plt.annotate(f'{y:.1f}%\\n(n={n})', (x, y), \n",
    "                 textcoords=\"offset points\", xytext=(0,10), \n",
    "                 ha='center', fontsize=9)\n",
    "    \n",
    "for i, (x, y, n) in enumerate(zip(treatment_hc_total_result['fy'], \n",
    "                                 treatment_hc_total_result['average_score'],\n",
    "                                 treatment_hc_total_result['num_facilities'])):\n",
    "    plt.annotate(f'{y:.1f}%\\n(n={n})', (x, y), \n",
    "                 textcoords=\"offset points\", xytext=(0,-15), \n",
    "                 ha='center', fontsize=9)\n",
    "\n",
    "for i, (x, y, n) in enumerate(zip(treatment_hc_cdt_results['fy'], \n",
    "                                 treatment_hc_cdt_results['average_score'],\n",
    "                                 treatment_hc_cdt_results['num_facilities'])):\n",
    "    plt.annotate(f'{y:.1f}%\\n(n={n})', (x, y), \n",
    "                 textcoords=\"offset points\", xytext=(-15,0), \n",
    "                 ha='right', fontsize=9)\n",
    "    \n",
    "for i, (x, y, n) in enumerate(zip(treatment_hc_ct_results['fy'], \n",
    "                                 treatment_hc_ct_results['average_score'],\n",
    "                                 treatment_hc_ct_results['num_facilities'])):\n",
    "    plt.annotate(f'{y:.1f}%\\n(n={n})', (x, y), \n",
    "                 textcoords=\"offset points\", xytext=(-15,0), \n",
    "                 ha='right', fontsize=9)\n",
    "\n",
    "# Set y-axis limits from 0 to 100\n",
    "plt.ylim(0, 100)\n",
    "\n",
    "# Adjust layout and show plot\n",
    "plt.tight_layout()\n",
    "plt.show()"
   ]
  },
  {
   "cell_type": "code",
   "execution_count": null,
   "metadata": {},
   "outputs": [],
   "source": []
  },
  {
   "cell_type": "markdown",
   "id": "45427c58",
   "metadata": {},
   "source": [
    "#### **Infection Prevention and Control**"
   ]
  },
  {
   "cell_type": "markdown",
   "id": "f81607ae",
   "metadata": {},
   "source": [
    "`Health Centers`"
   ]
  },
  {
   "cell_type": "code",
   "execution_count": 861,
   "id": "1f2f2a47",
   "metadata": {},
   "outputs": [
    {
     "data": {
      "text/html": [
       "<div>\n",
       "<style scoped>\n",
       "    .dataframe tbody tr th:only-of-type {\n",
       "        vertical-align: middle;\n",
       "    }\n",
       "\n",
       "    .dataframe tbody tr th {\n",
       "        vertical-align: top;\n",
       "    }\n",
       "\n",
       "    .dataframe thead th {\n",
       "        text-align: right;\n",
       "    }\n",
       "</style>\n",
       "<table border=\"1\" class=\"dataframe\">\n",
       "  <thead>\n",
       "    <tr style=\"text-align: right;\">\n",
       "      <th></th>\n",
       "      <th>fy</th>\n",
       "      <th>average_score</th>\n",
       "      <th>num_facilities</th>\n",
       "    </tr>\n",
       "  </thead>\n",
       "  <tbody>\n",
       "    <tr>\n",
       "      <th>0</th>\n",
       "      <td>2020-2021</td>\n",
       "      <td>68.951613</td>\n",
       "      <td>74</td>\n",
       "    </tr>\n",
       "    <tr>\n",
       "      <th>1</th>\n",
       "      <td>2021-2022</td>\n",
       "      <td>73.448276</td>\n",
       "      <td>69</td>\n",
       "    </tr>\n",
       "    <tr>\n",
       "      <th>2</th>\n",
       "      <td>2022-2023</td>\n",
       "      <td>75.204082</td>\n",
       "      <td>30</td>\n",
       "    </tr>\n",
       "    <tr>\n",
       "      <th>3</th>\n",
       "      <td>2023-2024</td>\n",
       "      <td>69.098532</td>\n",
       "      <td>69</td>\n",
       "    </tr>\n",
       "  </tbody>\n",
       "</table>\n",
       "</div>"
      ],
      "text/plain": [
       "          fy  average_score  num_facilities\n",
       "0  2020-2021      68.951613              74\n",
       "1  2021-2022      73.448276              69\n",
       "2  2022-2023      75.204082              30\n",
       "3  2023-2024      69.098532              69"
      ]
     },
     "execution_count": 861,
     "metadata": {},
     "output_type": "execute_result"
    }
   ],
   "source": [
    "# Step 1: Filter the DataFrame\n",
    "infection_prev_hc = rsqa_clean[\n",
    "    (rsqa_clean['section'] == 'infection_prevention') &\n",
    "    (rsqa_clean['hf_type'] == 'health center')\n",
    "]\n",
    "\n",
    "# step 2: Group by fiscal year\n",
    "infection_prev_hc_results = infection_prev_hc.groupby('fy').agg(\n",
    "    average_score=('score_out_of_100', 'mean'),\n",
    "    num_facilities=('hf_name', 'nunique'),\n",
    ").reset_index()\n",
    "infection_prev_hc_results"
   ]
  },
  {
   "cell_type": "markdown",
   "id": "4f8e83ed",
   "metadata": {},
   "source": [
    "`Hospitals`"
   ]
  },
  {
   "cell_type": "code",
   "execution_count": 862,
   "id": "4a4ad09e",
   "metadata": {},
   "outputs": [
    {
     "data": {
      "text/html": [
       "<div>\n",
       "<style scoped>\n",
       "    .dataframe tbody tr th:only-of-type {\n",
       "        vertical-align: middle;\n",
       "    }\n",
       "\n",
       "    .dataframe tbody tr th {\n",
       "        vertical-align: top;\n",
       "    }\n",
       "\n",
       "    .dataframe thead th {\n",
       "        text-align: right;\n",
       "    }\n",
       "</style>\n",
       "<table border=\"1\" class=\"dataframe\">\n",
       "  <thead>\n",
       "    <tr style=\"text-align: right;\">\n",
       "      <th></th>\n",
       "      <th>fy</th>\n",
       "      <th>average_score</th>\n",
       "      <th>num_facilities</th>\n",
       "    </tr>\n",
       "  </thead>\n",
       "  <tbody>\n",
       "    <tr>\n",
       "      <th>0</th>\n",
       "      <td>2020-2021</td>\n",
       "      <td>80.504202</td>\n",
       "      <td>18</td>\n",
       "    </tr>\n",
       "    <tr>\n",
       "      <th>1</th>\n",
       "      <td>2021-2022</td>\n",
       "      <td>87.050360</td>\n",
       "      <td>20</td>\n",
       "    </tr>\n",
       "    <tr>\n",
       "      <th>2</th>\n",
       "      <td>2022-2023</td>\n",
       "      <td>80.465116</td>\n",
       "      <td>7</td>\n",
       "    </tr>\n",
       "    <tr>\n",
       "      <th>3</th>\n",
       "      <td>2023-2024</td>\n",
       "      <td>79.927798</td>\n",
       "      <td>38</td>\n",
       "    </tr>\n",
       "  </tbody>\n",
       "</table>\n",
       "</div>"
      ],
      "text/plain": [
       "          fy  average_score  num_facilities\n",
       "0  2020-2021      80.504202              18\n",
       "1  2021-2022      87.050360              20\n",
       "2  2022-2023      80.465116               7\n",
       "3  2023-2024      79.927798              38"
      ]
     },
     "execution_count": 862,
     "metadata": {},
     "output_type": "execute_result"
    }
   ],
   "source": [
    "# Step 1: Filter the DataFrame\n",
    "infection_prev_hosp = rsqa_clean[\n",
    "    (rsqa_clean['section'] == 'infection_prevention') &\n",
    "    (rsqa_clean['hf_type'] == 'hospital')\n",
    "]\n",
    "\n",
    "# step 2: Group by fiscal year\n",
    "infection_prev_hosp_results = infection_prev_hosp.groupby('fy').agg(\n",
    "    average_score=('score_out_of_100', 'mean'),\n",
    "    num_facilities=('hf_name', 'nunique'),\n",
    ").reset_index()\n",
    "infection_prev_hosp_results"
   ]
  },
  {
   "cell_type": "markdown",
   "id": "19f82055",
   "metadata": {},
   "source": []
  },
  {
   "cell_type": "code",
   "execution_count": 863,
   "id": "f7ff088f",
   "metadata": {},
   "outputs": [
    {
     "name": "stderr",
     "output_type": "stream",
     "text": [
      "C:\\Users\\Hp\\AppData\\Local\\Temp\\ipykernel_13708\\1472479099.py:15: UserWarning: First parameter to grid() is false, but line properties are supplied. The grid will be enabled.\n",
      "  plt.grid(False, linestyle='--', alpha=0.7)\n"
     ]
    },
    {
     "data": {
      "image/png": "[encoded data removed]",
      "text/plain": [
       "<Figure size 1200x600 with 1 Axes>"
      ]
     },
     "metadata": {},
     "output_type": "display_data"
    }
   ],
   "source": [
    "# Create a professional line chart comparing infection prevalence results\n",
    "plt.figure(figsize=(12, 6))\n",
    "\n",
    "# Plot both lines\n",
    "plt.plot(infection_prev_hosp_results['fy'], infection_prev_hosp_results['average_score'], \n",
    "         marker='o', linewidth=2, label='Hospitals', color='#2E86C1')\n",
    "plt.plot(infection_prev_hc_results['fy'], infection_prev_hc_results['average_score'], \n",
    "         marker='s', linewidth=2, label='Health Centers', color='#E74C3C')\n",
    "\n",
    "# Customize the plot\n",
    "plt.title('Infection Prevention Scores by Facility Type (2020-2024)', \n",
    "          fontsize=14, pad=20)\n",
    "plt.xlabel('Fiscal Year', fontsize=12)\n",
    "plt.ylabel('Average Score', fontsize=12)\n",
    "plt.grid(False, linestyle='--', alpha=0.7)\n",
    "plt.legend(fontsize=10)\n",
    "\n",
    "# Add data labels\n",
    "for i, (x, y) in enumerate(zip(infection_prev_hosp_results['fy'], infection_prev_hosp_results['average_score'])):\n",
    "    plt.annotate(f'{y:.1f}', (x, y), textcoords=\"offset points\", xytext=(0,10), ha='center')\n",
    "for i, (x, y) in enumerate(zip(infection_prev_hc_results['fy'], infection_prev_hc_results['average_score'])):\n",
    "    plt.annotate(f'{y:.1f}', (x, y), textcoords=\"offset points\", xytext=(0,-15), ha='center')\n",
    "\n",
    "# Set y-axis limits from 0 to 100\n",
    "plt.ylim(0, 100)\n",
    "\n",
    "# Adjust layout and show plot\n",
    "plt.tight_layout()\n",
    "plt.show()"
   ]
  },
  {
   "cell_type": "markdown",
   "id": "d553345f",
   "metadata": {},
   "source": [
    "### **Characteristics of Health facilities**"
   ]
  },
  {
   "cell_type": "code",
   "execution_count": null,
   "id": "743a37e7",
   "metadata": {},
   "outputs": [],
   "source": []
  }
 ],
 "metadata": {
  "kernelspec": {
   "display_name": "robert",
   "language": "python",
   "name": "python3"
  },
  "language_info": {
   "codemirror_mode": {
    "name": "ipython",
    "version": 3
   },
   "file_extension": ".py",
   "mimetype": "text/x-python",
   "name": "python",
   "nbconvert_exporter": "python",
   "pygments_lexer": "ipython3",
   "version": "3.9.16"
  }
 },
 "nbformat": 4,
 "nbformat_minor": 5
}
