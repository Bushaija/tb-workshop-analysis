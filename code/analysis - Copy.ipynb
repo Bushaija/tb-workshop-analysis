{
 "cells": [
  {
   "cell_type": "markdown",
   "metadata": {},
   "source": [
    "****#### **Import all necessary libraries**"
   ]
  },
  {
   "cell_type": "code",
   "execution_count": 1099,
   "metadata": {},
   "outputs": [],
   "source": [
    "import pandas as pd\n",
    "import seaborn as sns\n",
    "import matplotlib.pyplot as plt"
   ]
  },
  {
   "cell_type": "markdown",
   "metadata": {},
   "source": [
    "### **Data loading**"
   ]
  },
  {
   "cell_type": "markdown",
   "metadata": {},
   "source": [
    "##### List first five samples"
   ]
  },
  {
   "cell_type": "code",
   "execution_count": 1100,
   "metadata": {},
   "outputs": [],
   "source": [
    "df = pd.read_csv(\"../_data/tb-rsqa.csv\", encoding=\"ISO-8859-1\")"
   ]
  },
  {
   "cell_type": "markdown",
   "metadata": {},
   "source": [
    "#### List of Columns"
   ]
  },
  {
   "cell_type": "code",
   "execution_count": 1101,
   "metadata": {},
   "outputs": [
    {
     "name": "stdout",
     "output_type": "stream",
     "text": [
      "Name of Supervisor 1\n",
      "Name of Supervisor 2\n",
      "HF Name\n",
      "GeneXpert-site\n",
      "HF Type\n",
      "HF TB Type\n",
      "Province\n",
      "District\n",
      "Sub_District\n",
      "Period of implementation\n",
      "FY\n",
      "Domaine d'activités du NSP 2013-2018\n",
      "Summary group\n",
      "Category of activity\n",
      "No_Old\n",
      "NO\n",
      "Normes \n",
      "Element à verifier\n",
      "Procedures \n",
      "Num\n",
      "Den\n",
      "% (don't use)\n",
      "Commentaires\n",
      "How many Times\n"
     ]
    }
   ],
   "source": [
    "for col in df.columns:\n",
    "    print(col)"
   ]
  },
  {
   "cell_type": "markdown",
   "metadata": {},
   "source": [
    "### **Data Cleaning**"
   ]
  },
  {
   "cell_type": "code",
   "execution_count": 1102,
   "metadata": {},
   "outputs": [],
   "source": [
    "df = df.copy()"
   ]
  },
  {
   "cell_type": "markdown",
   "metadata": {},
   "source": [
    "#### 1. Extra relevant columns"
   ]
  },
  {
   "cell_type": "code",
   "execution_count": 1103,
   "metadata": {},
   "outputs": [
    {
     "data": {
      "text/plain": [
       "25647"
      ]
     },
     "execution_count": 1103,
     "metadata": {},
     "output_type": "execute_result"
    }
   ],
   "source": [
    "relevant_cols = [\n",
    "    'HF Name',               # Health facility name\n",
    "    'GeneXpert-site',        # Whether the site has GeneXpert\n",
    "    'HF Type',               # Hospital or Health Center\n",
    "    'HF TB Type',            # TB type (e.g., CTD(Center for Treatment & Diagnosis), CT(Center for Treatment))\n",
    "    'FY',                    # Fiscal year\n",
    "    'Province', 'District',  # Location info\n",
    "    'Summary group',         # indicators sections\n",
    "    'Normes ',                # question\n",
    "    'Element à verifier',    # What was verified\n",
    "    'Num',                   # Numerator of the indicator\n",
    "    'Den',                   # Denominator of the indicator\n",
    "];\n",
    "new_df = df[relevant_cols].copy()\n",
    "new_df.shape[0]"
   ]
  },
  {
   "cell_type": "markdown",
   "metadata": {},
   "source": [
    "#### 2. Handling Duplicates"
   ]
  },
  {
   "cell_type": "code",
   "execution_count": 1104,
   "metadata": {},
   "outputs": [
    {
     "name": "stdout",
     "output_type": "stream",
     "text": [
      "Number of duplicates: 176\n",
      "Data after removing duplicates: (25471, 12)\n"
     ]
    }
   ],
   "source": [
    "# Check for duplicates\n",
    "print(f\"Number of duplicates: {new_df.duplicated().sum()}\")\n",
    "\n",
    "# Remove duplicates\n",
    "new_df = new_df.drop_duplicates()\n",
    "\n",
    "# Verify\n",
    "print(f\"Data after removing duplicates: {new_df.shape}\")\n"
   ]
  },
  {
   "cell_type": "markdown",
   "metadata": {},
   "source": [
    "#### 3. Handling missing values"
   ]
  },
  {
   "cell_type": "code",
   "execution_count": 1105,
   "metadata": {},
   "outputs": [
    {
     "name": "stdout",
     "output_type": "stream",
     "text": [
      "\n",
      "Missing Values:\n",
      "Normes                9711\n",
      "Element à verifier    1089\n",
      "Num                   4613\n",
      "Den                   2201\n",
      "dtype: int64\n"
     ]
    }
   ],
   "source": [
    "# Check for missing values\n",
    "missing_values = new_df.isnull().sum()\n",
    "print(f\"\\nMissing Values:\\n{missing_values[missing_values > 0]}\")\n"
   ]
  },
  {
   "cell_type": "code",
   "execution_count": 1106,
   "metadata": {},
   "outputs": [
    {
     "name": "stdout",
     "output_type": "stream",
     "text": [
      "Data after handling missing values: (25471, 12)\n"
     ]
    }
   ],
   "source": [
    "new_df[\"Element à verifier\"] = new_df[\"Element à verifier\"].fillna(new_df[\"Normes \"])\n",
    "print(f\"Data after handling missing values: {new_df.shape}\")"
   ]
  },
  {
   "cell_type": "markdown",
   "metadata": {},
   "source": [
    "#### 4. Rename columns"
   ]
  },
  {
   "cell_type": "code",
   "execution_count": 1107,
   "metadata": {},
   "outputs": [
    {
     "name": "stdout",
     "output_type": "stream",
     "text": [
      "Renamed columns: Index(['hf_name', 'genexpert_site', 'hf_type', 'hf_tb_type', 'fy', 'province',\n",
      "       'district', 'summary_group', 'normes', 'item_name', 'num', 'den'],\n",
      "      dtype='object')\n"
     ]
    }
   ],
   "source": [
    "# Rename columns to make them cleaner and consistent\n",
    "new_df.columns = new_df.columns.str.strip().str.lower().str.replace(' ', '_')\n",
    "\n",
    "new_df.rename(columns={\n",
    "    'element_à_verifier': 'item_name',\n",
    "    'genexpert-site': 'genexpert_site',\n",
    "}, inplace=True)\n",
    "\n",
    "# Verify the new column names\n",
    "print(f\"Renamed columns: {new_df.columns}\")"
   ]
  },
  {
   "cell_type": "markdown",
   "metadata": {},
   "source": [
    "##### 5. Data Types Validation"
   ]
  },
  {
   "cell_type": "code",
   "execution_count": 1108,
   "metadata": {},
   "outputs": [],
   "source": [
    "new_df[\"num\"] = pd.to_numeric(new_df[\"num\"], errors=\"coerce\")\n",
    "new_df[\"den\"] = pd.to_numeric(new_df[\"den\"], errors=\"coerce\")"
   ]
  },
  {
   "cell_type": "markdown",
   "metadata": {},
   "source": [
    "#### **Standardize fiscal year variable**"
   ]
  },
  {
   "cell_type": "code",
   "execution_count": 1109,
   "metadata": {},
   "outputs": [
    {
     "name": "stdout",
     "output_type": "stream",
     "text": [
      "\n",
      "Unique Fiscal Years after cleaning:\n",
      "['2020-2021' '2021-2022' '2022-2023' '2023-2024']\n",
      "fy\n",
      "2023-2024    9293\n",
      "2020-2021    6969\n",
      "2021-2022    6486\n",
      "2022-2023    2723\n",
      "Name: count, dtype: int64\n"
     ]
    }
   ],
   "source": [
    "# Clean the 'FY' column by removing the 'FY' prefix and standardizing format\n",
    "new_df['fy'] = new_df['fy'].str.replace('FY ', '', regex=False)\n",
    "\n",
    "# Verify\n",
    "print(\"\\nUnique Fiscal Years after cleaning:\")\n",
    "print(new_df['fy'].unique())\n",
    "print(new_df['fy'].value_counts())\n"
   ]
  },
  {
   "cell_type": "markdown",
   "metadata": {},
   "source": [
    "#### **Standardize hf_type Values**"
   ]
  },
  {
   "cell_type": "code",
   "execution_count": 1110,
   "metadata": {},
   "outputs": [
    {
     "name": "stdout",
     "output_type": "stream",
     "text": [
      "\n",
      "Unique 'hf_type' after cleaning:\n",
      "['health center' 'hospital' 'prison' 'teaching hospital']\n"
     ]
    }
   ],
   "source": [
    "# Create a mapping to standardize 'hf_type' values\n",
    "new_df.hf_type = new_df.hf_type.str.strip().str.lower()\n",
    "hf_type_mapping = {\n",
    "    'hospital (dh,ph,rh)': 'hospital',\n",
    "}\n",
    "\n",
    "# Apply the mapping to standardize values\n",
    "new_df['hf_type'] = new_df['hf_type'].replace(hf_type_mapping)\n",
    "\n",
    "# Verify\n",
    "print(\"\\nUnique 'hf_type' after cleaning:\")\n",
    "print(new_df['hf_type'].unique())\n"
   ]
  },
  {
   "cell_type": "markdown",
   "metadata": {},
   "source": [
    "#### 7. Remove `Prison` and `Teaching Hospital` data"
   ]
  },
  {
   "cell_type": "code",
   "execution_count": 1111,
   "metadata": {},
   "outputs": [
    {
     "name": "stdout",
     "output_type": "stream",
     "text": [
      "\n",
      "Unique 'hf_type' after removal:\n",
      "['health center' 'hospital']\n",
      "\n",
      "Data shape after filtering:\n",
      "(24490, 12)\n"
     ]
    }
   ],
   "source": [
    "# Filter out rows where 'hf_type' is either 'prison' or 'teaching hospital'\n",
    "new_df = new_df[~new_df['hf_type'].isin(['prison', 'teaching hospital'])]\n",
    "\n",
    "# Verify the removal\n",
    "print(\"\\nUnique 'hf_type' after removal:\")\n",
    "print(new_df['hf_type'].unique())\n",
    "\n",
    "# Check the shape of the data after filtering\n",
    "print(\"\\nData shape after filtering:\")\n",
    "print(new_df.shape)\n"
   ]
  },
  {
   "cell_type": "markdown",
   "metadata": {},
   "source": [
    "#### **Remove Specific Samples Based on HF Name**"
   ]
  },
  {
   "cell_type": "code",
   "execution_count": 1112,
   "metadata": {},
   "outputs": [
    {
     "name": "stdout",
     "output_type": "stream",
     "text": [
      "\n",
      "HF Names after removal:\n",
      "['Ruli CS' 'Nyange (ruli) CS' 'Rwankuba CS' 'Minazi CS' 'Ruli DH'\n",
      " 'Kinigi CS' 'Nyakinama CS' 'Rwaza CS' 'Ruhengeri RH'\n",
      " 'Muhoza (Ruhengeri) CS' 'Kirehe CS' 'Kirehe DH' 'Mushikiri CS'\n",
      " 'Rusumo CS' 'Musaza CS' 'Kibungo RH' 'Rukira CS' 'Rukoma Sake CS'\n",
      " 'Mutenderi CS' ' Gitwe DH' 'Gitwe CS' 'Gishweru CS' 'Muremure CS'\n",
      " ' Byimana CS' 'Ruhunda CS' 'Musha (rwamagana) CS' 'Munyiginya CS'\n",
      " 'Rwamagana PH' 'Nyagatare CS' 'Ntoma CS' ' Nyagatare DH'\n",
      " 'Nyagatare Prison' 'Cyabayaga CS' 'Rukara CS' 'Gahini DH' 'Gahini CS'\n",
      " 'Rutare (kayonza) CS' 'Mukarange CS' 'Kamubuga CS' 'Karambo (gakenke) CS'\n",
      " 'Mataba CS' 'Gatonde CS' 'Nemba DH' 'Kinihira PH' 'Tumba CS' 'Tare CS'\n",
      " 'Kisaro CS' 'Kinihira (rulindo) CS' 'Rugarama (gatsibo) CS' 'Gitoki CS'\n",
      " 'Kabarore CS' 'Gatsibo CS' 'Rwimitereri CS' 'Kiziguro DH' 'Simbi CS'\n",
      " 'Mukura (Huye) CS' 'Kabutare DH' 'Agahabwa CS' 'Kibilizi (gisagara) CS'\n",
      " 'Kibayi CS' 'Mugombwa CS' 'Kibilizi DH' 'Gihara CS'\n",
      " 'Kamonyi (gacurabwenge) CS' 'Mugina CS' 'Kayenzi CS' 'Remera Rukoma DH'\n",
      " 'Gashora CS' 'Juru CS' 'Nyamata CS' 'Mareba CS' 'Nyamata DH' 'Gahombo CS'\n",
      " 'Busoro CS' 'Ntyazo CS' 'Nyanza DH' 'Bushara CS' 'Camp Gihembe CS'\n",
      " 'Miyove CS' 'Byumba CS' 'Byumba DH' 'Kivumu (muhanga) CS' 'Buramba CS'\n",
      " 'Nyarusange (muhanga) CS' 'Kabgayi DH' 'Gishubi CS' 'Gakoma CS'\n",
      " 'Gakoma DH' 'Save CS' 'Gikonko (Gisagara) CS' 'Kizibere CS'\n",
      " 'Mukoma (ruhango) CS' 'Kinazi CS' 'Ruhango PH' 'Ruhango CS'\n",
      " 'Mahama Refugee Camp CS' 'Mahama Refugee Camp II CS'\n",
      " 'Gikomero (Kabgayi) CS' 'Muhanga Prison' 'Kivu CS' 'Muganza CS'\n",
      " 'Runyombyi CS' 'Munini DH' 'Nyantanga CS' 'Byimana CS' 'Gitwe DH'\n",
      " 'Nyanza Prison' 'Huye Prison' 'Nyagatare DH' 'Cyondo CS' 'Nyarurema CS'\n",
      " 'Muhambo CS' 'Mimuri CS' 'Gatunda DH' 'Cyanika (nyamagabe) CS'\n",
      " 'Nyamagabe CS' 'Kigeme CS' 'Kigeme DH' 'Mbuga CS'\n",
      " 'Kabarondo (kayonza) CS' 'Nyamirama CS' 'Rwinkwavu DH' 'Rwinkwavu CS'\n",
      " 'Shyira DH' 'Rwankeri CS' 'Birembo CS' 'Bigogwe CS' 'Kora CS'\n",
      " 'Gisenyi DH' 'Byahi (rubavu) CS' 'Gisenyi CS' 'Mudende CS'\n",
      " 'Rubavu Prison' 'Kibuye RH' 'Rufungo CS' 'Rubengera CS' 'Kibuye CS'\n",
      " 'Kiziba Camp CS' 'Kibogora DH' 'Karengera CS' 'Kibingo (nyamasheke) CS'\n",
      " 'Nyamasheke CS' 'Ruheru (kanjongo Nyamasheke) CS' 'Mubuga CS' 'Gisovu CS'\n",
      " 'Mugonero DH' 'Mugonero CS' 'Mwezi CS' 'Mukoma (nyamasheke) CS'\n",
      " 'Bushenge CS' 'Bushenge PH' 'Kamonyi (ruharambuga) CS' 'Kirinda DH'\n",
      " 'Kirinda CS' 'Rugabano CS' 'Birambo CS' 'Mwendo (karongi) CS'\n",
      " 'Nyakarenzo CS' 'Islamic (Bugarama) CS' 'Nyakabuye CS'\n",
      " 'Bugarama (rusizi) CS' 'Mibilizi DH' 'KIZIGURO dh' 'RWINKWAVU DH'\n",
      " 'KADUHA DH' 'KIGEME DH' 'NYAGATARE DH' 'KABUTARE DH' 'RUHANGO PH'\n",
      " 'MUNINI DH' 'GAHINI DH' 'KIREHE DH' 'KIBILIZI DH' 'GATONDE DH'\n",
      " 'RWAMAGANA PH' 'GISENYI DH' 'RUTONGO DH' 'KINIHIRA PH' 'MIBILIZI DH'\n",
      " 'GIHUNDWE PH' 'KIBOGORA DH' 'BUSHENGE PH' 'KIBUYE RH' 'MUGONERO DH'\n",
      " 'KABGAYI DH' 'NYANZA DH' 'RULI DH' 'NEMBA DH' 'GATUNDA DH' 'MURUNDA DH'\n",
      " 'NYAMATA DH' 'RUHENGERI RH' 'BUTARO DH' 'rukura cs' 'bushoka cs'\n",
      " 'mataha cs' 'nganzo cs' 'nemba DH' 'juru cs' 'ntarama cs' 'nyamata cs'\n",
      " 'nyamata DH' 'butaro DH' 'cyanika cs' 'gitare cs' 'gahunga cs'\n",
      " 'nyamugari cs' 'rutonde cs' 'remera mbogo cs' 'rwahi cs' 'rutongo DH'\n",
      " 'gahini DH' 'gahini cs' 'kageyo cs' 'rukara cs' 'mukarange cs'\n",
      " 'avega kigali cs' 'gatsata cs' 'kabuye cs' 'remera cs' 'kibagabaga DH'\n",
      " 'rusoro cs' 'janja cs' 'gatonde DH' 'busengo cs' 'mahama refuge cs'\n",
      " 'kigarama cs' 'musaza cs' 'kirehe cs' 'kirehe DH' 'muhoza cs'\n",
      " 'kimonyi cs' 'kinigi cs' 'ruhengeri RF' 'ngarama DH' 'nyabiheke cs'\n",
      " 'gituza cs' 'ngarama cs' 'rubona cs' 'rwamagana PH' 'murambi cs'\n",
      " 'gatunda DH' 'rukomo cs' 'nyarurema cs' 'nyagahita cs' 'rurenge cs'\n",
      " 'humure cs' 'kabarore cs' 'rugarama cs' 'gakenke cs' 'kiziguro DH'\n",
      " 'muhima DH' 'chk RH' 'muhima cs' 'la medical kanimba cs' 'cor-unum cs'\n",
      " 'biryogo cs' 'kabusunzu cs' 'nyarugenge DH' 'miyove cs' 'byumba cs'\n",
      " 'rubaya cs' 'byumba DH' 'ruli DH' 'ruli cs' 'rushashi cs' 'rwankuba cs'\n",
      " 'muhondo cs' 'jarama cs' 'rukoma-sake cs' 'zaza cs' 'kibungo RH'\n",
      " 'gasetsa cs' 'bethasaid cs' 'kicukiro cs' 'gikondo cs' 'masaka DH'\n",
      " 'masoro cs' 'kabarondo cs' 'gwinkwavu cs' 'gwinkwavu DH' 'karama cs'\n",
      " 'cyarubare cs']\n",
      "\n",
      "Data shape after filtering:\n",
      "(24349, 12)\n"
     ]
    }
   ],
   "source": [
    "# Remove rows where 'HF Name' is 'Butare Chu Hnr (huye)' or 'kanombe RH'\n",
    "new_df = new_df[~new_df['hf_name'].isin(['Butare Chu Hnr (huye)', 'kanombe RH'])]\n",
    "\n",
    "# Verify the removal\n",
    "print(\"\\nHF Names after removal:\")\n",
    "print(new_df['hf_name'].unique())\n",
    "\n",
    "# Check the shape of the data after filtering\n",
    "print(\"\\nData shape after filtering:\")\n",
    "print(new_df.shape)\n"
   ]
  },
  {
   "cell_type": "markdown",
   "metadata": {},
   "source": [
    "#### **Update hf_type for Specific Facility**"
   ]
  },
  {
   "cell_type": "code",
   "execution_count": 1113,
   "metadata": {},
   "outputs": [
    {
     "name": "stdout",
     "output_type": "stream",
     "text": [
      "\n",
      "Updated 'hf_type' for 'kiziguro dh':\n",
      "Empty DataFrame\n",
      "Columns: [hf_name, hf_type]\n",
      "Index: []\n",
      "Empty DataFrame\n",
      "Columns: [hf_name, hf_type]\n",
      "Index: []\n",
      "\n",
      "Unique 'hf_type' after update:\n",
      "['health center' 'hospital']\n"
     ]
    }
   ],
   "source": [
    "# Update hf_type for 'kiziguro dh' from 'health center' to 'hospital'\n",
    "new_df.loc[new_df['hf_name'] == 'kiziguro dh', 'hf_type'] = 'hospital'\n",
    "new_df.loc[new_df['hf_name'] == 'gwinkwavu dh', 'hf_type'] = 'hospital'\n",
    "\n",
    "# Verify the change\n",
    "print(\"\\nUpdated 'hf_type' for 'kiziguro dh':\")\n",
    "print(new_df[new_df['hf_name'] == 'kiziguro dh'][['hf_name', 'hf_type']])\n",
    "print(new_df[new_df['hf_name'] == 'gwinkwavu dh'][['hf_name', 'hf_type']])\n",
    "\n",
    "# Verify the unique hf_type values\n",
    "print(\"\\nUnique 'hf_type' after update:\")\n",
    "print(new_df['hf_type'].unique())\n"
   ]
  },
  {
   "cell_type": "markdown",
   "metadata": {},
   "source": [
    "#### **Correct hf_type for 'CT' Facilities Labeled as 'Hospital'**"
   ]
  },
  {
   "cell_type": "code",
   "execution_count": 1114,
   "metadata": {},
   "outputs": [
    {
     "name": "stdout",
     "output_type": "stream",
     "text": [
      "\n",
      "Updated 'hf_type' for 'CT' facilities mistakenly labeled as 'hospital':\n",
      "Empty DataFrame\n",
      "Columns: [hf_name, hf_tb_type, hf_type]\n",
      "Index: []\n",
      "\n",
      "Unique 'hf_type' after update:\n",
      "['health center' 'hospital']\n"
     ]
    },
    {
     "data": {
      "text/plain": [
       "(24349, 12)"
      ]
     },
     "execution_count": 1114,
     "metadata": {},
     "output_type": "execute_result"
    }
   ],
   "source": [
    "# Correct hf_type for facilities where hf_tb_type is 'CT' and hf_type is 'hospital'\n",
    "new_df.loc[(new_df['hf_tb_type'] == 'CT') & (new_df['hf_type'] == 'hospital'), 'hf_type'] = 'health center'\n",
    "\n",
    "# Verify the change\n",
    "print(\"\\nUpdated 'hf_type' for 'CT' facilities mistakenly labeled as 'hospital':\")\n",
    "print(new_df[(new_df['hf_tb_type'] == 'CT') & (new_df['hf_type'] == 'hospital')][['hf_name', 'hf_tb_type', 'hf_type']])\n",
    "\n",
    "# Verify the unique hf_type values\n",
    "print(\"\\nUnique 'hf_type' after update:\")\n",
    "print(new_df['hf_type'].unique())\n",
    "new_df.shape"
   ]
  },
  {
   "cell_type": "code",
   "execution_count": null,
   "metadata": {},
   "outputs": [],
   "source": []
  },
  {
   "cell_type": "markdown",
   "metadata": {},
   "source": [
    "#### **Update hf_type for Hospitals Ending with 'cs' or 'CS'**"
   ]
  },
  {
   "cell_type": "code",
   "execution_count": 1115,
   "metadata": {},
   "outputs": [
    {
     "name": "stdout",
     "output_type": "stream",
     "text": [
      "Before updating hf_type to 'health center': ['Save CS' 'Ruhango CS']\n",
      "After updating hf_type, still marked as hospital: []\n"
     ]
    }
   ],
   "source": [
    "# Initial mask for mistakened hospitals\n",
    "mask = new_df['hf_name'].str.endswith(('cs', 'CS')) & (new_df['hf_type'] == 'hospital')\n",
    "\n",
    "print(\"Before updating hf_type to 'health center':\", new_df[mask]['hf_name'].unique())\n",
    "\n",
    "# Apply the fix\n",
    "new_df.loc[mask, 'hf_type'] = 'health center'\n",
    "\n",
    "# Recreate mask (optional: check if any were still missed)\n",
    "new_mask = new_df['hf_name'].str.endswith(('cs', 'CS')) & (new_df['hf_type'] == 'hospital')\n",
    "\n",
    "print(\"After updating hf_type, still marked as hospital:\", new_df[new_mask]['hf_name'].unique())"
   ]
  },
  {
   "cell_type": "markdown",
   "metadata": {},
   "source": [
    "#### **Update hf_type for Health Centers Ending with 'dh', 'ph', 'rh' or 'capitalized'**"
   ]
  },
  {
   "cell_type": "code",
   "execution_count": 1116,
   "metadata": {},
   "outputs": [
    {
     "name": "stdout",
     "output_type": "stream",
     "text": [
      "Before updating hf_type to 'hosptials': [' Nyagatare DH' 'Kiziguro DH' 'gwinkwavu DH']\n",
      "Before updating hf_type to 'hosptials': []\n"
     ]
    }
   ],
   "source": [
    "# Identify and correct hf_type for facilities whose hf_name ends with 'cs' or 'CS' but are marked as 'hospital'\n",
    "mask = new_df['hf_name'].str.endswith(('dh', 'ph', 'rh', 'DH', 'PH', 'RH')) & (new_df['hf_type'] == 'health center')\n",
    "\n",
    "print(\"Before updating hf_type to 'hosptials':\", new_df[mask]['hf_name'].unique())\n",
    "\n",
    "# Update the hf_type to 'health center' for those facilities\n",
    "new_df.loc[mask, 'hf_type'] = 'hospital'\n",
    "\n",
    "new_mask = new_df['hf_name'].str.endswith(('dh', 'ph', 'rh', 'DH', 'PH', 'RH')) & (new_df['hf_type'] == 'health center')\n",
    "\n",
    "# Verify the change\n",
    "print(\"Before updating hf_type to 'hosptials':\", new_df[new_mask]['hf_name'].unique())\n"
   ]
  },
  {
   "cell_type": "markdown",
   "metadata": {},
   "source": [
    "#### **Extract Categorical and Numerical Columns**"
   ]
  },
  {
   "cell_type": "code",
   "execution_count": 1117,
   "metadata": {},
   "outputs": [],
   "source": [
    "new_df[\"num\"] = pd.to_numeric(new_df[\"num\"], errors=\"coerce\")\n",
    "new_df[\"den\"] = pd.to_numeric(new_df[\"den\"], errors=\"coerce\")"
   ]
  },
  {
   "cell_type": "code",
   "execution_count": 1118,
   "metadata": {},
   "outputs": [
    {
     "name": "stdout",
     "output_type": "stream",
     "text": [
      "\n",
      "Categorical Columns:\n",
      "['hf_name', 'genexpert_site', 'hf_type', 'hf_tb_type', 'fy', 'province', 'district', 'summary_group', 'normes', 'item_name']\n",
      "\n",
      "Numerical Columns:\n",
      "['num', 'den']\n"
     ]
    }
   ],
   "source": [
    "# Extract categorical columns (typically object type or category dtype)\n",
    "categorical_columns = new_df.select_dtypes(include=['object', 'category']).columns.tolist()\n",
    "\n",
    "# Extract numerical columns (typically int64 or float64 dtype)\n",
    "numerical_columns = new_df.select_dtypes(include=['number']).columns.tolist()\n",
    "\n",
    "# Display results\n",
    "print(\"\\nCategorical Columns:\")\n",
    "print(categorical_columns)\n",
    "\n",
    "print(\"\\nNumerical Columns:\")\n",
    "print(numerical_columns)"
   ]
  },
  {
   "cell_type": "markdown",
   "metadata": {},
   "source": [
    "#### **Transform Categorical Columns to Lowercase**"
   ]
  },
  {
   "cell_type": "code",
   "execution_count": 1119,
   "metadata": {},
   "outputs": [
    {
     "name": "stdout",
     "output_type": "stream",
     "text": [
      "\n",
      "Preview of Categorical Columns after Lowercasing:\n"
     ]
    },
    {
     "data": {
      "text/html": [
       "<div>\n",
       "<style scoped>\n",
       "    .dataframe tbody tr th:only-of-type {\n",
       "        vertical-align: middle;\n",
       "    }\n",
       "\n",
       "    .dataframe tbody tr th {\n",
       "        vertical-align: top;\n",
       "    }\n",
       "\n",
       "    .dataframe thead th {\n",
       "        text-align: right;\n",
       "    }\n",
       "</style>\n",
       "<table border=\"1\" class=\"dataframe\">\n",
       "  <thead>\n",
       "    <tr style=\"text-align: right;\">\n",
       "      <th></th>\n",
       "      <th>hf_name</th>\n",
       "      <th>genexpert_site</th>\n",
       "      <th>hf_type</th>\n",
       "      <th>hf_tb_type</th>\n",
       "      <th>fy</th>\n",
       "      <th>province</th>\n",
       "      <th>district</th>\n",
       "      <th>summary_group</th>\n",
       "      <th>normes</th>\n",
       "      <th>item_name</th>\n",
       "      <th>num</th>\n",
       "      <th>den</th>\n",
       "    </tr>\n",
       "  </thead>\n",
       "  <tbody>\n",
       "    <tr>\n",
       "      <th>0</th>\n",
       "      <td>ruli cs</td>\n",
       "      <td>no</td>\n",
       "      <td>health center</td>\n",
       "      <td>ct</td>\n",
       "      <td>2020-2021</td>\n",
       "      <td>north</td>\n",
       "      <td>gakenke</td>\n",
       "      <td>are algorithms for tb screening, tb diagnosis ...</td>\n",
       "      <td>toute fosa doit rendre disponible des algorith...</td>\n",
       "      <td>les services vih/arv, consultations externes, ...</td>\n",
       "      <td>3.0</td>\n",
       "      <td>4.0</td>\n",
       "    </tr>\n",
       "    <tr>\n",
       "      <th>1</th>\n",
       "      <td>ruli cs</td>\n",
       "      <td>no</td>\n",
       "      <td>health center</td>\n",
       "      <td>ct</td>\n",
       "      <td>2020-2021</td>\n",
       "      <td>north</td>\n",
       "      <td>gakenke</td>\n",
       "      <td>are tb monitoring tools existing, update and w...</td>\n",
       "      <td>les prestataires doivent avoir les connaissanc...</td>\n",
       "      <td>les prestataires des services arv, consultatio...</td>\n",
       "      <td>4.0</td>\n",
       "      <td>4.0</td>\n",
       "    </tr>\n",
       "    <tr>\n",
       "      <th>2</th>\n",
       "      <td>ruli cs</td>\n",
       "      <td>no</td>\n",
       "      <td>health center</td>\n",
       "      <td>ct</td>\n",
       "      <td>2020-2021</td>\n",
       "      <td>north</td>\n",
       "      <td>gakenke</td>\n",
       "      <td>is active case finding conducted in tb high ri...</td>\n",
       "      <td>NaN</td>\n",
       "      <td>sur 10 nouveaux prisonniers entrés au cours de...</td>\n",
       "      <td>NaN</td>\n",
       "      <td>10.0</td>\n",
       "    </tr>\n",
       "    <tr>\n",
       "      <th>3</th>\n",
       "      <td>ruli cs</td>\n",
       "      <td>no</td>\n",
       "      <td>health center</td>\n",
       "      <td>ct</td>\n",
       "      <td>2020-2021</td>\n",
       "      <td>north</td>\n",
       "      <td>gakenke</td>\n",
       "      <td>is active case finding conducted in tb high ri...</td>\n",
       "      <td>NaN</td>\n",
       "      <td>sur 10 nouveaux prisonniers sortants au cours ...</td>\n",
       "      <td>NaN</td>\n",
       "      <td>10.0</td>\n",
       "    </tr>\n",
       "    <tr>\n",
       "      <th>4</th>\n",
       "      <td>ruli cs</td>\n",
       "      <td>no</td>\n",
       "      <td>health center</td>\n",
       "      <td>ct</td>\n",
       "      <td>2020-2021</td>\n",
       "      <td>north</td>\n",
       "      <td>gakenke</td>\n",
       "      <td>are tb diagnostics continuously functional (mi...</td>\n",
       "      <td>NaN</td>\n",
       "      <td>sur les 10 derniers patients hospitalises( 5 p...</td>\n",
       "      <td>NaN</td>\n",
       "      <td>10.0</td>\n",
       "    </tr>\n",
       "  </tbody>\n",
       "</table>\n",
       "</div>"
      ],
      "text/plain": [
       "   hf_name genexpert_site        hf_type hf_tb_type         fy province  \\\n",
       "0  ruli cs             no  health center         ct  2020-2021    north   \n",
       "1  ruli cs             no  health center         ct  2020-2021    north   \n",
       "2  ruli cs             no  health center         ct  2020-2021    north   \n",
       "3  ruli cs             no  health center         ct  2020-2021    north   \n",
       "4  ruli cs             no  health center         ct  2020-2021    north   \n",
       "\n",
       "  district                                      summary_group  \\\n",
       "0  gakenke  are algorithms for tb screening, tb diagnosis ...   \n",
       "1  gakenke  are tb monitoring tools existing, update and w...   \n",
       "2  gakenke  is active case finding conducted in tb high ri...   \n",
       "3  gakenke  is active case finding conducted in tb high ri...   \n",
       "4  gakenke  are tb diagnostics continuously functional (mi...   \n",
       "\n",
       "                                              normes  \\\n",
       "0  toute fosa doit rendre disponible des algorith...   \n",
       "1  les prestataires doivent avoir les connaissanc...   \n",
       "2                                                NaN   \n",
       "3                                                NaN   \n",
       "4                                                NaN   \n",
       "\n",
       "                                           item_name  num   den  \n",
       "0  les services vih/arv, consultations externes, ...  3.0   4.0  \n",
       "1  les prestataires des services arv, consultatio...  4.0   4.0  \n",
       "2  sur 10 nouveaux prisonniers entrés au cours de...  NaN  10.0  \n",
       "3  sur 10 nouveaux prisonniers sortants au cours ...  NaN  10.0  \n",
       "4  sur les 10 derniers patients hospitalises( 5 p...  NaN  10.0  "
      ]
     },
     "execution_count": 1119,
     "metadata": {},
     "output_type": "execute_result"
    }
   ],
   "source": [
    "# Loop through each categorical column and transform its values to lowercase\n",
    "for col in categorical_columns:\n",
    "    new_df[col] = new_df[col].str.strip().str.lower()\n",
    "\n",
    "# Verify the changes by previewing the transformed categorical columns\n",
    "print(\"\\nPreview of Categorical Columns after Lowercasing:\")\n",
    "new_df.head()\n"
   ]
  },
  {
   "cell_type": "markdown",
   "metadata": {},
   "source": [
    "#### **Check and Remove Duplicates**"
   ]
  },
  {
   "cell_type": "code",
   "execution_count": 1120,
   "metadata": {},
   "outputs": [
    {
     "name": "stdout",
     "output_type": "stream",
     "text": [
      "shape before removing duplicates:\n",
      "(24349, 12)\n",
      "\n",
      "Duplicate Rows: (231, 12)\n",
      "\n",
      "Shape after removing duplicates:\n"
     ]
    },
    {
     "data": {
      "text/plain": [
       "(24118, 12)"
      ]
     },
     "execution_count": 1120,
     "metadata": {},
     "output_type": "execute_result"
    }
   ],
   "source": [
    "print(\"shape before removing duplicates:\")\n",
    "print(new_df.shape)\n",
    "# Check for duplicates\n",
    "duplicate_rows = new_df[new_df.duplicated()]\n",
    "\n",
    "# Display the duplicate rows (if any)\n",
    "print(\"\\nDuplicate Rows:\", duplicate_rows.shape)\n",
    "duplicate_rows\n",
    "\n",
    "# Remove duplicates\n",
    "new_df = new_df.drop_duplicates()\n",
    "\n",
    "# # Verify the shape of the DataFrame after removing duplicates\n",
    "print(\"\\nShape after removing duplicates:\")\n",
    "new_df.shape"
   ]
  },
  {
   "cell_type": "markdown",
   "metadata": {},
   "source": [
    "#### **version 2: Remove a few emerged teaching hospitals**"
   ]
  },
  {
   "cell_type": "code",
   "execution_count": 1121,
   "metadata": {},
   "outputs": [
    {
     "name": "stdout",
     "output_type": "stream",
     "text": [
      "\n",
      "Data after removing rows:\n",
      "   hf_name genexpert_site        hf_type hf_tb_type         fy province  \\\n",
      "0  ruli cs             no  health center         ct  2020-2021    north   \n",
      "1  ruli cs             no  health center         ct  2020-2021    north   \n",
      "2  ruli cs             no  health center         ct  2020-2021    north   \n",
      "3  ruli cs             no  health center         ct  2020-2021    north   \n",
      "4  ruli cs             no  health center         ct  2020-2021    north   \n",
      "\n",
      "  district                                      summary_group  \\\n",
      "0  gakenke  are algorithms for tb screening, tb diagnosis ...   \n",
      "1  gakenke  are tb monitoring tools existing, update and w...   \n",
      "2  gakenke  is active case finding conducted in tb high ri...   \n",
      "3  gakenke  is active case finding conducted in tb high ri...   \n",
      "4  gakenke  are tb diagnostics continuously functional (mi...   \n",
      "\n",
      "                                              normes  \\\n",
      "0  toute fosa doit rendre disponible des algorith...   \n",
      "1  les prestataires doivent avoir les connaissanc...   \n",
      "2                                                NaN   \n",
      "3                                                NaN   \n",
      "4                                                NaN   \n",
      "\n",
      "                                           item_name  num   den  \n",
      "0  les services vih/arv, consultations externes, ...  3.0   4.0  \n",
      "1  les prestataires des services arv, consultatio...  4.0   4.0  \n",
      "2  sur 10 nouveaux prisonniers entrés au cours de...  NaN  10.0  \n",
      "3  sur 10 nouveaux prisonniers sortants au cours ...  NaN  10.0  \n",
      "4  sur les 10 derniers patients hospitalises( 5 p...  NaN  10.0  \n"
     ]
    }
   ],
   "source": [
    "# Create a boolean mask for 'hf_name' starting with specific prefixes and ending with specific suffixes\n",
    "mask = new_df['hf_name'].str.startswith((\"ch\", \"kabgayi\", 'kibuye', 'kigali', 'ngoma', 'huye', 'ruhengeri', 'rwanda')) & \\\n",
    "       new_df['hf_name'].str.endswith((\"dh\", \"ph\", 'rh'))\n",
    "\n",
    "# Apply the mask to remove the matching rows\n",
    "new_df = new_df[~mask]\n",
    "\n",
    "# Verify the changes\n",
    "print(\"\\nData after removing rows:\")\n",
    "print(new_df.head())\n"
   ]
  },
  {
   "cell_type": "markdown",
   "metadata": {},
   "source": [
    "#### **Remove `Prison` related question in `screening` section**"
   ]
  },
  {
   "cell_type": "code",
   "execution_count": 1122,
   "metadata": {},
   "outputs": [],
   "source": [
    "# Define the items to exclude\n",
    "items_to_exclude = [\n",
    "    \"Sur 10 nouveaux prisonniers entrÃ©s au cours de la pÃ©riode evaluÃ©e, combien ont beneficiÃ© du screening TB Ã¡ l'entrÃ©e\",\n",
    "    \"Sur 10 nouveaux prisonniers sortants au cours de la pÃ©riode evaluÃ©e, combien ont beneficiÃ© du screening TB Ã¡ la sortie\"\n",
    "]\n",
    "\n",
    "# Filter out rows where item_name is in items_to_exclude\n",
    "new_df = new_df[~new_df[\"item_name\"].isin(items_to_exclude)]"
   ]
  },
  {
   "cell_type": "markdown",
   "metadata": {},
   "source": [
    "#### **Feature engineering**: \n",
    "Derive a new 'section' column by mapping 'summary_group' to broader categories\n"
   ]
  },
  {
   "cell_type": "code",
   "execution_count": 1123,
   "metadata": {},
   "outputs": [],
   "source": [
    "section_mapping = {\n",
    "    \"is active case finding conducted in tb high risk groups?[questions 2, 8 and 9]\": \"screening\",\n",
    "    \"are tb diagnostics continuously functional (microscopy and expert) and their results available timely (microscopy, expert and culture)?[questions 3, 4, 5, 6 and 7]\": \"diagnosis\",\n",
    "    \"are tb patients early initiated on tb treatment and on art (if indicated), and their bacteriological control performed according to guidelines?[questions 16, 17, 18 and 19]\": \"treatment\",\n",
    "    \"does the bmi monitored for tb patients and nutritional support provided to the eligible patients?[questions new_70 and new_71]\": \"treatment\",\n",
    "}\n",
    "\n",
    "new_df[\"section\"] = new_df[\"summary_group\"].map(section_mapping)\n",
    "\n",
    "# Keep only rows where section is screening, diagnosis, or treatment\n",
    "new_df = new_df[new_df[\"section\"].isin([\"screening\", \"diagnosis\", \"treatment\"])]"
   ]
  },
  {
   "cell_type": "markdown",
   "metadata": {},
   "source": [
    "#### **Remove on-applicable (N/A) questions**"
   ]
  },
  {
   "cell_type": "markdown",
   "metadata": {},
   "source": [
    "filter out rows that meet one or more of these conditions, meaning the question wasn't applicable:\n",
    "\n",
    "- den is missing → can't assess\n",
    "- num is missing but den > 0 → incomplete data\n",
    "- num == 0 and den == 0 → nothing to measure\n",
    "- num > den → logically incorrect in most performance indicators"
   ]
  },
  {
   "cell_type": "markdown",
   "metadata": {},
   "source": [
    "-- starts --"
   ]
  },
  {
   "cell_type": "code",
   "execution_count": 1124,
   "metadata": {},
   "outputs": [],
   "source": [
    "# summary_item_scores = (\n",
    "#     new_df.groupby(\n",
    "#         ['province', 'section', 'summary_group', \"genexpert_site\", 'item_name', 'hf_name', 'hf_tb_type', 'hf_type', 'fy']\n",
    "#     )\n",
    "#     .agg({'num': 'sum', 'den': 'sum'})\n",
    "#     .reset_index()\n",
    "# )"
   ]
  },
  {
   "cell_type": "code",
   "execution_count": 1125,
   "metadata": {},
   "outputs": [],
   "source": [
    "# summary_item_scores.section.unique()"
   ]
  },
  {
   "cell_type": "markdown",
   "metadata": {},
   "source": [
    "-- ends --"
   ]
  },
  {
   "cell_type": "code",
   "execution_count": 1126,
   "metadata": {},
   "outputs": [],
   "source": [
    "new_df = (\n",
    "    new_df.groupby(\n",
    "        ['province', 'section', 'summary_group', \"genexpert_site\", 'item_name', 'hf_name', 'hf_tb_type', 'hf_type', 'fy']\n",
    "    )\n",
    "    .agg({'num': 'sum', 'den': 'sum'})\n",
    "    .reset_index()\n",
    ")"
   ]
  },
  {
   "cell_type": "code",
   "execution_count": 1127,
   "metadata": {},
   "outputs": [
    {
     "name": "stdout",
     "output_type": "stream",
     "text": [
      "df size:  (6640, 11)\n",
      "valid size:  (5950, 11)\n",
      "invalid size:  (690, 11)\n"
     ]
    }
   ],
   "source": [
    "# Define valid cases\n",
    "valid_df = new_df[\n",
    "    (new_df[\"num\"] <= new_df[\"den\"]) &  # num must not be greater than den\n",
    "    ~(new_df[\"num\"].isna() & new_df[\"den\"] > 0) &  # Exclude cases where num is NaN but den > 0\n",
    "    ~((new_df[\"num\"] == 0) & (new_df[\"den\"] == 0)) &  # Exclude cases where both num and den are 0\n",
    "    ~(new_df[\"den\"].isna())  # Exclude cases where den is NaN (new fix)\n",
    "]\n",
    "\n",
    "invalid_df = new_df[\n",
    "    (new_df[\"num\"] > new_df[\"den\"]) |  # Invalid if num > den\n",
    "    ((new_df[\"num\"].isna()) & (new_df[\"den\"] > 0)) |  # Invalid if num is NaN but den > 0\n",
    "    ((new_df[\"num\"] == 0) & (new_df[\"den\"] == 0)) |  # Invalid if both num and den are 0\n",
    "    (new_df[\"den\"].isna()) |  # Invalid if den is NaN\n",
    "    ((new_df[\"num\"].isna()) & (new_df[\"den\"] == 0))  # NEW FIX: Invalid if num is NaN and den = 0\n",
    "]\n",
    "\n",
    "print(\"df size: \", new_df.shape)\n",
    "print(\"valid size: \", valid_df.shape)\n",
    "print(\"invalid size: \", invalid_df.shape)\n",
    "new_df = valid_df"
   ]
  },
  {
   "cell_type": "markdown",
   "metadata": {},
   "source": [
    "# `PART 2`"
   ]
  },
  {
   "cell_type": "markdown",
   "metadata": {},
   "source": [
    "### **Approach #1**"
   ]
  },
  {
   "cell_type": "markdown",
   "metadata": {},
   "source": [
    "`1`"
   ]
  },
  {
   "cell_type": "code",
   "execution_count": 1129,
   "metadata": {},
   "outputs": [
    {
     "data": {
      "text/html": [
       "<div>\n",
       "<style scoped>\n",
       "    .dataframe tbody tr th:only-of-type {\n",
       "        vertical-align: middle;\n",
       "    }\n",
       "\n",
       "    .dataframe tbody tr th {\n",
       "        vertical-align: top;\n",
       "    }\n",
       "\n",
       "    .dataframe thead th {\n",
       "        text-align: right;\n",
       "    }\n",
       "</style>\n",
       "<table border=\"1\" class=\"dataframe\">\n",
       "  <thead>\n",
       "    <tr style=\"text-align: right;\">\n",
       "      <th></th>\n",
       "      <th>fy</th>\n",
       "      <th>average_score</th>\n",
       "      <th>num_facilities</th>\n",
       "    </tr>\n",
       "  </thead>\n",
       "  <tbody>\n",
       "    <tr>\n",
       "      <th>0</th>\n",
       "      <td>2020-2021</td>\n",
       "      <td>81.552145</td>\n",
       "      <td>74</td>\n",
       "    </tr>\n",
       "    <tr>\n",
       "      <th>1</th>\n",
       "      <td>2021-2022</td>\n",
       "      <td>45.021951</td>\n",
       "      <td>69</td>\n",
       "    </tr>\n",
       "    <tr>\n",
       "      <th>2</th>\n",
       "      <td>2022-2023</td>\n",
       "      <td>39.695691</td>\n",
       "      <td>31</td>\n",
       "    </tr>\n",
       "    <tr>\n",
       "      <th>3</th>\n",
       "      <td>2023-2024</td>\n",
       "      <td>40.619488</td>\n",
       "      <td>69</td>\n",
       "    </tr>\n",
       "  </tbody>\n",
       "</table>\n",
       "</div>"
      ],
      "text/plain": [
       "          fy  average_score  num_facilities\n",
       "0  2020-2021      81.552145              74\n",
       "1  2021-2022      45.021951              69\n",
       "2  2022-2023      39.695691              31\n",
       "3  2023-2024      40.619488              69"
      ]
     },
     "execution_count": 1129,
     "metadata": {},
     "output_type": "execute_result"
    }
   ],
   "source": [
    "screening_hc = new_df[\n",
    "    (new_df['section'] == 'screening') &\n",
    "    (new_df['hf_type'] == 'health center')\n",
    "]\n",
    "\n",
    "# Group by fy and facility, aggregate num and den\n",
    "facility_scores = screening_hc.groupby(['fy', 'hf_name']).agg(\n",
    "    total_num=('num', 'sum'),\n",
    "    total_den=('den', 'sum')\n",
    ").reset_index()\n",
    "\n",
    "# Recalculate score_out_of_100\n",
    "facility_scores['score_out_of_100'] = 100 * facility_scores['total_num'] / facility_scores['total_den']\n",
    "\n",
    "# Then average across all facilities per year\n",
    "hc_result = facility_scores.groupby('fy').agg(\n",
    "    average_score=('score_out_of_100', 'mean'),\n",
    "    num_facilities=('hf_name', 'nunique')\n",
    ").reset_index()\n",
    "hc_result\n"
   ]
  },
  {
   "cell_type": "code",
   "execution_count": null,
   "metadata": {},
   "outputs": [
    {
     "data": {
      "text/html": [
       "<div>\n",
       "<style scoped>\n",
       "    .dataframe tbody tr th:only-of-type {\n",
       "        vertical-align: middle;\n",
       "    }\n",
       "\n",
       "    .dataframe tbody tr th {\n",
       "        vertical-align: top;\n",
       "    }\n",
       "\n",
       "    .dataframe thead th {\n",
       "        text-align: right;\n",
       "    }\n",
       "</style>\n",
       "<table border=\"1\" class=\"dataframe\">\n",
       "  <thead>\n",
       "    <tr style=\"text-align: right;\">\n",
       "      <th></th>\n",
       "      <th>fy</th>\n",
       "      <th>hf_name</th>\n",
       "      <th>total_num</th>\n",
       "      <th>total_den</th>\n",
       "      <th>score_out_of_100</th>\n",
       "    </tr>\n",
       "  </thead>\n",
       "  <tbody>\n",
       "    <tr>\n",
       "      <th>0</th>\n",
       "      <td>2020-2021</td>\n",
       "      <td>agahabwa cs</td>\n",
       "      <td>20.0</td>\n",
       "      <td>20.0</td>\n",
       "      <td>100.000000</td>\n",
       "    </tr>\n",
       "    <tr>\n",
       "      <th>1</th>\n",
       "      <td>2020-2021</td>\n",
       "      <td>buramba cs</td>\n",
       "      <td>15.0</td>\n",
       "      <td>15.0</td>\n",
       "      <td>100.000000</td>\n",
       "    </tr>\n",
       "    <tr>\n",
       "      <th>2</th>\n",
       "      <td>2020-2021</td>\n",
       "      <td>bushara cs</td>\n",
       "      <td>10.0</td>\n",
       "      <td>10.0</td>\n",
       "      <td>100.000000</td>\n",
       "    </tr>\n",
       "    <tr>\n",
       "      <th>3</th>\n",
       "      <td>2020-2021</td>\n",
       "      <td>busoro cs</td>\n",
       "      <td>18.0</td>\n",
       "      <td>20.0</td>\n",
       "      <td>90.000000</td>\n",
       "    </tr>\n",
       "    <tr>\n",
       "      <th>4</th>\n",
       "      <td>2020-2021</td>\n",
       "      <td>byimana cs</td>\n",
       "      <td>18.0</td>\n",
       "      <td>20.0</td>\n",
       "      <td>90.000000</td>\n",
       "    </tr>\n",
       "    <tr>\n",
       "      <th>...</th>\n",
       "      <td>...</td>\n",
       "      <td>...</td>\n",
       "      <td>...</td>\n",
       "      <td>...</td>\n",
       "      <td>...</td>\n",
       "    </tr>\n",
       "    <tr>\n",
       "      <th>237</th>\n",
       "      <td>2023-2024</td>\n",
       "      <td>rusoro cs</td>\n",
       "      <td>20.0</td>\n",
       "      <td>20.0</td>\n",
       "      <td>100.000000</td>\n",
       "    </tr>\n",
       "    <tr>\n",
       "      <th>238</th>\n",
       "      <td>2023-2024</td>\n",
       "      <td>rutonde cs</td>\n",
       "      <td>14.0</td>\n",
       "      <td>15.0</td>\n",
       "      <td>93.333333</td>\n",
       "    </tr>\n",
       "    <tr>\n",
       "      <th>239</th>\n",
       "      <td>2023-2024</td>\n",
       "      <td>rwahi cs</td>\n",
       "      <td>13.0</td>\n",
       "      <td>20.0</td>\n",
       "      <td>65.000000</td>\n",
       "    </tr>\n",
       "    <tr>\n",
       "      <th>240</th>\n",
       "      <td>2023-2024</td>\n",
       "      <td>rwankuba cs</td>\n",
       "      <td>20.0</td>\n",
       "      <td>20.0</td>\n",
       "      <td>100.000000</td>\n",
       "    </tr>\n",
       "    <tr>\n",
       "      <th>241</th>\n",
       "      <td>2023-2024</td>\n",
       "      <td>zaza cs</td>\n",
       "      <td>28.0</td>\n",
       "      <td>30.0</td>\n",
       "      <td>93.333333</td>\n",
       "    </tr>\n",
       "  </tbody>\n",
       "</table>\n",
       "<p>242 rows × 5 columns</p>\n",
       "</div>"
      ],
      "text/plain": [
       "            fy      hf_name  total_num  total_den  score_out_of_100\n",
       "0    2020-2021  agahabwa cs       20.0       20.0        100.000000\n",
       "1    2020-2021   buramba cs       15.0       15.0        100.000000\n",
       "2    2020-2021   bushara cs       10.0       10.0        100.000000\n",
       "3    2020-2021    busoro cs       18.0       20.0         90.000000\n",
       "4    2020-2021   byimana cs       18.0       20.0         90.000000\n",
       "..         ...          ...        ...        ...               ...\n",
       "237  2023-2024    rusoro cs       20.0       20.0        100.000000\n",
       "238  2023-2024   rutonde cs       14.0       15.0         93.333333\n",
       "239  2023-2024     rwahi cs       13.0       20.0         65.000000\n",
       "240  2023-2024  rwankuba cs       20.0       20.0        100.000000\n",
       "241  2023-2024      zaza cs       28.0       30.0         93.333333\n",
       "\n",
       "[242 rows x 5 columns]"
      ]
     },
     "execution_count": 1096,
     "metadata": {},
     "output_type": "execute_result"
    }
   ],
   "source": [
    "facility_scores"
   ]
  },
  {
   "cell_type": "code",
   "execution_count": null,
   "metadata": {},
   "outputs": [
    {
     "data": {
      "text/html": [
       "<div>\n",
       "<style scoped>\n",
       "    .dataframe tbody tr th:only-of-type {\n",
       "        vertical-align: middle;\n",
       "    }\n",
       "\n",
       "    .dataframe tbody tr th {\n",
       "        vertical-align: top;\n",
       "    }\n",
       "\n",
       "    .dataframe thead th {\n",
       "        text-align: right;\n",
       "    }\n",
       "</style>\n",
       "<table border=\"1\" class=\"dataframe\">\n",
       "  <thead>\n",
       "    <tr style=\"text-align: right;\">\n",
       "      <th></th>\n",
       "      <th>section</th>\n",
       "      <th>hf_tb_type</th>\n",
       "      <th>hf_type</th>\n",
       "      <th>fy</th>\n",
       "      <th>overall_score</th>\n",
       "    </tr>\n",
       "  </thead>\n",
       "  <tbody>\n",
       "    <tr>\n",
       "      <th>0</th>\n",
       "      <td>diagnosis</td>\n",
       "      <td>cdt</td>\n",
       "      <td>health center</td>\n",
       "      <td>2020-2021</td>\n",
       "      <td>87.123116</td>\n",
       "    </tr>\n",
       "    <tr>\n",
       "      <th>1</th>\n",
       "      <td>diagnosis</td>\n",
       "      <td>cdt</td>\n",
       "      <td>health center</td>\n",
       "      <td>2021-2022</td>\n",
       "      <td>73.961562</td>\n",
       "    </tr>\n",
       "    <tr>\n",
       "      <th>2</th>\n",
       "      <td>diagnosis</td>\n",
       "      <td>cdt</td>\n",
       "      <td>health center</td>\n",
       "      <td>2022-2023</td>\n",
       "      <td>81.526718</td>\n",
       "    </tr>\n",
       "    <tr>\n",
       "      <th>3</th>\n",
       "      <td>diagnosis</td>\n",
       "      <td>cdt</td>\n",
       "      <td>health center</td>\n",
       "      <td>2023-2024</td>\n",
       "      <td>85.706278</td>\n",
       "    </tr>\n",
       "    <tr>\n",
       "      <th>4</th>\n",
       "      <td>diagnosis</td>\n",
       "      <td>cdt</td>\n",
       "      <td>hospital</td>\n",
       "      <td>2020-2021</td>\n",
       "      <td>86.382475</td>\n",
       "    </tr>\n",
       "    <tr>\n",
       "      <th>5</th>\n",
       "      <td>diagnosis</td>\n",
       "      <td>cdt</td>\n",
       "      <td>hospital</td>\n",
       "      <td>2021-2022</td>\n",
       "      <td>88.619718</td>\n",
       "    </tr>\n",
       "    <tr>\n",
       "      <th>6</th>\n",
       "      <td>diagnosis</td>\n",
       "      <td>cdt</td>\n",
       "      <td>hospital</td>\n",
       "      <td>2022-2023</td>\n",
       "      <td>83.281734</td>\n",
       "    </tr>\n",
       "    <tr>\n",
       "      <th>7</th>\n",
       "      <td>diagnosis</td>\n",
       "      <td>cdt</td>\n",
       "      <td>hospital</td>\n",
       "      <td>2023-2024</td>\n",
       "      <td>85.815603</td>\n",
       "    </tr>\n",
       "    <tr>\n",
       "      <th>8</th>\n",
       "      <td>diagnosis</td>\n",
       "      <td>ct</td>\n",
       "      <td>health center</td>\n",
       "      <td>2020-2021</td>\n",
       "      <td>62.602881</td>\n",
       "    </tr>\n",
       "    <tr>\n",
       "      <th>9</th>\n",
       "      <td>diagnosis</td>\n",
       "      <td>ct</td>\n",
       "      <td>health center</td>\n",
       "      <td>2021-2022</td>\n",
       "      <td>68.004169</td>\n",
       "    </tr>\n",
       "    <tr>\n",
       "      <th>10</th>\n",
       "      <td>diagnosis</td>\n",
       "      <td>ct</td>\n",
       "      <td>health center</td>\n",
       "      <td>2022-2023</td>\n",
       "      <td>60.501567</td>\n",
       "    </tr>\n",
       "    <tr>\n",
       "      <th>11</th>\n",
       "      <td>diagnosis</td>\n",
       "      <td>ct</td>\n",
       "      <td>health center</td>\n",
       "      <td>2023-2024</td>\n",
       "      <td>52.291862</td>\n",
       "    </tr>\n",
       "    <tr>\n",
       "      <th>12</th>\n",
       "      <td>screening</td>\n",
       "      <td>cdt</td>\n",
       "      <td>health center</td>\n",
       "      <td>2020-2021</td>\n",
       "      <td>93.188406</td>\n",
       "    </tr>\n",
       "    <tr>\n",
       "      <th>13</th>\n",
       "      <td>screening</td>\n",
       "      <td>cdt</td>\n",
       "      <td>health center</td>\n",
       "      <td>2021-2022</td>\n",
       "      <td>84.435262</td>\n",
       "    </tr>\n",
       "    <tr>\n",
       "      <th>14</th>\n",
       "      <td>screening</td>\n",
       "      <td>cdt</td>\n",
       "      <td>health center</td>\n",
       "      <td>2022-2023</td>\n",
       "      <td>90.086207</td>\n",
       "    </tr>\n",
       "    <tr>\n",
       "      <th>15</th>\n",
       "      <td>screening</td>\n",
       "      <td>cdt</td>\n",
       "      <td>health center</td>\n",
       "      <td>2023-2024</td>\n",
       "      <td>74.428571</td>\n",
       "    </tr>\n",
       "    <tr>\n",
       "      <th>16</th>\n",
       "      <td>screening</td>\n",
       "      <td>cdt</td>\n",
       "      <td>hospital</td>\n",
       "      <td>2020-2021</td>\n",
       "      <td>71.502591</td>\n",
       "    </tr>\n",
       "    <tr>\n",
       "      <th>17</th>\n",
       "      <td>screening</td>\n",
       "      <td>cdt</td>\n",
       "      <td>hospital</td>\n",
       "      <td>2021-2022</td>\n",
       "      <td>75.000000</td>\n",
       "    </tr>\n",
       "    <tr>\n",
       "      <th>18</th>\n",
       "      <td>screening</td>\n",
       "      <td>cdt</td>\n",
       "      <td>hospital</td>\n",
       "      <td>2022-2023</td>\n",
       "      <td>95.238095</td>\n",
       "    </tr>\n",
       "    <tr>\n",
       "      <th>19</th>\n",
       "      <td>screening</td>\n",
       "      <td>cdt</td>\n",
       "      <td>hospital</td>\n",
       "      <td>2023-2024</td>\n",
       "      <td>66.182874</td>\n",
       "    </tr>\n",
       "    <tr>\n",
       "      <th>20</th>\n",
       "      <td>screening</td>\n",
       "      <td>ct</td>\n",
       "      <td>health center</td>\n",
       "      <td>2020-2021</td>\n",
       "      <td>75.848691</td>\n",
       "    </tr>\n",
       "    <tr>\n",
       "      <th>21</th>\n",
       "      <td>screening</td>\n",
       "      <td>ct</td>\n",
       "      <td>health center</td>\n",
       "      <td>2021-2022</td>\n",
       "      <td>87.344329</td>\n",
       "    </tr>\n",
       "    <tr>\n",
       "      <th>22</th>\n",
       "      <td>screening</td>\n",
       "      <td>ct</td>\n",
       "      <td>health center</td>\n",
       "      <td>2022-2023</td>\n",
       "      <td>82.451253</td>\n",
       "    </tr>\n",
       "    <tr>\n",
       "      <th>23</th>\n",
       "      <td>screening</td>\n",
       "      <td>ct</td>\n",
       "      <td>health center</td>\n",
       "      <td>2023-2024</td>\n",
       "      <td>77.835588</td>\n",
       "    </tr>\n",
       "    <tr>\n",
       "      <th>24</th>\n",
       "      <td>treatment</td>\n",
       "      <td>cdt</td>\n",
       "      <td>health center</td>\n",
       "      <td>2020-2021</td>\n",
       "      <td>82.272160</td>\n",
       "    </tr>\n",
       "    <tr>\n",
       "      <th>25</th>\n",
       "      <td>treatment</td>\n",
       "      <td>cdt</td>\n",
       "      <td>health center</td>\n",
       "      <td>2021-2022</td>\n",
       "      <td>81.058496</td>\n",
       "    </tr>\n",
       "    <tr>\n",
       "      <th>26</th>\n",
       "      <td>treatment</td>\n",
       "      <td>cdt</td>\n",
       "      <td>health center</td>\n",
       "      <td>2022-2023</td>\n",
       "      <td>88.410596</td>\n",
       "    </tr>\n",
       "    <tr>\n",
       "      <th>27</th>\n",
       "      <td>treatment</td>\n",
       "      <td>cdt</td>\n",
       "      <td>health center</td>\n",
       "      <td>2023-2024</td>\n",
       "      <td>80.400000</td>\n",
       "    </tr>\n",
       "    <tr>\n",
       "      <th>28</th>\n",
       "      <td>treatment</td>\n",
       "      <td>cdt</td>\n",
       "      <td>hospital</td>\n",
       "      <td>2020-2021</td>\n",
       "      <td>86.250000</td>\n",
       "    </tr>\n",
       "    <tr>\n",
       "      <th>29</th>\n",
       "      <td>treatment</td>\n",
       "      <td>cdt</td>\n",
       "      <td>hospital</td>\n",
       "      <td>2021-2022</td>\n",
       "      <td>89.692586</td>\n",
       "    </tr>\n",
       "    <tr>\n",
       "      <th>30</th>\n",
       "      <td>treatment</td>\n",
       "      <td>cdt</td>\n",
       "      <td>hospital</td>\n",
       "      <td>2022-2023</td>\n",
       "      <td>75.159236</td>\n",
       "    </tr>\n",
       "    <tr>\n",
       "      <th>31</th>\n",
       "      <td>treatment</td>\n",
       "      <td>cdt</td>\n",
       "      <td>hospital</td>\n",
       "      <td>2023-2024</td>\n",
       "      <td>86.736334</td>\n",
       "    </tr>\n",
       "    <tr>\n",
       "      <th>32</th>\n",
       "      <td>treatment</td>\n",
       "      <td>ct</td>\n",
       "      <td>health center</td>\n",
       "      <td>2020-2021</td>\n",
       "      <td>79.822222</td>\n",
       "    </tr>\n",
       "    <tr>\n",
       "      <th>33</th>\n",
       "      <td>treatment</td>\n",
       "      <td>ct</td>\n",
       "      <td>health center</td>\n",
       "      <td>2021-2022</td>\n",
       "      <td>83.333333</td>\n",
       "    </tr>\n",
       "    <tr>\n",
       "      <th>34</th>\n",
       "      <td>treatment</td>\n",
       "      <td>ct</td>\n",
       "      <td>health center</td>\n",
       "      <td>2022-2023</td>\n",
       "      <td>67.970660</td>\n",
       "    </tr>\n",
       "    <tr>\n",
       "      <th>35</th>\n",
       "      <td>treatment</td>\n",
       "      <td>ct</td>\n",
       "      <td>health center</td>\n",
       "      <td>2023-2024</td>\n",
       "      <td>72.579186</td>\n",
       "    </tr>\n",
       "  </tbody>\n",
       "</table>\n",
       "</div>"
      ],
      "text/plain": [
       "      section hf_tb_type        hf_type         fy  overall_score\n",
       "0   diagnosis        cdt  health center  2020-2021      87.123116\n",
       "1   diagnosis        cdt  health center  2021-2022      73.961562\n",
       "2   diagnosis        cdt  health center  2022-2023      81.526718\n",
       "3   diagnosis        cdt  health center  2023-2024      85.706278\n",
       "4   diagnosis        cdt       hospital  2020-2021      86.382475\n",
       "5   diagnosis        cdt       hospital  2021-2022      88.619718\n",
       "6   diagnosis        cdt       hospital  2022-2023      83.281734\n",
       "7   diagnosis        cdt       hospital  2023-2024      85.815603\n",
       "8   diagnosis         ct  health center  2020-2021      62.602881\n",
       "9   diagnosis         ct  health center  2021-2022      68.004169\n",
       "10  diagnosis         ct  health center  2022-2023      60.501567\n",
       "11  diagnosis         ct  health center  2023-2024      52.291862\n",
       "12  screening        cdt  health center  2020-2021      93.188406\n",
       "13  screening        cdt  health center  2021-2022      84.435262\n",
       "14  screening        cdt  health center  2022-2023      90.086207\n",
       "15  screening        cdt  health center  2023-2024      74.428571\n",
       "16  screening        cdt       hospital  2020-2021      71.502591\n",
       "17  screening        cdt       hospital  2021-2022      75.000000\n",
       "18  screening        cdt       hospital  2022-2023      95.238095\n",
       "19  screening        cdt       hospital  2023-2024      66.182874\n",
       "20  screening         ct  health center  2020-2021      75.848691\n",
       "21  screening         ct  health center  2021-2022      87.344329\n",
       "22  screening         ct  health center  2022-2023      82.451253\n",
       "23  screening         ct  health center  2023-2024      77.835588\n",
       "24  treatment        cdt  health center  2020-2021      82.272160\n",
       "25  treatment        cdt  health center  2021-2022      81.058496\n",
       "26  treatment        cdt  health center  2022-2023      88.410596\n",
       "27  treatment        cdt  health center  2023-2024      80.400000\n",
       "28  treatment        cdt       hospital  2020-2021      86.250000\n",
       "29  treatment        cdt       hospital  2021-2022      89.692586\n",
       "30  treatment        cdt       hospital  2022-2023      75.159236\n",
       "31  treatment        cdt       hospital  2023-2024      86.736334\n",
       "32  treatment         ct  health center  2020-2021      79.822222\n",
       "33  treatment         ct  health center  2021-2022      83.333333\n",
       "34  treatment         ct  health center  2022-2023      67.970660\n",
       "35  treatment         ct  health center  2023-2024      72.579186"
      ]
     },
     "execution_count": 1097,
     "metadata": {},
     "output_type": "execute_result"
    }
   ],
   "source": [
    "fy_summary = valid_df.groupby(\n",
    "    ['section', 'hf_tb_type', 'hf_type', 'fy']\n",
    ").apply(lambda x: (x[\"num\"].sum() / x[\"den\"].sum()) * 100).reset_index(name=\"overall_score\")\n",
    "fy_summary"
   ]
  },
  {
   "cell_type": "markdown",
   "metadata": {},
   "source": [
    "`2`"
   ]
  },
  {
   "cell_type": "code",
   "execution_count": null,
   "metadata": {},
   "outputs": [
    {
     "ename": "NameError",
     "evalue": "name 'STOP' is not defined",
     "output_type": "error",
     "traceback": [
      "\u001b[1;31m---------------------------------------------------------------------------\u001b[0m",
      "\u001b[1;31mNameError\u001b[0m                                 Traceback (most recent call last)",
      "Cell \u001b[1;32mIn[1098], line 1\u001b[0m\n\u001b[1;32m----> 1\u001b[0m \u001b[43mSTOP\u001b[49m\n",
      "\u001b[1;31mNameError\u001b[0m: name 'STOP' is not defined"
     ]
    }
   ],
   "source": [
    "STOP"
   ]
  },
  {
   "cell_type": "code",
   "execution_count": null,
   "metadata": {},
   "outputs": [],
   "source": []
  },
  {
   "cell_type": "markdown",
   "metadata": {},
   "source": [
    "### **Approach #2**"
   ]
  },
  {
   "cell_type": "markdown",
   "metadata": {},
   "source": [
    "`1`"
   ]
  },
  {
   "cell_type": "code",
   "execution_count": 764,
   "metadata": {},
   "outputs": [
    {
     "data": {
      "text/html": [
       "<div>\n",
       "<style scoped>\n",
       "    .dataframe tbody tr th:only-of-type {\n",
       "        vertical-align: middle;\n",
       "    }\n",
       "\n",
       "    .dataframe tbody tr th {\n",
       "        vertical-align: top;\n",
       "    }\n",
       "\n",
       "    .dataframe thead th {\n",
       "        text-align: right;\n",
       "    }\n",
       "</style>\n",
       "<table border=\"1\" class=\"dataframe\">\n",
       "  <thead>\n",
       "    <tr style=\"text-align: right;\">\n",
       "      <th></th>\n",
       "      <th>fy</th>\n",
       "      <th>average_score</th>\n",
       "      <th>num_facilities</th>\n",
       "    </tr>\n",
       "  </thead>\n",
       "  <tbody>\n",
       "    <tr>\n",
       "      <th>0</th>\n",
       "      <td>2020-2021</td>\n",
       "      <td>79.565217</td>\n",
       "      <td>74</td>\n",
       "    </tr>\n",
       "    <tr>\n",
       "      <th>1</th>\n",
       "      <td>2021-2022</td>\n",
       "      <td>49.457230</td>\n",
       "      <td>69</td>\n",
       "    </tr>\n",
       "    <tr>\n",
       "      <th>2</th>\n",
       "      <td>2022-2023</td>\n",
       "      <td>46.543210</td>\n",
       "      <td>31</td>\n",
       "    </tr>\n",
       "    <tr>\n",
       "      <th>3</th>\n",
       "      <td>2023-2024</td>\n",
       "      <td>47.218915</td>\n",
       "      <td>69</td>\n",
       "    </tr>\n",
       "  </tbody>\n",
       "</table>\n",
       "</div>"
      ],
      "text/plain": [
       "          fy  average_score  num_facilities\n",
       "0  2020-2021      79.565217              74\n",
       "1  2021-2022      49.457230              69\n",
       "2  2022-2023      46.543210              31\n",
       "3  2023-2024      47.218915              69"
      ]
     },
     "execution_count": 764,
     "metadata": {},
     "output_type": "execute_result"
    }
   ],
   "source": [
    "summary_item_scores['score_out_of_100'] = 100 * summary_item_scores['num'] / summary_item_scores['den']\n",
    "\n",
    "screening_hc = summary_item_scores[\n",
    "    (summary_item_scores['section'] == 'screening') &\n",
    "    (summary_item_scores['hf_type'] == 'health center')\n",
    "]\n",
    "\n",
    "hc_result = screening_hc.groupby('fy').agg(\n",
    "    average_score=('score_out_of_100', 'mean'),\n",
    "    num_facilities=('hf_name', 'nunique')\n",
    ").reset_index()\n",
    "\n",
    "hc_result\n"
   ]
  },
  {
   "cell_type": "markdown",
   "metadata": {},
   "source": [
    "`2`"
   ]
  },
  {
   "cell_type": "code",
   "execution_count": 758,
   "metadata": {},
   "outputs": [
    {
     "data": {
      "text/html": [
       "<div>\n",
       "<style scoped>\n",
       "    .dataframe tbody tr th:only-of-type {\n",
       "        vertical-align: middle;\n",
       "    }\n",
       "\n",
       "    .dataframe tbody tr th {\n",
       "        vertical-align: top;\n",
       "    }\n",
       "\n",
       "    .dataframe thead th {\n",
       "        text-align: right;\n",
       "    }\n",
       "</style>\n",
       "<table border=\"1\" class=\"dataframe\">\n",
       "  <thead>\n",
       "    <tr style=\"text-align: right;\">\n",
       "      <th></th>\n",
       "      <th>fy</th>\n",
       "      <th>average_score</th>\n",
       "      <th>num_facilities</th>\n",
       "    </tr>\n",
       "  </thead>\n",
       "  <tbody>\n",
       "    <tr>\n",
       "      <th>0</th>\n",
       "      <td>2020-2021</td>\n",
       "      <td>79.565217</td>\n",
       "      <td>74</td>\n",
       "    </tr>\n",
       "    <tr>\n",
       "      <th>1</th>\n",
       "      <td>2021-2022</td>\n",
       "      <td>49.457230</td>\n",
       "      <td>69</td>\n",
       "    </tr>\n",
       "    <tr>\n",
       "      <th>2</th>\n",
       "      <td>2022-2023</td>\n",
       "      <td>46.543210</td>\n",
       "      <td>31</td>\n",
       "    </tr>\n",
       "    <tr>\n",
       "      <th>3</th>\n",
       "      <td>2023-2024</td>\n",
       "      <td>47.218915</td>\n",
       "      <td>69</td>\n",
       "    </tr>\n",
       "  </tbody>\n",
       "</table>\n",
       "</div>"
      ],
      "text/plain": [
       "          fy  average_score  num_facilities\n",
       "0  2020-2021      79.565217              74\n",
       "1  2021-2022      49.457230              69\n",
       "2  2022-2023      46.543210              31\n",
       "3  2023-2024      47.218915              69"
      ]
     },
     "execution_count": 758,
     "metadata": {},
     "output_type": "execute_result"
    }
   ],
   "source": [
    "# Step 1: Filter the DataFrame\n",
    "screening_hc = summary_item_scores[\n",
    "    (summary_item_scores['section'] == 'screening') &\n",
    "    (summary_item_scores['hf_type'] == 'health center')\n",
    "]\n",
    "\n",
    "# step 2: Group by fiscal year\n",
    "hc_result = screening_hc.groupby('fy').agg(\n",
    "    average_score=('score_out_of_100', 'mean'),\n",
    "    num_facilities=('hf_name', 'nunique'),\n",
    ").reset_index()\n",
    "hc_result"
   ]
  },
  {
   "cell_type": "code",
   "execution_count": null,
   "metadata": {},
   "outputs": [],
   "source": []
  },
  {
   "cell_type": "code",
   "execution_count": null,
   "metadata": {},
   "outputs": [
    {
     "data": {
      "text/html": [
       "<div>\n",
       "<style scoped>\n",
       "    .dataframe tbody tr th:only-of-type {\n",
       "        vertical-align: middle;\n",
       "    }\n",
       "\n",
       "    .dataframe tbody tr th {\n",
       "        vertical-align: top;\n",
       "    }\n",
       "\n",
       "    .dataframe thead th {\n",
       "        text-align: right;\n",
       "    }\n",
       "</style>\n",
       "<table border=\"1\" class=\"dataframe\">\n",
       "  <thead>\n",
       "    <tr style=\"text-align: right;\">\n",
       "      <th></th>\n",
       "      <th>province</th>\n",
       "      <th>fy</th>\n",
       "      <th>overall_score</th>\n",
       "      <th>hf_count</th>\n",
       "    </tr>\n",
       "  </thead>\n",
       "  <tbody>\n",
       "    <tr>\n",
       "      <th>0</th>\n",
       "      <td>eastern</td>\n",
       "      <td>2020-2021</td>\n",
       "      <td>73.581690</td>\n",
       "      <td>34</td>\n",
       "    </tr>\n",
       "    <tr>\n",
       "      <th>1</th>\n",
       "      <td>eastern</td>\n",
       "      <td>2021-2022</td>\n",
       "      <td>49.876758</td>\n",
       "      <td>41</td>\n",
       "    </tr>\n",
       "    <tr>\n",
       "      <th>2</th>\n",
       "      <td>eastern</td>\n",
       "      <td>2023-2024</td>\n",
       "      <td>49.062934</td>\n",
       "      <td>43</td>\n",
       "    </tr>\n",
       "    <tr>\n",
       "      <th>3</th>\n",
       "      <td>kigali</td>\n",
       "      <td>2023-2024</td>\n",
       "      <td>56.275862</td>\n",
       "      <td>17</td>\n",
       "    </tr>\n",
       "    <tr>\n",
       "      <th>4</th>\n",
       "      <td>northern</td>\n",
       "      <td>2020-2021</td>\n",
       "      <td>63.286945</td>\n",
       "      <td>25</td>\n",
       "    </tr>\n",
       "    <tr>\n",
       "      <th>5</th>\n",
       "      <td>northern</td>\n",
       "      <td>2023-2024</td>\n",
       "      <td>53.051714</td>\n",
       "      <td>34</td>\n",
       "    </tr>\n",
       "    <tr>\n",
       "      <th>6</th>\n",
       "      <td>southern</td>\n",
       "      <td>2020-2021</td>\n",
       "      <td>68.149211</td>\n",
       "      <td>36</td>\n",
       "    </tr>\n",
       "    <tr>\n",
       "      <th>7</th>\n",
       "      <td>southern</td>\n",
       "      <td>2021-2022</td>\n",
       "      <td>60.967796</td>\n",
       "      <td>49</td>\n",
       "    </tr>\n",
       "    <tr>\n",
       "      <th>8</th>\n",
       "      <td>southern</td>\n",
       "      <td>2023-2024</td>\n",
       "      <td>65.794907</td>\n",
       "      <td>9</td>\n",
       "    </tr>\n",
       "    <tr>\n",
       "      <th>9</th>\n",
       "      <td>western</td>\n",
       "      <td>2022-2023</td>\n",
       "      <td>44.524561</td>\n",
       "      <td>39</td>\n",
       "    </tr>\n",
       "    <tr>\n",
       "      <th>10</th>\n",
       "      <td>western</td>\n",
       "      <td>2023-2024</td>\n",
       "      <td>73.362445</td>\n",
       "      <td>8</td>\n",
       "    </tr>\n",
       "  </tbody>\n",
       "</table>\n",
       "</div>"
      ],
      "text/plain": [
       "    province         fy  overall_score  hf_count\n",
       "0    eastern  2020-2021      73.581690        34\n",
       "1    eastern  2021-2022      49.876758        41\n",
       "2    eastern  2023-2024      49.062934        43\n",
       "3     kigali  2023-2024      56.275862        17\n",
       "4   northern  2020-2021      63.286945        25\n",
       "5   northern  2023-2024      53.051714        34\n",
       "6   southern  2020-2021      68.149211        36\n",
       "7   southern  2021-2022      60.967796        49\n",
       "8   southern  2023-2024      65.794907         9\n",
       "9    western  2022-2023      44.524561        39\n",
       "10   western  2023-2024      73.362445         8"
      ]
     },
     "execution_count": 643,
     "metadata": {},
     "output_type": "execute_result"
    }
   ],
   "source": [
    "# First calculate the overall_score as you were doing\n",
    "fy_summary = valid_df.groupby([\"province\", 'fy']).apply(\n",
    "    lambda x: (x[\"num\"].sum() / x[\"den\"].sum()) * 100\n",
    ").reset_index(name=\"overall_score\")\n",
    "\n",
    "# Now calculate the hf_count by counting unique health facilities in each group\n",
    "hf_counts = valid_df.groupby([\"province\", 'fy'])[\"hf_name\"].nunique().reset_index(name=\"hf_count\")\n",
    "\n",
    "# Merge the two dataframes to get all the columns you need\n",
    "result_df = pd.merge(fy_summary, hf_counts, on=[\"province\", 'fy'], how=\"left\")\n",
    "result_df "
   ]
  },
  {
   "cell_type": "markdown",
   "metadata": {},
   "source": [
    "`Overall score and count by 'Health facility type'`"
   ]
  },
  {
   "cell_type": "code",
   "execution_count": 644,
   "metadata": {},
   "outputs": [
    {
     "data": {
      "text/html": [
       "<div>\n",
       "<style scoped>\n",
       "    .dataframe tbody tr th:only-of-type {\n",
       "        vertical-align: middle;\n",
       "    }\n",
       "\n",
       "    .dataframe tbody tr th {\n",
       "        vertical-align: top;\n",
       "    }\n",
       "\n",
       "    .dataframe thead th {\n",
       "        text-align: right;\n",
       "    }\n",
       "</style>\n",
       "<table border=\"1\" class=\"dataframe\">\n",
       "  <thead>\n",
       "    <tr style=\"text-align: right;\">\n",
       "      <th></th>\n",
       "      <th>hf_type</th>\n",
       "      <th>fy</th>\n",
       "      <th>overall_score</th>\n",
       "      <th>hf_count</th>\n",
       "    </tr>\n",
       "  </thead>\n",
       "  <tbody>\n",
       "    <tr>\n",
       "      <th>0</th>\n",
       "      <td>health center</td>\n",
       "      <td>2020-2021</td>\n",
       "      <td>64.897100</td>\n",
       "      <td>74</td>\n",
       "    </tr>\n",
       "    <tr>\n",
       "      <th>1</th>\n",
       "      <td>health center</td>\n",
       "      <td>2021-2022</td>\n",
       "      <td>54.702987</td>\n",
       "      <td>69</td>\n",
       "    </tr>\n",
       "    <tr>\n",
       "      <th>2</th>\n",
       "      <td>health center</td>\n",
       "      <td>2022-2023</td>\n",
       "      <td>40.765172</td>\n",
       "      <td>31</td>\n",
       "    </tr>\n",
       "    <tr>\n",
       "      <th>3</th>\n",
       "      <td>health center</td>\n",
       "      <td>2023-2024</td>\n",
       "      <td>44.139361</td>\n",
       "      <td>69</td>\n",
       "    </tr>\n",
       "    <tr>\n",
       "      <th>4</th>\n",
       "      <td>hospital (dh,ph,rh)</td>\n",
       "      <td>2020-2021</td>\n",
       "      <td>81.016334</td>\n",
       "      <td>21</td>\n",
       "    </tr>\n",
       "    <tr>\n",
       "      <th>5</th>\n",
       "      <td>hospital (dh,ph,rh)</td>\n",
       "      <td>2021-2022</td>\n",
       "      <td>66.345062</td>\n",
       "      <td>21</td>\n",
       "    </tr>\n",
       "    <tr>\n",
       "      <th>6</th>\n",
       "      <td>hospital (dh,ph,rh)</td>\n",
       "      <td>2022-2023</td>\n",
       "      <td>59.289415</td>\n",
       "      <td>8</td>\n",
       "    </tr>\n",
       "    <tr>\n",
       "      <th>7</th>\n",
       "      <td>hospital (dh,ph,rh)</td>\n",
       "      <td>2023-2024</td>\n",
       "      <td>67.406334</td>\n",
       "      <td>42</td>\n",
       "    </tr>\n",
       "  </tbody>\n",
       "</table>\n",
       "</div>"
      ],
      "text/plain": [
       "               hf_type         fy  overall_score  hf_count\n",
       "0        health center  2020-2021      64.897100        74\n",
       "1        health center  2021-2022      54.702987        69\n",
       "2        health center  2022-2023      40.765172        31\n",
       "3        health center  2023-2024      44.139361        69\n",
       "4  hospital (dh,ph,rh)  2020-2021      81.016334        21\n",
       "5  hospital (dh,ph,rh)  2021-2022      66.345062        21\n",
       "6  hospital (dh,ph,rh)  2022-2023      59.289415         8\n",
       "7  hospital (dh,ph,rh)  2023-2024      67.406334        42"
      ]
     },
     "execution_count": 644,
     "metadata": {},
     "output_type": "execute_result"
    }
   ],
   "source": [
    "# First calculate the overall_score as you were doing\n",
    "fy_summary = valid_df.groupby([\"hf_type\", 'fy']).apply(\n",
    "    lambda x: (x[\"num\"].sum() / x[\"den\"].sum()) * 100\n",
    ").reset_index(name=\"overall_score\")\n",
    "\n",
    "# Now calculate the hf_count by counting unique health facilities in each group\n",
    "hf_counts = valid_df.groupby([\"hf_type\", 'fy'])[\"hf_name\"].nunique().reset_index(name=\"hf_count\")\n",
    "\n",
    "# Merge the two dataframes to get all the columns you need\n",
    "result_df = pd.merge(fy_summary, hf_counts, on=[\"hf_type\", 'fy'], how=\"left\")\n",
    "result_df "
   ]
  }
 ],
 "metadata": {
  "kernelspec": {
   "display_name": "robert",
   "language": "python",
   "name": "python3"
  },
  "language_info": {
   "codemirror_mode": {
    "name": "ipython",
    "version": 3
   },
   "file_extension": ".py",
   "mimetype": "text/x-python",
   "name": "python",
   "nbconvert_exporter": "python",
   "pygments_lexer": "ipython3",
   "version": "3.9.16"
  }
 },
 "nbformat": 4,
 "nbformat_minor": 2
}
