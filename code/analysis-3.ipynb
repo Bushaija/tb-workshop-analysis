{
 "cells": [
  {
   "cell_type": "code",
   "execution_count": 1,
   "metadata": {},
   "outputs": [],
   "source": [
    "import pandas as pd\n",
    "import seaborn as sns\n",
    "import matplotlib.pyplot as plt"
   ]
  },
  {
   "cell_type": "code",
   "execution_count": 2,
   "metadata": {},
   "outputs": [],
   "source": [
    "df = pd.read_csv('../_data/tb-rsqa-cleaned.csv')\n"
   ]
  },
  {
   "cell_type": "code",
   "execution_count": 3,
   "metadata": {},
   "outputs": [
    {
     "data": {
      "text/plain": [
       "array([2020, 2021, 2022, 2023])"
      ]
     },
     "execution_count": 3,
     "metadata": {},
     "output_type": "execute_result"
    }
   ],
   "source": [
    "df['fy_year'] = df['fy'].str.extract(r'(\\d{4})').astype(int)\n",
    "df['fy_year'].unique()"
   ]
  },
  {
   "cell_type": "code",
   "execution_count": 4,
   "metadata": {},
   "outputs": [
    {
     "data": {
      "text/plain": [
       "Index(['province', 'district', 'hf_tb_type', 'hf_name', 'hf_type', 'fy',\n",
       "       'summary_group', 'no', 'normes', 'item_name', 'num', 'den',\n",
       "       'genexpert_or_microscopy', 'fy_year'],\n",
       "      dtype='object')"
      ]
     },
     "execution_count": 4,
     "metadata": {},
     "output_type": "execute_result"
    }
   ],
   "source": [
    "df.columns"
   ]
  },
  {
   "cell_type": "code",
   "execution_count": 5,
   "metadata": {},
   "outputs": [],
   "source": [
    "df.loc[:, 'province'] = df['province'].str.lower()\n"
   ]
  },
  {
   "cell_type": "code",
   "execution_count": 6,
   "metadata": {},
   "outputs": [
    {
     "data": {
      "text/plain": [
       "array(['north ', 'east ', 'south ', 'west ', 'sourthern', 'east', 'sud',\n",
       "       'nord', 'west', 'kigali city'], dtype=object)"
      ]
     },
     "execution_count": 6,
     "metadata": {},
     "output_type": "execute_result"
    }
   ],
   "source": [
    "df['province'].unique()"
   ]
  },
  {
   "cell_type": "code",
   "execution_count": 7,
   "metadata": {},
   "outputs": [],
   "source": [
    "df.loc[(df['province'] == 'sourthern'), 'province'] = 'south'\n",
    "df.loc[(df['province'] == 'south '), 'province'] = 'south'\n",
    "df.loc[(df['province'] == 'sud'), 'province'] = 'south'\n",
    "df.loc[(df['province'] == 'north '), 'province'] = 'north'\n",
    "df.loc[(df['province'] == 'nord'), 'province'] = 'north'\n",
    "df.loc[(df['province'] == 'east '), 'province'] = 'east'\n",
    "df.loc[(df['province'] == 'kigali city'), 'province'] = 'kigali'\n",
    "df.loc[(df['province'] == 'west '), 'province'] = 'west'\n"
   ]
  },
  {
   "cell_type": "code",
   "execution_count": 8,
   "metadata": {},
   "outputs": [],
   "source": [
    "summary_item_scores = (\n",
    "    df.groupby(\n",
    "        ['province', 'summary_group', \"genexpert_or_microscopy\", 'item_name', 'hf_name', 'hf_tb_type', 'hf_type', 'fy']\n",
    "    )\n",
    "    .agg({'num': 'sum', 'den': 'sum'})\n",
    "    .reset_index()\n",
    ")"
   ]
  },
  {
   "cell_type": "code",
   "execution_count": 9,
   "metadata": {},
   "outputs": [],
   "source": [
    "# Define mapping of summary_group to section\n",
    "section_mapping = {\n",
    "    \"Is active case finding conducted in TB high risk groups?[Questions 2, 8 and 9]\": \"screening\",\n",
    "    \"Are TB diagnostics continuously functional (microscopy and Expert) and their results available timely (microscopy, expert and culture)?[Questions 3, 4, 5, 6 and 7]\": \"diagnosis\",\n",
    "    \"Are TB patients early initiated on TB treatment and on ART (if indicated), and their bacteriological control performed according to guidelines?[Questions 16, 17, 18 and 19]\": \"treatment\",\n",
    "    \"Does the BMI monitored for TB Patients and nutritional support provided to the eligible patients?[Questions New_70 and New_71]\": \"treatment\"\n",
    "}\n",
    "\n",
    "summary_item_scores[\"section\"] = summary_item_scores[\"summary_group\"].map(section_mapping)"
   ]
  },
  {
   "cell_type": "code",
   "execution_count": 10,
   "metadata": {},
   "outputs": [],
   "source": [
    "# Compute the average score as (sum of num / sum of den) * 100\n",
    "summary_item_scores['avg_score'] = (summary_item_scores['num'] / summary_item_scores['den']) * 100"
   ]
  },
  {
   "cell_type": "code",
   "execution_count": 11,
   "metadata": {},
   "outputs": [],
   "source": [
    "filtered_summary = summary_item_scores[summary_item_scores[\"section\"].isin([\"screening\", \"treatment\", \"diagnosis\"])]"
   ]
  },
  {
   "cell_type": "code",
   "execution_count": 12,
   "metadata": {},
   "outputs": [
    {
     "data": {
      "text/plain": [
       "Index(['province', 'summary_group', 'genexpert_or_microscopy', 'item_name',\n",
       "       'hf_name', 'hf_tb_type', 'hf_type', 'fy', 'num', 'den', 'section',\n",
       "       'avg_score'],\n",
       "      dtype='object')"
      ]
     },
     "execution_count": 12,
     "metadata": {},
     "output_type": "execute_result"
    }
   ],
   "source": [
    "filtered_summary.columns"
   ]
  },
  {
   "cell_type": "code",
   "execution_count": 13,
   "metadata": {},
   "outputs": [
    {
     "data": {
      "text/plain": [
       "array(['health center', 'hospital (dh,ph,rh)'], dtype=object)"
      ]
     },
     "execution_count": 13,
     "metadata": {},
     "output_type": "execute_result"
    }
   ],
   "source": [
    "filtered_summary['hf_type'].unique()"
   ]
  },
  {
   "cell_type": "code",
   "execution_count": 14,
   "metadata": {},
   "outputs": [
    {
     "data": {
      "text/plain": [
       "(1970, 12)"
      ]
     },
     "execution_count": 14,
     "metadata": {},
     "output_type": "execute_result"
    }
   ],
   "source": [
    "microscopy_only_df = filtered_summary[(filtered_summary['hf_tb_type'] == 'CDT') & (filtered_summary['hf_type'] == \"health center\")]\n",
    "microscopy_only_df.shape"
   ]
  },
  {
   "cell_type": "code",
   "execution_count": 15,
   "metadata": {},
   "outputs": [
    {
     "data": {
      "text/html": [
       "<div>\n",
       "<style scoped>\n",
       "    .dataframe tbody tr th:only-of-type {\n",
       "        vertical-align: middle;\n",
       "    }\n",
       "\n",
       "    .dataframe tbody tr th {\n",
       "        vertical-align: top;\n",
       "    }\n",
       "\n",
       "    .dataframe thead th {\n",
       "        text-align: right;\n",
       "    }\n",
       "</style>\n",
       "<table border=\"1\" class=\"dataframe\">\n",
       "  <thead>\n",
       "    <tr style=\"text-align: right;\">\n",
       "      <th></th>\n",
       "      <th>hf_tb_type</th>\n",
       "      <th>hf_type</th>\n",
       "      <th>hf_name</th>\n",
       "    </tr>\n",
       "  </thead>\n",
       "  <tbody>\n",
       "    <tr>\n",
       "      <th>357</th>\n",
       "      <td>CT</td>\n",
       "      <td>health center</td>\n",
       "      <td>cyabayaga cs</td>\n",
       "    </tr>\n",
       "    <tr>\n",
       "      <th>358</th>\n",
       "      <td>CT</td>\n",
       "      <td>health center</td>\n",
       "      <td>cyabayaga cs</td>\n",
       "    </tr>\n",
       "    <tr>\n",
       "      <th>360</th>\n",
       "      <td>CT</td>\n",
       "      <td>health center</td>\n",
       "      <td>cyondo cs</td>\n",
       "    </tr>\n",
       "    <tr>\n",
       "      <th>362</th>\n",
       "      <td>CT</td>\n",
       "      <td>health center</td>\n",
       "      <td>gahini cs</td>\n",
       "    </tr>\n",
       "    <tr>\n",
       "      <th>363</th>\n",
       "      <td>CT</td>\n",
       "      <td>health center</td>\n",
       "      <td>gahini cs</td>\n",
       "    </tr>\n",
       "    <tr>\n",
       "      <th>...</th>\n",
       "      <td>...</td>\n",
       "      <td>...</td>\n",
       "      <td>...</td>\n",
       "    </tr>\n",
       "    <tr>\n",
       "      <th>22761</th>\n",
       "      <td>CT</td>\n",
       "      <td>health center</td>\n",
       "      <td>nyakarenzo cs</td>\n",
       "    </tr>\n",
       "    <tr>\n",
       "      <th>22763</th>\n",
       "      <td>CT</td>\n",
       "      <td>health center</td>\n",
       "      <td>rubavu prison</td>\n",
       "    </tr>\n",
       "    <tr>\n",
       "      <th>22765</th>\n",
       "      <td>CT</td>\n",
       "      <td>health center</td>\n",
       "      <td>rufungo cs</td>\n",
       "    </tr>\n",
       "    <tr>\n",
       "      <th>22766</th>\n",
       "      <td>CT</td>\n",
       "      <td>health center</td>\n",
       "      <td>rugabano cs</td>\n",
       "    </tr>\n",
       "    <tr>\n",
       "      <th>22767</th>\n",
       "      <td>CT</td>\n",
       "      <td>health center</td>\n",
       "      <td>ruheru (kanjongo nyamasheke) cs</td>\n",
       "    </tr>\n",
       "  </tbody>\n",
       "</table>\n",
       "<p>2900 rows × 3 columns</p>\n",
       "</div>"
      ],
      "text/plain": [
       "      hf_tb_type        hf_type                          hf_name\n",
       "357           CT  health center                     cyabayaga cs\n",
       "358           CT  health center                     cyabayaga cs\n",
       "360           CT  health center                        cyondo cs\n",
       "362           CT  health center                        gahini cs\n",
       "363           CT  health center                        gahini cs\n",
       "...          ...            ...                              ...\n",
       "22761         CT  health center                    nyakarenzo cs\n",
       "22763         CT  health center                    rubavu prison\n",
       "22765         CT  health center                       rufungo cs\n",
       "22766         CT  health center                      rugabano cs\n",
       "22767         CT  health center  ruheru (kanjongo nyamasheke) cs\n",
       "\n",
       "[2900 rows x 3 columns]"
      ]
     },
     "execution_count": 15,
     "metadata": {},
     "output_type": "execute_result"
    }
   ],
   "source": [
    "filtered_summary[(filtered_summary['hf_tb_type'] == 'CT') & (filtered_summary['hf_type'] == \"health center\")][['hf_tb_type', 'hf_type', 'hf_name']]"
   ]
  },
  {
   "cell_type": "code",
   "execution_count": 16,
   "metadata": {},
   "outputs": [
    {
     "data": {
      "text/plain": [
       "(559, 12)"
      ]
     },
     "execution_count": 16,
     "metadata": {},
     "output_type": "execute_result"
    }
   ],
   "source": [
    "filtered_summary[\n",
    "    (filtered_summary['item_name'] == \"Pour les sites Xpert, sur les 10 derniers patients présumés TB éligibles pour Xpert et dont leurs échantillons ont été examinés par Xpert, combien ont  les résultats Xpert disponibles endéans 3 jours de réception de l'échantillon?  \")\n",
    "     |\n",
    "    (filtered_summary['item_name'] == \"Pour les sites Xpert, durant le mois passé, combien de jours la machine Xpert était opérationnelle ?\") & (filtered_summary['genexpert_or_microscopy'] == \"no\") ].shape"
   ]
  },
  {
   "cell_type": "code",
   "execution_count": 17,
   "metadata": {},
   "outputs": [],
   "source": [
    "# Define the items to exclude\n",
    "items_to_exclude = [\n",
    "    \"Sur 10 nouveaux prisonniers entrÃ©s au cours de la pÃ©riode evaluÃ©e, combien ont beneficiÃ© du screening TB Ã¡ l'entrÃ©e\",\n",
    "    \"Sur 10 nouveaux prisonniers sortants au cours de la pÃ©riode evaluÃ©e, combien ont beneficiÃ© du screening TB Ã¡ la sortie\",\n",
    "    \"Sur les 10 derniers patients hospitalises ( 5 pediatrie,5Medecine interne), combien ont beneficie  du screening de la TB et prise en charge selon le protocole? \",\n",
    "]\n",
    "\n",
    "items_to_exclude_on_diagnostic = [\n",
    "    \"Pour les sites Xpert, sur les 10 derniers patients présumés TB éligibles pour Xpert et dont leurs échantillons ont été examinés par Xpert, combien ont  les résultats Xpert disponibles endéans 3 jours de réception de l'échantillon?  \",\n",
    "    \"Pour les sites Xpert, durant le mois passé, combien de jours la machine Xpert était opérationnelle ?\"\n",
    "]\n",
    "\n",
    "# Filter out rows where item_name is in items_to_exclude\n",
    "filtered_summary = filtered_summary[~filtered_summary[\"item_name\"].isin(items_to_exclude)]"
   ]
  },
  {
   "cell_type": "markdown",
   "metadata": {},
   "source": [
    "-- investigation block ---"
   ]
  },
  {
   "cell_type": "code",
   "execution_count": 18,
   "metadata": {},
   "outputs": [
    {
     "data": {
      "text/plain": [
       "Index(['province', 'district', 'hf_tb_type', 'hf_name', 'hf_type', 'fy',\n",
       "       'summary_group', 'no', 'normes', 'item_name', 'num', 'den',\n",
       "       'genexpert_or_microscopy', 'fy_year'],\n",
       "      dtype='object')"
      ]
     },
     "execution_count": 18,
     "metadata": {},
     "output_type": "execute_result"
    }
   ],
   "source": [
    "df.columns"
   ]
  },
  {
   "cell_type": "code",
   "execution_count": 19,
   "metadata": {},
   "outputs": [
    {
     "data": {
      "text/html": [
       "<div>\n",
       "<style scoped>\n",
       "    .dataframe tbody tr th:only-of-type {\n",
       "        vertical-align: middle;\n",
       "    }\n",
       "\n",
       "    .dataframe tbody tr th {\n",
       "        vertical-align: top;\n",
       "    }\n",
       "\n",
       "    .dataframe thead th {\n",
       "        text-align: right;\n",
       "    }\n",
       "</style>\n",
       "<table border=\"1\" class=\"dataframe\">\n",
       "  <thead>\n",
       "    <tr style=\"text-align: right;\">\n",
       "      <th></th>\n",
       "      <th>hf_tb_type</th>\n",
       "      <th>hf_type</th>\n",
       "      <th>hf_name</th>\n",
       "    </tr>\n",
       "  </thead>\n",
       "  <tbody>\n",
       "    <tr>\n",
       "      <th>356</th>\n",
       "      <td>CDT</td>\n",
       "      <td>health center</td>\n",
       "      <td>nyagatare dh</td>\n",
       "    </tr>\n",
       "    <tr>\n",
       "      <th>357</th>\n",
       "      <td>CT</td>\n",
       "      <td>health center</td>\n",
       "      <td>cyabayaga cs</td>\n",
       "    </tr>\n",
       "    <tr>\n",
       "      <th>358</th>\n",
       "      <td>CT</td>\n",
       "      <td>health center</td>\n",
       "      <td>cyabayaga cs</td>\n",
       "    </tr>\n",
       "    <tr>\n",
       "      <th>359</th>\n",
       "      <td>CDT</td>\n",
       "      <td>health center</td>\n",
       "      <td>cyarubare cs</td>\n",
       "    </tr>\n",
       "    <tr>\n",
       "      <th>360</th>\n",
       "      <td>CT</td>\n",
       "      <td>health center</td>\n",
       "      <td>cyondo cs</td>\n",
       "    </tr>\n",
       "    <tr>\n",
       "      <th>...</th>\n",
       "      <td>...</td>\n",
       "      <td>...</td>\n",
       "      <td>...</td>\n",
       "    </tr>\n",
       "    <tr>\n",
       "      <th>20661</th>\n",
       "      <td>CDT</td>\n",
       "      <td>hospital (dh,ph,rh)</td>\n",
       "      <td>mibilizi dh</td>\n",
       "    </tr>\n",
       "    <tr>\n",
       "      <th>20662</th>\n",
       "      <td>CDT</td>\n",
       "      <td>hospital (dh,ph,rh)</td>\n",
       "      <td>mugonero dh</td>\n",
       "    </tr>\n",
       "    <tr>\n",
       "      <th>20663</th>\n",
       "      <td>CDT</td>\n",
       "      <td>hospital (dh,ph,rh)</td>\n",
       "      <td>mugonero dh</td>\n",
       "    </tr>\n",
       "    <tr>\n",
       "      <th>20664</th>\n",
       "      <td>CDT</td>\n",
       "      <td>hospital (dh,ph,rh)</td>\n",
       "      <td>murunda dh</td>\n",
       "    </tr>\n",
       "    <tr>\n",
       "      <th>20665</th>\n",
       "      <td>CDT</td>\n",
       "      <td>hospital (dh,ph,rh)</td>\n",
       "      <td>shyira dh</td>\n",
       "    </tr>\n",
       "  </tbody>\n",
       "</table>\n",
       "<p>2343 rows × 3 columns</p>\n",
       "</div>"
      ],
      "text/plain": [
       "      hf_tb_type              hf_type        hf_name\n",
       "356          CDT        health center   nyagatare dh\n",
       "357           CT        health center   cyabayaga cs\n",
       "358           CT        health center   cyabayaga cs\n",
       "359          CDT        health center   cyarubare cs\n",
       "360           CT        health center      cyondo cs\n",
       "...          ...                  ...            ...\n",
       "20661        CDT  hospital (dh,ph,rh)    mibilizi dh\n",
       "20662        CDT  hospital (dh,ph,rh)    mugonero dh\n",
       "20663        CDT  hospital (dh,ph,rh)    mugonero dh\n",
       "20664        CDT  hospital (dh,ph,rh)     murunda dh\n",
       "20665        CDT  hospital (dh,ph,rh)      shyira dh\n",
       "\n",
       "[2343 rows x 3 columns]"
      ]
     },
     "execution_count": 19,
     "metadata": {},
     "output_type": "execute_result"
    }
   ],
   "source": [
    "filtered_summary[filtered_summary['section'] == 'diagnosis'][['hf_tb_type', 'hf_type', 'hf_name']]"
   ]
  },
  {
   "cell_type": "markdown",
   "metadata": {},
   "source": [
    "-- investigation block ---"
   ]
  },
  {
   "cell_type": "code",
   "execution_count": 20,
   "metadata": {},
   "outputs": [
    {
     "data": {
      "text/plain": [
       "Index(['province', 'summary_group', 'genexpert_or_microscopy', 'item_name',\n",
       "       'hf_name', 'hf_tb_type', 'hf_type', 'fy', 'num', 'den', 'section',\n",
       "       'avg_score'],\n",
       "      dtype='object')"
      ]
     },
     "execution_count": 20,
     "metadata": {},
     "output_type": "execute_result"
    }
   ],
   "source": [
    "filtered_summary.columns"
   ]
  },
  {
   "cell_type": "code",
   "execution_count": 21,
   "metadata": {},
   "outputs": [
    {
     "data": {
      "text/html": [
       "<div>\n",
       "<style scoped>\n",
       "    .dataframe tbody tr th:only-of-type {\n",
       "        vertical-align: middle;\n",
       "    }\n",
       "\n",
       "    .dataframe tbody tr th {\n",
       "        vertical-align: top;\n",
       "    }\n",
       "\n",
       "    .dataframe thead th {\n",
       "        text-align: right;\n",
       "    }\n",
       "</style>\n",
       "<table border=\"1\" class=\"dataframe\">\n",
       "  <thead>\n",
       "    <tr style=\"text-align: right;\">\n",
       "      <th></th>\n",
       "      <th>province</th>\n",
       "      <th>summary_group</th>\n",
       "      <th>genexpert_or_microscopy</th>\n",
       "      <th>item_name</th>\n",
       "      <th>hf_name</th>\n",
       "      <th>hf_tb_type</th>\n",
       "      <th>hf_type</th>\n",
       "      <th>fy</th>\n",
       "      <th>num</th>\n",
       "      <th>den</th>\n",
       "      <th>section</th>\n",
       "      <th>avg_score</th>\n",
       "    </tr>\n",
       "  </thead>\n",
       "  <tbody>\n",
       "  </tbody>\n",
       "</table>\n",
       "</div>"
      ],
      "text/plain": [
       "Empty DataFrame\n",
       "Columns: [province, summary_group, genexpert_or_microscopy, item_name, hf_name, hf_tb_type, hf_type, fy, num, den, section, avg_score]\n",
       "Index: []"
      ]
     },
     "execution_count": 21,
     "metadata": {},
     "output_type": "execute_result"
    }
   ],
   "source": [
    "filtered_summary[filtered_summary['item_name'] == \"Sur les 10 derniers patients hospitalises ( 5 pediatrie,5Medecine interne), combien ont beneficie  du screening de la TB et prise en charge selon le protocole? \"]"
   ]
  },
  {
   "cell_type": "code",
   "execution_count": 22,
   "metadata": {},
   "outputs": [
    {
     "data": {
      "text/plain": [
       "array(['Durant le mois passé, combien de jours le microscope optique ou LED était opérationnel ?',\n",
       "       'Pour les sites Xpert, durant le mois passé, combien de jours la machine Xpert était opérationnelle ?',\n",
       "       \"Pour les sites Xpert, sur les 10 derniers patients présumés TB éligibles pour Xpert et dont leurs échantillons ont été examinés par Xpert, combien ont  les résultats Xpert disponibles endéans 3 jours de réception de l'échantillon?  \",\n",
       "       \"Sur les 10 derniers cas presumes TB, combien ont beneficies des examens d'investigations (un ou plusieurs examens selon le cas).\",\n",
       "       'Sur les 10 derniers patients hospitalises( 5 pediatrie,5Medecine interne), combien ont beneficie  du screening de la TB et prise en charge selon le protocole? ',\n",
       "       'Sur les échantillons reçus   il y a 3 jours, vérifier si les résultats sont mentionnés dans le registre de lab',\n",
       "       'Vérifier  pour les 5 derniers cas éligibles à la Culture\\xa0 et DST si les résultats sont disponibles avec bon de résultat du LNR disponible '],\n",
       "      dtype=object)"
      ]
     },
     "execution_count": 22,
     "metadata": {},
     "output_type": "execute_result"
    }
   ],
   "source": [
    "filtered_summary[filtered_summary['section'] == 'diagnosis']['item_name'].unique()"
   ]
  },
  {
   "cell_type": "code",
   "execution_count": 23,
   "metadata": {},
   "outputs": [],
   "source": [
    "# Define valid cases\n",
    "valid_df = filtered_summary[\n",
    "    (filtered_summary[\"num\"] <= filtered_summary[\"den\"]) &  # num must not be greater than den\n",
    "    ~(filtered_summary[\"num\"].isna() & filtered_summary[\"den\"] > 0) &  # Exclude cases where num is NaN but den > 0\n",
    "    ~((filtered_summary[\"num\"] == 0) & (filtered_summary[\"den\"] == 0)) &  # Exclude cases where both num and den are 0\n",
    "    ~(filtered_summary[\"den\"].isna())  # Exclude cases where den is NaN (new fix)\n",
    "]\n",
    "\n",
    "invalid_df = filtered_summary[\n",
    "    (filtered_summary[\"num\"] > filtered_summary[\"den\"]) |  # Invalid if num > den\n",
    "    ((filtered_summary[\"num\"].isna()) & (filtered_summary[\"den\"] > 0)) |  # Invalid if num is NaN but den > 0\n",
    "    ((filtered_summary[\"num\"] == 0) & (filtered_summary[\"den\"] == 0)) |  # Invalid if both num and den are 0\n",
    "    (filtered_summary[\"den\"].isna()) |  # Invalid if den is NaN\n",
    "    ((filtered_summary[\"num\"].isna()) & (filtered_summary[\"den\"] == 0))  # NEW FIX: Invalid if num is NaN and den = 0\n",
    "]\n",
    "\n"
   ]
  },
  {
   "cell_type": "code",
   "execution_count": 24,
   "metadata": {},
   "outputs": [
    {
     "name": "stdout",
     "output_type": "stream",
     "text": [
      "valid size:  (6000, 12)\n",
      "invalid size:  (699, 12)\n"
     ]
    }
   ],
   "source": [
    "print(\"valid size: \", valid_df.shape)\n",
    "print(\"invalid size: \", invalid_df.shape)"
   ]
  },
  {
   "cell_type": "code",
   "execution_count": null,
   "metadata": {},
   "outputs": [],
   "source": [
    "stop"
   ]
  },
  {
   "cell_type": "code",
   "execution_count": 25,
   "metadata": {},
   "outputs": [
    {
     "data": {
      "text/plain": [
       "Index(['province', 'summary_group', 'genexpert_or_microscopy', 'item_name',\n",
       "       'hf_name', 'hf_tb_type', 'hf_type', 'fy', 'num', 'den', 'section',\n",
       "       'avg_score'],\n",
       "      dtype='object')"
      ]
     },
     "execution_count": 25,
     "metadata": {},
     "output_type": "execute_result"
    }
   ],
   "source": [
    "valid_df.columns"
   ]
  },
  {
   "cell_type": "code",
   "execution_count": 26,
   "metadata": {},
   "outputs": [],
   "source": [
    "# First calculate the overall_score as you were doing\n",
    "fy_summary = valid_df.groupby([\"province\", \"genexpert_or_microscopy\", \"hf_tb_type\", 'section', 'hf_type', 'fy']).apply(\n",
    "    lambda x: (x[\"num\"].sum() / x[\"den\"].sum()) * 100\n",
    ").reset_index(name=\"overall_score\")\n",
    "\n",
    "# Now calculate the hf_count by counting unique health facilities in each group\n",
    "hf_counts = valid_df.groupby([\"province\", \"genexpert_or_microscopy\", \"hf_tb_type\", 'section', 'hf_type', 'fy'])[\"hf_name\"].nunique().reset_index(name=\"hf_count\")\n",
    "\n",
    "# Merge the two dataframes to get all the columns you need\n",
    "result_df = pd.merge(fy_summary, hf_counts, on=[\"province\", \"genexpert_or_microscopy\", \"hf_tb_type\", 'section', 'hf_type', 'fy'], how=\"left\")"
   ]
  },
  {
   "cell_type": "code",
   "execution_count": 27,
   "metadata": {},
   "outputs": [
    {
     "data": {
      "text/plain": [
       "array(['east', 'kigali', 'north', 'south', 'west'], dtype=object)"
      ]
     },
     "execution_count": 27,
     "metadata": {},
     "output_type": "execute_result"
    }
   ],
   "source": [
    "result_df['province'].unique()"
   ]
  },
  {
   "cell_type": "markdown",
   "metadata": {},
   "source": [
    "`Overall score and count by provice`"
   ]
  },
  {
   "cell_type": "code",
   "execution_count": 28,
   "metadata": {},
   "outputs": [
    {
     "data": {
      "text/html": [
       "<div>\n",
       "<style scoped>\n",
       "    .dataframe tbody tr th:only-of-type {\n",
       "        vertical-align: middle;\n",
       "    }\n",
       "\n",
       "    .dataframe tbody tr th {\n",
       "        vertical-align: top;\n",
       "    }\n",
       "\n",
       "    .dataframe thead th {\n",
       "        text-align: right;\n",
       "    }\n",
       "</style>\n",
       "<table border=\"1\" class=\"dataframe\">\n",
       "  <thead>\n",
       "    <tr style=\"text-align: right;\">\n",
       "      <th></th>\n",
       "      <th>province</th>\n",
       "      <th>fy</th>\n",
       "      <th>overall_score</th>\n",
       "      <th>hf_count</th>\n",
       "    </tr>\n",
       "  </thead>\n",
       "  <tbody>\n",
       "    <tr>\n",
       "      <th>0</th>\n",
       "      <td>east</td>\n",
       "      <td>2020-2021</td>\n",
       "      <td>73.581690</td>\n",
       "      <td>34</td>\n",
       "    </tr>\n",
       "    <tr>\n",
       "      <th>1</th>\n",
       "      <td>east</td>\n",
       "      <td>2021-2022</td>\n",
       "      <td>49.876758</td>\n",
       "      <td>41</td>\n",
       "    </tr>\n",
       "    <tr>\n",
       "      <th>2</th>\n",
       "      <td>east</td>\n",
       "      <td>2023-2024</td>\n",
       "      <td>49.062934</td>\n",
       "      <td>43</td>\n",
       "    </tr>\n",
       "    <tr>\n",
       "      <th>3</th>\n",
       "      <td>kigali</td>\n",
       "      <td>2023-2024</td>\n",
       "      <td>56.275862</td>\n",
       "      <td>17</td>\n",
       "    </tr>\n",
       "    <tr>\n",
       "      <th>4</th>\n",
       "      <td>north</td>\n",
       "      <td>2020-2021</td>\n",
       "      <td>63.286945</td>\n",
       "      <td>25</td>\n",
       "    </tr>\n",
       "    <tr>\n",
       "      <th>5</th>\n",
       "      <td>north</td>\n",
       "      <td>2023-2024</td>\n",
       "      <td>53.051714</td>\n",
       "      <td>34</td>\n",
       "    </tr>\n",
       "    <tr>\n",
       "      <th>6</th>\n",
       "      <td>south</td>\n",
       "      <td>2020-2021</td>\n",
       "      <td>68.149211</td>\n",
       "      <td>36</td>\n",
       "    </tr>\n",
       "    <tr>\n",
       "      <th>7</th>\n",
       "      <td>south</td>\n",
       "      <td>2021-2022</td>\n",
       "      <td>60.967796</td>\n",
       "      <td>49</td>\n",
       "    </tr>\n",
       "    <tr>\n",
       "      <th>8</th>\n",
       "      <td>south</td>\n",
       "      <td>2023-2024</td>\n",
       "      <td>65.794907</td>\n",
       "      <td>9</td>\n",
       "    </tr>\n",
       "    <tr>\n",
       "      <th>9</th>\n",
       "      <td>west</td>\n",
       "      <td>2022-2023</td>\n",
       "      <td>44.524561</td>\n",
       "      <td>39</td>\n",
       "    </tr>\n",
       "    <tr>\n",
       "      <th>10</th>\n",
       "      <td>west</td>\n",
       "      <td>2023-2024</td>\n",
       "      <td>73.362445</td>\n",
       "      <td>8</td>\n",
       "    </tr>\n",
       "  </tbody>\n",
       "</table>\n",
       "</div>"
      ],
      "text/plain": [
       "   province         fy  overall_score  hf_count\n",
       "0      east  2020-2021      73.581690        34\n",
       "1      east  2021-2022      49.876758        41\n",
       "2      east  2023-2024      49.062934        43\n",
       "3    kigali  2023-2024      56.275862        17\n",
       "4     north  2020-2021      63.286945        25\n",
       "5     north  2023-2024      53.051714        34\n",
       "6     south  2020-2021      68.149211        36\n",
       "7     south  2021-2022      60.967796        49\n",
       "8     south  2023-2024      65.794907         9\n",
       "9      west  2022-2023      44.524561        39\n",
       "10     west  2023-2024      73.362445         8"
      ]
     },
     "execution_count": 28,
     "metadata": {},
     "output_type": "execute_result"
    }
   ],
   "source": [
    "# First calculate the overall_score as you were doing\n",
    "fy_summary = valid_df.groupby([\"province\", 'fy']).apply(\n",
    "    lambda x: (x[\"num\"].sum() / x[\"den\"].sum()) * 100\n",
    ").reset_index(name=\"overall_score\")\n",
    "\n",
    "# Now calculate the hf_count by counting unique health facilities in each group\n",
    "hf_counts = valid_df.groupby([\"province\", 'fy'])[\"hf_name\"].nunique().reset_index(name=\"hf_count\")\n",
    "\n",
    "# Merge the two dataframes to get all the columns you need\n",
    "result_df = pd.merge(fy_summary, hf_counts, on=[\"province\", 'fy'], how=\"left\")\n",
    "result_df "
   ]
  },
  {
   "cell_type": "code",
   "execution_count": null,
   "metadata": {},
   "outputs": [],
   "source": []
  },
  {
   "cell_type": "code",
   "execution_count": 29,
   "metadata": {},
   "outputs": [
    {
     "data": {
      "text/html": [
       "<div>\n",
       "<style scoped>\n",
       "    .dataframe tbody tr th:only-of-type {\n",
       "        vertical-align: middle;\n",
       "    }\n",
       "\n",
       "    .dataframe tbody tr th {\n",
       "        vertical-align: top;\n",
       "    }\n",
       "\n",
       "    .dataframe thead th {\n",
       "        text-align: right;\n",
       "    }\n",
       "</style>\n",
       "<table border=\"1\" class=\"dataframe\">\n",
       "  <thead>\n",
       "    <tr style=\"text-align: right;\">\n",
       "      <th></th>\n",
       "      <th>province</th>\n",
       "      <th>fy</th>\n",
       "      <th>overall_score</th>\n",
       "      <th>hf_count</th>\n",
       "    </tr>\n",
       "  </thead>\n",
       "  <tbody>\n",
       "    <tr>\n",
       "      <th>0</th>\n",
       "      <td>east</td>\n",
       "      <td>2020-2021</td>\n",
       "      <td>73.581690</td>\n",
       "      <td>34</td>\n",
       "    </tr>\n",
       "    <tr>\n",
       "      <th>1</th>\n",
       "      <td>east</td>\n",
       "      <td>2021-2022</td>\n",
       "      <td>49.876758</td>\n",
       "      <td>41</td>\n",
       "    </tr>\n",
       "    <tr>\n",
       "      <th>2</th>\n",
       "      <td>east</td>\n",
       "      <td>2023-2024</td>\n",
       "      <td>49.062934</td>\n",
       "      <td>43</td>\n",
       "    </tr>\n",
       "    <tr>\n",
       "      <th>3</th>\n",
       "      <td>kigali</td>\n",
       "      <td>2023-2024</td>\n",
       "      <td>56.275862</td>\n",
       "      <td>17</td>\n",
       "    </tr>\n",
       "    <tr>\n",
       "      <th>4</th>\n",
       "      <td>north</td>\n",
       "      <td>2020-2021</td>\n",
       "      <td>63.286945</td>\n",
       "      <td>25</td>\n",
       "    </tr>\n",
       "    <tr>\n",
       "      <th>5</th>\n",
       "      <td>north</td>\n",
       "      <td>2023-2024</td>\n",
       "      <td>53.051714</td>\n",
       "      <td>34</td>\n",
       "    </tr>\n",
       "    <tr>\n",
       "      <th>6</th>\n",
       "      <td>south</td>\n",
       "      <td>2020-2021</td>\n",
       "      <td>68.149211</td>\n",
       "      <td>36</td>\n",
       "    </tr>\n",
       "    <tr>\n",
       "      <th>7</th>\n",
       "      <td>south</td>\n",
       "      <td>2021-2022</td>\n",
       "      <td>60.967796</td>\n",
       "      <td>49</td>\n",
       "    </tr>\n",
       "    <tr>\n",
       "      <th>8</th>\n",
       "      <td>south</td>\n",
       "      <td>2023-2024</td>\n",
       "      <td>65.794907</td>\n",
       "      <td>9</td>\n",
       "    </tr>\n",
       "    <tr>\n",
       "      <th>9</th>\n",
       "      <td>west</td>\n",
       "      <td>2022-2023</td>\n",
       "      <td>44.524561</td>\n",
       "      <td>39</td>\n",
       "    </tr>\n",
       "    <tr>\n",
       "      <th>10</th>\n",
       "      <td>west</td>\n",
       "      <td>2023-2024</td>\n",
       "      <td>73.362445</td>\n",
       "      <td>8</td>\n",
       "    </tr>\n",
       "  </tbody>\n",
       "</table>\n",
       "</div>"
      ],
      "text/plain": [
       "   province         fy  overall_score  hf_count\n",
       "0      east  2020-2021      73.581690        34\n",
       "1      east  2021-2022      49.876758        41\n",
       "2      east  2023-2024      49.062934        43\n",
       "3    kigali  2023-2024      56.275862        17\n",
       "4     north  2020-2021      63.286945        25\n",
       "5     north  2023-2024      53.051714        34\n",
       "6     south  2020-2021      68.149211        36\n",
       "7     south  2021-2022      60.967796        49\n",
       "8     south  2023-2024      65.794907         9\n",
       "9      west  2022-2023      44.524561        39\n",
       "10     west  2023-2024      73.362445         8"
      ]
     },
     "execution_count": 29,
     "metadata": {},
     "output_type": "execute_result"
    }
   ],
   "source": [
    "# First calculate the overall_score as you were doing\n",
    "fy_summary = valid_df.groupby([\"province\", 'fy']).apply(\n",
    "    lambda x: (x[\"num\"].sum() / x[\"den\"].sum()) * 100\n",
    ").reset_index(name=\"overall_score\")\n",
    "\n",
    "# Now calculate the hf_count by counting unique health facilities in each group\n",
    "hf_counts = valid_df.groupby([\"province\", 'fy'])[\"hf_name\"].nunique().reset_index(name=\"hf_count\")\n",
    "\n",
    "# Merge the two dataframes to get all the columns you need\n",
    "result_df = pd.merge(fy_summary, hf_counts, on=[\"province\", 'fy'], how=\"left\")\n",
    "result_df "
   ]
  },
  {
   "cell_type": "code",
   "execution_count": 30,
   "metadata": {},
   "outputs": [],
   "source": [
    "# result_df.to_csv('../output/group_by_province.csv', index=False)"
   ]
  },
  {
   "cell_type": "markdown",
   "metadata": {},
   "source": [
    "`Overall score and count by 'Health facility type'`"
   ]
  },
  {
   "cell_type": "code",
   "execution_count": 31,
   "metadata": {},
   "outputs": [
    {
     "data": {
      "text/html": [
       "<div>\n",
       "<style scoped>\n",
       "    .dataframe tbody tr th:only-of-type {\n",
       "        vertical-align: middle;\n",
       "    }\n",
       "\n",
       "    .dataframe tbody tr th {\n",
       "        vertical-align: top;\n",
       "    }\n",
       "\n",
       "    .dataframe thead th {\n",
       "        text-align: right;\n",
       "    }\n",
       "</style>\n",
       "<table border=\"1\" class=\"dataframe\">\n",
       "  <thead>\n",
       "    <tr style=\"text-align: right;\">\n",
       "      <th></th>\n",
       "      <th>hf_type</th>\n",
       "      <th>fy</th>\n",
       "      <th>overall_score</th>\n",
       "      <th>hf_count</th>\n",
       "    </tr>\n",
       "  </thead>\n",
       "  <tbody>\n",
       "    <tr>\n",
       "      <th>0</th>\n",
       "      <td>health center</td>\n",
       "      <td>2020-2021</td>\n",
       "      <td>64.897100</td>\n",
       "      <td>74</td>\n",
       "    </tr>\n",
       "    <tr>\n",
       "      <th>1</th>\n",
       "      <td>health center</td>\n",
       "      <td>2021-2022</td>\n",
       "      <td>54.702987</td>\n",
       "      <td>69</td>\n",
       "    </tr>\n",
       "    <tr>\n",
       "      <th>2</th>\n",
       "      <td>health center</td>\n",
       "      <td>2022-2023</td>\n",
       "      <td>40.765172</td>\n",
       "      <td>31</td>\n",
       "    </tr>\n",
       "    <tr>\n",
       "      <th>3</th>\n",
       "      <td>health center</td>\n",
       "      <td>2023-2024</td>\n",
       "      <td>44.139361</td>\n",
       "      <td>69</td>\n",
       "    </tr>\n",
       "    <tr>\n",
       "      <th>4</th>\n",
       "      <td>hospital (dh,ph,rh)</td>\n",
       "      <td>2020-2021</td>\n",
       "      <td>81.016334</td>\n",
       "      <td>21</td>\n",
       "    </tr>\n",
       "    <tr>\n",
       "      <th>5</th>\n",
       "      <td>hospital (dh,ph,rh)</td>\n",
       "      <td>2021-2022</td>\n",
       "      <td>66.345062</td>\n",
       "      <td>21</td>\n",
       "    </tr>\n",
       "    <tr>\n",
       "      <th>6</th>\n",
       "      <td>hospital (dh,ph,rh)</td>\n",
       "      <td>2022-2023</td>\n",
       "      <td>59.289415</td>\n",
       "      <td>8</td>\n",
       "    </tr>\n",
       "    <tr>\n",
       "      <th>7</th>\n",
       "      <td>hospital (dh,ph,rh)</td>\n",
       "      <td>2023-2024</td>\n",
       "      <td>67.406334</td>\n",
       "      <td>42</td>\n",
       "    </tr>\n",
       "  </tbody>\n",
       "</table>\n",
       "</div>"
      ],
      "text/plain": [
       "               hf_type         fy  overall_score  hf_count\n",
       "0        health center  2020-2021      64.897100        74\n",
       "1        health center  2021-2022      54.702987        69\n",
       "2        health center  2022-2023      40.765172        31\n",
       "3        health center  2023-2024      44.139361        69\n",
       "4  hospital (dh,ph,rh)  2020-2021      81.016334        21\n",
       "5  hospital (dh,ph,rh)  2021-2022      66.345062        21\n",
       "6  hospital (dh,ph,rh)  2022-2023      59.289415         8\n",
       "7  hospital (dh,ph,rh)  2023-2024      67.406334        42"
      ]
     },
     "execution_count": 31,
     "metadata": {},
     "output_type": "execute_result"
    }
   ],
   "source": [
    "# First calculate the overall_score as you were doing\n",
    "fy_summary = valid_df.groupby([\"hf_type\", 'fy']).apply(\n",
    "    lambda x: (x[\"num\"].sum() / x[\"den\"].sum()) * 100\n",
    ").reset_index(name=\"overall_score\")\n",
    "\n",
    "# Now calculate the hf_count by counting unique health facilities in each group\n",
    "hf_counts = valid_df.groupby([\"hf_type\", 'fy'])[\"hf_name\"].nunique().reset_index(name=\"hf_count\")\n",
    "\n",
    "# Merge the two dataframes to get all the columns you need\n",
    "result_df = pd.merge(fy_summary, hf_counts, on=[\"hf_type\", 'fy'], how=\"left\")\n",
    "result_df "
   ]
  },
  {
   "cell_type": "code",
   "execution_count": 32,
   "metadata": {},
   "outputs": [],
   "source": [
    "# result_df.to_csv('../output/group_by_hf_type.csv', index=False)"
   ]
  },
  {
   "cell_type": "markdown",
   "metadata": {},
   "source": [
    "`Overall score and count by 'Tb facility type'`"
   ]
  },
  {
   "cell_type": "code",
   "execution_count": 33,
   "metadata": {},
   "outputs": [
    {
     "data": {
      "text/html": [
       "<div>\n",
       "<style scoped>\n",
       "    .dataframe tbody tr th:only-of-type {\n",
       "        vertical-align: middle;\n",
       "    }\n",
       "\n",
       "    .dataframe tbody tr th {\n",
       "        vertical-align: top;\n",
       "    }\n",
       "\n",
       "    .dataframe thead th {\n",
       "        text-align: right;\n",
       "    }\n",
       "</style>\n",
       "<table border=\"1\" class=\"dataframe\">\n",
       "  <thead>\n",
       "    <tr style=\"text-align: right;\">\n",
       "      <th></th>\n",
       "      <th>hf_tb_type</th>\n",
       "      <th>fy</th>\n",
       "      <th>overall_score</th>\n",
       "      <th>hf_count</th>\n",
       "    </tr>\n",
       "  </thead>\n",
       "  <tbody>\n",
       "    <tr>\n",
       "      <th>0</th>\n",
       "      <td>CDT</td>\n",
       "      <td>2020-2021</td>\n",
       "      <td>81.470981</td>\n",
       "      <td>49</td>\n",
       "    </tr>\n",
       "    <tr>\n",
       "      <th>1</th>\n",
       "      <td>CDT</td>\n",
       "      <td>2021-2022</td>\n",
       "      <td>60.677659</td>\n",
       "      <td>50</td>\n",
       "    </tr>\n",
       "    <tr>\n",
       "      <th>2</th>\n",
       "      <td>CDT</td>\n",
       "      <td>2022-2023</td>\n",
       "      <td>51.752691</td>\n",
       "      <td>21</td>\n",
       "    </tr>\n",
       "    <tr>\n",
       "      <th>3</th>\n",
       "      <td>CDT</td>\n",
       "      <td>2023-2024</td>\n",
       "      <td>62.769719</td>\n",
       "      <td>71</td>\n",
       "    </tr>\n",
       "    <tr>\n",
       "      <th>4</th>\n",
       "      <td>CT</td>\n",
       "      <td>2020-2021</td>\n",
       "      <td>54.547166</td>\n",
       "      <td>46</td>\n",
       "    </tr>\n",
       "    <tr>\n",
       "      <th>5</th>\n",
       "      <td>CT</td>\n",
       "      <td>2021-2022</td>\n",
       "      <td>52.615454</td>\n",
       "      <td>40</td>\n",
       "    </tr>\n",
       "    <tr>\n",
       "      <th>6</th>\n",
       "      <td>CT</td>\n",
       "      <td>2022-2023</td>\n",
       "      <td>35.893210</td>\n",
       "      <td>18</td>\n",
       "    </tr>\n",
       "    <tr>\n",
       "      <th>7</th>\n",
       "      <td>CT</td>\n",
       "      <td>2023-2024</td>\n",
       "      <td>37.231370</td>\n",
       "      <td>41</td>\n",
       "    </tr>\n",
       "  </tbody>\n",
       "</table>\n",
       "</div>"
      ],
      "text/plain": [
       "  hf_tb_type         fy  overall_score  hf_count\n",
       "0        CDT  2020-2021      81.470981        49\n",
       "1        CDT  2021-2022      60.677659        50\n",
       "2        CDT  2022-2023      51.752691        21\n",
       "3        CDT  2023-2024      62.769719        71\n",
       "4         CT  2020-2021      54.547166        46\n",
       "5         CT  2021-2022      52.615454        40\n",
       "6         CT  2022-2023      35.893210        18\n",
       "7         CT  2023-2024      37.231370        41"
      ]
     },
     "execution_count": 33,
     "metadata": {},
     "output_type": "execute_result"
    }
   ],
   "source": [
    "# First calculate the overall_score as you were doing\n",
    "fy_summary = valid_df.groupby([\"hf_tb_type\", 'fy']).apply(\n",
    "    lambda x: (x[\"num\"].sum() / x[\"den\"].sum()) * 100\n",
    ").reset_index(name=\"overall_score\")\n",
    "\n",
    "# Now calculate the hf_count by counting unique health facilities in each group\n",
    "hf_counts = valid_df.groupby([\"hf_tb_type\", 'fy'])[\"hf_name\"].nunique().reset_index(name=\"hf_count\")\n",
    "\n",
    "# Merge the two dataframes to get all the columns you need\n",
    "result_df = pd.merge(fy_summary, hf_counts, on=[\"hf_tb_type\", 'fy'], how=\"left\")\n",
    "result_df "
   ]
  },
  {
   "cell_type": "code",
   "execution_count": 34,
   "metadata": {},
   "outputs": [],
   "source": [
    "# result_df.to_csv('../output/group_by_hf_tb_type.csv', index=False)"
   ]
  },
  {
   "cell_type": "markdown",
   "metadata": {},
   "source": [
    "`Overall score and count by 'Tb facility type'`"
   ]
  },
  {
   "cell_type": "markdown",
   "metadata": {},
   "source": []
  },
  {
   "cell_type": "code",
   "execution_count": 35,
   "metadata": {},
   "outputs": [
    {
     "data": {
      "text/html": [
       "<div>\n",
       "<style scoped>\n",
       "    .dataframe tbody tr th:only-of-type {\n",
       "        vertical-align: middle;\n",
       "    }\n",
       "\n",
       "    .dataframe tbody tr th {\n",
       "        vertical-align: top;\n",
       "    }\n",
       "\n",
       "    .dataframe thead th {\n",
       "        text-align: right;\n",
       "    }\n",
       "</style>\n",
       "<table border=\"1\" class=\"dataframe\">\n",
       "  <thead>\n",
       "    <tr style=\"text-align: right;\">\n",
       "      <th></th>\n",
       "      <th>genexpert_or_microscopy</th>\n",
       "      <th>fy</th>\n",
       "      <th>overall_score</th>\n",
       "      <th>hf_count</th>\n",
       "    </tr>\n",
       "  </thead>\n",
       "  <tbody>\n",
       "    <tr>\n",
       "      <th>0</th>\n",
       "      <td>no</td>\n",
       "      <td>2020-2021</td>\n",
       "      <td>63.169926</td>\n",
       "      <td>69</td>\n",
       "    </tr>\n",
       "    <tr>\n",
       "      <th>1</th>\n",
       "      <td>no</td>\n",
       "      <td>2021-2022</td>\n",
       "      <td>54.328026</td>\n",
       "      <td>64</td>\n",
       "    </tr>\n",
       "    <tr>\n",
       "      <th>2</th>\n",
       "      <td>no</td>\n",
       "      <td>2022-2023</td>\n",
       "      <td>39.679567</td>\n",
       "      <td>28</td>\n",
       "    </tr>\n",
       "    <tr>\n",
       "      <th>3</th>\n",
       "      <td>no</td>\n",
       "      <td>2023-2024</td>\n",
       "      <td>41.644811</td>\n",
       "      <td>61</td>\n",
       "    </tr>\n",
       "    <tr>\n",
       "      <th>4</th>\n",
       "      <td>yes</td>\n",
       "      <td>2020-2021</td>\n",
       "      <td>81.794349</td>\n",
       "      <td>26</td>\n",
       "    </tr>\n",
       "    <tr>\n",
       "      <th>5</th>\n",
       "      <td>yes</td>\n",
       "      <td>2021-2022</td>\n",
       "      <td>65.310786</td>\n",
       "      <td>26</td>\n",
       "    </tr>\n",
       "    <tr>\n",
       "      <th>6</th>\n",
       "      <td>yes</td>\n",
       "      <td>2022-2023</td>\n",
       "      <td>57.104268</td>\n",
       "      <td>11</td>\n",
       "    </tr>\n",
       "    <tr>\n",
       "      <th>7</th>\n",
       "      <td>yes</td>\n",
       "      <td>2023-2024</td>\n",
       "      <td>66.879289</td>\n",
       "      <td>50</td>\n",
       "    </tr>\n",
       "  </tbody>\n",
       "</table>\n",
       "</div>"
      ],
      "text/plain": [
       "  genexpert_or_microscopy         fy  overall_score  hf_count\n",
       "0                      no  2020-2021      63.169926        69\n",
       "1                      no  2021-2022      54.328026        64\n",
       "2                      no  2022-2023      39.679567        28\n",
       "3                      no  2023-2024      41.644811        61\n",
       "4                     yes  2020-2021      81.794349        26\n",
       "5                     yes  2021-2022      65.310786        26\n",
       "6                     yes  2022-2023      57.104268        11\n",
       "7                     yes  2023-2024      66.879289        50"
      ]
     },
     "execution_count": 35,
     "metadata": {},
     "output_type": "execute_result"
    }
   ],
   "source": [
    "# First calculate the overall_score as you were doing\n",
    "fy_summary = valid_df.groupby([\"genexpert_or_microscopy\", 'fy']).apply(\n",
    "    lambda x: (x[\"num\"].sum() / x[\"den\"].sum()) * 100\n",
    ").reset_index(name=\"overall_score\")\n",
    "\n",
    "# Now calculate the hf_count by counting unique health facilities in each group\n",
    "hf_counts = valid_df.groupby([\"genexpert_or_microscopy\", 'fy'])[\"hf_name\"].nunique().reset_index(name=\"hf_count\")\n",
    "\n",
    "# Merge the two dataframes to get all the columns you need\n",
    "result_df = pd.merge(fy_summary, hf_counts, on=[\"genexpert_or_microscopy\", 'fy'], how=\"left\")\n",
    "result_df "
   ]
  },
  {
   "cell_type": "code",
   "execution_count": 36,
   "metadata": {},
   "outputs": [],
   "source": [
    "# result_df.to_csv('../output/group_by_genexpert_or_microscopy.csv', index=False)"
   ]
  }
 ],
 "metadata": {
  "kernelspec": {
   "display_name": "robert",
   "language": "python",
   "name": "python3"
  },
  "language_info": {
   "codemirror_mode": {
    "name": "ipython",
    "version": 3
   },
   "file_extension": ".py",
   "mimetype": "text/x-python",
   "name": "python",
   "nbconvert_exporter": "python",
   "pygments_lexer": "ipython3",
   "version": "3.9.16"
  }
 },
 "nbformat": 4,
 "nbformat_minor": 2
}
